{
 "cells": [
  {
   "cell_type": "code",
   "execution_count": 1,
   "metadata": {},
   "outputs": [],
   "source": [
    "import pandas as pd\n",
    "import numpy as np\n",
    "import seaborn as sns"
   ]
  },
  {
   "cell_type": "code",
   "execution_count": 2,
   "metadata": {},
   "outputs": [],
   "source": [
    "import matplotlib.pyplot as plt"
   ]
  },
  {
   "cell_type": "code",
   "execution_count": 3,
   "metadata": {},
   "outputs": [],
   "source": [
    "sns.set()"
   ]
  },
  {
   "cell_type": "markdown",
   "metadata": {},
   "source": [
    "## EDA on training file"
   ]
  },
  {
   "cell_type": "code",
   "execution_count": 4,
   "metadata": {},
   "outputs": [],
   "source": [
    "train_data = pd.read_csv('//Users//bagades//Desktop//RS//serendipity-sac2018//training.csv')"
   ]
  },
  {
   "cell_type": "code",
   "execution_count": 5,
   "metadata": {},
   "outputs": [
    {
     "data": {
      "text/html": [
       "<div>\n",
       "<style scoped>\n",
       "    .dataframe tbody tr th:only-of-type {\n",
       "        vertical-align: middle;\n",
       "    }\n",
       "\n",
       "    .dataframe tbody tr th {\n",
       "        vertical-align: top;\n",
       "    }\n",
       "\n",
       "    .dataframe thead th {\n",
       "        text-align: right;\n",
       "    }\n",
       "</style>\n",
       "<table border=\"1\" class=\"dataframe\">\n",
       "  <thead>\n",
       "    <tr style=\"text-align: right;\">\n",
       "      <th></th>\n",
       "      <th>userId</th>\n",
       "      <th>movieId</th>\n",
       "      <th>rating</th>\n",
       "      <th>timestamp</th>\n",
       "    </tr>\n",
       "  </thead>\n",
       "  <tbody>\n",
       "    <tr>\n",
       "      <th>0</th>\n",
       "      <td>142882</td>\n",
       "      <td>91658</td>\n",
       "      <td>2.5</td>\n",
       "      <td>1515209647000</td>\n",
       "    </tr>\n",
       "    <tr>\n",
       "      <th>1</th>\n",
       "      <td>142882</td>\n",
       "      <td>4344</td>\n",
       "      <td>1.0</td>\n",
       "      <td>1515209646000</td>\n",
       "    </tr>\n",
       "    <tr>\n",
       "      <th>2</th>\n",
       "      <td>142882</td>\n",
       "      <td>45720</td>\n",
       "      <td>2.0</td>\n",
       "      <td>1515209643000</td>\n",
       "    </tr>\n",
       "    <tr>\n",
       "      <th>3</th>\n",
       "      <td>142882</td>\n",
       "      <td>4734</td>\n",
       "      <td>2.0</td>\n",
       "      <td>1515209641000</td>\n",
       "    </tr>\n",
       "    <tr>\n",
       "      <th>4</th>\n",
       "      <td>142882</td>\n",
       "      <td>91542</td>\n",
       "      <td>2.0</td>\n",
       "      <td>1515209637000</td>\n",
       "    </tr>\n",
       "  </tbody>\n",
       "</table>\n",
       "</div>"
      ],
      "text/plain": [
       "   userId  movieId  rating      timestamp\n",
       "0  142882    91658     2.5  1515209647000\n",
       "1  142882     4344     1.0  1515209646000\n",
       "2  142882    45720     2.0  1515209643000\n",
       "3  142882     4734     2.0  1515209641000\n",
       "4  142882    91542     2.0  1515209637000"
      ]
     },
     "execution_count": 5,
     "metadata": {},
     "output_type": "execute_result"
    }
   ],
   "source": [
    "train_data.head()"
   ]
  },
  {
   "cell_type": "code",
   "execution_count": 6,
   "metadata": {},
   "outputs": [
    {
     "name": "stdout",
     "output_type": "stream",
     "text": [
      "The dataset train has 9,997,850 rows and 4 columns\n"
     ]
    }
   ],
   "source": [
    "print('The dataset train has {:,} rows and {:,} columns'.format(train_data.shape[0],train_data.shape[1]))"
   ]
  },
  {
   "cell_type": "code",
   "execution_count": 33,
   "metadata": {},
   "outputs": [
    {
     "name": "stdout",
     "output_type": "stream",
     "text": [
      "Number of unqiue userIDs are 104,661 and number of movies are 49,151\n"
     ]
    }
   ],
   "source": [
    "print('Number of unqiue userIDs are {:,} and number of movies are {:,}'.format(len(train_data['userId'].unique()),\n",
    "                                                                     len(train_data['movieId'].unique())))"
   ]
  },
  {
   "cell_type": "code",
   "execution_count": 8,
   "metadata": {},
   "outputs": [],
   "source": [
    "from datetime import datetime\n",
    "train_data['timestamp'] = train_data['timestamp'].apply(lambda x: datetime.fromtimestamp(x/1000))"
   ]
  },
  {
   "cell_type": "code",
   "execution_count": 9,
   "metadata": {},
   "outputs": [],
   "source": [
    "train_data['year'] = train_data['timestamp'].apply(lambda x: x.year)\n",
    "train_data['month'] = train_data['timestamp'].apply(lambda x: x.month)"
   ]
  },
  {
   "cell_type": "code",
   "execution_count": 10,
   "metadata": {},
   "outputs": [],
   "source": [
    "train_data['weekday'] = train_data['timestamp'].apply(lambda x: x.weekday())"
   ]
  },
  {
   "cell_type": "code",
   "execution_count": 11,
   "metadata": {},
   "outputs": [],
   "source": [
    "#train_data['weekday']"
   ]
  },
  {
   "cell_type": "code",
   "execution_count": 12,
   "metadata": {},
   "outputs": [
    {
     "data": {
      "text/plain": [
       "2016    2099107\n",
       "2017    1993188\n",
       "2015    1924640\n",
       "2010     982511\n",
       "2011     836873\n",
       "2012     795184\n",
       "2013     635510\n",
       "2014     589026\n",
       "2009     116459\n",
       "2018      25352\n",
       "Name: year, dtype: int64"
      ]
     },
     "execution_count": 12,
     "metadata": {},
     "output_type": "execute_result"
    }
   ],
   "source": [
    "train_data['year'].value_counts()"
   ]
  },
  {
   "cell_type": "code",
   "execution_count": 13,
   "metadata": {},
   "outputs": [
    {
     "data": {
      "image/png": "[encoded data removed]",
      "text/plain": [
       "<Figure size 1008x432 with 1 Axes>"
      ]
     },
     "metadata": {},
     "output_type": "display_data"
    }
   ],
   "source": [
    "plt.rcParams['figure.figsize'] = (14, 6)\n",
    "sns.countplot(train_data['year'], color = 'lightseagreen')\n",
    "plt.title('Frequency of reviews across years', fontdict= {'fontsize': 20})\n",
    "plt.xlabel('Year')\n",
    "plt.ylabel('Frequency')\n",
    "plt.xticks( rotation = 45)\n",
    "plt.show()"
   ]
  },
  {
   "cell_type": "code",
   "execution_count": 15,
   "metadata": {},
   "outputs": [
    {
     "data": {
      "image/png": "[encoded data removed]",
      "text/plain": [
       "<Figure size 1008x432 with 1 Axes>"
      ]
     },
     "metadata": {},
     "output_type": "display_data"
    }
   ],
   "source": [
    "#week_labels = ['Monday','Tuesday','Wednesday','Thursday','Friday','Saturday','Sunday']\n",
    "plt.rcParams['figure.figsize'] = (14, 6)\n",
    "sns.countplot(train_data['weekday'], color = 'lightseagreen')\n",
    "plt.title('Frequency of reviews across years', fontdict= {'fontsize': 20})\n",
    "plt.xlabel('Weekday')\n",
    "plt.ylabel('Frequency')\n",
    "plt.xticks(rotation = 45)\n",
    "# plt.xticks(labels = week_labels)\n",
    "plt.show()"
   ]
  },
  {
   "cell_type": "code",
   "execution_count": 46,
   "metadata": {},
   "outputs": [
    {
     "data": {
      "text/plain": [
       "2571     42120\n",
       "318      40889\n",
       "79132    37947\n",
       "58559    34531\n",
       "2959     34290\n",
       "356      33854\n",
       "7153     32509\n",
       "4993     31634\n",
       "260      29141\n",
       "296      29140\n",
       "5952     28750\n",
       "593      27093\n",
       "527      25193\n",
       "1196     24349\n",
       "858      24032\n",
       "1198     24012\n",
       "72998    23483\n",
       "68954    23131\n",
       "60069    21776\n",
       "50       21273\n",
       "Name: movieId, dtype: int64"
      ]
     },
     "execution_count": 46,
     "metadata": {},
     "output_type": "execute_result"
    }
   ],
   "source": [
    "# Movie with maximum review\n",
    "train_data['movieId'].value_counts().head(20)"
   ]
  },
  {
   "cell_type": "markdown",
   "metadata": {},
   "source": [
    "**Creating a user movie matrix**"
   ]
  },
  {
   "cell_type": "code",
   "execution_count": 17,
   "metadata": {},
   "outputs": [],
   "source": [
    "UM_matrix = train_data.pivot(index='userId', columns='movieId', values='rating')"
   ]
  },
  {
   "cell_type": "code",
   "execution_count": 20,
   "metadata": {},
   "outputs": [],
   "source": [
    "total_nas = UM_matrix.isna().sum().sum()"
   ]
  },
  {
   "cell_type": "code",
   "execution_count": 21,
   "metadata": {},
   "outputs": [],
   "source": [
    "nas_per_movie = UM_matrix.isna().sum(axis = 0)\n",
    "nas_per_user = UM_matrix.isna().sum(axis = 1)"
   ]
  },
  {
   "cell_type": "code",
   "execution_count": 28,
   "metadata": {},
   "outputs": [
    {
     "name": "stdout",
     "output_type": "stream",
     "text": [
      "5,134,194,961 which is 0.9981% NAs\n"
     ]
    }
   ],
   "source": [
    "print('{:,} which is {}% NAs'.format(total_nas,round(total_nas/(len(nas_per_user)*len(nas_per_movie)),4)) )"
   ]
  },
  {
   "cell_type": "code",
   "execution_count": 109,
   "metadata": {},
   "outputs": [
    {
     "data": {
      "text/plain": [
       "movieId\n",
       "1         80.254345\n",
       "2         93.674817\n",
       "3         99.023514\n",
       "4         99.874834\n",
       "5         97.880777\n",
       "6         95.141457\n",
       "7         99.062688\n",
       "8         99.886300\n",
       "9         99.741069\n",
       "10        95.775886\n",
       "11        98.735919\n",
       "12        99.292955\n",
       "13        99.398057\n",
       "14        99.602526\n",
       "15        99.721004\n",
       "16        95.755821\n",
       "17        97.499546\n",
       "18        98.648971\n",
       "19        95.342105\n",
       "20        99.454429\n",
       "21        98.211368\n",
       "22        99.184988\n",
       "23        99.320664\n",
       "24        98.780826\n",
       "25        98.109133\n",
       "26        99.783109\n",
       "27        99.742980\n",
       "28        99.543287\n",
       "29        97.597004\n",
       "30        99.946494\n",
       "            ...    \n",
       "183265    99.999045\n",
       "183267    99.999045\n",
       "183271    99.999045\n",
       "183273    99.999045\n",
       "183275    99.999045\n",
       "183277    99.999045\n",
       "183281    99.998089\n",
       "183283    99.998089\n",
       "183285    99.998089\n",
       "183287    99.999045\n",
       "183289    99.998089\n",
       "183291    99.999045\n",
       "183293    99.999045\n",
       "183295    99.996178\n",
       "183299    99.999045\n",
       "183301    99.999045\n",
       "183303    99.999045\n",
       "183305    99.999045\n",
       "183307    99.999045\n",
       "183311    99.999045\n",
       "183313    99.999045\n",
       "183317    99.999045\n",
       "183319    99.999045\n",
       "183321    99.999045\n",
       "183325    99.999045\n",
       "183327    99.999045\n",
       "183329    99.999045\n",
       "183331    99.999045\n",
       "183333    99.999045\n",
       "183335    99.999045\n",
       "Length: 49151, dtype: float64"
      ]
     },
     "execution_count": 109,
     "metadata": {},
     "output_type": "execute_result"
    }
   ],
   "source": [
    "nas_per_movie*100/len(nas_per_user)"
   ]
  },
  {
   "cell_type": "code",
   "execution_count": 30,
   "metadata": {},
   "outputs": [
    {
     "data": {
      "text/plain": [
       "userId\n",
       "100000    99.987793\n",
       "100001    99.798580\n",
       "100002    99.784338\n",
       "100003    99.995931\n",
       "100004    99.609367\n",
       "100005    99.959309\n",
       "100006    99.985758\n",
       "100007    99.987793\n",
       "100008    99.989827\n",
       "100009    99.985758\n",
       "100010    99.924722\n",
       "100011    99.792476\n",
       "100012    99.806718\n",
       "100013    99.991862\n",
       "100014    99.965413\n",
       "100015    99.867754\n",
       "100016    99.794511\n",
       "100017    99.979655\n",
       "100018    99.694818\n",
       "100019    99.961344\n",
       "100020    99.749751\n",
       "100021    99.619540\n",
       "100022    99.965413\n",
       "100023    99.770096\n",
       "100024    99.532054\n",
       "100025    99.967447\n",
       "100026    99.936929\n",
       "100027    99.945067\n",
       "100028    99.940998\n",
       "100029    99.820960\n",
       "            ...    \n",
       "206956    99.837236\n",
       "206957    99.761958\n",
       "206958    99.892169\n",
       "206959    99.977620\n",
       "206960    99.776200\n",
       "206961    99.951171\n",
       "206962    99.965413\n",
       "206963    99.940998\n",
       "206964    99.985758\n",
       "206965    99.847409\n",
       "206966    99.871824\n",
       "206967    97.739619\n",
       "206968    99.780269\n",
       "206969    99.991862\n",
       "206970    99.969482\n",
       "206971    99.692783\n",
       "206972    99.855547\n",
       "206973    99.963378\n",
       "206974    99.938964\n",
       "206975    98.541230\n",
       "206976    99.857582\n",
       "206977    99.967447\n",
       "206978    99.981689\n",
       "206979    99.877927\n",
       "206980    99.924722\n",
       "206981    97.829139\n",
       "206982    99.888100\n",
       "206983    99.997965\n",
       "206984    99.945067\n",
       "206985    99.715163\n",
       "Length: 104661, dtype: float64"
      ]
     },
     "execution_count": 30,
     "metadata": {},
     "output_type": "execute_result"
    }
   ],
   "source": [
    "nas_per_user*100/ len(nas_per_movie)"
   ]
  },
  {
   "cell_type": "markdown",
   "metadata": {},
   "source": [
    "## EDA on tags file"
   ]
  },
  {
   "cell_type": "code",
   "execution_count": 31,
   "metadata": {},
   "outputs": [],
   "source": [
    "tags_data = pd.read_csv('//Users//bagades//Desktop//RS//serendipity-sac2018//tags.csv')"
   ]
  },
  {
   "cell_type": "code",
   "execution_count": 32,
   "metadata": {},
   "outputs": [
    {
     "data": {
      "text/html": [
       "<div>\n",
       "<style scoped>\n",
       "    .dataframe tbody tr th:only-of-type {\n",
       "        vertical-align: middle;\n",
       "    }\n",
       "\n",
       "    .dataframe tbody tr th {\n",
       "        vertical-align: top;\n",
       "    }\n",
       "\n",
       "    .dataframe thead th {\n",
       "        text-align: right;\n",
       "    }\n",
       "</style>\n",
       "<table border=\"1\" class=\"dataframe\">\n",
       "  <thead>\n",
       "    <tr style=\"text-align: right;\">\n",
       "      <th></th>\n",
       "      <th>userId</th>\n",
       "      <th>movieId</th>\n",
       "      <th>tag</th>\n",
       "      <th>timestamp</th>\n",
       "    </tr>\n",
       "  </thead>\n",
       "  <tbody>\n",
       "    <tr>\n",
       "      <th>0</th>\n",
       "      <td>144473</td>\n",
       "      <td>933</td>\n",
       "      <td>hw classics</td>\n",
       "      <td>1169455118000</td>\n",
       "    </tr>\n",
       "    <tr>\n",
       "      <th>1</th>\n",
       "      <td>144473</td>\n",
       "      <td>933</td>\n",
       "      <td>alfred hitchcock</td>\n",
       "      <td>1169455125000</td>\n",
       "    </tr>\n",
       "    <tr>\n",
       "      <th>2</th>\n",
       "      <td>144473</td>\n",
       "      <td>49272</td>\n",
       "      <td>guilty pleasure</td>\n",
       "      <td>1169457148000</td>\n",
       "    </tr>\n",
       "    <tr>\n",
       "      <th>3</th>\n",
       "      <td>144473</td>\n",
       "      <td>8228</td>\n",
       "      <td>not available from netflix</td>\n",
       "      <td>1169457152000</td>\n",
       "    </tr>\n",
       "    <tr>\n",
       "      <th>4</th>\n",
       "      <td>144473</td>\n",
       "      <td>7925</td>\n",
       "      <td>in netflix queue</td>\n",
       "      <td>1169457154000</td>\n",
       "    </tr>\n",
       "  </tbody>\n",
       "</table>\n",
       "</div>"
      ],
      "text/plain": [
       "   userId  movieId                         tag      timestamp\n",
       "0  144473      933                 hw classics  1169455118000\n",
       "1  144473      933            alfred hitchcock  1169455125000\n",
       "2  144473    49272             guilty pleasure  1169457148000\n",
       "3  144473     8228  not available from netflix  1169457152000\n",
       "4  144473     7925            in netflix queue  1169457154000"
      ]
     },
     "execution_count": 32,
     "metadata": {},
     "output_type": "execute_result"
    }
   ],
   "source": [
    "tags_data.head()"
   ]
  },
  {
   "cell_type": "code",
   "execution_count": 41,
   "metadata": {},
   "outputs": [
    {
     "data": {
      "text/plain": [
       "(628157, 4)"
      ]
     },
     "execution_count": 41,
     "metadata": {},
     "output_type": "execute_result"
    }
   ],
   "source": [
    "tags_data.shape"
   ]
  },
  {
   "cell_type": "code",
   "execution_count": 34,
   "metadata": {},
   "outputs": [
    {
     "name": "stdout",
     "output_type": "stream",
     "text": [
      "Number of unqiue userIDs are 8,908 and number of movies are 20,368\n"
     ]
    }
   ],
   "source": [
    "print('Number of unqiue userIDs are {:,} and number of movies are {:,}'.format(len(tags_data['userId'].unique()),\n",
    "                                                                     len(tags_data['movieId'].unique())))"
   ]
  },
  {
   "cell_type": "code",
   "execution_count": 37,
   "metadata": {},
   "outputs": [
    {
     "name": "stdout",
     "output_type": "stream",
     "text": [
      "We have 20,368 tags only for 41.4396% of the total movies\n"
     ]
    }
   ],
   "source": [
    "print('We have {:,} tags only for {}% of the total movies'.format(len(tags_data['movieId'].unique()),\n",
    "                    round(len(tags_data['movieId'].unique())*100/len(train_data['movieId'].unique()),4)))"
   ]
  },
  {
   "cell_type": "code",
   "execution_count": 39,
   "metadata": {},
   "outputs": [
    {
     "data": {
      "text/plain": [
       "45198"
      ]
     },
     "execution_count": 39,
     "metadata": {},
     "output_type": "execute_result"
    }
   ],
   "source": [
    "len(tags_data['tag'].unique())"
   ]
  },
  {
   "cell_type": "code",
   "execution_count": 43,
   "metadata": {},
   "outputs": [
    {
     "data": {
      "text/plain": [
       "comedy                   4930\n",
       "based on a book          4906\n",
       "erlend's dvds            4598\n",
       "action                   4537\n",
       "sci-fi                   4441\n",
       "tumey's dvds             4024\n",
       "nudity (topless)         3132\n",
       "classic                  3113\n",
       "betamax                  2998\n",
       "bd-r                     2958\n",
       "romance                  2885\n",
       "fantasy                  2813\n",
       "movie to see             2759\n",
       "seen more than once      2754\n",
       "twist ending             2565\n",
       "dvd-video                2538\n",
       "owned                    2526\n",
       "dvd                      2423\n",
       "less than 300 ratings    2384\n",
       "surreal                  2303\n",
       "Name: tag, dtype: int64"
      ]
     },
     "execution_count": 43,
     "metadata": {},
     "output_type": "execute_result"
    }
   ],
   "source": [
    "tags_data['tag'].value_counts().head(20)"
   ]
  },
  {
   "cell_type": "code",
   "execution_count": 44,
   "metadata": {},
   "outputs": [
    {
     "data": {
      "text/plain": [
       "296      1821\n",
       "2959     1631\n",
       "318      1571\n",
       "2571     1507\n",
       "356      1454\n",
       "58559    1217\n",
       "260      1154\n",
       "4226     1122\n",
       "44191    1110\n",
       "858      1071\n",
       "50        987\n",
       "593       977\n",
       "4878      975\n",
       "48394     965\n",
       "7153      948\n",
       "7361      932\n",
       "541       911\n",
       "32587     897\n",
       "2858      893\n",
       "5618      883\n",
       "Name: movieId, dtype: int64"
      ]
     },
     "execution_count": 44,
     "metadata": {},
     "output_type": "execute_result"
    }
   ],
   "source": [
    "tags_data['movieId'].value_counts().head(20)"
   ]
  },
  {
   "cell_type": "markdown",
   "metadata": {},
   "source": [
    "## EDA on movies file"
   ]
  },
  {
   "cell_type": "code",
   "execution_count": 56,
   "metadata": {},
   "outputs": [
    {
     "name": "stderr",
     "output_type": "stream",
     "text": [
      "/anaconda3/lib/python3.7/site-packages/IPython/core/interactiveshell.py:3049: DtypeWarning: Columns (5,14,15,16) have mixed types. Specify dtype option on import or set low_memory=False.\n",
      "  interactivity=interactivity, compiler=compiler, result=result)\n"
     ]
    }
   ],
   "source": [
    "movies = pd.read_csv('//Users//bagades//Desktop//RS//serendipity-sac2018//movies.csv')"
   ]
  },
  {
   "cell_type": "code",
   "execution_count": 79,
   "metadata": {},
   "outputs": [
    {
     "data": {
      "text/html": [
       "<div>\n",
       "<style scoped>\n",
       "    .dataframe tbody tr th:only-of-type {\n",
       "        vertical-align: middle;\n",
       "    }\n",
       "\n",
       "    .dataframe tbody tr th {\n",
       "        vertical-align: top;\n",
       "    }\n",
       "\n",
       "    .dataframe thead th {\n",
       "        text-align: right;\n",
       "    }\n",
       "</style>\n",
       "<table border=\"1\" class=\"dataframe\">\n",
       "  <thead>\n",
       "    <tr style=\"text-align: right;\">\n",
       "      <th></th>\n",
       "      <th>movieId</th>\n",
       "      <th>title</th>\n",
       "      <th>releaseDate</th>\n",
       "      <th>directedBy</th>\n",
       "      <th>starring</th>\n",
       "      <th>imdbId</th>\n",
       "      <th>tmdbId</th>\n",
       "      <th>genres</th>\n",
       "      <th>Unnamed: 8</th>\n",
       "      <th>Unnamed: 9</th>\n",
       "      <th>Unnamed: 10</th>\n",
       "      <th>Unnamed: 11</th>\n",
       "      <th>Unnamed: 12</th>\n",
       "      <th>Unnamed: 13</th>\n",
       "      <th>Unnamed: 14</th>\n",
       "      <th>Unnamed: 15</th>\n",
       "      <th>Unnamed: 16</th>\n",
       "    </tr>\n",
       "  </thead>\n",
       "  <tbody>\n",
       "    <tr>\n",
       "      <th>0</th>\n",
       "      <td>1</td>\n",
       "      <td>Toy Story (1995)</td>\n",
       "      <td>11/19/95</td>\n",
       "      <td>John Lasseter</td>\n",
       "      <td>Tim Allen, Tom Hanks, Don Rickles, Jim Varney,...</td>\n",
       "      <td>114709</td>\n",
       "      <td>862.0</td>\n",
       "      <td>Adventure</td>\n",
       "      <td>Animation</td>\n",
       "      <td>Children</td>\n",
       "      <td>Comedy</td>\n",
       "      <td>Fantasy</td>\n",
       "      <td>NaN</td>\n",
       "      <td>NaN</td>\n",
       "      <td>NaN</td>\n",
       "      <td>NaN</td>\n",
       "      <td>NaN</td>\n",
       "    </tr>\n",
       "    <tr>\n",
       "      <th>1</th>\n",
       "      <td>2</td>\n",
       "      <td>Jumanji (1995)</td>\n",
       "      <td>12/15/95</td>\n",
       "      <td>Joe Johnston</td>\n",
       "      <td>Jonathan Hyde, Bradley Pierce, Robin Williams,...</td>\n",
       "      <td>113497</td>\n",
       "      <td>8844.0</td>\n",
       "      <td>Adventure</td>\n",
       "      <td>Children</td>\n",
       "      <td>Fantasy</td>\n",
       "      <td>NaN</td>\n",
       "      <td>NaN</td>\n",
       "      <td>NaN</td>\n",
       "      <td>NaN</td>\n",
       "      <td>NaN</td>\n",
       "      <td>NaN</td>\n",
       "      <td>NaN</td>\n",
       "    </tr>\n",
       "    <tr>\n",
       "      <th>2</th>\n",
       "      <td>3</td>\n",
       "      <td>Grumpier Old Men (1995)</td>\n",
       "      <td>1/1/95</td>\n",
       "      <td>Howard Deutch</td>\n",
       "      <td>Jack Lemmon, Walter Matthau, Ann-Margret , Sop...</td>\n",
       "      <td>113228</td>\n",
       "      <td>15602.0</td>\n",
       "      <td>Comedy</td>\n",
       "      <td>Romance</td>\n",
       "      <td>NaN</td>\n",
       "      <td>NaN</td>\n",
       "      <td>NaN</td>\n",
       "      <td>NaN</td>\n",
       "      <td>NaN</td>\n",
       "      <td>NaN</td>\n",
       "      <td>NaN</td>\n",
       "      <td>NaN</td>\n",
       "    </tr>\n",
       "    <tr>\n",
       "      <th>3</th>\n",
       "      <td>4</td>\n",
       "      <td>Waiting to Exhale (1995)</td>\n",
       "      <td>1/15/96</td>\n",
       "      <td>Forest Whitaker</td>\n",
       "      <td>Angela Bassett, Loretta Devine, Whitney Housto...</td>\n",
       "      <td>114885</td>\n",
       "      <td>31357.0</td>\n",
       "      <td>Comedy</td>\n",
       "      <td>Drama</td>\n",
       "      <td>Romance</td>\n",
       "      <td>NaN</td>\n",
       "      <td>NaN</td>\n",
       "      <td>NaN</td>\n",
       "      <td>NaN</td>\n",
       "      <td>NaN</td>\n",
       "      <td>NaN</td>\n",
       "      <td>NaN</td>\n",
       "    </tr>\n",
       "    <tr>\n",
       "      <th>4</th>\n",
       "      <td>5</td>\n",
       "      <td>Father of the Bride Part II (1995)</td>\n",
       "      <td>12/8/95</td>\n",
       "      <td>Charles Shyer</td>\n",
       "      <td>Steve Martin, Martin Short, Diane Keaton, Kimb...</td>\n",
       "      <td>113041</td>\n",
       "      <td>11862.0</td>\n",
       "      <td>Comedy</td>\n",
       "      <td>NaN</td>\n",
       "      <td>NaN</td>\n",
       "      <td>NaN</td>\n",
       "      <td>NaN</td>\n",
       "      <td>NaN</td>\n",
       "      <td>NaN</td>\n",
       "      <td>NaN</td>\n",
       "      <td>NaN</td>\n",
       "      <td>NaN</td>\n",
       "    </tr>\n",
       "  </tbody>\n",
       "</table>\n",
       "</div>"
      ],
      "text/plain": [
       "   movieId                               title releaseDate       directedBy  \\\n",
       "0        1                    Toy Story (1995)    11/19/95    John Lasseter   \n",
       "1        2                      Jumanji (1995)    12/15/95     Joe Johnston   \n",
       "2        3             Grumpier Old Men (1995)      1/1/95    Howard Deutch   \n",
       "3        4            Waiting to Exhale (1995)     1/15/96  Forest Whitaker   \n",
       "4        5  Father of the Bride Part II (1995)     12/8/95    Charles Shyer   \n",
       "\n",
       "                                            starring  imdbId   tmdbId  \\\n",
       "0  Tim Allen, Tom Hanks, Don Rickles, Jim Varney,...  114709    862.0   \n",
       "1  Jonathan Hyde, Bradley Pierce, Robin Williams,...  113497   8844.0   \n",
       "2  Jack Lemmon, Walter Matthau, Ann-Margret , Sop...  113228  15602.0   \n",
       "3  Angela Bassett, Loretta Devine, Whitney Housto...  114885  31357.0   \n",
       "4  Steve Martin, Martin Short, Diane Keaton, Kimb...  113041  11862.0   \n",
       "\n",
       "      genres Unnamed: 8 Unnamed: 9 Unnamed: 10 Unnamed: 11 Unnamed: 12  \\\n",
       "0  Adventure  Animation   Children      Comedy     Fantasy         NaN   \n",
       "1  Adventure   Children    Fantasy         NaN         NaN         NaN   \n",
       "2     Comedy    Romance        NaN         NaN         NaN         NaN   \n",
       "3     Comedy      Drama    Romance         NaN         NaN         NaN   \n",
       "4     Comedy        NaN        NaN         NaN         NaN         NaN   \n",
       "\n",
       "  Unnamed: 13 Unnamed: 14 Unnamed: 15 Unnamed: 16  \n",
       "0         NaN         NaN         NaN         NaN  \n",
       "1         NaN         NaN         NaN         NaN  \n",
       "2         NaN         NaN         NaN         NaN  \n",
       "3         NaN         NaN         NaN         NaN  \n",
       "4         NaN         NaN         NaN         NaN  "
      ]
     },
     "execution_count": 79,
     "metadata": {},
     "output_type": "execute_result"
    }
   ],
   "source": [
    "movies.head()"
   ]
  },
  {
   "cell_type": "code",
   "execution_count": 80,
   "metadata": {},
   "outputs": [],
   "source": [
    "movies['genres_cleaned'] = movies.iloc[:,7:-1].fillna('').apply(lambda x: x.str.cat(sep=';'), axis=1)"
   ]
  },
  {
   "cell_type": "code",
   "execution_count": 103,
   "metadata": {},
   "outputs": [],
   "source": [
    "movies['genres_cleaned'] = movies['genres_cleaned'].apply(lambda x: set(x.split(';')) - set({''}))"
   ]
  },
  {
   "cell_type": "code",
   "execution_count": 104,
   "metadata": {},
   "outputs": [],
   "source": [
    "movies_cleaned = movies[movies.columns[movies.columns.str.contains('Unnamed') != True]]"
   ]
  },
  {
   "cell_type": "code",
   "execution_count": 105,
   "metadata": {},
   "outputs": [
    {
     "data": {
      "text/html": [
       "<div>\n",
       "<style scoped>\n",
       "    .dataframe tbody tr th:only-of-type {\n",
       "        vertical-align: middle;\n",
       "    }\n",
       "\n",
       "    .dataframe tbody tr th {\n",
       "        vertical-align: top;\n",
       "    }\n",
       "\n",
       "    .dataframe thead th {\n",
       "        text-align: right;\n",
       "    }\n",
       "</style>\n",
       "<table border=\"1\" class=\"dataframe\">\n",
       "  <thead>\n",
       "    <tr style=\"text-align: right;\">\n",
       "      <th></th>\n",
       "      <th>movieId</th>\n",
       "      <th>title</th>\n",
       "      <th>releaseDate</th>\n",
       "      <th>directedBy</th>\n",
       "      <th>starring</th>\n",
       "      <th>imdbId</th>\n",
       "      <th>tmdbId</th>\n",
       "      <th>genres</th>\n",
       "      <th>genres_cleaned</th>\n",
       "    </tr>\n",
       "  </thead>\n",
       "  <tbody>\n",
       "    <tr>\n",
       "      <th>0</th>\n",
       "      <td>1</td>\n",
       "      <td>Toy Story (1995)</td>\n",
       "      <td>11/19/95</td>\n",
       "      <td>John Lasseter</td>\n",
       "      <td>Tim Allen, Tom Hanks, Don Rickles, Jim Varney,...</td>\n",
       "      <td>114709</td>\n",
       "      <td>862.0</td>\n",
       "      <td>Adventure</td>\n",
       "      <td>{Animation, Fantasy, Adventure, Children, Comedy}</td>\n",
       "    </tr>\n",
       "    <tr>\n",
       "      <th>1</th>\n",
       "      <td>2</td>\n",
       "      <td>Jumanji (1995)</td>\n",
       "      <td>12/15/95</td>\n",
       "      <td>Joe Johnston</td>\n",
       "      <td>Jonathan Hyde, Bradley Pierce, Robin Williams,...</td>\n",
       "      <td>113497</td>\n",
       "      <td>8844.0</td>\n",
       "      <td>Adventure</td>\n",
       "      <td>{Adventure, Children, Fantasy}</td>\n",
       "    </tr>\n",
       "    <tr>\n",
       "      <th>2</th>\n",
       "      <td>3</td>\n",
       "      <td>Grumpier Old Men (1995)</td>\n",
       "      <td>1/1/95</td>\n",
       "      <td>Howard Deutch</td>\n",
       "      <td>Jack Lemmon, Walter Matthau, Ann-Margret , Sop...</td>\n",
       "      <td>113228</td>\n",
       "      <td>15602.0</td>\n",
       "      <td>Comedy</td>\n",
       "      <td>{Comedy, Romance}</td>\n",
       "    </tr>\n",
       "    <tr>\n",
       "      <th>3</th>\n",
       "      <td>4</td>\n",
       "      <td>Waiting to Exhale (1995)</td>\n",
       "      <td>1/15/96</td>\n",
       "      <td>Forest Whitaker</td>\n",
       "      <td>Angela Bassett, Loretta Devine, Whitney Housto...</td>\n",
       "      <td>114885</td>\n",
       "      <td>31357.0</td>\n",
       "      <td>Comedy</td>\n",
       "      <td>{Comedy, Drama, Romance}</td>\n",
       "    </tr>\n",
       "    <tr>\n",
       "      <th>4</th>\n",
       "      <td>5</td>\n",
       "      <td>Father of the Bride Part II (1995)</td>\n",
       "      <td>12/8/95</td>\n",
       "      <td>Charles Shyer</td>\n",
       "      <td>Steve Martin, Martin Short, Diane Keaton, Kimb...</td>\n",
       "      <td>113041</td>\n",
       "      <td>11862.0</td>\n",
       "      <td>Comedy</td>\n",
       "      <td>{Comedy}</td>\n",
       "    </tr>\n",
       "  </tbody>\n",
       "</table>\n",
       "</div>"
      ],
      "text/plain": [
       "   movieId                               title releaseDate       directedBy  \\\n",
       "0        1                    Toy Story (1995)    11/19/95    John Lasseter   \n",
       "1        2                      Jumanji (1995)    12/15/95     Joe Johnston   \n",
       "2        3             Grumpier Old Men (1995)      1/1/95    Howard Deutch   \n",
       "3        4            Waiting to Exhale (1995)     1/15/96  Forest Whitaker   \n",
       "4        5  Father of the Bride Part II (1995)     12/8/95    Charles Shyer   \n",
       "\n",
       "                                            starring  imdbId   tmdbId  \\\n",
       "0  Tim Allen, Tom Hanks, Don Rickles, Jim Varney,...  114709    862.0   \n",
       "1  Jonathan Hyde, Bradley Pierce, Robin Williams,...  113497   8844.0   \n",
       "2  Jack Lemmon, Walter Matthau, Ann-Margret , Sop...  113228  15602.0   \n",
       "3  Angela Bassett, Loretta Devine, Whitney Housto...  114885  31357.0   \n",
       "4  Steve Martin, Martin Short, Diane Keaton, Kimb...  113041  11862.0   \n",
       "\n",
       "      genres                                     genres_cleaned  \n",
       "0  Adventure  {Animation, Fantasy, Adventure, Children, Comedy}  \n",
       "1  Adventure                     {Adventure, Children, Fantasy}  \n",
       "2     Comedy                                  {Comedy, Romance}  \n",
       "3     Comedy                           {Comedy, Drama, Romance}  \n",
       "4     Comedy                                           {Comedy}  "
      ]
     },
     "execution_count": 105,
     "metadata": {},
     "output_type": "execute_result"
    }
   ],
   "source": [
    "movies_cleaned.head()"
   ]
  },
  {
   "cell_type": "code",
   "execution_count": 106,
   "metadata": {},
   "outputs": [],
   "source": [
    "movies_cleaned = movies_cleaned.drop(columns= 'genres')"
   ]
  },
  {
   "cell_type": "code",
   "execution_count": 107,
   "metadata": {},
   "outputs": [],
   "source": [
    "movies_cleaned.to_csv('//Users//bagades//Desktop//RS//serendipity-sac2018//movies_cleaned.csv')"
   ]
  },
  {
   "cell_type": "code",
   "execution_count": null,
   "metadata": {},
   "outputs": [],
   "source": []
  }
 ],
 "metadata": {
  "kernelspec": {
   "display_name": "Python 3",
   "language": "python",
   "name": "python3"
  },
  "language_info": {
   "codemirror_mode": {
    "name": "ipython",
    "version": 3
   },
   "file_extension": ".py",
   "mimetype": "text/x-python",
   "name": "python",
   "nbconvert_exporter": "python",
   "pygments_lexer": "ipython3",
   "version": "3.7.3"
  }
 },
 "nbformat": 4,
 "nbformat_minor": 2
}
