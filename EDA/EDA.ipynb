{
 "cells": [
  {
   "cell_type": "code",
   "execution_count": 1,
   "metadata": {},
   "outputs": [],
   "source": [
    "import pandas as pd\n",
    "import numpy as np\n",
    "import seaborn as sns"
   ]
  },
  {
   "cell_type": "code",
   "execution_count": 2,
   "metadata": {},
   "outputs": [],
   "source": [
    "import matplotlib.pyplot as plt"
   ]
  },
  {
   "cell_type": "code",
   "execution_count": 3,
   "metadata": {},
   "outputs": [],
   "source": [
    "sns.set()"
   ]
  },
  {
   "cell_type": "code",
   "execution_count": 12,
   "metadata": {},
   "outputs": [
    {
     "data": {
      "text/plain": [
       "1"
      ]
     },
     "execution_count": 12,
     "metadata": {},
     "output_type": "execute_result"
    }
   ],
   "source": [
    "5%2"
   ]
  },
  {
   "cell_type": "markdown",
   "metadata": {},
   "source": [
    "## EDA on training file"
   ]
  },
  {
   "cell_type": "code",
   "execution_count": 6,
   "metadata": {},
   "outputs": [],
   "source": [
    "train_data = pd.read_csv('//Users//rounakmehta//Desktop//Spring2020//Practicum//serendipity-sac2018//training.csv')\n",
    "# train_data = pd.read_csv('../Data/serendipity-sac2018/training.csv')"
   ]
  },
  {
   "cell_type": "code",
   "execution_count": 7,
   "metadata": {},
   "outputs": [
    {
     "data": {
      "text/html": [
       "<div>\n",
       "<style scoped>\n",
       "    .dataframe tbody tr th:only-of-type {\n",
       "        vertical-align: middle;\n",
       "    }\n",
       "\n",
       "    .dataframe tbody tr th {\n",
       "        vertical-align: top;\n",
       "    }\n",
       "\n",
       "    .dataframe thead th {\n",
       "        text-align: right;\n",
       "    }\n",
       "</style>\n",
       "<table border=\"1\" class=\"dataframe\">\n",
       "  <thead>\n",
       "    <tr style=\"text-align: right;\">\n",
       "      <th></th>\n",
       "      <th>userId</th>\n",
       "      <th>movieId</th>\n",
       "      <th>rating</th>\n",
       "      <th>timestamp</th>\n",
       "    </tr>\n",
       "  </thead>\n",
       "  <tbody>\n",
       "    <tr>\n",
       "      <td>0</td>\n",
       "      <td>142882</td>\n",
       "      <td>91658</td>\n",
       "      <td>2.5</td>\n",
       "      <td>1515209647000</td>\n",
       "    </tr>\n",
       "    <tr>\n",
       "      <td>1</td>\n",
       "      <td>142882</td>\n",
       "      <td>4344</td>\n",
       "      <td>1.0</td>\n",
       "      <td>1515209646000</td>\n",
       "    </tr>\n",
       "    <tr>\n",
       "      <td>2</td>\n",
       "      <td>142882</td>\n",
       "      <td>45720</td>\n",
       "      <td>2.0</td>\n",
       "      <td>1515209643000</td>\n",
       "    </tr>\n",
       "    <tr>\n",
       "      <td>3</td>\n",
       "      <td>142882</td>\n",
       "      <td>4734</td>\n",
       "      <td>2.0</td>\n",
       "      <td>1515209641000</td>\n",
       "    </tr>\n",
       "    <tr>\n",
       "      <td>4</td>\n",
       "      <td>142882</td>\n",
       "      <td>91542</td>\n",
       "      <td>2.0</td>\n",
       "      <td>1515209637000</td>\n",
       "    </tr>\n",
       "  </tbody>\n",
       "</table>\n",
       "</div>"
      ],
      "text/plain": [
       "   userId  movieId  rating      timestamp\n",
       "0  142882    91658     2.5  1515209647000\n",
       "1  142882     4344     1.0  1515209646000\n",
       "2  142882    45720     2.0  1515209643000\n",
       "3  142882     4734     2.0  1515209641000\n",
       "4  142882    91542     2.0  1515209637000"
      ]
     },
     "execution_count": 7,
     "metadata": {},
     "output_type": "execute_result"
    }
   ],
   "source": [
    "train_data.head()"
   ]
  },
  {
   "cell_type": "code",
   "execution_count": 8,
   "metadata": {},
   "outputs": [
    {
     "name": "stdout",
     "output_type": "stream",
     "text": [
      "The dataset train has 9,997,850 rows and 4 columns\n"
     ]
    }
   ],
   "source": [
    "print('The dataset train has {:,} rows and {:,} columns'.format(train_data.shape[0],train_data.shape[1]))"
   ]
  },
  {
   "cell_type": "code",
   "execution_count": 9,
   "metadata": {},
   "outputs": [
    {
     "name": "stdout",
     "output_type": "stream",
     "text": [
      "Number of unqiue userIDs are 104,661 and number of movies are 49,151\n"
     ]
    }
   ],
   "source": [
    "print('Number of unqiue userIDs are {:,} and number of movies are {:,}'.format(len(train_data['userId'].unique()),\n",
    "                                                                     len(train_data['movieId'].unique())))"
   ]
  },
  {
   "cell_type": "code",
   "execution_count": 10,
   "metadata": {},
   "outputs": [],
   "source": [
    "from datetime import datetime\n",
    "train_data['timestamp'] = train_data['timestamp'].apply(lambda x: datetime.fromtimestamp(x/1000))"
   ]
  },
  {
   "cell_type": "code",
   "execution_count": 9,
   "metadata": {},
   "outputs": [],
   "source": [
    "train_data['year'] = train_data['timestamp'].apply(lambda x: x.year)\n",
    "# train_data['month'] = train_data['timestamp'].apply(lambda x: x.month)"
   ]
  },
  {
   "cell_type": "code",
   "execution_count": 10,
   "metadata": {},
   "outputs": [],
   "source": [
    "train_data['weekday'] = train_data['timestamp'].apply(lambda x: x.weekday())"
   ]
  },
  {
   "cell_type": "code",
   "execution_count": null,
   "metadata": {},
   "outputs": [],
   "source": [
    "#train_data['weekday']"
   ]
  },
  {
   "cell_type": "code",
   "execution_count": null,
   "metadata": {},
   "outputs": [],
   "source": [
    "train_data['year'].value_counts()"
   ]
  },
  {
   "cell_type": "code",
   "execution_count": null,
   "metadata": {},
   "outputs": [],
   "source": [
    "plt.rcParams['figure.figsize'] = (14, 6)\n",
    "sns.countplot(train_data['year'], color = 'lightseagreen')\n",
    "plt.title('Frequency of reviews across years', fontdict= {'fontsize': 20})\n",
    "plt.xlabel('Year')\n",
    "plt.ylabel('Frequency')\n",
    "plt.xticks( rotation = 45)\n",
    "plt.show()"
   ]
  },
  {
   "cell_type": "code",
   "execution_count": null,
   "metadata": {},
   "outputs": [],
   "source": [
    "#week_labels = ['Monday','Tuesday','Wednesday','Thursday','Friday','Saturday','Sunday']\n",
    "plt.rcParams['figure.figsize'] = (14, 6)\n",
    "sns.countplot(train_data['weekday'], color = 'lightseagreen')\n",
    "plt.title('Frequency of reviews across years', fontdict= {'fontsize': 20})\n",
    "plt.xlabel('Weekday')\n",
    "plt.ylabel('Frequency')\n",
    "plt.xticks(rotation = 45)\n",
    "# plt.xticks(labels = week_labels)\n",
    "plt.show()"
   ]
  },
  {
   "cell_type": "code",
   "execution_count": null,
   "metadata": {},
   "outputs": [],
   "source": [
    "# Movie with maximum review\n",
    "train_data['movieId'].value_counts().head(20)"
   ]
  },
  {
   "cell_type": "markdown",
   "metadata": {},
   "source": [
    "**Creating a user movie matrix**"
   ]
  },
  {
   "cell_type": "code",
   "execution_count": null,
   "metadata": {},
   "outputs": [],
   "source": [
    "UM_matrix = train_data.pivot(index='userId', columns='movieId', values='rating')"
   ]
  },
  {
   "cell_type": "code",
   "execution_count": null,
   "metadata": {},
   "outputs": [],
   "source": [
    "# total_nas = UM_matrix.isna().sum().sum()"
   ]
  },
  {
   "cell_type": "code",
   "execution_count": null,
   "metadata": {},
   "outputs": [],
   "source": [
    "nas_per_movie = UM_matrix.isna().sum(axis = 0)\n",
    "nas_per_user = UM_matrix.isna().sum(axis = 1)"
   ]
  },
  {
   "cell_type": "code",
   "execution_count": null,
   "metadata": {},
   "outputs": [],
   "source": [
    "print('{:,} which is {}% NAs'.format(total_nas,round(total_nas/(len(nas_per_user)*len(nas_per_movie)),4)) )"
   ]
  },
  {
   "cell_type": "code",
   "execution_count": null,
   "metadata": {},
   "outputs": [],
   "source": [
    "nas_per_movie*100/len(nas_per_user)"
   ]
  },
  {
   "cell_type": "code",
   "execution_count": null,
   "metadata": {},
   "outputs": [],
   "source": [
    "nas_per_user*100/ len(nas_per_movie)"
   ]
  },
  {
   "cell_type": "markdown",
   "metadata": {},
   "source": [
    "## EDA on tags file"
   ]
  },
  {
   "cell_type": "code",
   "execution_count": null,
   "metadata": {},
   "outputs": [],
   "source": [
    "tags_data = pd.read_csv('//Users//bagades//Desktop//RS//serendipity-sac2018//tags.csv')"
   ]
  },
  {
   "cell_type": "code",
   "execution_count": null,
   "metadata": {},
   "outputs": [],
   "source": [
    "tags_data.head()"
   ]
  },
  {
   "cell_type": "code",
   "execution_count": null,
   "metadata": {},
   "outputs": [],
   "source": [
    "tags_data.shape"
   ]
  },
  {
   "cell_type": "code",
   "execution_count": null,
   "metadata": {},
   "outputs": [],
   "source": [
    "print('Number of unqiue userIDs are {:,} and number of movies are {:,}'.format(len(tags_data['userId'].unique()),\n",
    "                                                                     len(tags_data['movieId'].unique())))"
   ]
  },
  {
   "cell_type": "code",
   "execution_count": null,
   "metadata": {},
   "outputs": [],
   "source": [
    "print('We have {:,} tags only for {}% of the total movies'.format(len(tags_data['movieId'].unique()),\n",
    "                    round(len(tags_data['movieId'].unique())*100/len(train_data['movieId'].unique()),4)))"
   ]
  },
  {
   "cell_type": "code",
   "execution_count": null,
   "metadata": {},
   "outputs": [],
   "source": [
    "len(tags_data['tag'].unique())"
   ]
  },
  {
   "cell_type": "code",
   "execution_count": null,
   "metadata": {},
   "outputs": [],
   "source": [
    "tags_data['tag'].value_counts().head(20)"
   ]
  },
  {
   "cell_type": "code",
   "execution_count": null,
   "metadata": {},
   "outputs": [],
   "source": [
    "tags_data['movieId'].value_counts().head(20)"
   ]
  },
  {
   "cell_type": "markdown",
   "metadata": {},
   "source": [
    "## EDA on movies file"
   ]
  },
  {
   "cell_type": "code",
   "execution_count": null,
   "metadata": {},
   "outputs": [],
   "source": [
    "movies = pd.read_csv('//Users//bagades//Desktop//RS//serendipity-sac2018//movies.csv')"
   ]
  },
  {
   "cell_type": "code",
   "execution_count": null,
   "metadata": {},
   "outputs": [],
   "source": [
    "movies.columns"
   ]
  },
  {
   "cell_type": "code",
   "execution_count": null,
   "metadata": {},
   "outputs": [],
   "source": [
    "movies.head()"
   ]
  },
  {
   "cell_type": "code",
   "execution_count": null,
   "metadata": {},
   "outputs": [],
   "source": [
    "print('The dataset movies has {:,} rows and {:,} columns'.format(movies.shape[0],movies.shape[1]))"
   ]
  },
  {
   "cell_type": "code",
   "execution_count": null,
   "metadata": {},
   "outputs": [],
   "source": [
    "movies['genres_cleaned'] = movies.iloc[:,7:-1].fillna('').apply(lambda x: x.str.cat(sep=';'), axis=1)"
   ]
  },
  {
   "cell_type": "code",
   "execution_count": null,
   "metadata": {},
   "outputs": [],
   "source": [
    "movies['genres_cleaned'] = movies['genres_cleaned'].apply(lambda x: set(x.split(';')) - set({''}))"
   ]
  },
  {
   "cell_type": "code",
   "execution_count": null,
   "metadata": {},
   "outputs": [],
   "source": [
    "movies_cleaned = movies[movies.columns[movies.columns.str.contains('Unnamed') != True]]"
   ]
  },
  {
   "cell_type": "code",
   "execution_count": null,
   "metadata": {},
   "outputs": [],
   "source": [
    "movies_cleaned.head()"
   ]
  },
  {
   "cell_type": "code",
   "execution_count": null,
   "metadata": {},
   "outputs": [],
   "source": [
    "movies_cleaned = movies_cleaned.drop(columns= 'genres')"
   ]
  },
  {
   "cell_type": "code",
   "execution_count": null,
   "metadata": {},
   "outputs": [],
   "source": [
    "movies_cleaned.to_csv('//Users//bagades//Desktop//RS//serendipity-sac2018//movies_cleaned.csv')"
   ]
  },
  {
   "cell_type": "markdown",
   "metadata": {},
   "source": [
    "------\n",
    "Ignoring the 8 rows with bad formatting"
   ]
  },
  {
   "cell_type": "code",
   "execution_count": 11,
   "metadata": {},
   "outputs": [
    {
     "name": "stderr",
     "output_type": "stream",
     "text": [
      "b'Skipping line 19833: expected 8 fields, saw 10\\nSkipping line 34143: expected 8 fields, saw 9\\nSkipping line 36015: expected 8 fields, saw 10\\nSkipping line 37260: expected 8 fields, saw 12\\nSkipping line 44379: expected 8 fields, saw 10\\nSkipping line 47551: expected 8 fields, saw 10\\n'\n"
     ]
    }
   ],
   "source": [
    "movies = pd.read_csv('//Users//bagades//Desktop//RS//serendipity-sac2018//moviesv2.csv',\n",
    "                             error_bad_lines=False)"
   ]
  },
  {
   "cell_type": "code",
   "execution_count": 12,
   "metadata": {},
   "outputs": [
    {
     "data": {
      "text/html": [
       "<div>\n",
       "<style scoped>\n",
       "    .dataframe tbody tr th:only-of-type {\n",
       "        vertical-align: middle;\n",
       "    }\n",
       "\n",
       "    .dataframe tbody tr th {\n",
       "        vertical-align: top;\n",
       "    }\n",
       "\n",
       "    .dataframe thead th {\n",
       "        text-align: right;\n",
       "    }\n",
       "</style>\n",
       "<table border=\"1\" class=\"dataframe\">\n",
       "  <thead>\n",
       "    <tr style=\"text-align: right;\">\n",
       "      <th></th>\n",
       "      <th>movieId</th>\n",
       "      <th>title</th>\n",
       "      <th>releaseDate</th>\n",
       "      <th>directedBy</th>\n",
       "      <th>starring</th>\n",
       "      <th>imdbId</th>\n",
       "      <th>tmdbId</th>\n",
       "      <th>genres</th>\n",
       "    </tr>\n",
       "  </thead>\n",
       "  <tbody>\n",
       "    <tr>\n",
       "      <th>0</th>\n",
       "      <td>1</td>\n",
       "      <td>Toy Story (1995)</td>\n",
       "      <td>1995-11-19</td>\n",
       "      <td>John Lasseter</td>\n",
       "      <td>Tim Allen, Tom Hanks, Don Rickles, Jim Varney,...</td>\n",
       "      <td>114709</td>\n",
       "      <td>862.0</td>\n",
       "      <td>Adventure,Animation,Children,Comedy,Fantasy</td>\n",
       "    </tr>\n",
       "    <tr>\n",
       "      <th>1</th>\n",
       "      <td>2</td>\n",
       "      <td>Jumanji (1995)</td>\n",
       "      <td>1995-12-15</td>\n",
       "      <td>Joe Johnston</td>\n",
       "      <td>Jonathan Hyde, Bradley Pierce, Robin Williams,...</td>\n",
       "      <td>113497</td>\n",
       "      <td>8844.0</td>\n",
       "      <td>Adventure,Children,Fantasy</td>\n",
       "    </tr>\n",
       "    <tr>\n",
       "      <th>2</th>\n",
       "      <td>3</td>\n",
       "      <td>Grumpier Old Men (1995)</td>\n",
       "      <td>1995-01-01</td>\n",
       "      <td>Howard Deutch</td>\n",
       "      <td>Jack Lemmon, Walter Matthau, Ann-Margret , Sop...</td>\n",
       "      <td>113228</td>\n",
       "      <td>15602.0</td>\n",
       "      <td>Comedy,Romance</td>\n",
       "    </tr>\n",
       "    <tr>\n",
       "      <th>3</th>\n",
       "      <td>4</td>\n",
       "      <td>Waiting to Exhale (1995)</td>\n",
       "      <td>1996-01-15</td>\n",
       "      <td>Forest Whitaker</td>\n",
       "      <td>Angela Bassett, Loretta Devine, Whitney Housto...</td>\n",
       "      <td>114885</td>\n",
       "      <td>31357.0</td>\n",
       "      <td>Comedy,Drama,Romance</td>\n",
       "    </tr>\n",
       "    <tr>\n",
       "      <th>4</th>\n",
       "      <td>5</td>\n",
       "      <td>Father of the Bride Part II (1995)</td>\n",
       "      <td>1995-12-08</td>\n",
       "      <td>Charles Shyer</td>\n",
       "      <td>Steve Martin, Martin Short, Diane Keaton, Kimb...</td>\n",
       "      <td>113041</td>\n",
       "      <td>11862.0</td>\n",
       "      <td>Comedy</td>\n",
       "    </tr>\n",
       "  </tbody>\n",
       "</table>\n",
       "</div>"
      ],
      "text/plain": [
       "   movieId                               title releaseDate       directedBy  \\\n",
       "0        1                    Toy Story (1995)  1995-11-19    John Lasseter   \n",
       "1        2                      Jumanji (1995)  1995-12-15     Joe Johnston   \n",
       "2        3             Grumpier Old Men (1995)  1995-01-01    Howard Deutch   \n",
       "3        4            Waiting to Exhale (1995)  1996-01-15  Forest Whitaker   \n",
       "4        5  Father of the Bride Part II (1995)  1995-12-08    Charles Shyer   \n",
       "\n",
       "                                            starring  imdbId   tmdbId  \\\n",
       "0  Tim Allen, Tom Hanks, Don Rickles, Jim Varney,...  114709    862.0   \n",
       "1  Jonathan Hyde, Bradley Pierce, Robin Williams,...  113497   8844.0   \n",
       "2  Jack Lemmon, Walter Matthau, Ann-Margret , Sop...  113228  15602.0   \n",
       "3  Angela Bassett, Loretta Devine, Whitney Housto...  114885  31357.0   \n",
       "4  Steve Martin, Martin Short, Diane Keaton, Kimb...  113041  11862.0   \n",
       "\n",
       "                                        genres  \n",
       "0  Adventure,Animation,Children,Comedy,Fantasy  \n",
       "1                   Adventure,Children,Fantasy  \n",
       "2                               Comedy,Romance  \n",
       "3                         Comedy,Drama,Romance  \n",
       "4                                       Comedy  "
      ]
     },
     "execution_count": 12,
     "metadata": {},
     "output_type": "execute_result"
    }
   ],
   "source": [
    "movies.head()"
   ]
  },
  {
   "cell_type": "code",
   "execution_count": 13,
   "metadata": {},
   "outputs": [
    {
     "name": "stdout",
     "output_type": "stream",
     "text": [
      "Number of unique movies 49,168\n",
      "23 of the movies are not present in the train data\n"
     ]
    }
   ],
   "source": [
    "print('Number of unique movies {:,}'.format(len(movies['movieId'].unique())))\n",
    "print('{} of the movies are not present in the train data'.format(\n",
    "    len(set(movies['movieId'].unique()) - set(train_data['movieId'].unique()))))"
   ]
  },
  {
   "cell_type": "code",
   "execution_count": 14,
   "metadata": {},
   "outputs": [
    {
     "data": {
      "text/plain": [
       "Drama                   14.533843\n",
       "Comedy                   8.989587\n",
       "Documentary              7.350309\n",
       "Comedy,Drama             3.486007\n",
       "Drama,Romance            3.136186\n",
       "Horror                   2.471119\n",
       "Comedy,Romance           2.263667\n",
       "Comedy,Drama,Romance     1.541653\n",
       "Thriller                 1.328100\n",
       "Crime,Drama              1.293524\n",
       "Name: genres, dtype: float64"
      ]
     },
     "execution_count": 14,
     "metadata": {},
     "output_type": "execute_result"
    }
   ],
   "source": [
    "movies['genres'].value_counts().head(10)*100/len(movies)"
   ]
  },
  {
   "cell_type": "code",
   "execution_count": 15,
   "metadata": {},
   "outputs": [
    {
     "data": {
      "text/plain": [
       "Action,Fantasy,Horror,Mystery,Sci-Fi,Thriller    1\n",
       "Action,Fantasy,War,IMAX                          1\n",
       "Sci-Fi,Fantasy,Comedy                            1\n",
       "Drama,Western,Romance                            1\n",
       "Mystery,Comedy,Crime                             1\n",
       "Name: genres, dtype: int64"
      ]
     },
     "execution_count": 15,
     "metadata": {},
     "output_type": "execute_result"
    }
   ],
   "source": [
    "movies['genres'].value_counts()[movies['genres'].value_counts() == 1].head()"
   ]
  },
  {
   "cell_type": "code",
   "execution_count": 16,
   "metadata": {},
   "outputs": [
    {
     "name": "stdout",
     "output_type": "stream",
     "text": [
      "Number of director who have directed a single movie 13,014 from 20,284 total directors\n"
     ]
    }
   ],
   "source": [
    "print('Number of director who have directed a single movie {:,} from {:,} total directors'.format(\n",
    "    sum(movies['directedBy'].value_counts()== 1), len(movies['directedBy'].unique())))"
   ]
  },
  {
   "cell_type": "markdown",
   "metadata": {},
   "source": [
    "---"
   ]
  },
  {
   "cell_type": "markdown",
   "metadata": {},
   "source": [
    "## EDA on Answers.csv"
   ]
  },
  {
   "cell_type": "code",
   "execution_count": null,
   "metadata": {},
   "outputs": [],
   "source": [
    "# answers = pd.read_csv(\"../../Data/serendipity-sac2018/answers.csv\")\n",
    "answers = pd.read_csv('//Users//bagades//Desktop//RS//serendipity-sac2018//answers.csv')"
   ]
  },
  {
   "cell_type": "code",
   "execution_count": null,
   "metadata": {},
   "outputs": [],
   "source": [
    "answers.head()"
   ]
  },
  {
   "cell_type": "code",
   "execution_count": null,
   "metadata": {},
   "outputs": [],
   "source": [
    "answers['timestamp'] = answers['timestamp'].apply(lambda x: datetime.fromtimestamp(x/1000))\n",
    "answers['year'] = answers['timestamp'].apply(lambda x: x.year)\n",
    "answers['month'] = answers['timestamp'].apply(lambda x: x.month)\n",
    "answers['weekday'] = answers['timestamp'].apply(lambda x: x.weekday())"
   ]
  },
  {
   "cell_type": "code",
   "execution_count": null,
   "metadata": {},
   "outputs": [],
   "source": [
    "print('The dataset train has {:,} rows and {:,} columns'.format(answers.shape[0],answers.shape[1]))\n",
    "print('Number of unqiue userIDs are {:,} and number of movies are {:,}'.format(len(answers['userId'].unique()),\n",
    "                                                                     len(answers['movieId'].unique())))"
   ]
  },
  {
   "cell_type": "code",
   "execution_count": null,
   "metadata": {},
   "outputs": [],
   "source": [
    "answers.rating.describe()"
   ]
  },
  {
   "cell_type": "markdown",
   "metadata": {},
   "source": [
    "**Serendipity ratings are given for movies that were rated highly by users. Could be an issue.**"
   ]
  },
  {
   "cell_type": "code",
   "execution_count": null,
   "metadata": {},
   "outputs": [],
   "source": [
    "plt.rcParams['figure.figsize'] = (14, 6)\n",
    "# sns.countplot(answers['rating'], color = 'lightseagreen')\n",
    "sns.distplot(answers[answers['predictedRating'].isna() == False]['predictedRating'], color = 'black')\n",
    "plt.title('Distribution of predicted ratings', fontdict= {'fontsize': 20})\n",
    "plt.xlabel('Predicted Rating')\n",
    "plt.ylabel('Frequency')\n",
    "plt.xticks( rotation = 45)\n",
    "plt.show()"
   ]
  },
  {
   "cell_type": "code",
   "execution_count": null,
   "metadata": {
    "scrolled": true
   },
   "outputs": [],
   "source": [
    "plt.rcParams['figure.figsize'] = (14, 6)\n",
    "sns.countplot(answers['rating'], color = 'lightseagreen',)\n",
    "plt.title('Distribution of movie ratings', fontdict= {'fontsize': 20})\n",
    "plt.xlabel('Rating')\n",
    "plt.ylabel('Frequency')\n",
    "plt.xticks( rotation = 45)\n",
    "plt.show()"
   ]
  },
  {
   "cell_type": "code",
   "execution_count": null,
   "metadata": {},
   "outputs": [],
   "source": [
    "# plt.rcParams['figure.figsize'] = (14, 6)\n",
    "import matplotlib.patches as mpatches\n",
    "fig, ax = plt.subplots()\n",
    "sns.countplot(answers['rating'], color = 'lightseagreen', ax=ax)\n",
    "ax.set_ylabel(\"Frequency of true ratings\")\n",
    "ax.patch.set_alpha(0)\n",
    "ax2 = ax.twinx()\n",
    "sns.distplot(answers[answers['predictedRating'].isna() == False]['predictedRating'], \n",
    "             color = 'black',ax=ax2,hist_kws={\"alpha\": 0.3})\n",
    "ax2.set_ylabel(\"Distribution of predicted rating\")\n",
    "act_patch = mpatches.Patch(color='lightseagreen', label='Actual Movie Ratings')\n",
    "pred_patch = mpatches.Patch(color='black', label='Predicted Ratings')\n",
    "plt.legend(handles=[act_patch,pred_patch])\n",
    "plt.show()\n",
    "\n"
   ]
  },
  {
   "cell_type": "code",
   "execution_count": null,
   "metadata": {},
   "outputs": [],
   "source": [
    "serendipity_cols = [\"s\"+str(i) for i in range(1,9)]\n",
    "\n",
    "sns.countplot(x=\"variable\", hue=\"value\", data=pd.melt(answers[serendipity_cols]))\n",
    "plt.xlabel('Serendipity Question Rating')\n",
    "plt.show()"
   ]
  },
  {
   "cell_type": "code",
   "execution_count": null,
   "metadata": {},
   "outputs": [],
   "source": [
    "sns.countplot(answers['q'], color = 'lightseagreen')\n",
    "plt.title('When did you watch the movie for the first time?')\n",
    "plt.xticks([i for i in range(7)],\n",
    "           ['past week', 'past month', '1-6 months', '6-12 months', '1-3 years', '>3 years ago', 'don\\'t remember'])\n",
    "plt.show()"
   ]
  },
  {
   "cell_type": "code",
   "execution_count": null,
   "metadata": {},
   "outputs": [],
   "source": [
    "serendipity_cols = ['s_ser_rel', 's_ser_find', 's_ser_imp', 's_ser_rec']\n",
    "\n",
    "sns.countplot(x=\"variable\", hue=\"value\", data=pd.melt(answers[serendipity_cols]))\n",
    "plt.title('Strict serendipity')\n",
    "plt.show()"
   ]
  },
  {
   "cell_type": "code",
   "execution_count": null,
   "metadata": {},
   "outputs": [],
   "source": [
    "serendipity_cols = ['m_ser_rel', 'm_ser_find', 'm_ser_imp', 'm_ser_rec']\n",
    "\n",
    "sns.countplot(x=\"variable\", hue=\"value\", data=pd.melt(answers[serendipity_cols]))\n",
    "plt.title('Motivational serendipity')\n",
    "plt.show()"
   ]
  },
  {
   "cell_type": "code",
   "execution_count": null,
   "metadata": {},
   "outputs": [],
   "source": []
  },
  {
   "cell_type": "markdown",
   "metadata": {},
   "source": [
    "---\n",
    "**Filtering the data by year <br>\n",
    "Considering years {2016, 2017 and 2018}**"
   ]
  },
  {
   "cell_type": "code",
   "execution_count": 17,
   "metadata": {},
   "outputs": [
    {
     "name": "stdout",
     "output_type": "stream",
     "text": [
      "The data will reduce by 58.815 % if we filter for only years 16,17&18\n"
     ]
    }
   ],
   "source": [
    "print('The data will reduce by {} % if we filter for only years 16,17&18'.format(\n",
    "    round(len(train_data[train_data['year'] <= 2015])*100/len(train_data),3)))"
   ]
  },
  {
   "cell_type": "code",
   "execution_count": 18,
   "metadata": {},
   "outputs": [],
   "source": [
    "train_filtered = train_data[train_data['year'] > 2015]"
   ]
  },
  {
   "cell_type": "code",
   "execution_count": 19,
   "metadata": {},
   "outputs": [
    {
     "name": "stdout",
     "output_type": "stream",
     "text": [
      "The filtered data has 4,117,647 rows\n"
     ]
    }
   ],
   "source": [
    "print('The filtered data has {:,} rows'.format(train_filtered.shape[0]))"
   ]
  },
  {
   "cell_type": "markdown",
   "metadata": {},
   "source": [
    "---\n",
    "Merging the filtered train data with movies data"
   ]
  },
  {
   "cell_type": "code",
   "execution_count": 20,
   "metadata": {},
   "outputs": [],
   "source": [
    "train_filtered_movies = train_filtered.merge(movies,how ='left',on = 'movieId')"
   ]
  },
  {
   "cell_type": "code",
   "execution_count": 21,
   "metadata": {},
   "outputs": [],
   "source": [
    "assert train_filtered_movies.shape[0] == train_filtered.shape[0]\n",
    "assert train_filtered_movies.shape[1] == train_filtered.shape[1] + movies.shape[1] -1"
   ]
  },
  {
   "cell_type": "code",
   "execution_count": 22,
   "metadata": {},
   "outputs": [
    {
     "data": {
      "text/html": [
       "<div>\n",
       "<style scoped>\n",
       "    .dataframe tbody tr th:only-of-type {\n",
       "        vertical-align: middle;\n",
       "    }\n",
       "\n",
       "    .dataframe tbody tr th {\n",
       "        vertical-align: top;\n",
       "    }\n",
       "\n",
       "    .dataframe thead th {\n",
       "        text-align: right;\n",
       "    }\n",
       "</style>\n",
       "<table border=\"1\" class=\"dataframe\">\n",
       "  <thead>\n",
       "    <tr style=\"text-align: right;\">\n",
       "      <th></th>\n",
       "      <th>userId</th>\n",
       "      <th>movieId</th>\n",
       "      <th>rating</th>\n",
       "      <th>timestamp</th>\n",
       "      <th>year</th>\n",
       "      <th>month</th>\n",
       "      <th>weekday</th>\n",
       "      <th>title</th>\n",
       "      <th>releaseDate</th>\n",
       "      <th>directedBy</th>\n",
       "      <th>starring</th>\n",
       "      <th>imdbId</th>\n",
       "      <th>tmdbId</th>\n",
       "      <th>genres</th>\n",
       "    </tr>\n",
       "  </thead>\n",
       "  <tbody>\n",
       "    <tr>\n",
       "      <th>0</th>\n",
       "      <td>142882</td>\n",
       "      <td>91658</td>\n",
       "      <td>2.5</td>\n",
       "      <td>2018-01-05 21:34:07</td>\n",
       "      <td>2018</td>\n",
       "      <td>1</td>\n",
       "      <td>4</td>\n",
       "      <td>Girl with the Dragon Tattoo, The (2011)</td>\n",
       "      <td>2011-12-21</td>\n",
       "      <td>David Fincher</td>\n",
       "      <td>Daniel Craig, Rooney Mara, Christopher Plummer...</td>\n",
       "      <td>1568346.0</td>\n",
       "      <td>65754.0</td>\n",
       "      <td>Drama,Thriller</td>\n",
       "    </tr>\n",
       "    <tr>\n",
       "      <th>1</th>\n",
       "      <td>142882</td>\n",
       "      <td>4344</td>\n",
       "      <td>1.0</td>\n",
       "      <td>2018-01-05 21:34:06</td>\n",
       "      <td>2018</td>\n",
       "      <td>1</td>\n",
       "      <td>4</td>\n",
       "      <td>Swordfish (2001)</td>\n",
       "      <td>2001-06-08</td>\n",
       "      <td>Dominic Sena</td>\n",
       "      <td>Hugh Jackman, John Travolta, Halle Berry, Don ...</td>\n",
       "      <td>244244.0</td>\n",
       "      <td>9705.0</td>\n",
       "      <td>Action,Crime,Drama</td>\n",
       "    </tr>\n",
       "    <tr>\n",
       "      <th>2</th>\n",
       "      <td>142882</td>\n",
       "      <td>45720</td>\n",
       "      <td>2.0</td>\n",
       "      <td>2018-01-05 21:34:03</td>\n",
       "      <td>2018</td>\n",
       "      <td>1</td>\n",
       "      <td>4</td>\n",
       "      <td>Devil Wears Prada, The (2006)</td>\n",
       "      <td>2006-06-30</td>\n",
       "      <td>David Frankel</td>\n",
       "      <td>Anne Hathaway, Meryl Streep, Adrian Grenier, S...</td>\n",
       "      <td>458352.0</td>\n",
       "      <td>350.0</td>\n",
       "      <td>Comedy,Drama</td>\n",
       "    </tr>\n",
       "    <tr>\n",
       "      <th>3</th>\n",
       "      <td>142882</td>\n",
       "      <td>4734</td>\n",
       "      <td>2.0</td>\n",
       "      <td>2018-01-05 21:34:01</td>\n",
       "      <td>2018</td>\n",
       "      <td>1</td>\n",
       "      <td>4</td>\n",
       "      <td>Jay and Silent Bob Strike Back (2001)</td>\n",
       "      <td>2001-08-24</td>\n",
       "      <td>Kevin Smith</td>\n",
       "      <td>Jason Mewes, Kevin Smith, Ben Affleck, Jeff An...</td>\n",
       "      <td>261392.0</td>\n",
       "      <td>2294.0</td>\n",
       "      <td>Adventure,Comedy</td>\n",
       "    </tr>\n",
       "    <tr>\n",
       "      <th>4</th>\n",
       "      <td>142882</td>\n",
       "      <td>91542</td>\n",
       "      <td>2.0</td>\n",
       "      <td>2018-01-05 21:33:57</td>\n",
       "      <td>2018</td>\n",
       "      <td>1</td>\n",
       "      <td>4</td>\n",
       "      <td>Sherlock Holmes: A Game of Shadows (2011)</td>\n",
       "      <td>2011-12-16</td>\n",
       "      <td>Guy Ritchie</td>\n",
       "      <td>Robert Downey Jr., Jude Law, Rachel McAdams, N...</td>\n",
       "      <td>1515091.0</td>\n",
       "      <td>58574.0</td>\n",
       "      <td>Action,Adventure,Comedy,Crime,Mystery,Thriller</td>\n",
       "    </tr>\n",
       "  </tbody>\n",
       "</table>\n",
       "</div>"
      ],
      "text/plain": [
       "   userId  movieId  rating           timestamp  year  month  weekday  \\\n",
       "0  142882    91658     2.5 2018-01-05 21:34:07  2018      1        4   \n",
       "1  142882     4344     1.0 2018-01-05 21:34:06  2018      1        4   \n",
       "2  142882    45720     2.0 2018-01-05 21:34:03  2018      1        4   \n",
       "3  142882     4734     2.0 2018-01-05 21:34:01  2018      1        4   \n",
       "4  142882    91542     2.0 2018-01-05 21:33:57  2018      1        4   \n",
       "\n",
       "                                       title releaseDate     directedBy  \\\n",
       "0    Girl with the Dragon Tattoo, The (2011)  2011-12-21  David Fincher   \n",
       "1                           Swordfish (2001)  2001-06-08   Dominic Sena   \n",
       "2              Devil Wears Prada, The (2006)  2006-06-30  David Frankel   \n",
       "3      Jay and Silent Bob Strike Back (2001)  2001-08-24    Kevin Smith   \n",
       "4  Sherlock Holmes: A Game of Shadows (2011)  2011-12-16    Guy Ritchie   \n",
       "\n",
       "                                            starring     imdbId   tmdbId  \\\n",
       "0  Daniel Craig, Rooney Mara, Christopher Plummer...  1568346.0  65754.0   \n",
       "1  Hugh Jackman, John Travolta, Halle Berry, Don ...   244244.0   9705.0   \n",
       "2  Anne Hathaway, Meryl Streep, Adrian Grenier, S...   458352.0    350.0   \n",
       "3  Jason Mewes, Kevin Smith, Ben Affleck, Jeff An...   261392.0   2294.0   \n",
       "4  Robert Downey Jr., Jude Law, Rachel McAdams, N...  1515091.0  58574.0   \n",
       "\n",
       "                                           genres  \n",
       "0                                  Drama,Thriller  \n",
       "1                              Action,Crime,Drama  \n",
       "2                                    Comedy,Drama  \n",
       "3                                Adventure,Comedy  \n",
       "4  Action,Adventure,Comedy,Crime,Mystery,Thriller  "
      ]
     },
     "execution_count": 22,
     "metadata": {},
     "output_type": "execute_result"
    }
   ],
   "source": [
    "train_filtered_movies.head()"
   ]
  },
  {
   "cell_type": "code",
   "execution_count": 23,
   "metadata": {},
   "outputs": [
    {
     "data": {
      "text/plain": [
       "Drama                      257860\n",
       "Comedy                     196179\n",
       "Comedy,Romance             113863\n",
       "Action,Adventure,Sci-Fi    111120\n",
       "Drama,Romance              102561\n",
       "Name: genres, dtype: int64"
      ]
     },
     "execution_count": 23,
     "metadata": {},
     "output_type": "execute_result"
    }
   ],
   "source": [
    "train_filtered_movies['genres'].value_counts().head(5)"
   ]
  },
  {
   "cell_type": "code",
   "execution_count": 24,
   "metadata": {},
   "outputs": [
    {
     "data": {
      "text/plain": [
       "Shawshank Redemption, The (1994)                             0.412906\n",
       "Matrix, The (1999)                                           0.410769\n",
       "Inception (2010)                                             0.371960\n",
       "Fight Club (1999)                                            0.348160\n",
       "Lord of the Rings: The Return of the King, The (2003)        0.336746\n",
       "Forrest Gump (1994)                                          0.330941\n",
       "Dark Knight, The (2008)                                      0.318070\n",
       "Star Wars: Episode IV - A New Hope (1977)                    0.312071\n",
       "Lord of the Rings: The Fellowship of the Ring, The (2001)    0.310736\n",
       "Lord of the Rings: The Two Towers, The (2002)                0.294440\n",
       "The Martian (2015)                                           0.286280\n",
       "Pulp Fiction (1994)                                          0.277124\n",
       "Deadpool (2016)                                              0.269426\n",
       "Interstellar (2014)                                          0.268284\n",
       "Star Wars: Episode V - The Empire Strikes Back (1980)        0.261727\n",
       "Name: title, dtype: float64"
      ]
     },
     "execution_count": 24,
     "metadata": {},
     "output_type": "execute_result"
    }
   ],
   "source": [
    "train_filtered_movies['title'].value_counts().head(15)*100/len(train_filtered_movies)"
   ]
  },
  {
   "cell_type": "code",
   "execution_count": 25,
   "metadata": {},
   "outputs": [],
   "source": [
    "train_filtered_movies['genres'] = train_filtered_movies['genres'].apply(lambda x: str(x).split(','))"
   ]
  },
  {
   "cell_type": "code",
   "execution_count": 28,
   "metadata": {},
   "outputs": [
    {
     "data": {
      "text/html": [
       "<div>\n",
       "<style scoped>\n",
       "    .dataframe tbody tr th:only-of-type {\n",
       "        vertical-align: middle;\n",
       "    }\n",
       "\n",
       "    .dataframe tbody tr th {\n",
       "        vertical-align: top;\n",
       "    }\n",
       "\n",
       "    .dataframe thead th {\n",
       "        text-align: right;\n",
       "    }\n",
       "</style>\n",
       "<table border=\"1\" class=\"dataframe\">\n",
       "  <thead>\n",
       "    <tr style=\"text-align: right;\">\n",
       "      <th></th>\n",
       "      <th>userId</th>\n",
       "      <th>movieId</th>\n",
       "      <th>rating</th>\n",
       "      <th>timestamp</th>\n",
       "      <th>year</th>\n",
       "      <th>month</th>\n",
       "      <th>weekday</th>\n",
       "      <th>title</th>\n",
       "      <th>releaseDate</th>\n",
       "      <th>directedBy</th>\n",
       "      <th>starring</th>\n",
       "      <th>imdbId</th>\n",
       "      <th>tmdbId</th>\n",
       "      <th>genres</th>\n",
       "    </tr>\n",
       "  </thead>\n",
       "  <tbody>\n",
       "    <tr>\n",
       "      <th>0</th>\n",
       "      <td>142882</td>\n",
       "      <td>91658</td>\n",
       "      <td>2.5</td>\n",
       "      <td>2018-01-05 21:34:07</td>\n",
       "      <td>2018</td>\n",
       "      <td>1</td>\n",
       "      <td>4</td>\n",
       "      <td>Girl with the Dragon Tattoo, The (2011)</td>\n",
       "      <td>2011-12-21</td>\n",
       "      <td>David Fincher</td>\n",
       "      <td>Daniel Craig, Rooney Mara, Christopher Plummer...</td>\n",
       "      <td>1568346.0</td>\n",
       "      <td>65754.0</td>\n",
       "      <td>[Drama, Thriller]</td>\n",
       "    </tr>\n",
       "    <tr>\n",
       "      <th>1</th>\n",
       "      <td>142882</td>\n",
       "      <td>4344</td>\n",
       "      <td>1.0</td>\n",
       "      <td>2018-01-05 21:34:06</td>\n",
       "      <td>2018</td>\n",
       "      <td>1</td>\n",
       "      <td>4</td>\n",
       "      <td>Swordfish (2001)</td>\n",
       "      <td>2001-06-08</td>\n",
       "      <td>Dominic Sena</td>\n",
       "      <td>Hugh Jackman, John Travolta, Halle Berry, Don ...</td>\n",
       "      <td>244244.0</td>\n",
       "      <td>9705.0</td>\n",
       "      <td>[Action, Crime, Drama]</td>\n",
       "    </tr>\n",
       "    <tr>\n",
       "      <th>2</th>\n",
       "      <td>142882</td>\n",
       "      <td>45720</td>\n",
       "      <td>2.0</td>\n",
       "      <td>2018-01-05 21:34:03</td>\n",
       "      <td>2018</td>\n",
       "      <td>1</td>\n",
       "      <td>4</td>\n",
       "      <td>Devil Wears Prada, The (2006)</td>\n",
       "      <td>2006-06-30</td>\n",
       "      <td>David Frankel</td>\n",
       "      <td>Anne Hathaway, Meryl Streep, Adrian Grenier, S...</td>\n",
       "      <td>458352.0</td>\n",
       "      <td>350.0</td>\n",
       "      <td>[Comedy, Drama]</td>\n",
       "    </tr>\n",
       "    <tr>\n",
       "      <th>3</th>\n",
       "      <td>142882</td>\n",
       "      <td>4734</td>\n",
       "      <td>2.0</td>\n",
       "      <td>2018-01-05 21:34:01</td>\n",
       "      <td>2018</td>\n",
       "      <td>1</td>\n",
       "      <td>4</td>\n",
       "      <td>Jay and Silent Bob Strike Back (2001)</td>\n",
       "      <td>2001-08-24</td>\n",
       "      <td>Kevin Smith</td>\n",
       "      <td>Jason Mewes, Kevin Smith, Ben Affleck, Jeff An...</td>\n",
       "      <td>261392.0</td>\n",
       "      <td>2294.0</td>\n",
       "      <td>[Adventure, Comedy]</td>\n",
       "    </tr>\n",
       "    <tr>\n",
       "      <th>4</th>\n",
       "      <td>142882</td>\n",
       "      <td>91542</td>\n",
       "      <td>2.0</td>\n",
       "      <td>2018-01-05 21:33:57</td>\n",
       "      <td>2018</td>\n",
       "      <td>1</td>\n",
       "      <td>4</td>\n",
       "      <td>Sherlock Holmes: A Game of Shadows (2011)</td>\n",
       "      <td>2011-12-16</td>\n",
       "      <td>Guy Ritchie</td>\n",
       "      <td>Robert Downey Jr., Jude Law, Rachel McAdams, N...</td>\n",
       "      <td>1515091.0</td>\n",
       "      <td>58574.0</td>\n",
       "      <td>[Action, Adventure, Comedy, Crime, Mystery, Th...</td>\n",
       "    </tr>\n",
       "  </tbody>\n",
       "</table>\n",
       "</div>"
      ],
      "text/plain": [
       "   userId  movieId  rating           timestamp  year  month  weekday  \\\n",
       "0  142882    91658     2.5 2018-01-05 21:34:07  2018      1        4   \n",
       "1  142882     4344     1.0 2018-01-05 21:34:06  2018      1        4   \n",
       "2  142882    45720     2.0 2018-01-05 21:34:03  2018      1        4   \n",
       "3  142882     4734     2.0 2018-01-05 21:34:01  2018      1        4   \n",
       "4  142882    91542     2.0 2018-01-05 21:33:57  2018      1        4   \n",
       "\n",
       "                                       title releaseDate     directedBy  \\\n",
       "0    Girl with the Dragon Tattoo, The (2011)  2011-12-21  David Fincher   \n",
       "1                           Swordfish (2001)  2001-06-08   Dominic Sena   \n",
       "2              Devil Wears Prada, The (2006)  2006-06-30  David Frankel   \n",
       "3      Jay and Silent Bob Strike Back (2001)  2001-08-24    Kevin Smith   \n",
       "4  Sherlock Holmes: A Game of Shadows (2011)  2011-12-16    Guy Ritchie   \n",
       "\n",
       "                                            starring     imdbId   tmdbId  \\\n",
       "0  Daniel Craig, Rooney Mara, Christopher Plummer...  1568346.0  65754.0   \n",
       "1  Hugh Jackman, John Travolta, Halle Berry, Don ...   244244.0   9705.0   \n",
       "2  Anne Hathaway, Meryl Streep, Adrian Grenier, S...   458352.0    350.0   \n",
       "3  Jason Mewes, Kevin Smith, Ben Affleck, Jeff An...   261392.0   2294.0   \n",
       "4  Robert Downey Jr., Jude Law, Rachel McAdams, N...  1515091.0  58574.0   \n",
       "\n",
       "                                              genres  \n",
       "0                                  [Drama, Thriller]  \n",
       "1                             [Action, Crime, Drama]  \n",
       "2                                    [Comedy, Drama]  \n",
       "3                                [Adventure, Comedy]  \n",
       "4  [Action, Adventure, Comedy, Crime, Mystery, Th...  "
      ]
     },
     "execution_count": 28,
     "metadata": {},
     "output_type": "execute_result"
    }
   ],
   "source": [
    "train_filtered_movies.head()"
   ]
  },
  {
   "cell_type": "code",
   "execution_count": 27,
   "metadata": {},
   "outputs": [],
   "source": [
    "from sklearn.preprocessing import MultiLabelBinarizer\n",
    "mlb = MultiLabelBinarizer()\n",
    "X = mlb.fit_transform(train_filtered_movies['genres'])"
   ]
  },
  {
   "cell_type": "code",
   "execution_count": 29,
   "metadata": {},
   "outputs": [],
   "source": [
    "train_filtered_movies = train_filtered_movies.join(pd.DataFrame(X, columns=mlb.classes_))"
   ]
  },
  {
   "cell_type": "code",
   "execution_count": null,
   "metadata": {},
   "outputs": [],
   "source": [
    "train_filtered_movies.head()"
   ]
  },
  {
   "cell_type": "code",
   "execution_count": 30,
   "metadata": {},
   "outputs": [
    {
     "data": {
      "text/plain": [
       "Index(['userId', 'movieId', 'rating', 'timestamp', 'year', 'month', 'weekday',\n",
       "       'title', 'releaseDate', 'directedBy', 'starring', 'imdbId', 'tmdbId',\n",
       "       'genres', 'Action', 'Adventure', 'Animation', 'Children', 'Comedy',\n",
       "       'Crime', 'Documentary', 'Drama', 'Fantasy', 'Film-Noir', 'Horror',\n",
       "       'IMAX', 'Musical', 'Mystery', 'Romance', 'Sci-Fi', 'Thriller', 'War',\n",
       "       'Western', 'nan'],\n",
       "      dtype='object')"
      ]
     },
     "execution_count": 30,
     "metadata": {},
     "output_type": "execute_result"
    }
   ],
   "source": [
    "train_filtered_movies.columns"
   ]
  },
  {
   "cell_type": "code",
   "execution_count": 31,
   "metadata": {},
   "outputs": [
    {
     "data": {
      "text/plain": [
       "Action         34.452662\n",
       "Adventure      27.248353\n",
       "Animation       8.943093\n",
       "Children        8.932504\n",
       "Comedy         32.068169\n",
       "Crime          17.041310\n",
       "Documentary     1.393441\n",
       "Drama          42.376653\n",
       "Fantasy        13.559467\n",
       "Film-Noir       0.698093\n",
       "Horror          7.840594\n",
       "IMAX            8.890247\n",
       "Musical         2.775663\n",
       "Mystery         8.512313\n",
       "Romance        15.104160\n",
       "Sci-Fi         21.399867\n",
       "Thriller       27.886363\n",
       "War             4.756624\n",
       "Western         1.464307\n",
       "dtype: float64"
      ]
     },
     "execution_count": 31,
     "metadata": {},
     "output_type": "execute_result"
    }
   ],
   "source": [
    "train_filtered_movies[['Action', 'Adventure', 'Animation', 'Children', 'Comedy', 'Crime',\n",
    "       'Documentary', 'Drama', 'Fantasy', 'Film-Noir', 'Horror', 'IMAX',\n",
    "       'Musical', 'Mystery', 'Romance', 'Sci-Fi', 'Thriller', 'War', 'Western',]].sum()*100/len(train_filtered_movies)"
   ]
  },
  {
   "cell_type": "code",
   "execution_count": 32,
   "metadata": {},
   "outputs": [],
   "source": [
    "genres = ['Action', 'Adventure', 'Animation', 'Children', 'Comedy', 'Crime',\n",
    "       'Documentary', 'Drama', 'Fantasy', 'Film-Noir', 'Horror', 'IMAX',\n",
    "       'Musical', 'Mystery', 'Romance', 'Sci-Fi', 'Thriller', 'War', 'Western']"
   ]
  },
  {
   "cell_type": "code",
   "execution_count": 50,
   "metadata": {},
   "outputs": [
    {
     "data": {
      "image/png": "[encoded data removed]",
      "text/plain": [
       "<Figure size 1080x720 with 21 Axes>"
      ]
     },
     "metadata": {},
     "output_type": "display_data"
    }
   ],
   "source": [
    "sns.set(style=\"white\", palette=\"muted\", color_codes=True)\n",
    "f, axes = plt.subplots(7, 3, figsize=(15, 10))\n",
    "for i,genre in enumerate(genres):\n",
    "    # print(i//3,i%3)\n",
    "    # plt.subplot(4,5,i+1)\n",
    "    sns.countplot(train_filtered_movies[train_filtered_movies[genre] == 1]['rating'], \n",
    "                  color = 'lightseagreen',ax=axes[i//3,i%3]).set(\n",
    "        title = 'Frequency of rating for genre {}'.format(genre), xlabel = '', ylabel = '')\n",
    "    \n",
    "    # ax.set_ylabel('Frequency')\n",
    "    # plt.title('Frequency of rating for genre {}'.format(genre))\n",
    "    # plt.ylabel('Frequency')\n",
    "    # plt.xticks(labels = [0.5,1,1.5,2,2.5,3,3.5,4,4.5,5])\n",
    "    # plt.xticks( rotation = 45)\n",
    "    # plt.show()\n",
    "    \n",
    "    \n",
    "    plt.subplots_adjust(bottom = 0.1 , top = 2.2)\n",
    "    \n",
    "    # print(train_filtered_movies[train_filtered_movies[genre] == 1]['rating'].value_counts(sort = False ).sort_index(\n",
    "    # )*100/len(train_filtered_movies[train_filtered_movies[genre] == 1]['rating']))\n"
   ]
  },
  {
   "cell_type": "code",
   "execution_count": null,
   "metadata": {},
   "outputs": [],
   "source": [
    "train_filtered_movies.head()"
   ]
  },
  {
   "cell_type": "code",
   "execution_count": 51,
   "metadata": {},
   "outputs": [],
   "source": [
    "train_filtered_movies.to_csv('//Users//bagades//Desktop//RS//serendipity-sac2018//train_filtered_movies.csv')"
   ]
  },
  {
   "cell_type": "code",
   "execution_count": null,
   "metadata": {},
   "outputs": [],
   "source": [
    "UM_matrix = train_filtered_movies.pivot(index='userId', columns='movieId', values='rating')"
   ]
  },
  {
   "cell_type": "markdown",
   "metadata": {},
   "source": [
    "----"
   ]
  },
  {
   "cell_type": "code",
   "execution_count": 34,
   "metadata": {},
   "outputs": [],
   "source": [
    "movies['genres'] = movies['genres'].apply(lambda x: str(x).split(','))"
   ]
  },
  {
   "cell_type": "code",
   "execution_count": 35,
   "metadata": {},
   "outputs": [],
   "source": [
    "mlb = MultiLabelBinarizer()\n",
    "X = mlb.fit_transform(movies['genres'])\n",
    "movies = movies.join(pd.DataFrame(X, columns=mlb.classes_))"
   ]
  },
  {
   "cell_type": "code",
   "execution_count": 36,
   "metadata": {},
   "outputs": [
    {
     "data": {
      "text/plain": [
       "Index(['movieId', 'title', 'releaseDate', 'directedBy', 'starring', 'imdbId',\n",
       "       'tmdbId', 'genres', 'Action', 'Adventure', 'Animation', 'Children',\n",
       "       'Comedy', 'Crime', 'Documentary', 'Drama', 'Fantasy', 'Film-Noir',\n",
       "       'Horror', 'IMAX', 'Musical', 'Mystery', 'Romance', 'Sci-Fi', 'Thriller',\n",
       "       'War', 'Western', 'nan'],\n",
       "      dtype='object')"
      ]
     },
     "execution_count": 36,
     "metadata": {},
     "output_type": "execute_result"
    }
   ],
   "source": [
    "movies.columns"
   ]
  },
  {
   "cell_type": "code",
   "execution_count": 37,
   "metadata": {},
   "outputs": [],
   "source": [
    "movies_genre = movies[['movieId', 'title','Action', 'Adventure', 'Animation', 'Children',\n",
    "       'Comedy', 'Crime', 'Documentary', 'Drama', 'Fantasy', 'Film-Noir',\n",
    "       'Horror', 'IMAX', 'Musical', 'Mystery', 'Romance', 'Sci-Fi', 'Thriller',\n",
    "       'War', 'Western']]"
   ]
  },
  {
   "cell_type": "code",
   "execution_count": 38,
   "metadata": {},
   "outputs": [
    {
     "data": {
      "text/html": [
       "<div>\n",
       "<style scoped>\n",
       "    .dataframe tbody tr th:only-of-type {\n",
       "        vertical-align: middle;\n",
       "    }\n",
       "\n",
       "    .dataframe tbody tr th {\n",
       "        vertical-align: top;\n",
       "    }\n",
       "\n",
       "    .dataframe thead th {\n",
       "        text-align: right;\n",
       "    }\n",
       "</style>\n",
       "<table border=\"1\" class=\"dataframe\">\n",
       "  <thead>\n",
       "    <tr style=\"text-align: right;\">\n",
       "      <th></th>\n",
       "      <th>movieId</th>\n",
       "      <th>title</th>\n",
       "      <th>Action</th>\n",
       "      <th>Adventure</th>\n",
       "      <th>Animation</th>\n",
       "      <th>Children</th>\n",
       "      <th>Comedy</th>\n",
       "      <th>Crime</th>\n",
       "      <th>Documentary</th>\n",
       "      <th>Drama</th>\n",
       "      <th>...</th>\n",
       "      <th>Film-Noir</th>\n",
       "      <th>Horror</th>\n",
       "      <th>IMAX</th>\n",
       "      <th>Musical</th>\n",
       "      <th>Mystery</th>\n",
       "      <th>Romance</th>\n",
       "      <th>Sci-Fi</th>\n",
       "      <th>Thriller</th>\n",
       "      <th>War</th>\n",
       "      <th>Western</th>\n",
       "    </tr>\n",
       "  </thead>\n",
       "  <tbody>\n",
       "    <tr>\n",
       "      <th>0</th>\n",
       "      <td>1</td>\n",
       "      <td>Toy Story (1995)</td>\n",
       "      <td>0</td>\n",
       "      <td>1</td>\n",
       "      <td>1</td>\n",
       "      <td>1</td>\n",
       "      <td>1</td>\n",
       "      <td>0</td>\n",
       "      <td>0</td>\n",
       "      <td>0</td>\n",
       "      <td>...</td>\n",
       "      <td>0</td>\n",
       "      <td>0</td>\n",
       "      <td>0</td>\n",
       "      <td>0</td>\n",
       "      <td>0</td>\n",
       "      <td>0</td>\n",
       "      <td>0</td>\n",
       "      <td>0</td>\n",
       "      <td>0</td>\n",
       "      <td>0</td>\n",
       "    </tr>\n",
       "    <tr>\n",
       "      <th>1</th>\n",
       "      <td>2</td>\n",
       "      <td>Jumanji (1995)</td>\n",
       "      <td>0</td>\n",
       "      <td>1</td>\n",
       "      <td>0</td>\n",
       "      <td>1</td>\n",
       "      <td>0</td>\n",
       "      <td>0</td>\n",
       "      <td>0</td>\n",
       "      <td>0</td>\n",
       "      <td>...</td>\n",
       "      <td>0</td>\n",
       "      <td>0</td>\n",
       "      <td>0</td>\n",
       "      <td>0</td>\n",
       "      <td>0</td>\n",
       "      <td>0</td>\n",
       "      <td>0</td>\n",
       "      <td>0</td>\n",
       "      <td>0</td>\n",
       "      <td>0</td>\n",
       "    </tr>\n",
       "    <tr>\n",
       "      <th>2</th>\n",
       "      <td>3</td>\n",
       "      <td>Grumpier Old Men (1995)</td>\n",
       "      <td>0</td>\n",
       "      <td>0</td>\n",
       "      <td>0</td>\n",
       "      <td>0</td>\n",
       "      <td>1</td>\n",
       "      <td>0</td>\n",
       "      <td>0</td>\n",
       "      <td>0</td>\n",
       "      <td>...</td>\n",
       "      <td>0</td>\n",
       "      <td>0</td>\n",
       "      <td>0</td>\n",
       "      <td>0</td>\n",
       "      <td>0</td>\n",
       "      <td>1</td>\n",
       "      <td>0</td>\n",
       "      <td>0</td>\n",
       "      <td>0</td>\n",
       "      <td>0</td>\n",
       "    </tr>\n",
       "    <tr>\n",
       "      <th>3</th>\n",
       "      <td>4</td>\n",
       "      <td>Waiting to Exhale (1995)</td>\n",
       "      <td>0</td>\n",
       "      <td>0</td>\n",
       "      <td>0</td>\n",
       "      <td>0</td>\n",
       "      <td>1</td>\n",
       "      <td>0</td>\n",
       "      <td>0</td>\n",
       "      <td>1</td>\n",
       "      <td>...</td>\n",
       "      <td>0</td>\n",
       "      <td>0</td>\n",
       "      <td>0</td>\n",
       "      <td>0</td>\n",
       "      <td>0</td>\n",
       "      <td>1</td>\n",
       "      <td>0</td>\n",
       "      <td>0</td>\n",
       "      <td>0</td>\n",
       "      <td>0</td>\n",
       "    </tr>\n",
       "    <tr>\n",
       "      <th>4</th>\n",
       "      <td>5</td>\n",
       "      <td>Father of the Bride Part II (1995)</td>\n",
       "      <td>0</td>\n",
       "      <td>0</td>\n",
       "      <td>0</td>\n",
       "      <td>0</td>\n",
       "      <td>1</td>\n",
       "      <td>0</td>\n",
       "      <td>0</td>\n",
       "      <td>0</td>\n",
       "      <td>...</td>\n",
       "      <td>0</td>\n",
       "      <td>0</td>\n",
       "      <td>0</td>\n",
       "      <td>0</td>\n",
       "      <td>0</td>\n",
       "      <td>0</td>\n",
       "      <td>0</td>\n",
       "      <td>0</td>\n",
       "      <td>0</td>\n",
       "      <td>0</td>\n",
       "    </tr>\n",
       "  </tbody>\n",
       "</table>\n",
       "<p>5 rows × 21 columns</p>\n",
       "</div>"
      ],
      "text/plain": [
       "   movieId                               title  Action  Adventure  Animation  \\\n",
       "0        1                    Toy Story (1995)       0          1          1   \n",
       "1        2                      Jumanji (1995)       0          1          0   \n",
       "2        3             Grumpier Old Men (1995)       0          0          0   \n",
       "3        4            Waiting to Exhale (1995)       0          0          0   \n",
       "4        5  Father of the Bride Part II (1995)       0          0          0   \n",
       "\n",
       "   Children  Comedy  Crime  Documentary  Drama  ...  Film-Noir  Horror  IMAX  \\\n",
       "0         1       1      0            0      0  ...          0       0     0   \n",
       "1         1       0      0            0      0  ...          0       0     0   \n",
       "2         0       1      0            0      0  ...          0       0     0   \n",
       "3         0       1      0            0      1  ...          0       0     0   \n",
       "4         0       1      0            0      0  ...          0       0     0   \n",
       "\n",
       "   Musical  Mystery  Romance  Sci-Fi  Thriller  War  Western  \n",
       "0        0        0        0       0         0    0        0  \n",
       "1        0        0        0       0         0    0        0  \n",
       "2        0        0        1       0         0    0        0  \n",
       "3        0        0        1       0         0    0        0  \n",
       "4        0        0        0       0         0    0        0  \n",
       "\n",
       "[5 rows x 21 columns]"
      ]
     },
     "execution_count": 38,
     "metadata": {},
     "output_type": "execute_result"
    }
   ],
   "source": [
    "movies_genre.head()"
   ]
  }
 ],
 "metadata": {
  "kernelspec": {
   "display_name": "Python 3",
   "language": "python",
   "name": "python3"
  },
  "language_info": {
   "codemirror_mode": {
    "name": "ipython",
    "version": 3
   },
   "file_extension": ".py",
   "mimetype": "text/x-python",
   "name": "python",
   "nbconvert_exporter": "python",
   "pygments_lexer": "ipython3",
   "version": "3.7.4"
  }
 },
 "nbformat": 4,
 "nbformat_minor": 2
}
