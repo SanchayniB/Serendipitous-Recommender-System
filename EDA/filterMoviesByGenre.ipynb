{
 "cells": [
  {
   "cell_type": "code",
   "execution_count": 1,
   "metadata": {},
   "outputs": [],
   "source": [
    "import pandas as pd\n",
    "import numpy as np\n",
    "from sklearn.preprocessing import MultiLabelBinarizer"
   ]
  },
  {
   "cell_type": "code",
   "execution_count": 2,
   "metadata": {},
   "outputs": [
    {
     "name": "stderr",
     "output_type": "stream",
     "text": "b'Skipping line 19833: expected 8 fields, saw 10\\nSkipping line 34143: expected 8 fields, saw 9\\nSkipping line 36015: expected 8 fields, saw 10\\nSkipping line 37260: expected 8 fields, saw 12\\nSkipping line 44379: expected 8 fields, saw 10\\nSkipping line 47551: expected 8 fields, saw 10\\n'\n"
    }
   ],
   "source": [
    "movies = pd.read_csv('../../data/serendipity-sac2018/movies.csv', error_bad_lines=False)"
   ]
  },
  {
   "cell_type": "code",
   "execution_count": 3,
   "metadata": {},
   "outputs": [
    {
     "data": {
      "text/html": "<div>\n<style scoped>\n    .dataframe tbody tr th:only-of-type {\n        vertical-align: middle;\n    }\n\n    .dataframe tbody tr th {\n        vertical-align: top;\n    }\n\n    .dataframe thead th {\n        text-align: right;\n    }\n</style>\n<table border=\"1\" class=\"dataframe\">\n  <thead>\n    <tr style=\"text-align: right;\">\n      <th></th>\n      <th>movieId</th>\n      <th>title</th>\n      <th>releaseDate</th>\n      <th>directedBy</th>\n      <th>starring</th>\n      <th>imdbId</th>\n      <th>tmdbId</th>\n      <th>genres</th>\n    </tr>\n  </thead>\n  <tbody>\n    <tr>\n      <td>0</td>\n      <td>1</td>\n      <td>Toy Story (1995)</td>\n      <td>1995-11-19</td>\n      <td>John Lasseter</td>\n      <td>Tim Allen, Tom Hanks, Don Rickles, Jim Varney,...</td>\n      <td>114709</td>\n      <td>862.0</td>\n      <td>Adventure,Animation,Children,Comedy,Fantasy</td>\n    </tr>\n    <tr>\n      <td>1</td>\n      <td>2</td>\n      <td>Jumanji (1995)</td>\n      <td>1995-12-15</td>\n      <td>Joe Johnston</td>\n      <td>Jonathan Hyde, Bradley Pierce, Robin Williams,...</td>\n      <td>113497</td>\n      <td>8844.0</td>\n      <td>Adventure,Children,Fantasy</td>\n    </tr>\n    <tr>\n      <td>2</td>\n      <td>3</td>\n      <td>Grumpier Old Men (1995)</td>\n      <td>1995-01-01</td>\n      <td>Howard Deutch</td>\n      <td>Jack Lemmon, Walter Matthau, Ann-Margret , Sop...</td>\n      <td>113228</td>\n      <td>15602.0</td>\n      <td>Comedy,Romance</td>\n    </tr>\n    <tr>\n      <td>3</td>\n      <td>4</td>\n      <td>Waiting to Exhale (1995)</td>\n      <td>1996-01-15</td>\n      <td>Forest Whitaker</td>\n      <td>Angela Bassett, Loretta Devine, Whitney Housto...</td>\n      <td>114885</td>\n      <td>31357.0</td>\n      <td>Comedy,Drama,Romance</td>\n    </tr>\n    <tr>\n      <td>4</td>\n      <td>5</td>\n      <td>Father of the Bride Part II (1995)</td>\n      <td>1995-12-08</td>\n      <td>Charles Shyer</td>\n      <td>Steve Martin, Martin Short, Diane Keaton, Kimb...</td>\n      <td>113041</td>\n      <td>11862.0</td>\n      <td>Comedy</td>\n    </tr>\n  </tbody>\n</table>\n</div>",
      "text/plain": "   movieId                               title releaseDate       directedBy  \\\n0        1                    Toy Story (1995)  1995-11-19    John Lasseter   \n1        2                      Jumanji (1995)  1995-12-15     Joe Johnston   \n2        3             Grumpier Old Men (1995)  1995-01-01    Howard Deutch   \n3        4            Waiting to Exhale (1995)  1996-01-15  Forest Whitaker   \n4        5  Father of the Bride Part II (1995)  1995-12-08    Charles Shyer   \n\n                                            starring  imdbId   tmdbId  \\\n0  Tim Allen, Tom Hanks, Don Rickles, Jim Varney,...  114709    862.0   \n1  Jonathan Hyde, Bradley Pierce, Robin Williams,...  113497   8844.0   \n2  Jack Lemmon, Walter Matthau, Ann-Margret , Sop...  113228  15602.0   \n3  Angela Bassett, Loretta Devine, Whitney Housto...  114885  31357.0   \n4  Steve Martin, Martin Short, Diane Keaton, Kimb...  113041  11862.0   \n\n                                        genres  \n0  Adventure,Animation,Children,Comedy,Fantasy  \n1                   Adventure,Children,Fantasy  \n2                               Comedy,Romance  \n3                         Comedy,Drama,Romance  \n4                                       Comedy  "
     },
     "execution_count": 3,
     "metadata": {},
     "output_type": "execute_result"
    }
   ],
   "source": [
    "movies.head()"
   ]
  },
  {
   "cell_type": "code",
   "execution_count": 4,
   "metadata": {},
   "outputs": [
    {
     "data": {
      "text/plain": "(49168, 2506)"
     },
     "execution_count": 4,
     "metadata": {},
     "output_type": "execute_result"
    }
   ],
   "source": [
    "len(movies[\"movieId\"].unique()), len(movies[\"genres\"].unique())"
   ]
  },
  {
   "cell_type": "code",
   "execution_count": 5,
   "metadata": {},
   "outputs": [],
   "source": [
    "movies['genres'] = movies['genres'].apply(lambda x: str(x).split(','))\n",
    "mlb = MultiLabelBinarizer()\n",
    "X = mlb.fit_transform(movies['genres'])\n",
    "movies = movies.join(pd.DataFrame(X, columns=mlb.classes_))"
   ]
  },
  {
   "cell_type": "code",
   "execution_count": 6,
   "metadata": {},
   "outputs": [
    {
     "data": {
      "text/html": "<div>\n<style scoped>\n    .dataframe tbody tr th:only-of-type {\n        vertical-align: middle;\n    }\n\n    .dataframe tbody tr th {\n        vertical-align: top;\n    }\n\n    .dataframe thead th {\n        text-align: right;\n    }\n</style>\n<table border=\"1\" class=\"dataframe\">\n  <thead>\n    <tr style=\"text-align: right;\">\n      <th></th>\n      <th>movieId</th>\n      <th>title</th>\n      <th>releaseDate</th>\n      <th>directedBy</th>\n      <th>starring</th>\n      <th>imdbId</th>\n      <th>tmdbId</th>\n      <th>genres</th>\n      <th>Action</th>\n      <th>Adventure</th>\n      <th>...</th>\n      <th>Horror</th>\n      <th>IMAX</th>\n      <th>Musical</th>\n      <th>Mystery</th>\n      <th>Romance</th>\n      <th>Sci-Fi</th>\n      <th>Thriller</th>\n      <th>War</th>\n      <th>Western</th>\n      <th>nan</th>\n    </tr>\n  </thead>\n  <tbody>\n    <tr>\n      <td>0</td>\n      <td>1</td>\n      <td>Toy Story (1995)</td>\n      <td>1995-11-19</td>\n      <td>John Lasseter</td>\n      <td>Tim Allen, Tom Hanks, Don Rickles, Jim Varney,...</td>\n      <td>114709</td>\n      <td>862.0</td>\n      <td>[Adventure, Animation, Children, Comedy, Fantasy]</td>\n      <td>0</td>\n      <td>1</td>\n      <td>...</td>\n      <td>0</td>\n      <td>0</td>\n      <td>0</td>\n      <td>0</td>\n      <td>0</td>\n      <td>0</td>\n      <td>0</td>\n      <td>0</td>\n      <td>0</td>\n      <td>0</td>\n    </tr>\n    <tr>\n      <td>1</td>\n      <td>2</td>\n      <td>Jumanji (1995)</td>\n      <td>1995-12-15</td>\n      <td>Joe Johnston</td>\n      <td>Jonathan Hyde, Bradley Pierce, Robin Williams,...</td>\n      <td>113497</td>\n      <td>8844.0</td>\n      <td>[Adventure, Children, Fantasy]</td>\n      <td>0</td>\n      <td>1</td>\n      <td>...</td>\n      <td>0</td>\n      <td>0</td>\n      <td>0</td>\n      <td>0</td>\n      <td>0</td>\n      <td>0</td>\n      <td>0</td>\n      <td>0</td>\n      <td>0</td>\n      <td>0</td>\n    </tr>\n    <tr>\n      <td>2</td>\n      <td>3</td>\n      <td>Grumpier Old Men (1995)</td>\n      <td>1995-01-01</td>\n      <td>Howard Deutch</td>\n      <td>Jack Lemmon, Walter Matthau, Ann-Margret , Sop...</td>\n      <td>113228</td>\n      <td>15602.0</td>\n      <td>[Comedy, Romance]</td>\n      <td>0</td>\n      <td>0</td>\n      <td>...</td>\n      <td>0</td>\n      <td>0</td>\n      <td>0</td>\n      <td>0</td>\n      <td>1</td>\n      <td>0</td>\n      <td>0</td>\n      <td>0</td>\n      <td>0</td>\n      <td>0</td>\n    </tr>\n    <tr>\n      <td>3</td>\n      <td>4</td>\n      <td>Waiting to Exhale (1995)</td>\n      <td>1996-01-15</td>\n      <td>Forest Whitaker</td>\n      <td>Angela Bassett, Loretta Devine, Whitney Housto...</td>\n      <td>114885</td>\n      <td>31357.0</td>\n      <td>[Comedy, Drama, Romance]</td>\n      <td>0</td>\n      <td>0</td>\n      <td>...</td>\n      <td>0</td>\n      <td>0</td>\n      <td>0</td>\n      <td>0</td>\n      <td>1</td>\n      <td>0</td>\n      <td>0</td>\n      <td>0</td>\n      <td>0</td>\n      <td>0</td>\n    </tr>\n    <tr>\n      <td>4</td>\n      <td>5</td>\n      <td>Father of the Bride Part II (1995)</td>\n      <td>1995-12-08</td>\n      <td>Charles Shyer</td>\n      <td>Steve Martin, Martin Short, Diane Keaton, Kimb...</td>\n      <td>113041</td>\n      <td>11862.0</td>\n      <td>[Comedy]</td>\n      <td>0</td>\n      <td>0</td>\n      <td>...</td>\n      <td>0</td>\n      <td>0</td>\n      <td>0</td>\n      <td>0</td>\n      <td>0</td>\n      <td>0</td>\n      <td>0</td>\n      <td>0</td>\n      <td>0</td>\n      <td>0</td>\n    </tr>\n  </tbody>\n</table>\n<p>5 rows × 28 columns</p>\n</div>",
      "text/plain": "   movieId                               title releaseDate       directedBy  \\\n0        1                    Toy Story (1995)  1995-11-19    John Lasseter   \n1        2                      Jumanji (1995)  1995-12-15     Joe Johnston   \n2        3             Grumpier Old Men (1995)  1995-01-01    Howard Deutch   \n3        4            Waiting to Exhale (1995)  1996-01-15  Forest Whitaker   \n4        5  Father of the Bride Part II (1995)  1995-12-08    Charles Shyer   \n\n                                            starring  imdbId   tmdbId  \\\n0  Tim Allen, Tom Hanks, Don Rickles, Jim Varney,...  114709    862.0   \n1  Jonathan Hyde, Bradley Pierce, Robin Williams,...  113497   8844.0   \n2  Jack Lemmon, Walter Matthau, Ann-Margret , Sop...  113228  15602.0   \n3  Angela Bassett, Loretta Devine, Whitney Housto...  114885  31357.0   \n4  Steve Martin, Martin Short, Diane Keaton, Kimb...  113041  11862.0   \n\n                                              genres  Action  Adventure  ...  \\\n0  [Adventure, Animation, Children, Comedy, Fantasy]       0          1  ...   \n1                     [Adventure, Children, Fantasy]       0          1  ...   \n2                                  [Comedy, Romance]       0          0  ...   \n3                           [Comedy, Drama, Romance]       0          0  ...   \n4                                           [Comedy]       0          0  ...   \n\n   Horror  IMAX  Musical  Mystery  Romance  Sci-Fi  Thriller  War  Western  \\\n0       0     0        0        0        0       0         0    0        0   \n1       0     0        0        0        0       0         0    0        0   \n2       0     0        0        0        1       0         0    0        0   \n3       0     0        0        0        1       0         0    0        0   \n4       0     0        0        0        0       0         0    0        0   \n\n   nan  \n0    0  \n1    0  \n2    0  \n3    0  \n4    0  \n\n[5 rows x 28 columns]"
     },
     "execution_count": 6,
     "metadata": {},
     "output_type": "execute_result"
    }
   ],
   "source": [
    "movies.head()"
   ]
  },
  {
   "cell_type": "code",
   "execution_count": 41,
   "metadata": {},
   "outputs": [],
   "source": [
    "filteredMovies = pd.DataFrame()\n",
    "filterRatio = 0.30 ## Ratio of movies to retain\n",
    "for genre in mlb.classes_:\n",
    "    df = movies[movies[genre] == 1]\n",
    "    df.reset_index(drop=True, inplace=True)\n",
    "    indices = np.random.choice( df.index, size= int(filterRatio*len(df)), replace = False)\n",
    "    filteredMovies = filteredMovies.append(df.iloc[indices])\n",
    "filteredMovies.reset_index(inplace=True, drop=True)\n",
    "\n",
    "#Drop duplicate movies\n",
    "filteredMovies = filteredMovies.drop_duplicates('movieId') "
   ]
  },
  {
   "cell_type": "code",
   "execution_count": 42,
   "metadata": {},
   "outputs": [
    {
     "data": {
      "text/plain": "0.45458428246013666"
     },
     "execution_count": 42,
     "metadata": {},
     "output_type": "execute_result"
    }
   ],
   "source": [
    "filteredMovies.shape[0]/ movies.shape[0]"
   ]
  },
  {
   "cell_type": "code",
   "execution_count": 43,
   "metadata": {},
   "outputs": [
    {
     "data": {
      "text/plain": "[Drama]                                                 2125\n[Comedy]                                                1346\n[Documentary]                                           1073\n[nan]                                                    993\n[Comedy, Drama]                                          826\n                                                        ... \n[Comedy, Animation, Action, Adventure, Children]           1\n[Action, Animation, Mystery, Sci-Fi]                       1\n[Action, Adventure, Comedy, Drama, Romance, Western]       1\n[Drama, Sci-Fi, Adventure, Romance]                        1\n[Romance, Fantasy, Thriller]                               1\nName: genres, Length: 2141, dtype: int64"
     },
     "execution_count": 43,
     "metadata": {},
     "output_type": "execute_result"
    }
   ],
   "source": [
    "filteredMovies[\"genres\"].value_counts()"
   ]
  },
  {
   "cell_type": "code",
   "execution_count": 33,
   "metadata": {},
   "outputs": [
    {
     "data": {
      "text/plain": "Index(['movieId', 'title', 'releaseDate', 'directedBy', 'starring', 'imdbId',\n       'tmdbId', 'genres', 'Action', 'Adventure', 'Animation', 'Children',\n       'Comedy', 'Crime', 'Documentary', 'Drama', 'Fantasy', 'Film-Noir',\n       'Horror', 'IMAX', 'Musical', 'Mystery', 'Romance', 'Sci-Fi', 'Thriller',\n       'War', 'Western', 'nan'],\n      dtype='object')"
     },
     "execution_count": 33,
     "metadata": {},
     "output_type": "execute_result"
    }
   ],
   "source": [
    "filteredMovies.columns"
   ]
  },
  {
   "cell_type": "code",
   "execution_count": 34,
   "metadata": {},
   "outputs": [],
   "source": [
    "genres_lst = ['Action', 'Adventure', 'Animation', 'Children',\n",
    "       'Comedy', 'Crime', 'Documentary', 'Drama', 'Fantasy', 'Film-Noir',\n",
    "       'Horror', 'IMAX', 'Musical', 'Mystery', 'Romance', 'Sci-Fi', 'Thriller',\n",
    "       'War', 'Western']"
   ]
  },
  {
   "cell_type": "code",
   "execution_count": 35,
   "metadata": {},
   "outputs": [
    {
     "data": {
      "text/plain": "Action          5054\nAdventure       2999\nAnimation       1855\nChildren        1972\nComedy          9851\nCrime           3732\nDocumentary     2421\nDrama          14811\nFantasy         2033\nFilm-Noir        320\nHorror          3621\nIMAX             177\nMusical          886\nMystery         2058\nRomance         5109\nSci-Fi          2473\nThriller        5803\nWar             1291\nWestern          714\ndtype: int64"
     },
     "execution_count": 35,
     "metadata": {},
     "output_type": "execute_result"
    }
   ],
   "source": [
    "filteredMovies[genres_lst].sum()"
   ]
  },
  {
   "cell_type": "code",
   "execution_count": 36,
   "metadata": {},
   "outputs": [
    {
     "data": {
      "text/plain": "Action         82.893226\nAdventure      85.029770\nAnimation      78.969774\nChildren       82.822344\nComedy         71.596773\nCrime          83.827493\nDocumentary    54.985237\nDrama          71.117833\nFantasy        85.456074\nFilm-Noir      87.912088\nHorror         74.922408\nIMAX           89.393939\nMusical        82.037037\nMystery        85.678601\nRomance        80.723653\nSci-Fi         81.617162\nThriller       81.514258\nWar            79.938080\nWestern        70.137525\ndtype: float64"
     },
     "execution_count": 36,
     "metadata": {},
     "output_type": "execute_result"
    }
   ],
   "source": [
    "filteredMovies[genres_lst].sum()*100/movies[genres_lst].sum()"
   ]
  },
  {
   "cell_type": "code",
   "execution_count": 26,
   "metadata": {},
   "outputs": [
    {
     "data": {
      "text/plain": "Int64Index([    0,     1,     2,     3,     4,     5,     6,     7,     8,\n                9,\n            ...\n            45715, 45717, 45721, 45722, 45725, 45726, 45727, 45728, 45729,\n            45730],\n           dtype='int64', length=27716)"
     },
     "execution_count": 26,
     "metadata": {},
     "output_type": "execute_result"
    }
   ],
   "source": [
    "filteredMovies.index"
   ]
  },
  {
   "cell_type": "code",
   "execution_count": null,
   "metadata": {},
   "outputs": [],
   "source": [
    "filteredMovies.to_csv('filtered_movies')"
   ]
  }
 ],
 "metadata": {
  "kernelspec": {
   "display_name": "Python 3",
   "language": "python",
   "name": "python3"
  },
  "language_info": {
   "codemirror_mode": {
    "name": "ipython",
    "version": 2
   },
   "file_extension": ".py",
   "mimetype": "text/x-python",
   "name": "python",
   "nbconvert_exporter": "python",
   "pygments_lexer": "ipython2",
   "version": "3.8.1-final"
  }
 },
 "nbformat": 4,
 "nbformat_minor": 2
}