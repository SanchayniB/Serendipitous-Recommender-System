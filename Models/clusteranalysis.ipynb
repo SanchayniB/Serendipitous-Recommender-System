{
 "nbformat": 4,
 "nbformat_minor": 2,
 "metadata": {
  "language_info": {
   "name": "python",
   "codemirror_mode": {
    "name": "ipython",
    "version": 3
   },
   "version": "3.7.4-final"
  },
  "orig_nbformat": 2,
  "file_extension": ".py",
  "mimetype": "text/x-python",
  "name": "python",
  "npconvert_exporter": "python",
  "pygments_lexer": "ipython3",
  "version": 3,
  "kernelspec": {
   "name": "python3",
   "display_name": "Python 3"
  }
 },
 "cells": [
  {
   "cell_type": "code",
   "execution_count": 88,
   "metadata": {},
   "outputs": [],
   "source": [
    "import pandas as pd\n",
    "import numpy as np  \n",
    "pd.set_option('display.max_rows', None)"
   ]
  },
  {
   "cell_type": "code",
   "execution_count": 89,
   "metadata": {},
   "outputs": [],
   "source": [
    "IMDb_cldata = pd.read_csv('../Intermediate_data/IMDb_cldata.csv', index_col= 0)"
   ]
  },
  {
   "cell_type": "code",
   "execution_count": 90,
   "metadata": {},
   "outputs": [],
   "source": [
    "user_clusters = pd.read_csv('../Intermediate_data/user_clusters.csv', index_col = 0)"
   ]
  },
  {
   "cell_type": "code",
   "execution_count": 91,
   "metadata": {},
   "outputs": [],
   "source": [
    "train_subset  = pd.read_csv('../Intermediate_data/train_subset.csv', index_col= 0)"
   ]
  },
  {
   "cell_type": "code",
   "execution_count": 92,
   "metadata": {},
   "outputs": [],
   "source": [
    "movies_filtered = pd.read_csv('../Intermediate_data/filtered_movies_genre.csv',index_col= 0)"
   ]
  },
  {
   "cell_type": "code",
   "execution_count": 93,
   "metadata": {},
   "outputs": [
    {
     "data": {
      "text/html": "<div>\n<style scoped>\n    .dataframe tbody tr th:only-of-type {\n        vertical-align: middle;\n    }\n\n    .dataframe tbody tr th {\n        vertical-align: top;\n    }\n\n    .dataframe thead th {\n        text-align: right;\n    }\n</style>\n<table border=\"1\" class=\"dataframe\">\n  <thead>\n    <tr style=\"text-align: right;\">\n      <th></th>\n      <th>cluster</th>\n      <th>userId</th>\n    </tr>\n  </thead>\n  <tbody>\n    <tr>\n      <td>0</td>\n      <td>3</td>\n      <td>100032</td>\n    </tr>\n    <tr>\n      <td>1</td>\n      <td>3</td>\n      <td>100036</td>\n    </tr>\n    <tr>\n      <td>2</td>\n      <td>3</td>\n      <td>100053</td>\n    </tr>\n    <tr>\n      <td>3</td>\n      <td>3</td>\n      <td>100057</td>\n    </tr>\n    <tr>\n      <td>4</td>\n      <td>3</td>\n      <td>100058</td>\n    </tr>\n  </tbody>\n</table>\n</div>",
      "text/plain": "   cluster  userId\n0        3  100032\n1        3  100036\n2        3  100053\n3        3  100057\n4        3  100058"
     },
     "execution_count": 93,
     "metadata": {},
     "output_type": "execute_result"
    }
   ],
   "source": [
    "user_clusters.head()"
   ]
  },
  {
   "cell_type": "code",
   "execution_count": 94,
   "metadata": {},
   "outputs": [
    {
     "data": {
      "text/plain": "(19203, 2)"
     },
     "execution_count": 94,
     "metadata": {},
     "output_type": "execute_result"
    }
   ],
   "source": [
    "user_clusters.shape"
   ]
  },
  {
   "cell_type": "code",
   "execution_count": 95,
   "metadata": {},
   "outputs": [
    {
     "data": {
      "text/html": "<div>\n<style scoped>\n    .dataframe tbody tr th:only-of-type {\n        vertical-align: middle;\n    }\n\n    .dataframe tbody tr th {\n        vertical-align: top;\n    }\n\n    .dataframe thead th {\n        text-align: right;\n    }\n</style>\n<table border=\"1\" class=\"dataframe\">\n  <thead>\n    <tr style=\"text-align: right;\">\n      <th></th>\n      <th>plot</th>\n      <th>rating</th>\n      <th>runtimes</th>\n      <th>votes</th>\n      <th>year</th>\n      <th>imdbId</th>\n      <th>country codes_us</th>\n      <th>country codes_gb</th>\n      <th>country codes_fr</th>\n      <th>country codes_it</th>\n      <th>...</th>\n      <th>language codes_ru</th>\n      <th>language codes_cmn</th>\n      <th>language codes_hi</th>\n      <th>language codes_sv</th>\n      <th>certificates_G</th>\n      <th>certificates_NR</th>\n      <th>certificates_PG</th>\n      <th>certificates_R</th>\n      <th>kind_movie</th>\n      <th>kind_series</th>\n    </tr>\n  </thead>\n  <tbody>\n    <tr>\n      <td>0</td>\n      <td>[u\"A cowboy doll is profoundly threatened and ...</td>\n      <td>8.3</td>\n      <td>81</td>\n      <td>837115.0</td>\n      <td>1995.0</td>\n      <td>114709</td>\n      <td>1.0</td>\n      <td>0.0</td>\n      <td>0.0</td>\n      <td>0.0</td>\n      <td>...</td>\n      <td>0.0</td>\n      <td>0.0</td>\n      <td>0.0</td>\n      <td>0.0</td>\n      <td>0.0</td>\n      <td>1.0</td>\n      <td>0.0</td>\n      <td>0.0</td>\n      <td>1.0</td>\n      <td>0.0</td>\n    </tr>\n    <tr>\n      <td>1</td>\n      <td>[u'When two kids find and play a magical board...</td>\n      <td>7.0</td>\n      <td>104</td>\n      <td>287007.0</td>\n      <td>1995.0</td>\n      <td>113497</td>\n      <td>1.0</td>\n      <td>0.0</td>\n      <td>0.0</td>\n      <td>0.0</td>\n      <td>...</td>\n      <td>0.0</td>\n      <td>0.0</td>\n      <td>0.0</td>\n      <td>0.0</td>\n      <td>0.0</td>\n      <td>1.0</td>\n      <td>0.0</td>\n      <td>0.0</td>\n      <td>1.0</td>\n      <td>0.0</td>\n    </tr>\n    <tr>\n      <td>2</td>\n      <td>[u\"John and Max resolve to save their beloved ...</td>\n      <td>6.7</td>\n      <td>101</td>\n      <td>23107.0</td>\n      <td>1995.0</td>\n      <td>113228</td>\n      <td>1.0</td>\n      <td>0.0</td>\n      <td>0.0</td>\n      <td>0.0</td>\n      <td>...</td>\n      <td>0.0</td>\n      <td>0.0</td>\n      <td>0.0</td>\n      <td>0.0</td>\n      <td>0.0</td>\n      <td>1.0</td>\n      <td>0.0</td>\n      <td>0.0</td>\n      <td>1.0</td>\n      <td>0.0</td>\n    </tr>\n    <tr>\n      <td>3</td>\n      <td>[u\"Based on Terry McMillan's novel, this film ...</td>\n      <td>5.9</td>\n      <td>124</td>\n      <td>9034.0</td>\n      <td>1995.0</td>\n      <td>114885</td>\n      <td>1.0</td>\n      <td>0.0</td>\n      <td>0.0</td>\n      <td>0.0</td>\n      <td>...</td>\n      <td>0.0</td>\n      <td>0.0</td>\n      <td>0.0</td>\n      <td>0.0</td>\n      <td>0.0</td>\n      <td>1.0</td>\n      <td>0.0</td>\n      <td>0.0</td>\n      <td>1.0</td>\n      <td>0.0</td>\n    </tr>\n    <tr>\n      <td>4</td>\n      <td>[u'George Banks must deal not only with the pr...</td>\n      <td>6.0</td>\n      <td>106</td>\n      <td>32568.0</td>\n      <td>1995.0</td>\n      <td>113041</td>\n      <td>1.0</td>\n      <td>0.0</td>\n      <td>0.0</td>\n      <td>0.0</td>\n      <td>...</td>\n      <td>0.0</td>\n      <td>0.0</td>\n      <td>0.0</td>\n      <td>0.0</td>\n      <td>0.0</td>\n      <td>1.0</td>\n      <td>0.0</td>\n      <td>0.0</td>\n      <td>1.0</td>\n      <td>0.0</td>\n    </tr>\n  </tbody>\n</table>\n<p>5 rows × 42 columns</p>\n</div>",
      "text/plain": "                                                plot  rating  runtimes  \\\n0  [u\"A cowboy doll is profoundly threatened and ...     8.3        81   \n1  [u'When two kids find and play a magical board...     7.0       104   \n2  [u\"John and Max resolve to save their beloved ...     6.7       101   \n3  [u\"Based on Terry McMillan's novel, this film ...     5.9       124   \n4  [u'George Banks must deal not only with the pr...     6.0       106   \n\n      votes    year  imdbId  country codes_us  country codes_gb  \\\n0  837115.0  1995.0  114709               1.0               0.0   \n1  287007.0  1995.0  113497               1.0               0.0   \n2   23107.0  1995.0  113228               1.0               0.0   \n3    9034.0  1995.0  114885               1.0               0.0   \n4   32568.0  1995.0  113041               1.0               0.0   \n\n   country codes_fr  country codes_it  ...  language codes_ru  \\\n0               0.0               0.0  ...                0.0   \n1               0.0               0.0  ...                0.0   \n2               0.0               0.0  ...                0.0   \n3               0.0               0.0  ...                0.0   \n4               0.0               0.0  ...                0.0   \n\n   language codes_cmn  language codes_hi  language codes_sv  certificates_G  \\\n0                 0.0                0.0                0.0             0.0   \n1                 0.0                0.0                0.0             0.0   \n2                 0.0                0.0                0.0             0.0   \n3                 0.0                0.0                0.0             0.0   \n4                 0.0                0.0                0.0             0.0   \n\n   certificates_NR  certificates_PG  certificates_R  kind_movie  kind_series  \n0              1.0              0.0             0.0         1.0          0.0  \n1              1.0              0.0             0.0         1.0          0.0  \n2              1.0              0.0             0.0         1.0          0.0  \n3              1.0              0.0             0.0         1.0          0.0  \n4              1.0              0.0             0.0         1.0          0.0  \n\n[5 rows x 42 columns]"
     },
     "execution_count": 95,
     "metadata": {},
     "output_type": "execute_result"
    }
   ],
   "source": [
    "IMDb_cldata.head()"
   ]
  },
  {
   "cell_type": "code",
   "execution_count": 96,
   "metadata": {},
   "outputs": [
    {
     "data": {
      "text/plain": "Index(['plot', 'rating', 'runtimes', 'votes', 'year', 'imdbId',\n       'country codes_us', 'country codes_gb', 'country codes_fr',\n       'country codes_it', 'country codes_ca', 'country codes_de',\n       'country codes_jp', 'country codes_es', 'country codes_in',\n       'country codes_hk', 'genres_Drama', 'genres_Comedy', 'genres_Thriller',\n       'genres_Romance', 'genres_Action', 'genres_Crime', 'genres_Horror',\n       'genres_Adventure', 'genres_Documentary', 'genres_Mystery',\n       'language codes_en', 'language codes_fr', 'language codes_es',\n       'language codes_it', 'language codes_de', 'language codes_ja',\n       'language codes_ru', 'language codes_cmn', 'language codes_hi',\n       'language codes_sv', 'certificates_G', 'certificates_NR',\n       'certificates_PG', 'certificates_R', 'kind_movie', 'kind_series'],\n      dtype='object')"
     },
     "execution_count": 96,
     "metadata": {},
     "output_type": "execute_result"
    }
   ],
   "source": [
    "IMDb_cldata.columns"
   ]
  },
  {
   "cell_type": "code",
   "execution_count": 97,
   "metadata": {},
   "outputs": [
    {
     "data": {
      "text/html": "<div>\n<style scoped>\n    .dataframe tbody tr th:only-of-type {\n        vertical-align: middle;\n    }\n\n    .dataframe tbody tr th {\n        vertical-align: top;\n    }\n\n    .dataframe thead th {\n        text-align: right;\n    }\n</style>\n<table border=\"1\" class=\"dataframe\">\n  <thead>\n    <tr style=\"text-align: right;\">\n      <th></th>\n      <th>userId</th>\n      <th>movieId</th>\n      <th>rating</th>\n      <th>timestamp</th>\n      <th>year</th>\n    </tr>\n  </thead>\n  <tbody>\n    <tr>\n      <td>25352</td>\n      <td>127137</td>\n      <td>115824</td>\n      <td>4.5</td>\n      <td>2017-12-31 23:59:50</td>\n      <td>2017</td>\n    </tr>\n    <tr>\n      <td>25353</td>\n      <td>142748</td>\n      <td>2762</td>\n      <td>5.0</td>\n      <td>2017-12-31 23:59:41</td>\n      <td>2017</td>\n    </tr>\n    <tr>\n      <td>25354</td>\n      <td>196198</td>\n      <td>1198</td>\n      <td>3.5</td>\n      <td>2017-12-31 23:59:17</td>\n      <td>2017</td>\n    </tr>\n    <tr>\n      <td>25355</td>\n      <td>142748</td>\n      <td>71057</td>\n      <td>4.5</td>\n      <td>2017-12-31 23:58:09</td>\n      <td>2017</td>\n    </tr>\n    <tr>\n      <td>25356</td>\n      <td>142748</td>\n      <td>152077</td>\n      <td>5.0</td>\n      <td>2017-12-31 23:57:32</td>\n      <td>2017</td>\n    </tr>\n  </tbody>\n</table>\n</div>",
      "text/plain": "       userId  movieId  rating            timestamp  year\n25352  127137   115824     4.5  2017-12-31 23:59:50  2017\n25353  142748     2762     5.0  2017-12-31 23:59:41  2017\n25354  196198     1198     3.5  2017-12-31 23:59:17  2017\n25355  142748    71057     4.5  2017-12-31 23:58:09  2017\n25356  142748   152077     5.0  2017-12-31 23:57:32  2017"
     },
     "execution_count": 97,
     "metadata": {},
     "output_type": "execute_result"
    }
   ],
   "source": [
    "train_subset.head()"
   ]
  },
  {
   "cell_type": "code",
   "execution_count": 98,
   "metadata": {},
   "outputs": [],
   "source": [
    "train_subset_tagged = train_subset.merge(user_clusters, how = 'inner', on = 'userId')"
   ]
  },
  {
   "cell_type": "code",
   "execution_count": 99,
   "metadata": {},
   "outputs": [
    {
     "data": {
      "text/html": "<div>\n<style scoped>\n    .dataframe tbody tr th:only-of-type {\n        vertical-align: middle;\n    }\n\n    .dataframe tbody tr th {\n        vertical-align: top;\n    }\n\n    .dataframe thead th {\n        text-align: right;\n    }\n</style>\n<table border=\"1\" class=\"dataframe\">\n  <thead>\n    <tr style=\"text-align: right;\">\n      <th></th>\n      <th>userId</th>\n      <th>movieId</th>\n      <th>rating</th>\n      <th>timestamp</th>\n      <th>year</th>\n      <th>cluster</th>\n    </tr>\n  </thead>\n  <tbody>\n    <tr>\n      <td>0</td>\n      <td>127137</td>\n      <td>115824</td>\n      <td>4.5</td>\n      <td>2017-12-31 23:59:50</td>\n      <td>2017</td>\n      <td>0</td>\n    </tr>\n    <tr>\n      <td>1</td>\n      <td>127137</td>\n      <td>1267</td>\n      <td>4.5</td>\n      <td>2017-12-31 06:38:16</td>\n      <td>2017</td>\n      <td>0</td>\n    </tr>\n    <tr>\n      <td>2</td>\n      <td>127137</td>\n      <td>81257</td>\n      <td>4.5</td>\n      <td>2017-12-30 07:28:47</td>\n      <td>2017</td>\n      <td>0</td>\n    </tr>\n    <tr>\n      <td>3</td>\n      <td>127137</td>\n      <td>175981</td>\n      <td>3.0</td>\n      <td>2017-12-29 10:06:27</td>\n      <td>2017</td>\n      <td>0</td>\n    </tr>\n    <tr>\n      <td>4</td>\n      <td>127137</td>\n      <td>96728</td>\n      <td>3.0</td>\n      <td>2017-12-29 07:32:48</td>\n      <td>2017</td>\n      <td>0</td>\n    </tr>\n  </tbody>\n</table>\n</div>",
      "text/plain": "   userId  movieId  rating            timestamp  year  cluster\n0  127137   115824     4.5  2017-12-31 23:59:50  2017        0\n1  127137     1267     4.5  2017-12-31 06:38:16  2017        0\n2  127137    81257     4.5  2017-12-30 07:28:47  2017        0\n3  127137   175981     3.0  2017-12-29 10:06:27  2017        0\n4  127137    96728     3.0  2017-12-29 07:32:48  2017        0"
     },
     "execution_count": 99,
     "metadata": {},
     "output_type": "execute_result"
    }
   ],
   "source": [
    "train_subset_tagged.head()"
   ]
  },
  {
   "cell_type": "code",
   "execution_count": 100,
   "metadata": {},
   "outputs": [
    {
     "data": {
      "text/plain": "(19203, 36529)"
     },
     "execution_count": 100,
     "metadata": {},
     "output_type": "execute_result"
    }
   ],
   "source": [
    "len(train_subset_tagged['userId'].unique()), len(train_subset_tagged['movieId'].unique())"
   ]
  },
  {
   "cell_type": "code",
   "execution_count": 101,
   "metadata": {},
   "outputs": [
    {
     "data": {
      "text/plain": "22351"
     },
     "execution_count": 101,
     "metadata": {},
     "output_type": "execute_result"
    }
   ],
   "source": [
    "len(movies_filtered['movieId'].unique())"
   ]
  },
  {
   "cell_type": "code",
   "execution_count": 102,
   "metadata": {},
   "outputs": [
    {
     "data": {
      "text/plain": "17035"
     },
     "execution_count": 102,
     "metadata": {},
     "output_type": "execute_result"
    }
   ],
   "source": [
    "len(set(movies_filtered['movieId']).intersection(set(train_subset['movieId'].unique())))"
   ]
  },
  {
   "cell_type": "code",
   "execution_count": 103,
   "metadata": {},
   "outputs": [
    {
     "data": {
      "text/plain": "Index(['movieId', 'title', 'releaseDate', 'directedBy', 'starring', 'imdbId',\n       'tmdbId', 'genres', 'Action', 'Adventure', 'Animation', 'Children',\n       'Comedy', 'Crime', 'Documentary', 'Drama', 'Fantasy', 'Film-Noir',\n       'Horror', 'IMAX', 'Musical', 'Mystery', 'Romance', 'Sci-Fi', 'Thriller',\n       'War', 'Western', 'nan'],\n      dtype='object')"
     },
     "execution_count": 103,
     "metadata": {},
     "output_type": "execute_result"
    }
   ],
   "source": [
    "movies_filtered.columns"
   ]
  },
  {
   "cell_type": "code",
   "execution_count": 104,
   "metadata": {},
   "outputs": [
    {
     "data": {
      "text/plain": "(22286, 43697)"
     },
     "execution_count": 104,
     "metadata": {},
     "output_type": "execute_result"
    }
   ],
   "source": [
    "len(movies_filtered['imdbId'].unique()), len(IMDb_cldata['imdbId'].unique())"
   ]
  },
  {
   "cell_type": "code",
   "execution_count": 105,
   "metadata": {},
   "outputs": [],
   "source": [
    "movies_IMdb = movies_filtered.merge(IMDb_cldata, how = 'inner', on = 'imdbId')"
   ]
  },
  {
   "cell_type": "code",
   "execution_count": 106,
   "metadata": {},
   "outputs": [
    {
     "data": {
      "text/plain": "(20381, 36529)"
     },
     "execution_count": 106,
     "metadata": {},
     "output_type": "execute_result"
    }
   ],
   "source": [
    "len(movies_IMdb['movieId'].unique()), len(train_subset_tagged['movieId'].unique())"
   ]
  },
  {
   "cell_type": "code",
   "execution_count": 107,
   "metadata": {},
   "outputs": [],
   "source": [
    "train_subset_tagged = train_subset_tagged.merge(movies_IMdb['movieId'], how = 'inner' , on = 'movieId') "
   ]
  },
  {
   "cell_type": "code",
   "execution_count": 108,
   "metadata": {},
   "outputs": [
    {
     "data": {
      "text/plain": "15836"
     },
     "execution_count": 108,
     "metadata": {},
     "output_type": "execute_result"
    }
   ],
   "source": [
    "len(train_subset_tagged['movieId'].unique())"
   ]
  },
  {
   "cell_type": "code",
   "execution_count": 109,
   "metadata": {},
   "outputs": [
    {
     "data": {
      "text/plain": "Index(['movieId', 'title', 'releaseDate', 'directedBy', 'starring', 'imdbId',\n       'tmdbId', 'genres', 'Action', 'Adventure', 'Animation', 'Children',\n       'Comedy', 'Crime', 'Documentary', 'Drama', 'Fantasy', 'Film-Noir',\n       'Horror', 'IMAX', 'Musical', 'Mystery', 'Romance', 'Sci-Fi', 'Thriller',\n       'War', 'Western', 'nan', 'plot', 'rating', 'runtimes', 'votes', 'year',\n       'country codes_us', 'country codes_gb', 'country codes_fr',\n       'country codes_it', 'country codes_ca', 'country codes_de',\n       'country codes_jp', 'country codes_es', 'country codes_in',\n       'country codes_hk', 'genres_Drama', 'genres_Comedy', 'genres_Thriller',\n       'genres_Romance', 'genres_Action', 'genres_Crime', 'genres_Horror',\n       'genres_Adventure', 'genres_Documentary', 'genres_Mystery',\n       'language codes_en', 'language codes_fr', 'language codes_es',\n       'language codes_it', 'language codes_de', 'language codes_ja',\n       'language codes_ru', 'language codes_cmn', 'language codes_hi',\n       'language codes_sv', 'certificates_G', 'certificates_NR',\n       'certificates_PG', 'certificates_R', 'kind_movie', 'kind_series'],\n      dtype='object')"
     },
     "execution_count": 109,
     "metadata": {},
     "output_type": "execute_result"
    }
   ],
   "source": [
    "movies_IMdb.columns"
   ]
  },
  {
   "cell_type": "code",
   "execution_count": 110,
   "metadata": {},
   "outputs": [
    {
     "data": {
      "text/plain": "movieId                  0\ntitle                    0\nreleaseDate              0\ndirectedBy             415\nstarring               822\nimdbId                   0\ntmdbId                 354\ngenres                   0\nAction                   0\nAdventure                0\nAnimation                0\nChildren                 0\nComedy                   0\nCrime                    0\nDocumentary              0\nDrama                    0\nFantasy                  0\nFilm-Noir                0\nHorror                   0\nIMAX                     0\nMusical                  0\nMystery                  0\nRomance                  0\nSci-Fi                   0\nThriller                 0\nWar                      0\nWestern                  0\nnan                      0\nplot                     0\nrating                   0\nruntimes                 0\nvotes                    0\nyear                     0\ncountry codes_us      1624\ncountry codes_gb      1624\ncountry codes_fr      1624\ncountry codes_it      1624\ncountry codes_ca      1624\ncountry codes_de      1624\ncountry codes_jp      1624\ncountry codes_es      1624\ncountry codes_in      1624\ncountry codes_hk      1624\ngenres_Drama          1624\ngenres_Comedy         1624\ngenres_Thriller       1624\ngenres_Romance        1624\ngenres_Action         1624\ngenres_Crime          1624\ngenres_Horror         1624\ngenres_Adventure      1624\ngenres_Documentary    1624\ngenres_Mystery        1624\nlanguage codes_en     1624\nlanguage codes_fr     1624\nlanguage codes_es     1624\nlanguage codes_it     1624\nlanguage codes_de     1624\nlanguage codes_ja     1624\nlanguage codes_ru     1624\nlanguage codes_cmn    1624\nlanguage codes_hi     1624\nlanguage codes_sv     1624\ncertificates_G        1624\ncertificates_NR       1624\ncertificates_PG       1624\ncertificates_R        1624\nkind_movie               0\nkind_series              0\ndtype: int64"
     },
     "execution_count": 110,
     "metadata": {},
     "output_type": "execute_result"
    }
   ],
   "source": [
    "movies_IMdb.isna().sum()"
   ]
  },
  {
   "cell_type": "code",
   "execution_count": 111,
   "metadata": {},
   "outputs": [],
   "source": [
    "movies_columns = ['movieId','kind_movie', 'kind_series', 'rating', 'runtimes',             'votes', 'year', 'country codes_us', 'country codes_gb', 'country codes_fr',\n",
    "       'country codes_it', 'country codes_ca', 'country codes_de',\n",
    "       'country codes_jp', 'country codes_es', 'country codes_in',\n",
    "       'country codes_hk', 'genres_Drama', 'genres_Comedy', 'genres_Thriller',\n",
    "       'genres_Romance', 'genres_Action', 'genres_Crime', 'genres_Horror',\n",
    "       'genres_Adventure', 'genres_Documentary', 'genres_Mystery',\n",
    "       'language codes_en', 'language codes_fr', 'language codes_es',\n",
    "       'language codes_it', 'language codes_de', 'language codes_ja',\n",
    "       'language codes_ru', 'language codes_cmn', 'language codes_hi',\n",
    "       'language codes_sv', 'certificates_G', 'certificates_NR',\n",
    "       'certificates_PG', 'certificates_R' ]"
   ]
  },
  {
   "cell_type": "code",
   "execution_count": 112,
   "metadata": {},
   "outputs": [],
   "source": [
    "movie_ac_clusters = {}\n",
    "for cluster in train_subset_tagged['cluster'].unique():\n",
    "    cl_data = train_subset_tagged[train_subset_tagged['cluster'] == cluster]\n",
    "    cl_dict = {}\n",
    "    cl_dict['data'] = movies_IMdb.merge(cl_data['movieId'],how = 'right', on = 'movieId')[movies_columns]\n",
    "    cl_dict['data'] = cl_dict['data'].drop_duplicates('movieId').reset_index(drop = True)\n",
    "    cl_dict['movieIds'] = list(cl_data['movieId'].unique())\n",
    "    movie_ac_clusters[cluster] = cl_dict"
   ]
  },
  {
   "cell_type": "code",
   "execution_count": 113,
   "metadata": {},
   "outputs": [
    {
     "data": {
      "text/plain": "(7022, 10599, 11223, 11143)"
     },
     "execution_count": 113,
     "metadata": {},
     "output_type": "execute_result"
    }
   ],
   "source": [
    "len(movie_ac_clusters[0]['movieIds']), len(movie_ac_clusters[1]['movieIds']), len(movie_ac_clusters[2]['movieIds']), len(movie_ac_clusters[3]['movieIds'])"
   ]
  },
  {
   "cell_type": "code",
   "execution_count": 114,
   "metadata": {},
   "outputs": [
    {
     "data": {
      "text/html": "<div>\n<style scoped>\n    .dataframe tbody tr th:only-of-type {\n        vertical-align: middle;\n    }\n\n    .dataframe tbody tr th {\n        vertical-align: top;\n    }\n\n    .dataframe thead th {\n        text-align: right;\n    }\n</style>\n<table border=\"1\" class=\"dataframe\">\n  <thead>\n    <tr style=\"text-align: right;\">\n      <th></th>\n      <th>movieId</th>\n      <th>kind_movie</th>\n      <th>kind_series</th>\n      <th>rating</th>\n      <th>runtimes</th>\n      <th>votes</th>\n      <th>year</th>\n      <th>country codes_us</th>\n      <th>country codes_gb</th>\n      <th>country codes_fr</th>\n      <th>...</th>\n      <th>language codes_de</th>\n      <th>language codes_ja</th>\n      <th>language codes_ru</th>\n      <th>language codes_cmn</th>\n      <th>language codes_hi</th>\n      <th>language codes_sv</th>\n      <th>certificates_G</th>\n      <th>certificates_NR</th>\n      <th>certificates_PG</th>\n      <th>certificates_R</th>\n    </tr>\n  </thead>\n  <tbody>\n    <tr>\n      <td>0</td>\n      <td>106491</td>\n      <td>1.0</td>\n      <td>0.0</td>\n      <td>6.2</td>\n      <td>128</td>\n      <td>140571.0</td>\n      <td>2013.0</td>\n      <td>0.0</td>\n      <td>0.0</td>\n      <td>0.0</td>\n      <td>...</td>\n      <td>0.0</td>\n      <td>0.0</td>\n      <td>0.0</td>\n      <td>0.0</td>\n      <td>0.0</td>\n      <td>0.0</td>\n      <td>0.0</td>\n      <td>1.0</td>\n      <td>0.0</td>\n      <td>0.0</td>\n    </tr>\n    <tr>\n      <td>1</td>\n      <td>85414</td>\n      <td>1.0</td>\n      <td>0.0</td>\n      <td>7.5</td>\n      <td>93</td>\n      <td>465374.0</td>\n      <td>2011.0</td>\n      <td>0.0</td>\n      <td>0.0</td>\n      <td>0.0</td>\n      <td>...</td>\n      <td>0.0</td>\n      <td>0.0</td>\n      <td>0.0</td>\n      <td>0.0</td>\n      <td>1.0</td>\n      <td>0.0</td>\n      <td>0.0</td>\n      <td>1.0</td>\n      <td>0.0</td>\n      <td>0.0</td>\n    </tr>\n    <tr>\n      <td>2</td>\n      <td>2476</td>\n      <td>1.0</td>\n      <td>0.0</td>\n      <td>6.9</td>\n      <td>130</td>\n      <td>37593.0</td>\n      <td>1986.0</td>\n      <td>1.0</td>\n      <td>0.0</td>\n      <td>0.0</td>\n      <td>...</td>\n      <td>0.0</td>\n      <td>0.0</td>\n      <td>0.0</td>\n      <td>0.0</td>\n      <td>0.0</td>\n      <td>0.0</td>\n      <td>0.0</td>\n      <td>1.0</td>\n      <td>0.0</td>\n      <td>0.0</td>\n    </tr>\n    <tr>\n      <td>3</td>\n      <td>58627</td>\n      <td>1.0</td>\n      <td>0.0</td>\n      <td>6.6</td>\n      <td>113</td>\n      <td>92750.0</td>\n      <td>2008.0</td>\n      <td>1.0</td>\n      <td>0.0</td>\n      <td>0.0</td>\n      <td>...</td>\n      <td>0.0</td>\n      <td>0.0</td>\n      <td>0.0</td>\n      <td>0.0</td>\n      <td>0.0</td>\n      <td>0.0</td>\n      <td>0.0</td>\n      <td>1.0</td>\n      <td>0.0</td>\n      <td>0.0</td>\n    </tr>\n    <tr>\n      <td>4</td>\n      <td>5313</td>\n      <td>1.0</td>\n      <td>0.0</td>\n      <td>5.5</td>\n      <td>92</td>\n      <td>126013.0</td>\n      <td>2002.0</td>\n      <td>1.0</td>\n      <td>1.0</td>\n      <td>0.0</td>\n      <td>...</td>\n      <td>0.0</td>\n      <td>0.0</td>\n      <td>0.0</td>\n      <td>0.0</td>\n      <td>0.0</td>\n      <td>0.0</td>\n      <td>0.0</td>\n      <td>1.0</td>\n      <td>0.0</td>\n      <td>0.0</td>\n    </tr>\n  </tbody>\n</table>\n<p>5 rows × 41 columns</p>\n</div>",
      "text/plain": "   movieId  kind_movie  kind_series  rating  runtimes     votes    year  \\\n0   106491         1.0          0.0     6.2       128  140571.0  2013.0   \n1    85414         1.0          0.0     7.5        93  465374.0  2011.0   \n2     2476         1.0          0.0     6.9       130   37593.0  1986.0   \n3    58627         1.0          0.0     6.6       113   92750.0  2008.0   \n4     5313         1.0          0.0     5.5        92  126013.0  2002.0   \n\n   country codes_us  country codes_gb  country codes_fr  ...  \\\n0               0.0               0.0               0.0  ...   \n1               0.0               0.0               0.0  ...   \n2               1.0               0.0               0.0  ...   \n3               1.0               0.0               0.0  ...   \n4               1.0               1.0               0.0  ...   \n\n   language codes_de  language codes_ja  language codes_ru  \\\n0                0.0                0.0                0.0   \n1                0.0                0.0                0.0   \n2                0.0                0.0                0.0   \n3                0.0                0.0                0.0   \n4                0.0                0.0                0.0   \n\n   language codes_cmn  language codes_hi  language codes_sv  certificates_G  \\\n0                 0.0                0.0                0.0             0.0   \n1                 0.0                1.0                0.0             0.0   \n2                 0.0                0.0                0.0             0.0   \n3                 0.0                0.0                0.0             0.0   \n4                 0.0                0.0                0.0             0.0   \n\n   certificates_NR  certificates_PG  certificates_R  \n0              1.0              0.0             0.0  \n1              1.0              0.0             0.0  \n2              1.0              0.0             0.0  \n3              1.0              0.0             0.0  \n4              1.0              0.0             0.0  \n\n[5 rows x 41 columns]"
     },
     "execution_count": 114,
     "metadata": {},
     "output_type": "execute_result"
    }
   ],
   "source": [
    "movie_ac_clusters[0]['data'].head()"
   ]
  },
  {
   "cell_type": "code",
   "execution_count": 115,
   "metadata": {},
   "outputs": [],
   "source": [
    "movies_columns.append('cluster')\n",
    "movies_IMdb_fl = movies_IMdb.merge(train_subset_tagged[['movieId','cluster']],how = 'right', on = 'movieId')[movies_columns]"
   ]
  },
  {
   "cell_type": "code",
   "execution_count": 116,
   "metadata": {},
   "outputs": [],
   "source": [
    "movies_IMdb_fl = movies_IMdb_fl.drop_duplicates('movieId').reset_index(drop = True)"
   ]
  },
  {
   "cell_type": "code",
   "execution_count": 117,
   "metadata": {},
   "outputs": [
    {
     "data": {
      "text/plain": "Index(['movieId', 'kind_movie', 'kind_series', 'rating', 'runtimes', 'votes',\n       'year', 'country codes_us', 'country codes_gb', 'country codes_fr',\n       'country codes_it', 'country codes_ca', 'country codes_de',\n       'country codes_jp', 'country codes_es', 'country codes_in',\n       'country codes_hk', 'genres_Drama', 'genres_Comedy', 'genres_Thriller',\n       'genres_Romance', 'genres_Action', 'genres_Crime', 'genres_Horror',\n       'genres_Adventure', 'genres_Documentary', 'genres_Mystery',\n       'language codes_en', 'language codes_fr', 'language codes_es',\n       'language codes_it', 'language codes_de', 'language codes_ja',\n       'language codes_ru', 'language codes_cmn', 'language codes_hi',\n       'language codes_sv', 'certificates_G', 'certificates_NR',\n       'certificates_PG', 'certificates_R', 'cluster'],\n      dtype='object')"
     },
     "execution_count": 117,
     "metadata": {},
     "output_type": "execute_result"
    }
   ],
   "source": [
    "movies_IMdb_fl.columns"
   ]
  },
  {
   "cell_type": "code",
   "execution_count": 118,
   "metadata": {},
   "outputs": [
    {
     "data": {
      "text/plain": "'cluster'"
     },
     "execution_count": 118,
     "metadata": {},
     "output_type": "execute_result"
    }
   ],
   "source": [
    "movies_columns.pop(0)\n",
    "movies_columns.pop()"
   ]
  },
  {
   "cell_type": "code",
   "execution_count": 119,
   "metadata": {},
   "outputs": [],
   "source": [
    "for i,cluster in enumerate(movies_IMdb_fl['cluster'].unique()):\n",
    "    col_name = 'cluster_' + str(i)\n",
    "    movies_IMdb_fl[col_name] = movies_IMdb_fl['cluster'].apply(\n",
    "        lambda x : 1 if x == cluster else 0)"
   ]
  },
  {
   "cell_type": "markdown",
   "execution_count": null,
   "metadata": {},
   "outputs": [],
   "source": [
    "----\n",
    "## Random Forest Classifier"
   ]
  },
  {
   "cell_type": "code",
   "execution_count": 120,
   "metadata": {},
   "outputs": [],
   "source": [
    "from sklearn.ensemble import RandomForestClassifier"
   ]
  },
  {
   "cell_type": "code",
   "execution_count": 121,
   "metadata": {},
   "outputs": [],
   "source": [
    "RFmodel = RandomForestClassifier(n_estimators=10, \n",
    "                               bootstrap = True,\n",
    "                               max_features = 'sqrt')"
   ]
  },
  {
   "cell_type": "code",
   "execution_count": 122,
   "metadata": {},
   "outputs": [],
   "source": [
    "movies_IMdb_fl[movies_columns] = movies_IMdb_fl[movies_columns].fillna(0)"
   ]
  },
  {
   "cell_type": "code",
   "execution_count": 123,
   "metadata": {},
   "outputs": [
    {
     "data": {
      "text/plain": "RandomForestClassifier(bootstrap=True, class_weight=None, criterion='gini',\n                       max_depth=None, max_features='sqrt', max_leaf_nodes=None,\n                       min_impurity_decrease=0.0, min_impurity_split=None,\n                       min_samples_leaf=1, min_samples_split=2,\n                       min_weight_fraction_leaf=0.0, n_estimators=10,\n                       n_jobs=None, oob_score=False, random_state=None,\n                       verbose=0, warm_start=False)"
     },
     "execution_count": 123,
     "metadata": {},
     "output_type": "execute_result"
    }
   ],
   "source": [
    "RFmodel.fit(movies_IMdb_fl[movies_columns],movies_IMdb_fl['cluster_0'])"
   ]
  },
  {
   "cell_type": "code",
   "execution_count": 124,
   "metadata": {},
   "outputs": [],
   "source": [
    "import shap\n",
    "shap_values = shap.TreeExplainer(RFmodel).shap_values(movies_IMdb_fl[movies_columns])\n",
    "shap.summary_plot(shap_values, movies_IMdb_fl[movies_columns], plot_type=\"bar\")"
   ]
  },
  {
   "cell_type": "code",
   "execution_count": null,
   "metadata": {},
   "outputs": [],
   "source": [
    "shap.summary_plot(shap_values, movies_IMdb_fl[movies_columns])"
   ]
  },
  {
   "cell_type": "code",
   "execution_count": null,
   "metadata": {},
   "outputs": [],
   "source": [
    "\n",
    "movies_columns"
   ]
  },
  {
   "cell_type": "code",
   "execution_count": null,
   "metadata": {},
   "outputs": [],
   "source": []
  },
  {
   "cell_type": "code",
   "execution_count": null,
   "metadata": {},
   "outputs": [],
   "source": []
  },
  {
   "cell_type": "code",
   "execution_count": null,
   "metadata": {},
   "outputs": [],
   "source": []
  },
  {
   "cell_type": "code",
   "execution_count": null,
   "metadata": {},
   "outputs": [],
   "source": []
  },
  {
   "cell_type": "code",
   "execution_count": null,
   "metadata": {},
   "outputs": [],
   "source": []
  }
 ]
}