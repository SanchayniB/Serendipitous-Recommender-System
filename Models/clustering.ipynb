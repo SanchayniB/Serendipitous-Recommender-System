{
 "cells": [
  {
   "cell_type": "code",
   "execution_count": 2,
   "metadata": {},
   "outputs": [],
   "source": [
    "import pandas as pd\n",
    "import numpy as np"
   ]
  },
  {
   "cell_type": "code",
   "execution_count": 3,
   "metadata": {},
   "outputs": [],
   "source": [
    "movies_filtered = pd.read_csv('../Intermediate_data/filtered_movies_genre.csv',index_col= 0)"
   ]
  },
  {
   "cell_type": "code",
   "execution_count": 4,
   "metadata": {},
   "outputs": [
    {
     "data": {
      "text/html": [
       "<div>\n",
       "<style scoped>\n",
       "    .dataframe tbody tr th:only-of-type {\n",
       "        vertical-align: middle;\n",
       "    }\n",
       "\n",
       "    .dataframe tbody tr th {\n",
       "        vertical-align: top;\n",
       "    }\n",
       "\n",
       "    .dataframe thead th {\n",
       "        text-align: right;\n",
       "    }\n",
       "</style>\n",
       "<table border=\"1\" class=\"dataframe\">\n",
       "  <thead>\n",
       "    <tr style=\"text-align: right;\">\n",
       "      <th></th>\n",
       "      <th>movieId</th>\n",
       "      <th>title</th>\n",
       "      <th>releaseDate</th>\n",
       "      <th>directedBy</th>\n",
       "      <th>starring</th>\n",
       "      <th>imdbId</th>\n",
       "      <th>tmdbId</th>\n",
       "      <th>genres</th>\n",
       "      <th>Action</th>\n",
       "      <th>Adventure</th>\n",
       "      <th>...</th>\n",
       "      <th>Horror</th>\n",
       "      <th>IMAX</th>\n",
       "      <th>Musical</th>\n",
       "      <th>Mystery</th>\n",
       "      <th>Romance</th>\n",
       "      <th>Sci-Fi</th>\n",
       "      <th>Thriller</th>\n",
       "      <th>War</th>\n",
       "      <th>Western</th>\n",
       "      <th>nan</th>\n",
       "    </tr>\n",
       "  </thead>\n",
       "  <tbody>\n",
       "    <tr>\n",
       "      <th>0</th>\n",
       "      <td>1626</td>\n",
       "      <td>Fire Down Below (1997)</td>\n",
       "      <td>1997-09-05</td>\n",
       "      <td>Félix Enríquez Alcalá</td>\n",
       "      <td>Steven Seagal, Marg Helgenberger, Stephen Lang...</td>\n",
       "      <td>119123</td>\n",
       "      <td>14289.0</td>\n",
       "      <td>['Action', 'Drama', 'Thriller']</td>\n",
       "      <td>1</td>\n",
       "      <td>0</td>\n",
       "      <td>...</td>\n",
       "      <td>0</td>\n",
       "      <td>0</td>\n",
       "      <td>0</td>\n",
       "      <td>0</td>\n",
       "      <td>0</td>\n",
       "      <td>0</td>\n",
       "      <td>1</td>\n",
       "      <td>0</td>\n",
       "      <td>0</td>\n",
       "      <td>0</td>\n",
       "    </tr>\n",
       "    <tr>\n",
       "      <th>1</th>\n",
       "      <td>106491</td>\n",
       "      <td>47 Ronin (2013)</td>\n",
       "      <td>2013-12-25</td>\n",
       "      <td>Carl Rinsch</td>\n",
       "      <td>Keanu Reeves, Hiroyuki Sanada, Kô Shibasaki, R...</td>\n",
       "      <td>1335975</td>\n",
       "      <td>64686.0</td>\n",
       "      <td>['Action', 'Adventure', 'Fantasy']</td>\n",
       "      <td>1</td>\n",
       "      <td>1</td>\n",
       "      <td>...</td>\n",
       "      <td>0</td>\n",
       "      <td>0</td>\n",
       "      <td>0</td>\n",
       "      <td>0</td>\n",
       "      <td>0</td>\n",
       "      <td>0</td>\n",
       "      <td>0</td>\n",
       "      <td>0</td>\n",
       "      <td>0</td>\n",
       "      <td>0</td>\n",
       "    </tr>\n",
       "    <tr>\n",
       "      <th>2</th>\n",
       "      <td>85414</td>\n",
       "      <td>Source Code (2011)</td>\n",
       "      <td>2011-04-01</td>\n",
       "      <td>Duncan Jones</td>\n",
       "      <td>Jake Gyllenhaal, Michelle Monaghan, Vera Farmi...</td>\n",
       "      <td>945513</td>\n",
       "      <td>45612.0</td>\n",
       "      <td>['Action', 'Drama', 'Mystery', 'Sci-Fi', 'Thri...</td>\n",
       "      <td>1</td>\n",
       "      <td>0</td>\n",
       "      <td>...</td>\n",
       "      <td>0</td>\n",
       "      <td>0</td>\n",
       "      <td>0</td>\n",
       "      <td>1</td>\n",
       "      <td>0</td>\n",
       "      <td>1</td>\n",
       "      <td>1</td>\n",
       "      <td>0</td>\n",
       "      <td>0</td>\n",
       "      <td>0</td>\n",
       "    </tr>\n",
       "    <tr>\n",
       "      <th>3</th>\n",
       "      <td>124805</td>\n",
       "      <td>Venus &amp; Vegas (2010)</td>\n",
       "      <td>2010-11-01</td>\n",
       "      <td>Demian Lichtenstein</td>\n",
       "      <td>Eddie Kaye Thomas,Donald Faison,Eddie Guerra,J...</td>\n",
       "      <td>423474</td>\n",
       "      <td>68716.0</td>\n",
       "      <td>['Action', 'Comedy']</td>\n",
       "      <td>1</td>\n",
       "      <td>0</td>\n",
       "      <td>...</td>\n",
       "      <td>0</td>\n",
       "      <td>0</td>\n",
       "      <td>0</td>\n",
       "      <td>0</td>\n",
       "      <td>0</td>\n",
       "      <td>0</td>\n",
       "      <td>0</td>\n",
       "      <td>0</td>\n",
       "      <td>0</td>\n",
       "      <td>0</td>\n",
       "    </tr>\n",
       "    <tr>\n",
       "      <th>4</th>\n",
       "      <td>144514</td>\n",
       "      <td>Quick (2011)</td>\n",
       "      <td>2011-07-21</td>\n",
       "      <td>Beom-gu Cho</td>\n",
       "      <td>Yoo Seung-Mok,Yoon Je-moon,Kim Tae-woo,Lee Min...</td>\n",
       "      <td>2007413</td>\n",
       "      <td>77175.0</td>\n",
       "      <td>['Action', 'Comedy', 'Thriller']</td>\n",
       "      <td>1</td>\n",
       "      <td>0</td>\n",
       "      <td>...</td>\n",
       "      <td>0</td>\n",
       "      <td>0</td>\n",
       "      <td>0</td>\n",
       "      <td>0</td>\n",
       "      <td>0</td>\n",
       "      <td>0</td>\n",
       "      <td>1</td>\n",
       "      <td>0</td>\n",
       "      <td>0</td>\n",
       "      <td>0</td>\n",
       "    </tr>\n",
       "  </tbody>\n",
       "</table>\n",
       "<p>5 rows × 28 columns</p>\n",
       "</div>"
      ],
      "text/plain": [
       "   movieId                   title releaseDate             directedBy  \\\n",
       "0     1626  Fire Down Below (1997)  1997-09-05  Félix Enríquez Alcalá   \n",
       "1   106491         47 Ronin (2013)  2013-12-25            Carl Rinsch   \n",
       "2    85414      Source Code (2011)  2011-04-01           Duncan Jones   \n",
       "3   124805    Venus & Vegas (2010)  2010-11-01    Demian Lichtenstein   \n",
       "4   144514            Quick (2011)  2011-07-21            Beom-gu Cho   \n",
       "\n",
       "                                            starring   imdbId   tmdbId  \\\n",
       "0  Steven Seagal, Marg Helgenberger, Stephen Lang...   119123  14289.0   \n",
       "1  Keanu Reeves, Hiroyuki Sanada, Kô Shibasaki, R...  1335975  64686.0   \n",
       "2  Jake Gyllenhaal, Michelle Monaghan, Vera Farmi...   945513  45612.0   \n",
       "3  Eddie Kaye Thomas,Donald Faison,Eddie Guerra,J...   423474  68716.0   \n",
       "4  Yoo Seung-Mok,Yoon Je-moon,Kim Tae-woo,Lee Min...  2007413  77175.0   \n",
       "\n",
       "                                              genres  Action  Adventure  ...  \\\n",
       "0                    ['Action', 'Drama', 'Thriller']       1          0  ...   \n",
       "1                 ['Action', 'Adventure', 'Fantasy']       1          1  ...   \n",
       "2  ['Action', 'Drama', 'Mystery', 'Sci-Fi', 'Thri...       1          0  ...   \n",
       "3                               ['Action', 'Comedy']       1          0  ...   \n",
       "4                   ['Action', 'Comedy', 'Thriller']       1          0  ...   \n",
       "\n",
       "   Horror  IMAX  Musical  Mystery  Romance  Sci-Fi  Thriller  War  Western  \\\n",
       "0       0     0        0        0        0       0         1    0        0   \n",
       "1       0     0        0        0        0       0         0    0        0   \n",
       "2       0     0        0        1        0       1         1    0        0   \n",
       "3       0     0        0        0        0       0         0    0        0   \n",
       "4       0     0        0        0        0       0         1    0        0   \n",
       "\n",
       "   nan  \n",
       "0    0  \n",
       "1    0  \n",
       "2    0  \n",
       "3    0  \n",
       "4    0  \n",
       "\n",
       "[5 rows x 28 columns]"
      ]
     },
     "execution_count": 4,
     "metadata": {},
     "output_type": "execute_result"
    }
   ],
   "source": [
    "movies_filtered.head()"
   ]
  },
  {
   "cell_type": "code",
   "execution_count": 5,
   "metadata": {},
   "outputs": [
    {
     "data": {
      "text/plain": [
       "(22351, 28)"
      ]
     },
     "execution_count": 5,
     "metadata": {},
     "output_type": "execute_result"
    }
   ],
   "source": [
    "movies_filtered.shape"
   ]
  },
  {
   "cell_type": "code",
   "execution_count": 6,
   "metadata": {},
   "outputs": [
    {
     "name": "stderr",
     "output_type": "stream",
     "text": [
      "/Users/pranavlal/Library/Python/2.7/lib/python/site-packages/numpy/lib/arraysetops.py:522: FutureWarning: elementwise comparison failed; returning scalar instead, but in the future will perform elementwise comparison\n",
      "  mask |= (ar1 == a)\n"
     ]
    }
   ],
   "source": [
    "train_subset  = pd.read_csv('../Intermediate_data/train_subset.csv', index_col= 0)"
   ]
  },
  {
   "cell_type": "code",
   "execution_count": 7,
   "metadata": {},
   "outputs": [
    {
     "data": {
      "text/html": [
       "<div>\n",
       "<style scoped>\n",
       "    .dataframe tbody tr th:only-of-type {\n",
       "        vertical-align: middle;\n",
       "    }\n",
       "\n",
       "    .dataframe tbody tr th {\n",
       "        vertical-align: top;\n",
       "    }\n",
       "\n",
       "    .dataframe thead th {\n",
       "        text-align: right;\n",
       "    }\n",
       "</style>\n",
       "<table border=\"1\" class=\"dataframe\">\n",
       "  <thead>\n",
       "    <tr style=\"text-align: right;\">\n",
       "      <th></th>\n",
       "      <th>userId</th>\n",
       "      <th>movieId</th>\n",
       "      <th>rating</th>\n",
       "      <th>timestamp</th>\n",
       "      <th>year</th>\n",
       "    </tr>\n",
       "  </thead>\n",
       "  <tbody>\n",
       "    <tr>\n",
       "      <th>25352</th>\n",
       "      <td>127137</td>\n",
       "      <td>115824</td>\n",
       "      <td>4.5</td>\n",
       "      <td>2017-12-31 23:59:50</td>\n",
       "      <td>2017</td>\n",
       "    </tr>\n",
       "    <tr>\n",
       "      <th>25353</th>\n",
       "      <td>142748</td>\n",
       "      <td>2762</td>\n",
       "      <td>5.0</td>\n",
       "      <td>2017-12-31 23:59:41</td>\n",
       "      <td>2017</td>\n",
       "    </tr>\n",
       "    <tr>\n",
       "      <th>25354</th>\n",
       "      <td>196198</td>\n",
       "      <td>1198</td>\n",
       "      <td>3.5</td>\n",
       "      <td>2017-12-31 23:59:17</td>\n",
       "      <td>2017</td>\n",
       "    </tr>\n",
       "    <tr>\n",
       "      <th>25355</th>\n",
       "      <td>142748</td>\n",
       "      <td>71057</td>\n",
       "      <td>4.5</td>\n",
       "      <td>2017-12-31 23:58:09</td>\n",
       "      <td>2017</td>\n",
       "    </tr>\n",
       "    <tr>\n",
       "      <th>25356</th>\n",
       "      <td>142748</td>\n",
       "      <td>152077</td>\n",
       "      <td>5.0</td>\n",
       "      <td>2017-12-31 23:57:32</td>\n",
       "      <td>2017</td>\n",
       "    </tr>\n",
       "  </tbody>\n",
       "</table>\n",
       "</div>"
      ],
      "text/plain": [
       "       userId  movieId  rating            timestamp  year\n",
       "25352  127137   115824     4.5  2017-12-31 23:59:50  2017\n",
       "25353  142748     2762     5.0  2017-12-31 23:59:41  2017\n",
       "25354  196198     1198     3.5  2017-12-31 23:59:17  2017\n",
       "25355  142748    71057     4.5  2017-12-31 23:58:09  2017\n",
       "25356  142748   152077     5.0  2017-12-31 23:57:32  2017"
      ]
     },
     "execution_count": 7,
     "metadata": {},
     "output_type": "execute_result"
    }
   ],
   "source": [
    "train_subset.head()"
   ]
  },
  {
   "cell_type": "code",
   "execution_count": 8,
   "metadata": {},
   "outputs": [],
   "source": [
    "train_subset = train_subset.reset_index()"
   ]
  },
  {
   "cell_type": "code",
   "execution_count": 9,
   "metadata": {},
   "outputs": [],
   "source": [
    "train_new = train_subset.merge(movies_filtered, how = 'inner', left_on = 'movieId', right_on = 'movieId' )"
   ]
  },
  {
   "cell_type": "code",
   "execution_count": 10,
   "metadata": {},
   "outputs": [
    {
     "data": {
      "text/html": [
       "<div>\n",
       "<style scoped>\n",
       "    .dataframe tbody tr th:only-of-type {\n",
       "        vertical-align: middle;\n",
       "    }\n",
       "\n",
       "    .dataframe tbody tr th {\n",
       "        vertical-align: top;\n",
       "    }\n",
       "\n",
       "    .dataframe thead th {\n",
       "        text-align: right;\n",
       "    }\n",
       "</style>\n",
       "<table border=\"1\" class=\"dataframe\">\n",
       "  <thead>\n",
       "    <tr style=\"text-align: right;\">\n",
       "      <th></th>\n",
       "      <th>index</th>\n",
       "      <th>userId</th>\n",
       "      <th>movieId</th>\n",
       "      <th>rating</th>\n",
       "      <th>timestamp</th>\n",
       "      <th>year</th>\n",
       "      <th>title</th>\n",
       "      <th>releaseDate</th>\n",
       "      <th>directedBy</th>\n",
       "      <th>starring</th>\n",
       "      <th>...</th>\n",
       "      <th>Horror</th>\n",
       "      <th>IMAX</th>\n",
       "      <th>Musical</th>\n",
       "      <th>Mystery</th>\n",
       "      <th>Romance</th>\n",
       "      <th>Sci-Fi</th>\n",
       "      <th>Thriller</th>\n",
       "      <th>War</th>\n",
       "      <th>Western</th>\n",
       "      <th>nan</th>\n",
       "    </tr>\n",
       "  </thead>\n",
       "  <tbody>\n",
       "    <tr>\n",
       "      <th>0</th>\n",
       "      <td>25353</td>\n",
       "      <td>142748</td>\n",
       "      <td>2762</td>\n",
       "      <td>5.0</td>\n",
       "      <td>2017-12-31 23:59:41</td>\n",
       "      <td>2017</td>\n",
       "      <td>Sixth Sense, The (1999)</td>\n",
       "      <td>1999-08-06</td>\n",
       "      <td>M. Night Shyamalan</td>\n",
       "      <td>Haley Joel Osment, Bruce Willis, Toni Collette...</td>\n",
       "      <td>...</td>\n",
       "      <td>1</td>\n",
       "      <td>0</td>\n",
       "      <td>0</td>\n",
       "      <td>1</td>\n",
       "      <td>0</td>\n",
       "      <td>0</td>\n",
       "      <td>0</td>\n",
       "      <td>0</td>\n",
       "      <td>0</td>\n",
       "      <td>0</td>\n",
       "    </tr>\n",
       "    <tr>\n",
       "      <th>1</th>\n",
       "      <td>26123</td>\n",
       "      <td>142752</td>\n",
       "      <td>2762</td>\n",
       "      <td>4.0</td>\n",
       "      <td>2017-12-31 20:41:29</td>\n",
       "      <td>2017</td>\n",
       "      <td>Sixth Sense, The (1999)</td>\n",
       "      <td>1999-08-06</td>\n",
       "      <td>M. Night Shyamalan</td>\n",
       "      <td>Haley Joel Osment, Bruce Willis, Toni Collette...</td>\n",
       "      <td>...</td>\n",
       "      <td>1</td>\n",
       "      <td>0</td>\n",
       "      <td>0</td>\n",
       "      <td>1</td>\n",
       "      <td>0</td>\n",
       "      <td>0</td>\n",
       "      <td>0</td>\n",
       "      <td>0</td>\n",
       "      <td>0</td>\n",
       "      <td>0</td>\n",
       "    </tr>\n",
       "    <tr>\n",
       "      <th>2</th>\n",
       "      <td>26180</td>\n",
       "      <td>142744</td>\n",
       "      <td>2762</td>\n",
       "      <td>4.0</td>\n",
       "      <td>2017-12-31 20:35:25</td>\n",
       "      <td>2017</td>\n",
       "      <td>Sixth Sense, The (1999)</td>\n",
       "      <td>1999-08-06</td>\n",
       "      <td>M. Night Shyamalan</td>\n",
       "      <td>Haley Joel Osment, Bruce Willis, Toni Collette...</td>\n",
       "      <td>...</td>\n",
       "      <td>1</td>\n",
       "      <td>0</td>\n",
       "      <td>0</td>\n",
       "      <td>1</td>\n",
       "      <td>0</td>\n",
       "      <td>0</td>\n",
       "      <td>0</td>\n",
       "      <td>0</td>\n",
       "      <td>0</td>\n",
       "      <td>0</td>\n",
       "    </tr>\n",
       "    <tr>\n",
       "      <th>3</th>\n",
       "      <td>26257</td>\n",
       "      <td>142753</td>\n",
       "      <td>2762</td>\n",
       "      <td>4.5</td>\n",
       "      <td>2017-12-31 20:19:35</td>\n",
       "      <td>2017</td>\n",
       "      <td>Sixth Sense, The (1999)</td>\n",
       "      <td>1999-08-06</td>\n",
       "      <td>M. Night Shyamalan</td>\n",
       "      <td>Haley Joel Osment, Bruce Willis, Toni Collette...</td>\n",
       "      <td>...</td>\n",
       "      <td>1</td>\n",
       "      <td>0</td>\n",
       "      <td>0</td>\n",
       "      <td>1</td>\n",
       "      <td>0</td>\n",
       "      <td>0</td>\n",
       "      <td>0</td>\n",
       "      <td>0</td>\n",
       "      <td>0</td>\n",
       "      <td>0</td>\n",
       "    </tr>\n",
       "    <tr>\n",
       "      <th>4</th>\n",
       "      <td>26651</td>\n",
       "      <td>142747</td>\n",
       "      <td>2762</td>\n",
       "      <td>3.0</td>\n",
       "      <td>2017-12-31 18:02:45</td>\n",
       "      <td>2017</td>\n",
       "      <td>Sixth Sense, The (1999)</td>\n",
       "      <td>1999-08-06</td>\n",
       "      <td>M. Night Shyamalan</td>\n",
       "      <td>Haley Joel Osment, Bruce Willis, Toni Collette...</td>\n",
       "      <td>...</td>\n",
       "      <td>1</td>\n",
       "      <td>0</td>\n",
       "      <td>0</td>\n",
       "      <td>1</td>\n",
       "      <td>0</td>\n",
       "      <td>0</td>\n",
       "      <td>0</td>\n",
       "      <td>0</td>\n",
       "      <td>0</td>\n",
       "      <td>0</td>\n",
       "    </tr>\n",
       "  </tbody>\n",
       "</table>\n",
       "<p>5 rows × 33 columns</p>\n",
       "</div>"
      ],
      "text/plain": [
       "   index  userId  movieId  rating            timestamp  year  \\\n",
       "0  25353  142748     2762     5.0  2017-12-31 23:59:41  2017   \n",
       "1  26123  142752     2762     4.0  2017-12-31 20:41:29  2017   \n",
       "2  26180  142744     2762     4.0  2017-12-31 20:35:25  2017   \n",
       "3  26257  142753     2762     4.5  2017-12-31 20:19:35  2017   \n",
       "4  26651  142747     2762     3.0  2017-12-31 18:02:45  2017   \n",
       "\n",
       "                     title releaseDate          directedBy  \\\n",
       "0  Sixth Sense, The (1999)  1999-08-06  M. Night Shyamalan   \n",
       "1  Sixth Sense, The (1999)  1999-08-06  M. Night Shyamalan   \n",
       "2  Sixth Sense, The (1999)  1999-08-06  M. Night Shyamalan   \n",
       "3  Sixth Sense, The (1999)  1999-08-06  M. Night Shyamalan   \n",
       "4  Sixth Sense, The (1999)  1999-08-06  M. Night Shyamalan   \n",
       "\n",
       "                                            starring  ...  Horror  IMAX  \\\n",
       "0  Haley Joel Osment, Bruce Willis, Toni Collette...  ...       1     0   \n",
       "1  Haley Joel Osment, Bruce Willis, Toni Collette...  ...       1     0   \n",
       "2  Haley Joel Osment, Bruce Willis, Toni Collette...  ...       1     0   \n",
       "3  Haley Joel Osment, Bruce Willis, Toni Collette...  ...       1     0   \n",
       "4  Haley Joel Osment, Bruce Willis, Toni Collette...  ...       1     0   \n",
       "\n",
       "  Musical  Mystery  Romance  Sci-Fi  Thriller  War  Western  nan  \n",
       "0       0        1        0       0         0    0        0    0  \n",
       "1       0        1        0       0         0    0        0    0  \n",
       "2       0        1        0       0         0    0        0    0  \n",
       "3       0        1        0       0         0    0        0    0  \n",
       "4       0        1        0       0         0    0        0    0  \n",
       "\n",
       "[5 rows x 33 columns]"
      ]
     },
     "execution_count": 10,
     "metadata": {},
     "output_type": "execute_result"
    }
   ],
   "source": [
    "train_new.head()"
   ]
  },
  {
   "cell_type": "code",
   "execution_count": 11,
   "metadata": {},
   "outputs": [
    {
     "data": {
      "text/plain": [
       "((1200795, 33), (1993188, 6), (22351, 28))"
      ]
     },
     "execution_count": 11,
     "metadata": {},
     "output_type": "execute_result"
    }
   ],
   "source": [
    "train_new.shape, train_subset.shape , movies_filtered.shape"
   ]
  },
  {
   "cell_type": "code",
   "execution_count": 12,
   "metadata": {},
   "outputs": [
    {
     "data": {
      "text/plain": [
       "(17035, 19203)"
      ]
     },
     "execution_count": 12,
     "metadata": {},
     "output_type": "execute_result"
    }
   ],
   "source": [
    "len(train_new['movieId'].unique()), len(train_new['userId'].unique())"
   ]
  },
  {
   "cell_type": "code",
   "execution_count": 13,
   "metadata": {},
   "outputs": [],
   "source": [
    "UM= train_new.pivot(index='userId', columns='movieId', values='rating')\n",
    "UM_matrix = np.matrix(UM.values)"
   ]
  },
  {
   "cell_type": "code",
   "execution_count": null,
   "metadata": {},
   "outputs": [],
   "source": []
  },
  {
   "cell_type": "code",
   "execution_count": 14,
   "metadata": {},
   "outputs": [
    {
     "data": {
      "text/plain": [
       "(19203, 17035)"
      ]
     },
     "execution_count": 14,
     "metadata": {},
     "output_type": "execute_result"
    }
   ],
   "source": [
    "UM_matrix.shape"
   ]
  },
  {
   "cell_type": "code",
   "execution_count": 15,
   "metadata": {},
   "outputs": [],
   "source": [
    "from scipy.sparse import csr_matrix\n",
    "UM_matrix_sparse = csr_matrix(UM.values)"
   ]
  },
  {
   "cell_type": "code",
   "execution_count": 16,
   "metadata": {},
   "outputs": [],
   "source": [
    "import CollabFiltering as CF"
   ]
  },
  {
   "cell_type": "code",
   "execution_count": 17,
   "metadata": {},
   "outputs": [],
   "source": [
    "p,q = CF.SVD(UM_matrix)"
   ]
  },
  {
   "cell_type": "code",
   "execution_count": 22,
   "metadata": {},
   "outputs": [],
   "source": [
    "def rmse(p,q,UM):\n",
    "\n",
    "    UM_pred =  np.dot(p,q.T)\n",
    "    subt = np.subtract(UM_matrix,UM_pred)\n",
    "    RMSE = np.sqrt(np.square(subt[~np.isnan(subt)]).mean())\n",
    "\n",
    "    return(RMSE)"
   ]
  },
  {
   "cell_type": "code",
   "execution_count": 23,
   "metadata": {},
   "outputs": [],
   "source": [
    "RMSE = rmse(p,q,UM_matrix)"
   ]
  },
  {
   "cell_type": "code",
   "execution_count": 24,
   "metadata": {},
   "outputs": [
    {
     "data": {
      "text/plain": [
       "1.0759949249405028"
      ]
     },
     "execution_count": 24,
     "metadata": {},
     "output_type": "execute_result"
    }
   ],
   "source": [
    "RMSE"
   ]
  },
  {
   "cell_type": "markdown",
   "metadata": {},
   "source": [
    "### Clustering model on the reduced dimension\n",
    "Clustering at User level on p matrix"
   ]
  },
  {
   "cell_type": "code",
   "execution_count": 25,
   "metadata": {},
   "outputs": [],
   "source": [
    "from sklearn.mixture import GaussianMixture as GMM"
   ]
  },
  {
   "cell_type": "code",
   "execution_count": 26,
   "metadata": {},
   "outputs": [],
   "source": [
    "gmm_fit = GMM(n_components=4).fit(p)"
   ]
  },
  {
   "cell_type": "code",
   "execution_count": 27,
   "metadata": {},
   "outputs": [],
   "source": [
    "prediction_gmm = gmm_fit.predict(p)\n",
    "probs = gmm_fit.predict_proba(p)\n"
   ]
  },
  {
   "cell_type": "code",
   "execution_count": 28,
   "metadata": {},
   "outputs": [
    {
     "data": {
      "text/plain": [
       "array([[0.74209329, 0.10780863, 0.09299075, 0.05710733]])"
      ]
     },
     "execution_count": 28,
     "metadata": {},
     "output_type": "execute_result"
    }
   ],
   "source": [
    "probs[[0]]"
   ]
  },
  {
   "cell_type": "code",
   "execution_count": 29,
   "metadata": {},
   "outputs": [],
   "source": [
    "user_cluster = pd.DataFrame({'userId': UM.index , 'cluster': prediction_gmm })"
   ]
  },
  {
   "cell_type": "code",
   "execution_count": 30,
   "metadata": {},
   "outputs": [
    {
     "data": {
      "text/html": [
       "<div>\n",
       "<style scoped>\n",
       "    .dataframe tbody tr th:only-of-type {\n",
       "        vertical-align: middle;\n",
       "    }\n",
       "\n",
       "    .dataframe tbody tr th {\n",
       "        vertical-align: top;\n",
       "    }\n",
       "\n",
       "    .dataframe thead th {\n",
       "        text-align: right;\n",
       "    }\n",
       "</style>\n",
       "<table border=\"1\" class=\"dataframe\">\n",
       "  <thead>\n",
       "    <tr style=\"text-align: right;\">\n",
       "      <th></th>\n",
       "      <th>cluster</th>\n",
       "      <th>userId</th>\n",
       "    </tr>\n",
       "  </thead>\n",
       "  <tbody>\n",
       "    <tr>\n",
       "      <th>0</th>\n",
       "      <td>0</td>\n",
       "      <td>100032</td>\n",
       "    </tr>\n",
       "    <tr>\n",
       "      <th>1</th>\n",
       "      <td>0</td>\n",
       "      <td>100036</td>\n",
       "    </tr>\n",
       "    <tr>\n",
       "      <th>2</th>\n",
       "      <td>0</td>\n",
       "      <td>100053</td>\n",
       "    </tr>\n",
       "    <tr>\n",
       "      <th>3</th>\n",
       "      <td>2</td>\n",
       "      <td>100057</td>\n",
       "    </tr>\n",
       "    <tr>\n",
       "      <th>4</th>\n",
       "      <td>0</td>\n",
       "      <td>100058</td>\n",
       "    </tr>\n",
       "  </tbody>\n",
       "</table>\n",
       "</div>"
      ],
      "text/plain": [
       "   cluster  userId\n",
       "0        0  100032\n",
       "1        0  100036\n",
       "2        0  100053\n",
       "3        2  100057\n",
       "4        0  100058"
      ]
     },
     "execution_count": 30,
     "metadata": {},
     "output_type": "execute_result"
    }
   ],
   "source": [
    "user_cluster.head()"
   ]
  },
  {
   "cell_type": "code",
   "execution_count": 31,
   "metadata": {},
   "outputs": [],
   "source": [
    "import matplotlib.pyplot as plt "
   ]
  },
  {
   "cell_type": "code",
   "execution_count": 32,
   "metadata": {},
   "outputs": [],
   "source": [
    "n_components = np.arange(1, 21)\n",
    "models = [GMM(n, covariance_type='full', random_state=0).fit(p)\n",
    "          for n in n_components]"
   ]
  },
  {
   "cell_type": "code",
   "execution_count": 33,
   "metadata": {},
   "outputs": [
    {
     "data": {
      "text/plain": [
       "Text(0.5,0,'n_components')"
      ]
     },
     "execution_count": 33,
     "metadata": {},
     "output_type": "execute_result"
    },
    {
     "data": {
      "image/png": "[encoded data removed]",
      "text/plain": [
       "<Figure size 432x288 with 1 Axes>"
      ]
     },
     "metadata": {
      "needs_background": "light"
     },
     "output_type": "display_data"
    }
   ],
   "source": [
    "plt.plot(n_components, [m.bic(p) for m in models], label='BIC')\n",
    "plt.plot(n_components, [m.aic(p) for m in models], label='AIC')\n",
    "plt.legend(loc='best')\n",
    "plt.xlabel('n_components')"
   ]
  },
  {
   "cell_type": "markdown",
   "metadata": {},
   "source": [
    "---\n",
    "Merging this data to the training dataset"
   ]
  },
  {
   "cell_type": "code",
   "execution_count": 34,
   "metadata": {},
   "outputs": [],
   "source": [
    "train_clusters = train_new.merge(user_cluster,how = 'left' , left_on= 'userId', right_on= 'userId')"
   ]
  },
  {
   "cell_type": "code",
   "execution_count": 35,
   "metadata": {},
   "outputs": [
    {
     "data": {
      "text/html": [
       "<div>\n",
       "<style scoped>\n",
       "    .dataframe tbody tr th:only-of-type {\n",
       "        vertical-align: middle;\n",
       "    }\n",
       "\n",
       "    .dataframe tbody tr th {\n",
       "        vertical-align: top;\n",
       "    }\n",
       "\n",
       "    .dataframe thead th {\n",
       "        text-align: right;\n",
       "    }\n",
       "</style>\n",
       "<table border=\"1\" class=\"dataframe\">\n",
       "  <thead>\n",
       "    <tr style=\"text-align: right;\">\n",
       "      <th></th>\n",
       "      <th>index</th>\n",
       "      <th>userId</th>\n",
       "      <th>movieId</th>\n",
       "      <th>rating</th>\n",
       "      <th>timestamp</th>\n",
       "      <th>year</th>\n",
       "      <th>title</th>\n",
       "      <th>releaseDate</th>\n",
       "      <th>directedBy</th>\n",
       "      <th>starring</th>\n",
       "      <th>...</th>\n",
       "      <th>IMAX</th>\n",
       "      <th>Musical</th>\n",
       "      <th>Mystery</th>\n",
       "      <th>Romance</th>\n",
       "      <th>Sci-Fi</th>\n",
       "      <th>Thriller</th>\n",
       "      <th>War</th>\n",
       "      <th>Western</th>\n",
       "      <th>nan</th>\n",
       "      <th>cluster</th>\n",
       "    </tr>\n",
       "  </thead>\n",
       "  <tbody>\n",
       "    <tr>\n",
       "      <th>0</th>\n",
       "      <td>25353</td>\n",
       "      <td>142748</td>\n",
       "      <td>2762</td>\n",
       "      <td>5.0</td>\n",
       "      <td>2017-12-31 23:59:41</td>\n",
       "      <td>2017</td>\n",
       "      <td>Sixth Sense, The (1999)</td>\n",
       "      <td>1999-08-06</td>\n",
       "      <td>M. Night Shyamalan</td>\n",
       "      <td>Haley Joel Osment, Bruce Willis, Toni Collette...</td>\n",
       "      <td>...</td>\n",
       "      <td>0</td>\n",
       "      <td>0</td>\n",
       "      <td>1</td>\n",
       "      <td>0</td>\n",
       "      <td>0</td>\n",
       "      <td>0</td>\n",
       "      <td>0</td>\n",
       "      <td>0</td>\n",
       "      <td>0</td>\n",
       "      <td>0</td>\n",
       "    </tr>\n",
       "    <tr>\n",
       "      <th>1</th>\n",
       "      <td>26123</td>\n",
       "      <td>142752</td>\n",
       "      <td>2762</td>\n",
       "      <td>4.0</td>\n",
       "      <td>2017-12-31 20:41:29</td>\n",
       "      <td>2017</td>\n",
       "      <td>Sixth Sense, The (1999)</td>\n",
       "      <td>1999-08-06</td>\n",
       "      <td>M. Night Shyamalan</td>\n",
       "      <td>Haley Joel Osment, Bruce Willis, Toni Collette...</td>\n",
       "      <td>...</td>\n",
       "      <td>0</td>\n",
       "      <td>0</td>\n",
       "      <td>1</td>\n",
       "      <td>0</td>\n",
       "      <td>0</td>\n",
       "      <td>0</td>\n",
       "      <td>0</td>\n",
       "      <td>0</td>\n",
       "      <td>0</td>\n",
       "      <td>3</td>\n",
       "    </tr>\n",
       "    <tr>\n",
       "      <th>2</th>\n",
       "      <td>26180</td>\n",
       "      <td>142744</td>\n",
       "      <td>2762</td>\n",
       "      <td>4.0</td>\n",
       "      <td>2017-12-31 20:35:25</td>\n",
       "      <td>2017</td>\n",
       "      <td>Sixth Sense, The (1999)</td>\n",
       "      <td>1999-08-06</td>\n",
       "      <td>M. Night Shyamalan</td>\n",
       "      <td>Haley Joel Osment, Bruce Willis, Toni Collette...</td>\n",
       "      <td>...</td>\n",
       "      <td>0</td>\n",
       "      <td>0</td>\n",
       "      <td>1</td>\n",
       "      <td>0</td>\n",
       "      <td>0</td>\n",
       "      <td>0</td>\n",
       "      <td>0</td>\n",
       "      <td>0</td>\n",
       "      <td>0</td>\n",
       "      <td>1</td>\n",
       "    </tr>\n",
       "    <tr>\n",
       "      <th>3</th>\n",
       "      <td>26257</td>\n",
       "      <td>142753</td>\n",
       "      <td>2762</td>\n",
       "      <td>4.5</td>\n",
       "      <td>2017-12-31 20:19:35</td>\n",
       "      <td>2017</td>\n",
       "      <td>Sixth Sense, The (1999)</td>\n",
       "      <td>1999-08-06</td>\n",
       "      <td>M. Night Shyamalan</td>\n",
       "      <td>Haley Joel Osment, Bruce Willis, Toni Collette...</td>\n",
       "      <td>...</td>\n",
       "      <td>0</td>\n",
       "      <td>0</td>\n",
       "      <td>1</td>\n",
       "      <td>0</td>\n",
       "      <td>0</td>\n",
       "      <td>0</td>\n",
       "      <td>0</td>\n",
       "      <td>0</td>\n",
       "      <td>0</td>\n",
       "      <td>0</td>\n",
       "    </tr>\n",
       "    <tr>\n",
       "      <th>4</th>\n",
       "      <td>26651</td>\n",
       "      <td>142747</td>\n",
       "      <td>2762</td>\n",
       "      <td>3.0</td>\n",
       "      <td>2017-12-31 18:02:45</td>\n",
       "      <td>2017</td>\n",
       "      <td>Sixth Sense, The (1999)</td>\n",
       "      <td>1999-08-06</td>\n",
       "      <td>M. Night Shyamalan</td>\n",
       "      <td>Haley Joel Osment, Bruce Willis, Toni Collette...</td>\n",
       "      <td>...</td>\n",
       "      <td>0</td>\n",
       "      <td>0</td>\n",
       "      <td>1</td>\n",
       "      <td>0</td>\n",
       "      <td>0</td>\n",
       "      <td>0</td>\n",
       "      <td>0</td>\n",
       "      <td>0</td>\n",
       "      <td>0</td>\n",
       "      <td>0</td>\n",
       "    </tr>\n",
       "  </tbody>\n",
       "</table>\n",
       "<p>5 rows × 34 columns</p>\n",
       "</div>"
      ],
      "text/plain": [
       "   index  userId  movieId  rating            timestamp  year  \\\n",
       "0  25353  142748     2762     5.0  2017-12-31 23:59:41  2017   \n",
       "1  26123  142752     2762     4.0  2017-12-31 20:41:29  2017   \n",
       "2  26180  142744     2762     4.0  2017-12-31 20:35:25  2017   \n",
       "3  26257  142753     2762     4.5  2017-12-31 20:19:35  2017   \n",
       "4  26651  142747     2762     3.0  2017-12-31 18:02:45  2017   \n",
       "\n",
       "                     title releaseDate          directedBy  \\\n",
       "0  Sixth Sense, The (1999)  1999-08-06  M. Night Shyamalan   \n",
       "1  Sixth Sense, The (1999)  1999-08-06  M. Night Shyamalan   \n",
       "2  Sixth Sense, The (1999)  1999-08-06  M. Night Shyamalan   \n",
       "3  Sixth Sense, The (1999)  1999-08-06  M. Night Shyamalan   \n",
       "4  Sixth Sense, The (1999)  1999-08-06  M. Night Shyamalan   \n",
       "\n",
       "                                            starring  ...  IMAX  Musical  \\\n",
       "0  Haley Joel Osment, Bruce Willis, Toni Collette...  ...     0        0   \n",
       "1  Haley Joel Osment, Bruce Willis, Toni Collette...  ...     0        0   \n",
       "2  Haley Joel Osment, Bruce Willis, Toni Collette...  ...     0        0   \n",
       "3  Haley Joel Osment, Bruce Willis, Toni Collette...  ...     0        0   \n",
       "4  Haley Joel Osment, Bruce Willis, Toni Collette...  ...     0        0   \n",
       "\n",
       "  Mystery  Romance  Sci-Fi  Thriller  War  Western  nan  cluster  \n",
       "0       1        0       0         0    0        0    0        0  \n",
       "1       1        0       0         0    0        0    0        3  \n",
       "2       1        0       0         0    0        0    0        1  \n",
       "3       1        0       0         0    0        0    0        0  \n",
       "4       1        0       0         0    0        0    0        0  \n",
       "\n",
       "[5 rows x 34 columns]"
      ]
     },
     "execution_count": 35,
     "metadata": {},
     "output_type": "execute_result"
    }
   ],
   "source": [
    "train_clusters.head()"
   ]
  },
  {
   "cell_type": "code",
   "execution_count": 36,
   "metadata": {},
   "outputs": [
    {
     "data": {
      "text/plain": [
       "0    7010\n",
       "3    5001\n",
       "1    4635\n",
       "2    2557\n",
       "Name: cluster, dtype: int64"
      ]
     },
     "execution_count": 36,
     "metadata": {},
     "output_type": "execute_result"
    }
   ],
   "source": [
    "user_cluster['cluster'].value_counts()"
   ]
  },
  {
   "cell_type": "code",
   "execution_count": 37,
   "metadata": {},
   "outputs": [],
   "source": [
    "genres_lst = ['Action', 'Adventure', 'Animation', 'Children',\n",
    "       'Comedy', 'Crime', 'Documentary', 'Drama', 'Fantasy', 'Film-Noir',\n",
    "       'Horror', 'IMAX', 'Musical', 'Mystery', 'Romance', 'Sci-Fi', 'Thriller',\n",
    "       'War', 'Western']"
   ]
  },
  {
   "cell_type": "code",
   "execution_count": 38,
   "metadata": {},
   "outputs": [
    {
     "data": {
      "text/html": [
       "<div>\n",
       "<style scoped>\n",
       "    .dataframe tbody tr th:only-of-type {\n",
       "        vertical-align: middle;\n",
       "    }\n",
       "\n",
       "    .dataframe tbody tr th {\n",
       "        vertical-align: top;\n",
       "    }\n",
       "\n",
       "    .dataframe thead th {\n",
       "        text-align: right;\n",
       "    }\n",
       "</style>\n",
       "<table border=\"1\" class=\"dataframe\">\n",
       "  <thead>\n",
       "    <tr style=\"text-align: right;\">\n",
       "      <th></th>\n",
       "      <th>0</th>\n",
       "      <th>1</th>\n",
       "      <th>2</th>\n",
       "      <th>3</th>\n",
       "    </tr>\n",
       "  </thead>\n",
       "  <tbody>\n",
       "    <tr>\n",
       "      <th>Action</th>\n",
       "      <td>28.847076</td>\n",
       "      <td>16.256958</td>\n",
       "      <td>26.614783</td>\n",
       "      <td>24.015797</td>\n",
       "    </tr>\n",
       "    <tr>\n",
       "      <th>Adventure</th>\n",
       "      <td>23.500713</td>\n",
       "      <td>13.992017</td>\n",
       "      <td>21.416113</td>\n",
       "      <td>20.942811</td>\n",
       "    </tr>\n",
       "    <tr>\n",
       "      <th>Animation</th>\n",
       "      <td>8.255920</td>\n",
       "      <td>4.943689</td>\n",
       "      <td>7.127102</td>\n",
       "      <td>7.625475</td>\n",
       "    </tr>\n",
       "    <tr>\n",
       "      <th>Children</th>\n",
       "      <td>7.876462</td>\n",
       "      <td>4.845092</td>\n",
       "      <td>6.859992</td>\n",
       "      <td>7.817636</td>\n",
       "    </tr>\n",
       "    <tr>\n",
       "      <th>Comedy</th>\n",
       "      <td>23.154066</td>\n",
       "      <td>14.403883</td>\n",
       "      <td>21.391865</td>\n",
       "      <td>19.828634</td>\n",
       "    </tr>\n",
       "    <tr>\n",
       "      <th>Crime</th>\n",
       "      <td>15.166191</td>\n",
       "      <td>8.589644</td>\n",
       "      <td>14.296441</td>\n",
       "      <td>10.728454</td>\n",
       "    </tr>\n",
       "    <tr>\n",
       "      <th>Documentary</th>\n",
       "      <td>0.590442</td>\n",
       "      <td>0.473139</td>\n",
       "      <td>0.657411</td>\n",
       "      <td>0.337333</td>\n",
       "    </tr>\n",
       "    <tr>\n",
       "      <th>Drama</th>\n",
       "      <td>30.756776</td>\n",
       "      <td>18.682201</td>\n",
       "      <td>29.283144</td>\n",
       "      <td>22.785443</td>\n",
       "    </tr>\n",
       "    <tr>\n",
       "      <th>Fantasy</th>\n",
       "      <td>12.541940</td>\n",
       "      <td>7.642503</td>\n",
       "      <td>11.426281</td>\n",
       "      <td>11.248750</td>\n",
       "    </tr>\n",
       "    <tr>\n",
       "      <th>Film-Noir</th>\n",
       "      <td>0.810984</td>\n",
       "      <td>0.388781</td>\n",
       "      <td>0.819711</td>\n",
       "      <td>0.387123</td>\n",
       "    </tr>\n",
       "    <tr>\n",
       "      <th>Horror</th>\n",
       "      <td>6.732668</td>\n",
       "      <td>4.192880</td>\n",
       "      <td>6.838874</td>\n",
       "      <td>5.623875</td>\n",
       "    </tr>\n",
       "    <tr>\n",
       "      <th>IMAX</th>\n",
       "      <td>8.208559</td>\n",
       "      <td>4.722977</td>\n",
       "      <td>7.156433</td>\n",
       "      <td>7.609078</td>\n",
       "    </tr>\n",
       "    <tr>\n",
       "      <th>Musical</th>\n",
       "      <td>2.465621</td>\n",
       "      <td>1.504207</td>\n",
       "      <td>2.260853</td>\n",
       "      <td>2.281344</td>\n",
       "    </tr>\n",
       "    <tr>\n",
       "      <th>Mystery</th>\n",
       "      <td>7.423966</td>\n",
       "      <td>4.204315</td>\n",
       "      <td>7.153696</td>\n",
       "      <td>5.715857</td>\n",
       "    </tr>\n",
       "    <tr>\n",
       "      <th>Romance</th>\n",
       "      <td>11.194437</td>\n",
       "      <td>7.515642</td>\n",
       "      <td>10.610872</td>\n",
       "      <td>9.910418</td>\n",
       "    </tr>\n",
       "    <tr>\n",
       "      <th>Sci-Fi</th>\n",
       "      <td>18.012553</td>\n",
       "      <td>10.002157</td>\n",
       "      <td>16.753226</td>\n",
       "      <td>14.858428</td>\n",
       "    </tr>\n",
       "    <tr>\n",
       "      <th>Thriller</th>\n",
       "      <td>24.092011</td>\n",
       "      <td>13.457821</td>\n",
       "      <td>22.940555</td>\n",
       "      <td>18.781844</td>\n",
       "    </tr>\n",
       "    <tr>\n",
       "      <th>War</th>\n",
       "      <td>3.849643</td>\n",
       "      <td>2.317799</td>\n",
       "      <td>3.552601</td>\n",
       "      <td>2.696661</td>\n",
       "    </tr>\n",
       "    <tr>\n",
       "      <th>Western</th>\n",
       "      <td>0.751641</td>\n",
       "      <td>0.433225</td>\n",
       "      <td>0.755182</td>\n",
       "      <td>0.532494</td>\n",
       "    </tr>\n",
       "  </tbody>\n",
       "</table>\n",
       "</div>"
      ],
      "text/plain": [
       "                     0          1          2          3\n",
       "Action       28.847076  16.256958  26.614783  24.015797\n",
       "Adventure    23.500713  13.992017  21.416113  20.942811\n",
       "Animation     8.255920   4.943689   7.127102   7.625475\n",
       "Children      7.876462   4.845092   6.859992   7.817636\n",
       "Comedy       23.154066  14.403883  21.391865  19.828634\n",
       "Crime        15.166191   8.589644  14.296441  10.728454\n",
       "Documentary   0.590442   0.473139   0.657411   0.337333\n",
       "Drama        30.756776  18.682201  29.283144  22.785443\n",
       "Fantasy      12.541940   7.642503  11.426281  11.248750\n",
       "Film-Noir     0.810984   0.388781   0.819711   0.387123\n",
       "Horror        6.732668   4.192880   6.838874   5.623875\n",
       "IMAX          8.208559   4.722977   7.156433   7.609078\n",
       "Musical       2.465621   1.504207   2.260853   2.281344\n",
       "Mystery       7.423966   4.204315   7.153696   5.715857\n",
       "Romance      11.194437   7.515642  10.610872   9.910418\n",
       "Sci-Fi       18.012553  10.002157  16.753226  14.858428\n",
       "Thriller     24.092011  13.457821  22.940555  18.781844\n",
       "War           3.849643   2.317799   3.552601   2.696661\n",
       "Western       0.751641   0.433225   0.755182   0.532494"
      ]
     },
     "execution_count": 38,
     "metadata": {},
     "output_type": "execute_result"
    }
   ],
   "source": [
    "train_clusters.groupby('cluster')[genres_lst].sum().T/user_cluster['cluster'].value_counts()"
   ]
  },
  {
   "cell_type": "code",
   "execution_count": 39,
   "metadata": {},
   "outputs": [
    {
     "data": {
      "text/plain": [
       "Index([u'index', u'userId', u'movieId', u'rating', u'timestamp', u'year',\n",
       "       u'title', u'releaseDate', u'directedBy', u'starring', u'imdbId',\n",
       "       u'tmdbId', u'genres', u'Action', u'Adventure', u'Animation',\n",
       "       u'Children', u'Comedy', u'Crime', u'Documentary', u'Drama', u'Fantasy',\n",
       "       u'Film-Noir', u'Horror', u'IMAX', u'Musical', u'Mystery', u'Romance',\n",
       "       u'Sci-Fi', u'Thriller', u'War', u'Western', u'nan', u'cluster'],\n",
       "      dtype='object')"
      ]
     },
     "execution_count": 39,
     "metadata": {},
     "output_type": "execute_result"
    }
   ],
   "source": [
    "train_clusters.columns"
   ]
  },
  {
   "cell_type": "code",
   "execution_count": 40,
   "metadata": {},
   "outputs": [],
   "source": [
    "user_cluster.to_csv('../Intermediate_data/user_clusters.csv')"
   ]
  },
  {
   "cell_type": "code",
   "execution_count": 71,
   "metadata": {},
   "outputs": [],
   "source": [
    "train_clusters.to_csv('../Intermediate_data/train_clusters.csv')"
   ]
  },
  {
   "cell_type": "code",
   "execution_count": null,
   "metadata": {},
   "outputs": [],
   "source": []
  }
 ],
 "metadata": {
  "file_extension": ".py",
  "kernelspec": {
   "display_name": "Python 2",
   "language": "python",
   "name": "python2"
  },
  "language_info": {
   "codemirror_mode": {
    "name": "ipython",
    "version": 2
   },
   "file_extension": ".py",
   "mimetype": "text/x-python",
   "name": "python",
   "nbconvert_exporter": "python",
   "pygments_lexer": "ipython2",
   "version": "2.7.10"
  },
  "mimetype": "text/x-python",
  "name": "python",
  "npconvert_exporter": "python",
  "pygments_lexer": "ipython3",
  "version": 3
 },
 "nbformat": 4,
 "nbformat_minor": 2
}
