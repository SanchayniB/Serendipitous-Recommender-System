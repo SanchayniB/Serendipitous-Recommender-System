{
 "nbformat": 4,
 "nbformat_minor": 2,
 "metadata": {
  "language_info": {
   "name": "python",
   "codemirror_mode": {
    "name": "ipython",
    "version": 3
   },
   "version": "3.7.4-final"
  },
  "orig_nbformat": 2,
  "file_extension": ".py",
  "mimetype": "text/x-python",
  "name": "python",
  "npconvert_exporter": "python",
  "pygments_lexer": "ipython3",
  "version": 3,
  "kernelspec": {
   "name": "python35564bit0b9f639e75a74110b6084f891aac6e48",
   "display_name": "Python 3.5.5 64-bit"
  }
 },
 "cells": [
  {
   "cell_type": "code",
   "execution_count": 1,
   "metadata": {},
   "outputs": [],
   "source": [
    "import pandas as pd\n",
    "import numpy as np"
   ]
  },
  {
   "cell_type": "code",
   "execution_count": 2,
   "metadata": {},
   "outputs": [],
   "source": [
    "movies_filtered = pd.read_csv('../Intermediate_data/filtered_movies_genre.csv',index_col= 0)"
   ]
  },
  {
   "cell_type": "code",
   "execution_count": 3,
   "metadata": {},
   "outputs": [
    {
     "data": {
      "text/html": "<div>\n<style scoped>\n    .dataframe tbody tr th:only-of-type {\n        vertical-align: middle;\n    }\n\n    .dataframe tbody tr th {\n        vertical-align: top;\n    }\n\n    .dataframe thead th {\n        text-align: right;\n    }\n</style>\n<table border=\"1\" class=\"dataframe\">\n  <thead>\n    <tr style=\"text-align: right;\">\n      <th></th>\n      <th>movieId</th>\n      <th>title</th>\n      <th>releaseDate</th>\n      <th>directedBy</th>\n      <th>starring</th>\n      <th>imdbId</th>\n      <th>tmdbId</th>\n      <th>genres</th>\n      <th>Action</th>\n      <th>Adventure</th>\n      <th>...</th>\n      <th>Horror</th>\n      <th>IMAX</th>\n      <th>Musical</th>\n      <th>Mystery</th>\n      <th>Romance</th>\n      <th>Sci-Fi</th>\n      <th>Thriller</th>\n      <th>War</th>\n      <th>Western</th>\n      <th>nan</th>\n    </tr>\n  </thead>\n  <tbody>\n    <tr>\n      <th>0</th>\n      <td>1626</td>\n      <td>Fire Down Below (1997)</td>\n      <td>1997-09-05</td>\n      <td>Félix Enríquez Alcalá</td>\n      <td>Steven Seagal, Marg Helgenberger, Stephen Lang...</td>\n      <td>119123</td>\n      <td>14289.0</td>\n      <td>['Action', 'Drama', 'Thriller']</td>\n      <td>1</td>\n      <td>0</td>\n      <td>...</td>\n      <td>0</td>\n      <td>0</td>\n      <td>0</td>\n      <td>0</td>\n      <td>0</td>\n      <td>0</td>\n      <td>1</td>\n      <td>0</td>\n      <td>0</td>\n      <td>0</td>\n    </tr>\n    <tr>\n      <th>1</th>\n      <td>106491</td>\n      <td>47 Ronin (2013)</td>\n      <td>2013-12-25</td>\n      <td>Carl Rinsch</td>\n      <td>Keanu Reeves, Hiroyuki Sanada, Kô Shibasaki, R...</td>\n      <td>1335975</td>\n      <td>64686.0</td>\n      <td>['Action', 'Adventure', 'Fantasy']</td>\n      <td>1</td>\n      <td>1</td>\n      <td>...</td>\n      <td>0</td>\n      <td>0</td>\n      <td>0</td>\n      <td>0</td>\n      <td>0</td>\n      <td>0</td>\n      <td>0</td>\n      <td>0</td>\n      <td>0</td>\n      <td>0</td>\n    </tr>\n    <tr>\n      <th>2</th>\n      <td>85414</td>\n      <td>Source Code (2011)</td>\n      <td>2011-04-01</td>\n      <td>Duncan Jones</td>\n      <td>Jake Gyllenhaal, Michelle Monaghan, Vera Farmi...</td>\n      <td>945513</td>\n      <td>45612.0</td>\n      <td>['Action', 'Drama', 'Mystery', 'Sci-Fi', 'Thri...</td>\n      <td>1</td>\n      <td>0</td>\n      <td>...</td>\n      <td>0</td>\n      <td>0</td>\n      <td>0</td>\n      <td>1</td>\n      <td>0</td>\n      <td>1</td>\n      <td>1</td>\n      <td>0</td>\n      <td>0</td>\n      <td>0</td>\n    </tr>\n    <tr>\n      <th>3</th>\n      <td>124805</td>\n      <td>Venus &amp; Vegas (2010)</td>\n      <td>2010-11-01</td>\n      <td>Demian Lichtenstein</td>\n      <td>Eddie Kaye Thomas,Donald Faison,Eddie Guerra,J...</td>\n      <td>423474</td>\n      <td>68716.0</td>\n      <td>['Action', 'Comedy']</td>\n      <td>1</td>\n      <td>0</td>\n      <td>...</td>\n      <td>0</td>\n      <td>0</td>\n      <td>0</td>\n      <td>0</td>\n      <td>0</td>\n      <td>0</td>\n      <td>0</td>\n      <td>0</td>\n      <td>0</td>\n      <td>0</td>\n    </tr>\n    <tr>\n      <th>4</th>\n      <td>144514</td>\n      <td>Quick (2011)</td>\n      <td>2011-07-21</td>\n      <td>Beom-gu Cho</td>\n      <td>Yoo Seung-Mok,Yoon Je-moon,Kim Tae-woo,Lee Min...</td>\n      <td>2007413</td>\n      <td>77175.0</td>\n      <td>['Action', 'Comedy', 'Thriller']</td>\n      <td>1</td>\n      <td>0</td>\n      <td>...</td>\n      <td>0</td>\n      <td>0</td>\n      <td>0</td>\n      <td>0</td>\n      <td>0</td>\n      <td>0</td>\n      <td>1</td>\n      <td>0</td>\n      <td>0</td>\n      <td>0</td>\n    </tr>\n  </tbody>\n</table>\n<p>5 rows × 28 columns</p>\n</div>",
      "text/plain": "   movieId                   title releaseDate             directedBy  \\\n0     1626  Fire Down Below (1997)  1997-09-05  Félix Enríquez Alcalá   \n1   106491         47 Ronin (2013)  2013-12-25            Carl Rinsch   \n2    85414      Source Code (2011)  2011-04-01           Duncan Jones   \n3   124805    Venus & Vegas (2010)  2010-11-01    Demian Lichtenstein   \n4   144514            Quick (2011)  2011-07-21            Beom-gu Cho   \n\n                                            starring   imdbId   tmdbId  \\\n0  Steven Seagal, Marg Helgenberger, Stephen Lang...   119123  14289.0   \n1  Keanu Reeves, Hiroyuki Sanada, Kô Shibasaki, R...  1335975  64686.0   \n2  Jake Gyllenhaal, Michelle Monaghan, Vera Farmi...   945513  45612.0   \n3  Eddie Kaye Thomas,Donald Faison,Eddie Guerra,J...   423474  68716.0   \n4  Yoo Seung-Mok,Yoon Je-moon,Kim Tae-woo,Lee Min...  2007413  77175.0   \n\n                                              genres  Action  Adventure ...   \\\n0                    ['Action', 'Drama', 'Thriller']       1          0 ...    \n1                 ['Action', 'Adventure', 'Fantasy']       1          1 ...    \n2  ['Action', 'Drama', 'Mystery', 'Sci-Fi', 'Thri...       1          0 ...    \n3                               ['Action', 'Comedy']       1          0 ...    \n4                   ['Action', 'Comedy', 'Thriller']       1          0 ...    \n\n   Horror  IMAX  Musical  Mystery  Romance  Sci-Fi  Thriller  War  Western  \\\n0       0     0        0        0        0       0         1    0        0   \n1       0     0        0        0        0       0         0    0        0   \n2       0     0        0        1        0       1         1    0        0   \n3       0     0        0        0        0       0         0    0        0   \n4       0     0        0        0        0       0         1    0        0   \n\n   nan  \n0    0  \n1    0  \n2    0  \n3    0  \n4    0  \n\n[5 rows x 28 columns]"
     },
     "execution_count": 3,
     "metadata": {},
     "output_type": "execute_result"
    }
   ],
   "source": [
    "movies_filtered.head()"
   ]
  },
  {
   "cell_type": "code",
   "execution_count": 4,
   "metadata": {},
   "outputs": [
    {
     "data": {
      "text/plain": "(22351, 28)"
     },
     "execution_count": 4,
     "metadata": {},
     "output_type": "execute_result"
    }
   ],
   "source": [
    "movies_filtered.shape"
   ]
  },
  {
   "cell_type": "code",
   "execution_count": 5,
   "metadata": {},
   "outputs": [],
   "source": [
    "train_subset  = pd.read_csv('../Intermediate_data/train_subset.csv', index_col= 0)"
   ]
  },
  {
   "cell_type": "code",
   "execution_count": 6,
   "metadata": {},
   "outputs": [
    {
     "data": {
      "text/html": "<div>\n<style scoped>\n    .dataframe tbody tr th:only-of-type {\n        vertical-align: middle;\n    }\n\n    .dataframe tbody tr th {\n        vertical-align: top;\n    }\n\n    .dataframe thead th {\n        text-align: right;\n    }\n</style>\n<table border=\"1\" class=\"dataframe\">\n  <thead>\n    <tr style=\"text-align: right;\">\n      <th></th>\n      <th>userId</th>\n      <th>movieId</th>\n      <th>rating</th>\n      <th>timestamp</th>\n      <th>year</th>\n    </tr>\n  </thead>\n  <tbody>\n    <tr>\n      <th>25352</th>\n      <td>127137</td>\n      <td>115824</td>\n      <td>4.5</td>\n      <td>2017-12-31 23:59:50</td>\n      <td>2017</td>\n    </tr>\n    <tr>\n      <th>25353</th>\n      <td>142748</td>\n      <td>2762</td>\n      <td>5.0</td>\n      <td>2017-12-31 23:59:41</td>\n      <td>2017</td>\n    </tr>\n    <tr>\n      <th>25354</th>\n      <td>196198</td>\n      <td>1198</td>\n      <td>3.5</td>\n      <td>2017-12-31 23:59:17</td>\n      <td>2017</td>\n    </tr>\n    <tr>\n      <th>25355</th>\n      <td>142748</td>\n      <td>71057</td>\n      <td>4.5</td>\n      <td>2017-12-31 23:58:09</td>\n      <td>2017</td>\n    </tr>\n    <tr>\n      <th>25356</th>\n      <td>142748</td>\n      <td>152077</td>\n      <td>5.0</td>\n      <td>2017-12-31 23:57:32</td>\n      <td>2017</td>\n    </tr>\n  </tbody>\n</table>\n</div>",
      "text/plain": "       userId  movieId  rating            timestamp  year\n25352  127137   115824     4.5  2017-12-31 23:59:50  2017\n25353  142748     2762     5.0  2017-12-31 23:59:41  2017\n25354  196198     1198     3.5  2017-12-31 23:59:17  2017\n25355  142748    71057     4.5  2017-12-31 23:58:09  2017\n25356  142748   152077     5.0  2017-12-31 23:57:32  2017"
     },
     "execution_count": 6,
     "metadata": {},
     "output_type": "execute_result"
    }
   ],
   "source": [
    "train_subset.head()"
   ]
  },
  {
   "cell_type": "code",
   "execution_count": 7,
   "metadata": {},
   "outputs": [],
   "source": [
    "train_subset = train_subset.reset_index()"
   ]
  },
  {
   "cell_type": "code",
   "execution_count": 8,
   "metadata": {},
   "outputs": [],
   "source": [
    "train_new = train_subset.merge(movies_filtered, how = 'inner', left_on = 'movieId', right_on = 'movieId' )"
   ]
  },
  {
   "cell_type": "code",
   "execution_count": 9,
   "metadata": {},
   "outputs": [
    {
     "data": {
      "text/html": "<div>\n<style scoped>\n    .dataframe tbody tr th:only-of-type {\n        vertical-align: middle;\n    }\n\n    .dataframe tbody tr th {\n        vertical-align: top;\n    }\n\n    .dataframe thead th {\n        text-align: right;\n    }\n</style>\n<table border=\"1\" class=\"dataframe\">\n  <thead>\n    <tr style=\"text-align: right;\">\n      <th></th>\n      <th>index</th>\n      <th>userId</th>\n      <th>movieId</th>\n      <th>rating</th>\n      <th>timestamp</th>\n      <th>year</th>\n      <th>title</th>\n      <th>releaseDate</th>\n      <th>directedBy</th>\n      <th>starring</th>\n      <th>...</th>\n      <th>Horror</th>\n      <th>IMAX</th>\n      <th>Musical</th>\n      <th>Mystery</th>\n      <th>Romance</th>\n      <th>Sci-Fi</th>\n      <th>Thriller</th>\n      <th>War</th>\n      <th>Western</th>\n      <th>nan</th>\n    </tr>\n  </thead>\n  <tbody>\n    <tr>\n      <th>0</th>\n      <td>25353</td>\n      <td>142748</td>\n      <td>2762</td>\n      <td>5.0</td>\n      <td>2017-12-31 23:59:41</td>\n      <td>2017</td>\n      <td>Sixth Sense, The (1999)</td>\n      <td>1999-08-06</td>\n      <td>M. Night Shyamalan</td>\n      <td>Haley Joel Osment, Bruce Willis, Toni Collette...</td>\n      <td>...</td>\n      <td>1</td>\n      <td>0</td>\n      <td>0</td>\n      <td>1</td>\n      <td>0</td>\n      <td>0</td>\n      <td>0</td>\n      <td>0</td>\n      <td>0</td>\n      <td>0</td>\n    </tr>\n    <tr>\n      <th>1</th>\n      <td>26123</td>\n      <td>142752</td>\n      <td>2762</td>\n      <td>4.0</td>\n      <td>2017-12-31 20:41:29</td>\n      <td>2017</td>\n      <td>Sixth Sense, The (1999)</td>\n      <td>1999-08-06</td>\n      <td>M. Night Shyamalan</td>\n      <td>Haley Joel Osment, Bruce Willis, Toni Collette...</td>\n      <td>...</td>\n      <td>1</td>\n      <td>0</td>\n      <td>0</td>\n      <td>1</td>\n      <td>0</td>\n      <td>0</td>\n      <td>0</td>\n      <td>0</td>\n      <td>0</td>\n      <td>0</td>\n    </tr>\n    <tr>\n      <th>2</th>\n      <td>26180</td>\n      <td>142744</td>\n      <td>2762</td>\n      <td>4.0</td>\n      <td>2017-12-31 20:35:25</td>\n      <td>2017</td>\n      <td>Sixth Sense, The (1999)</td>\n      <td>1999-08-06</td>\n      <td>M. Night Shyamalan</td>\n      <td>Haley Joel Osment, Bruce Willis, Toni Collette...</td>\n      <td>...</td>\n      <td>1</td>\n      <td>0</td>\n      <td>0</td>\n      <td>1</td>\n      <td>0</td>\n      <td>0</td>\n      <td>0</td>\n      <td>0</td>\n      <td>0</td>\n      <td>0</td>\n    </tr>\n    <tr>\n      <th>3</th>\n      <td>26257</td>\n      <td>142753</td>\n      <td>2762</td>\n      <td>4.5</td>\n      <td>2017-12-31 20:19:35</td>\n      <td>2017</td>\n      <td>Sixth Sense, The (1999)</td>\n      <td>1999-08-06</td>\n      <td>M. Night Shyamalan</td>\n      <td>Haley Joel Osment, Bruce Willis, Toni Collette...</td>\n      <td>...</td>\n      <td>1</td>\n      <td>0</td>\n      <td>0</td>\n      <td>1</td>\n      <td>0</td>\n      <td>0</td>\n      <td>0</td>\n      <td>0</td>\n      <td>0</td>\n      <td>0</td>\n    </tr>\n    <tr>\n      <th>4</th>\n      <td>26651</td>\n      <td>142747</td>\n      <td>2762</td>\n      <td>3.0</td>\n      <td>2017-12-31 18:02:45</td>\n      <td>2017</td>\n      <td>Sixth Sense, The (1999)</td>\n      <td>1999-08-06</td>\n      <td>M. Night Shyamalan</td>\n      <td>Haley Joel Osment, Bruce Willis, Toni Collette...</td>\n      <td>...</td>\n      <td>1</td>\n      <td>0</td>\n      <td>0</td>\n      <td>1</td>\n      <td>0</td>\n      <td>0</td>\n      <td>0</td>\n      <td>0</td>\n      <td>0</td>\n      <td>0</td>\n    </tr>\n  </tbody>\n</table>\n<p>5 rows × 33 columns</p>\n</div>",
      "text/plain": "   index  userId  movieId  rating            timestamp  year  \\\n0  25353  142748     2762     5.0  2017-12-31 23:59:41  2017   \n1  26123  142752     2762     4.0  2017-12-31 20:41:29  2017   \n2  26180  142744     2762     4.0  2017-12-31 20:35:25  2017   \n3  26257  142753     2762     4.5  2017-12-31 20:19:35  2017   \n4  26651  142747     2762     3.0  2017-12-31 18:02:45  2017   \n\n                     title releaseDate          directedBy  \\\n0  Sixth Sense, The (1999)  1999-08-06  M. Night Shyamalan   \n1  Sixth Sense, The (1999)  1999-08-06  M. Night Shyamalan   \n2  Sixth Sense, The (1999)  1999-08-06  M. Night Shyamalan   \n3  Sixth Sense, The (1999)  1999-08-06  M. Night Shyamalan   \n4  Sixth Sense, The (1999)  1999-08-06  M. Night Shyamalan   \n\n                                            starring ...   Horror  IMAX  \\\n0  Haley Joel Osment, Bruce Willis, Toni Collette... ...        1     0   \n1  Haley Joel Osment, Bruce Willis, Toni Collette... ...        1     0   \n2  Haley Joel Osment, Bruce Willis, Toni Collette... ...        1     0   \n3  Haley Joel Osment, Bruce Willis, Toni Collette... ...        1     0   \n4  Haley Joel Osment, Bruce Willis, Toni Collette... ...        1     0   \n\n  Musical  Mystery  Romance  Sci-Fi  Thriller  War  Western  nan  \n0       0        1        0       0         0    0        0    0  \n1       0        1        0       0         0    0        0    0  \n2       0        1        0       0         0    0        0    0  \n3       0        1        0       0         0    0        0    0  \n4       0        1        0       0         0    0        0    0  \n\n[5 rows x 33 columns]"
     },
     "execution_count": 9,
     "metadata": {},
     "output_type": "execute_result"
    }
   ],
   "source": [
    "train_new.head()"
   ]
  },
  {
   "cell_type": "code",
   "execution_count": 10,
   "metadata": {},
   "outputs": [
    {
     "data": {
      "text/plain": "((1200795, 33), (1993188, 6), (22351, 28))"
     },
     "execution_count": 10,
     "metadata": {},
     "output_type": "execute_result"
    }
   ],
   "source": [
    "train_new.shape, train_subset.shape , movies_filtered.shape"
   ]
  },
  {
   "cell_type": "code",
   "execution_count": 11,
   "metadata": {},
   "outputs": [
    {
     "data": {
      "text/plain": "(17035, 19203)"
     },
     "execution_count": 11,
     "metadata": {},
     "output_type": "execute_result"
    }
   ],
   "source": [
    "len(train_new['movieId'].unique()), len(train_new['userId'].unique())"
   ]
  },
  {
   "cell_type": "code",
   "execution_count": 12,
   "metadata": {},
   "outputs": [],
   "source": [
    "UM= train_new.pivot(index='userId', columns='movieId', values='rating')\n",
    "UM_matrix = np.matrix(UM.values)"
   ]
  },
  {
   "cell_type": "code",
   "execution_count": 14,
   "metadata": {},
   "outputs": [
    {
     "data": {
      "text/plain": "matrix([[nan, nan, nan, ..., nan, nan, nan],\n        [nan, nan, nan, ..., nan, nan, nan],\n        [nan, nan, nan, ..., nan, nan, nan],\n        ...,\n        [nan, nan, nan, ..., nan, nan, nan],\n        [nan, nan, nan, ..., nan, nan, nan],\n        [nan, nan, nan, ..., nan, nan, nan]])"
     },
     "execution_count": 14,
     "metadata": {},
     "output_type": "execute_result"
    }
   ],
   "source": [
    "UM_matrix"
   ]
  },
  {
   "cell_type": "code",
   "execution_count": 15,
   "metadata": {},
   "outputs": [
    {
     "data": {
      "text/plain": "(19203, 17035)"
     },
     "execution_count": 15,
     "metadata": {},
     "output_type": "execute_result"
    }
   ],
   "source": [
    "UM_matrix.shape"
   ]
  },
  {
   "cell_type": "code",
   "execution_count": 18,
   "metadata": {},
   "outputs": [],
   "source": [
    "import CollabFiltering as CF"
   ]
  },
  {
   "cell_type": "code",
   "execution_count": 19,
   "metadata": {},
   "outputs": [],
   "source": [
    "p,q = CF.SVD(UM_matrix,hiddenk = 20, epoch = 10 )"
   ]
  },
  {
   "cell_type": "code",
   "execution_count": 20,
   "metadata": {},
   "outputs": [],
   "source": [
    "def rmse(p,q,UM, UM_pred):\n",
    "\n",
    "    UM_pred =  np.dot(p,q.T)\n",
    "    subt = np.subtract(UM,UM_pred)\n",
    "    RMSE = np.sqrt(np.square(sub[~np.isnan(sub)]).mean())\n",
    "\n",
    "    return(RMSE)"
   ]
  },
  {
   "cell_type": "code",
   "execution_count": 23,
   "metadata": {},
   "outputs": [
    {
     "ename": "NameError",
     "evalue": "name 'UM_matrix_pred' is not defined",
     "output_type": "error",
     "traceback": [
      "\u001b[0;31m---------------------------------------------------------------------------\u001b[0m",
      "\u001b[0;31mNameError\u001b[0m                                 Traceback (most recent call last)",
      "\u001b[0;32m<ipython-input-23-5fb8c5549386>\u001b[0m in \u001b[0;36m<module>\u001b[0;34m\u001b[0m\n\u001b[0;32m----> 1\u001b[0;31m \u001b[0mRMSE\u001b[0m \u001b[0;34m=\u001b[0m \u001b[0mrmse\u001b[0m\u001b[0;34m(\u001b[0m\u001b[0mp\u001b[0m\u001b[0;34m,\u001b[0m\u001b[0mq\u001b[0m\u001b[0;34m,\u001b[0m\u001b[0mUM_matrix\u001b[0m\u001b[0;34m)\u001b[0m\u001b[0;34m\u001b[0m\u001b[0m\n\u001b[0m",
      "\u001b[0;32m<ipython-input-20-cf2e0c1f9f5a>\u001b[0m in \u001b[0;36mrmse\u001b[0;34m(p, q, UM)\u001b[0m\n\u001b[1;32m      2\u001b[0m \u001b[0;34m\u001b[0m\u001b[0m\n\u001b[1;32m      3\u001b[0m     \u001b[0mUM_pred\u001b[0m \u001b[0;34m=\u001b[0m  \u001b[0mnp\u001b[0m\u001b[0;34m.\u001b[0m\u001b[0mdot\u001b[0m\u001b[0;34m(\u001b[0m\u001b[0mp\u001b[0m\u001b[0;34m,\u001b[0m\u001b[0mq\u001b[0m\u001b[0;34m.\u001b[0m\u001b[0mT\u001b[0m\u001b[0;34m)\u001b[0m\u001b[0;34m\u001b[0m\u001b[0m\n\u001b[0;32m----> 4\u001b[0;31m     \u001b[0msubt\u001b[0m \u001b[0;34m=\u001b[0m \u001b[0mnp\u001b[0m\u001b[0;34m.\u001b[0m\u001b[0msubtract\u001b[0m\u001b[0;34m(\u001b[0m\u001b[0mUM_matrix\u001b[0m\u001b[0;34m,\u001b[0m\u001b[0mUM_matrix_pred\u001b[0m\u001b[0;34m)\u001b[0m\u001b[0;34m\u001b[0m\u001b[0m\n\u001b[0m\u001b[1;32m      5\u001b[0m     \u001b[0mRMSE\u001b[0m \u001b[0;34m=\u001b[0m \u001b[0mnp\u001b[0m\u001b[0;34m.\u001b[0m\u001b[0msqrt\u001b[0m\u001b[0;34m(\u001b[0m\u001b[0mnp\u001b[0m\u001b[0;34m.\u001b[0m\u001b[0msquare\u001b[0m\u001b[0;34m(\u001b[0m\u001b[0msub\u001b[0m\u001b[0;34m[\u001b[0m\u001b[0;34m~\u001b[0m\u001b[0mnp\u001b[0m\u001b[0;34m.\u001b[0m\u001b[0misnan\u001b[0m\u001b[0;34m(\u001b[0m\u001b[0msub\u001b[0m\u001b[0;34m)\u001b[0m\u001b[0;34m]\u001b[0m\u001b[0;34m)\u001b[0m\u001b[0;34m.\u001b[0m\u001b[0mmean\u001b[0m\u001b[0;34m(\u001b[0m\u001b[0;34m)\u001b[0m\u001b[0;34m)\u001b[0m\u001b[0;34m\u001b[0m\u001b[0m\n\u001b[1;32m      6\u001b[0m \u001b[0;34m\u001b[0m\u001b[0m\n",
      "\u001b[0;31mNameError\u001b[0m: name 'UM_matrix_pred' is not defined"
     ]
    }
   ],
   "source": [
    "RMSE = rmse(p,q,UM_matrix)"
   ]
  },
  {
   "cell_type": "code",
   "execution_count": null,
   "metadata": {},
   "outputs": [],
   "source": [
    "RMSE"
   ]
  },
  {
   "cell_type": "markdown",
   "metadata": {},
   "source": [
    "### Clustering model on the reduced dimension\n",
    "Clustering at User level on p matrix"
   ]
  },
  {
   "cell_type": "code",
   "execution_count": 24,
   "metadata": {},
   "outputs": [],
   "source": [
    "from sklearn.mixture import GaussianMixture as GMM"
   ]
  },
  {
   "cell_type": "code",
   "execution_count": 40,
   "metadata": {},
   "outputs": [],
   "source": [
    "gmm_fit = GMM(n_components=6).fit(p)"
   ]
  },
  {
   "cell_type": "code",
   "execution_count": 41,
   "metadata": {},
   "outputs": [],
   "source": [
    "prediction_gmm = gmm_fit.predict(p)\n",
    "probs = gmm_fit.predict_proba(p)\n"
   ]
  },
  {
   "cell_type": "code",
   "execution_count": 42,
   "metadata": {},
   "outputs": [
    {
     "data": {
      "text/plain": "array([[1.48145044e-02, 3.02277940e-02, 2.53390593e-02, 4.93081338e-02,\n        2.66034636e-04, 8.80044474e-01]])"
     },
     "execution_count": 42,
     "metadata": {},
     "output_type": "execute_result"
    }
   ],
   "source": [
    "probs[[0]]"
   ]
  },
  {
   "cell_type": "code",
   "execution_count": 43,
   "metadata": {},
   "outputs": [],
   "source": [
    "user_cluster = pd.DataFrame({'userId': UM.index , 'cluster': prediction_gmm })"
   ]
  },
  {
   "cell_type": "code",
   "execution_count": 44,
   "metadata": {},
   "outputs": [
    {
     "data": {
      "text/html": "<div>\n<style scoped>\n    .dataframe tbody tr th:only-of-type {\n        vertical-align: middle;\n    }\n\n    .dataframe tbody tr th {\n        vertical-align: top;\n    }\n\n    .dataframe thead th {\n        text-align: right;\n    }\n</style>\n<table border=\"1\" class=\"dataframe\">\n  <thead>\n    <tr style=\"text-align: right;\">\n      <th></th>\n      <th>cluster</th>\n      <th>userId</th>\n    </tr>\n  </thead>\n  <tbody>\n    <tr>\n      <th>0</th>\n      <td>5</td>\n      <td>100032</td>\n    </tr>\n    <tr>\n      <th>1</th>\n      <td>3</td>\n      <td>100036</td>\n    </tr>\n    <tr>\n      <th>2</th>\n      <td>3</td>\n      <td>100053</td>\n    </tr>\n    <tr>\n      <th>3</th>\n      <td>1</td>\n      <td>100057</td>\n    </tr>\n    <tr>\n      <th>4</th>\n      <td>5</td>\n      <td>100058</td>\n    </tr>\n  </tbody>\n</table>\n</div>",
      "text/plain": "   cluster  userId\n0        5  100032\n1        3  100036\n2        3  100053\n3        1  100057\n4        5  100058"
     },
     "execution_count": 44,
     "metadata": {},
     "output_type": "execute_result"
    }
   ],
   "source": [
    "user_cluster.head()"
   ]
  },
  {
   "cell_type": "code",
   "execution_count": 45,
   "metadata": {},
   "outputs": [],
   "source": [
    "import matplotlib.pyplot as plt "
   ]
  },
  {
   "cell_type": "code",
   "execution_count": 46,
   "metadata": {},
   "outputs": [],
   "source": [
    "n_components = np.arange(1, 21)\n",
    "models = [GMM(n, covariance_type='full', random_state=0).fit(p)\n",
    "          for n in n_components]"
   ]
  },
  {
   "cell_type": "code",
   "execution_count": 47,
   "metadata": {},
   "outputs": [
    {
     "data": {
      "text/plain": "Text(0.5, 0, 'n_components')"
     },
     "execution_count": 47,
     "metadata": {},
     "output_type": "execute_result"
    },
    {
     "data": {
      "image/png": "[encoded data removed]",
      "image/svg+xml": "<?xml version=\"1.0\" encoding=\"utf-8\" standalone=\"no\"?>\n<!DOCTYPE svg PUBLIC \"-//W3C//DTD SVG 1.1//EN\"\n  \"http://www.w3.org/Graphics/SVG/1.1/DTD/svg11.dtd\">\n<!-- Created with matplotlib (https://matplotlib.org/) -->\n<svg height=\"265.69625pt\" version=\"1.1\" viewBox=\"0 0 397.875 265.69625\" width=\"397.875pt\" xmlns=\"http://www.w3.org/2000/svg\" xmlns:xlink=\"http://www.w3.org/1999/xlink\">\n <defs>\n  <style type=\"text/css\">\n*{stroke-linecap:butt;stroke-linejoin:round;}\n  </style>\n </defs>\n <g id=\"figure_1\">\n  <g id=\"patch_1\">\n   <path d=\"M 0 265.69625 \nL 397.875 265.69625 \nL 397.875 0 \nL 0 0 \nz\n\" style=\"fill:none;\"/>\n  </g>\n  <g id=\"axes_1\">\n   <g id=\"patch_2\">\n    <path d=\"M 52.375 228.14 \nL 387.175 228.14 \nL 387.175 10.7 \nL 52.375 10.7 \nz\n\" style=\"fill:#ffffff;\"/>\n   </g>\n   <g id=\"matplotlib.axis_1\">\n    <g id=\"xtick_1\">\n     <g id=\"line2d_1\">\n      <defs>\n       <path d=\"M 0 0 \nL 0 3.5 \n\" id=\"mf589ec0287\" style=\"stroke:#000000;stroke-width:0.8;\"/>\n      </defs>\n      <g>\n       <use style=\"stroke:#000000;stroke-width:0.8;\" x=\"91.62189\" xlink:href=\"#mf589ec0287\" y=\"228.14\"/>\n      </g>\n     </g>\n     <g id=\"text_1\">\n      <!-- 2.5 -->\n      <defs>\n       <path d=\"M 19.1875 8.296875 \nL 53.609375 8.296875 \nL 53.609375 0 \nL 7.328125 0 \nL 7.328125 8.296875 \nQ 12.9375 14.109375 22.625 23.890625 \nQ 32.328125 33.6875 34.8125 36.53125 \nQ 39.546875 41.84375 41.421875 45.53125 \nQ 43.3125 49.21875 43.3125 52.78125 \nQ 43.3125 58.59375 39.234375 62.25 \nQ 35.15625 65.921875 28.609375 65.921875 \nQ 23.96875 65.921875 18.8125 64.3125 \nQ 13.671875 62.703125 7.8125 59.421875 \nL 7.8125 69.390625 \nQ 13.765625 71.78125 18.9375 73 \nQ 24.125 74.21875 28.421875 74.21875 \nQ 39.75 74.21875 46.484375 68.546875 \nQ 53.21875 62.890625 53.21875 53.421875 \nQ 53.21875 48.921875 51.53125 44.890625 \nQ 49.859375 40.875 45.40625 35.40625 \nQ 44.1875 33.984375 37.640625 27.21875 \nQ 31.109375 20.453125 19.1875 8.296875 \nz\n\" id=\"DejaVuSans-50\"/>\n       <path d=\"M 10.6875 12.40625 \nL 21 12.40625 \nL 21 0 \nL 10.6875 0 \nz\n\" id=\"DejaVuSans-46\"/>\n       <path d=\"M 10.796875 72.90625 \nL 49.515625 72.90625 \nL 49.515625 64.59375 \nL 19.828125 64.59375 \nL 19.828125 46.734375 \nQ 21.96875 47.46875 24.109375 47.828125 \nQ 26.265625 48.1875 28.421875 48.1875 \nQ 40.625 48.1875 47.75 41.5 \nQ 54.890625 34.8125 54.890625 23.390625 \nQ 54.890625 11.625 47.5625 5.09375 \nQ 40.234375 -1.421875 26.90625 -1.421875 \nQ 22.3125 -1.421875 17.546875 -0.640625 \nQ 12.796875 0.140625 7.71875 1.703125 \nL 7.71875 11.625 \nQ 12.109375 9.234375 16.796875 8.0625 \nQ 21.484375 6.890625 26.703125 6.890625 \nQ 35.15625 6.890625 40.078125 11.328125 \nQ 45.015625 15.765625 45.015625 23.390625 \nQ 45.015625 31 40.078125 35.4375 \nQ 35.15625 39.890625 26.703125 39.890625 \nQ 22.75 39.890625 18.8125 39.015625 \nQ 14.890625 38.140625 10.796875 36.28125 \nz\n\" id=\"DejaVuSans-53\"/>\n      </defs>\n      <g transform=\"translate(83.670327 242.738437)scale(0.1 -0.1)\">\n       <use xlink:href=\"#DejaVuSans-50\"/>\n       <use x=\"63.623047\" xlink:href=\"#DejaVuSans-46\"/>\n       <use x=\"95.410156\" xlink:href=\"#DejaVuSans-53\"/>\n      </g>\n     </g>\n    </g>\n    <g id=\"xtick_2\">\n     <g id=\"line2d_2\">\n      <g>\n       <use style=\"stroke:#000000;stroke-width:0.8;\" x=\"131.669737\" xlink:href=\"#mf589ec0287\" y=\"228.14\"/>\n      </g>\n     </g>\n     <g id=\"text_2\">\n      <!-- 5.0 -->\n      <defs>\n       <path d=\"M 31.78125 66.40625 \nQ 24.171875 66.40625 20.328125 58.90625 \nQ 16.5 51.421875 16.5 36.375 \nQ 16.5 21.390625 20.328125 13.890625 \nQ 24.171875 6.390625 31.78125 6.390625 \nQ 39.453125 6.390625 43.28125 13.890625 \nQ 47.125 21.390625 47.125 36.375 \nQ 47.125 51.421875 43.28125 58.90625 \nQ 39.453125 66.40625 31.78125 66.40625 \nz\nM 31.78125 74.21875 \nQ 44.046875 74.21875 50.515625 64.515625 \nQ 56.984375 54.828125 56.984375 36.375 \nQ 56.984375 17.96875 50.515625 8.265625 \nQ 44.046875 -1.421875 31.78125 -1.421875 \nQ 19.53125 -1.421875 13.0625 8.265625 \nQ 6.59375 17.96875 6.59375 36.375 \nQ 6.59375 54.828125 13.0625 64.515625 \nQ 19.53125 74.21875 31.78125 74.21875 \nz\n\" id=\"DejaVuSans-48\"/>\n      </defs>\n      <g transform=\"translate(123.718174 242.738437)scale(0.1 -0.1)\">\n       <use xlink:href=\"#DejaVuSans-53\"/>\n       <use x=\"63.623047\" xlink:href=\"#DejaVuSans-46\"/>\n       <use x=\"95.410156\" xlink:href=\"#DejaVuSans-48\"/>\n      </g>\n     </g>\n    </g>\n    <g id=\"xtick_3\">\n     <g id=\"line2d_3\">\n      <g>\n       <use style=\"stroke:#000000;stroke-width:0.8;\" x=\"171.717584\" xlink:href=\"#mf589ec0287\" y=\"228.14\"/>\n      </g>\n     </g>\n     <g id=\"text_3\">\n      <!-- 7.5 -->\n      <defs>\n       <path d=\"M 8.203125 72.90625 \nL 55.078125 72.90625 \nL 55.078125 68.703125 \nL 28.609375 0 \nL 18.3125 0 \nL 43.21875 64.59375 \nL 8.203125 64.59375 \nz\n\" id=\"DejaVuSans-55\"/>\n      </defs>\n      <g transform=\"translate(163.766021 242.738437)scale(0.1 -0.1)\">\n       <use xlink:href=\"#DejaVuSans-55\"/>\n       <use x=\"63.623047\" xlink:href=\"#DejaVuSans-46\"/>\n       <use x=\"95.410156\" xlink:href=\"#DejaVuSans-53\"/>\n      </g>\n     </g>\n    </g>\n    <g id=\"xtick_4\">\n     <g id=\"line2d_4\">\n      <g>\n       <use style=\"stroke:#000000;stroke-width:0.8;\" x=\"211.765431\" xlink:href=\"#mf589ec0287\" y=\"228.14\"/>\n      </g>\n     </g>\n     <g id=\"text_4\">\n      <!-- 10.0 -->\n      <defs>\n       <path d=\"M 12.40625 8.296875 \nL 28.515625 8.296875 \nL 28.515625 63.921875 \nL 10.984375 60.40625 \nL 10.984375 69.390625 \nL 28.421875 72.90625 \nL 38.28125 72.90625 \nL 38.28125 8.296875 \nL 54.390625 8.296875 \nL 54.390625 0 \nL 12.40625 0 \nz\n\" id=\"DejaVuSans-49\"/>\n      </defs>\n      <g transform=\"translate(200.632618 242.738437)scale(0.1 -0.1)\">\n       <use xlink:href=\"#DejaVuSans-49\"/>\n       <use x=\"63.623047\" xlink:href=\"#DejaVuSans-48\"/>\n       <use x=\"127.246094\" xlink:href=\"#DejaVuSans-46\"/>\n       <use x=\"159.033203\" xlink:href=\"#DejaVuSans-48\"/>\n      </g>\n     </g>\n    </g>\n    <g id=\"xtick_5\">\n     <g id=\"line2d_5\">\n      <g>\n       <use style=\"stroke:#000000;stroke-width:0.8;\" x=\"251.813278\" xlink:href=\"#mf589ec0287\" y=\"228.14\"/>\n      </g>\n     </g>\n     <g id=\"text_5\">\n      <!-- 12.5 -->\n      <g transform=\"translate(240.680465 242.738437)scale(0.1 -0.1)\">\n       <use xlink:href=\"#DejaVuSans-49\"/>\n       <use x=\"63.623047\" xlink:href=\"#DejaVuSans-50\"/>\n       <use x=\"127.246094\" xlink:href=\"#DejaVuSans-46\"/>\n       <use x=\"159.033203\" xlink:href=\"#DejaVuSans-53\"/>\n      </g>\n     </g>\n    </g>\n    <g id=\"xtick_6\">\n     <g id=\"line2d_6\">\n      <g>\n       <use style=\"stroke:#000000;stroke-width:0.8;\" x=\"291.861124\" xlink:href=\"#mf589ec0287\" y=\"228.14\"/>\n      </g>\n     </g>\n     <g id=\"text_6\">\n      <!-- 15.0 -->\n      <g transform=\"translate(280.728312 242.738437)scale(0.1 -0.1)\">\n       <use xlink:href=\"#DejaVuSans-49\"/>\n       <use x=\"63.623047\" xlink:href=\"#DejaVuSans-53\"/>\n       <use x=\"127.246094\" xlink:href=\"#DejaVuSans-46\"/>\n       <use x=\"159.033203\" xlink:href=\"#DejaVuSans-48\"/>\n      </g>\n     </g>\n    </g>\n    <g id=\"xtick_7\">\n     <g id=\"line2d_7\">\n      <g>\n       <use style=\"stroke:#000000;stroke-width:0.8;\" x=\"331.908971\" xlink:href=\"#mf589ec0287\" y=\"228.14\"/>\n      </g>\n     </g>\n     <g id=\"text_7\">\n      <!-- 17.5 -->\n      <g transform=\"translate(320.776159 242.738437)scale(0.1 -0.1)\">\n       <use xlink:href=\"#DejaVuSans-49\"/>\n       <use x=\"63.623047\" xlink:href=\"#DejaVuSans-55\"/>\n       <use x=\"127.246094\" xlink:href=\"#DejaVuSans-46\"/>\n       <use x=\"159.033203\" xlink:href=\"#DejaVuSans-53\"/>\n      </g>\n     </g>\n    </g>\n    <g id=\"xtick_8\">\n     <g id=\"line2d_8\">\n      <g>\n       <use style=\"stroke:#000000;stroke-width:0.8;\" x=\"371.956818\" xlink:href=\"#mf589ec0287\" y=\"228.14\"/>\n      </g>\n     </g>\n     <g id=\"text_8\">\n      <!-- 20.0 -->\n      <g transform=\"translate(360.824006 242.738437)scale(0.1 -0.1)\">\n       <use xlink:href=\"#DejaVuSans-50\"/>\n       <use x=\"63.623047\" xlink:href=\"#DejaVuSans-48\"/>\n       <use x=\"127.246094\" xlink:href=\"#DejaVuSans-46\"/>\n       <use x=\"159.033203\" xlink:href=\"#DejaVuSans-48\"/>\n      </g>\n     </g>\n    </g>\n    <g id=\"text_9\">\n     <!-- n_components -->\n     <defs>\n      <path d=\"M 54.890625 33.015625 \nL 54.890625 0 \nL 45.90625 0 \nL 45.90625 32.71875 \nQ 45.90625 40.484375 42.875 44.328125 \nQ 39.84375 48.1875 33.796875 48.1875 \nQ 26.515625 48.1875 22.3125 43.546875 \nQ 18.109375 38.921875 18.109375 30.90625 \nL 18.109375 0 \nL 9.078125 0 \nL 9.078125 54.6875 \nL 18.109375 54.6875 \nL 18.109375 46.1875 \nQ 21.34375 51.125 25.703125 53.5625 \nQ 30.078125 56 35.796875 56 \nQ 45.21875 56 50.046875 50.171875 \nQ 54.890625 44.34375 54.890625 33.015625 \nz\n\" id=\"DejaVuSans-110\"/>\n      <path d=\"M 50.984375 -16.609375 \nL 50.984375 -23.578125 \nL -0.984375 -23.578125 \nL -0.984375 -16.609375 \nz\n\" id=\"DejaVuSans-95\"/>\n      <path d=\"M 48.78125 52.59375 \nL 48.78125 44.1875 \nQ 44.96875 46.296875 41.140625 47.34375 \nQ 37.3125 48.390625 33.40625 48.390625 \nQ 24.65625 48.390625 19.8125 42.84375 \nQ 14.984375 37.3125 14.984375 27.296875 \nQ 14.984375 17.28125 19.8125 11.734375 \nQ 24.65625 6.203125 33.40625 6.203125 \nQ 37.3125 6.203125 41.140625 7.25 \nQ 44.96875 8.296875 48.78125 10.40625 \nL 48.78125 2.09375 \nQ 45.015625 0.34375 40.984375 -0.53125 \nQ 36.96875 -1.421875 32.421875 -1.421875 \nQ 20.0625 -1.421875 12.78125 6.34375 \nQ 5.515625 14.109375 5.515625 27.296875 \nQ 5.515625 40.671875 12.859375 48.328125 \nQ 20.21875 56 33.015625 56 \nQ 37.15625 56 41.109375 55.140625 \nQ 45.0625 54.296875 48.78125 52.59375 \nz\n\" id=\"DejaVuSans-99\"/>\n      <path d=\"M 30.609375 48.390625 \nQ 23.390625 48.390625 19.1875 42.75 \nQ 14.984375 37.109375 14.984375 27.296875 \nQ 14.984375 17.484375 19.15625 11.84375 \nQ 23.34375 6.203125 30.609375 6.203125 \nQ 37.796875 6.203125 41.984375 11.859375 \nQ 46.1875 17.53125 46.1875 27.296875 \nQ 46.1875 37.015625 41.984375 42.703125 \nQ 37.796875 48.390625 30.609375 48.390625 \nz\nM 30.609375 56 \nQ 42.328125 56 49.015625 48.375 \nQ 55.71875 40.765625 55.71875 27.296875 \nQ 55.71875 13.875 49.015625 6.21875 \nQ 42.328125 -1.421875 30.609375 -1.421875 \nQ 18.84375 -1.421875 12.171875 6.21875 \nQ 5.515625 13.875 5.515625 27.296875 \nQ 5.515625 40.765625 12.171875 48.375 \nQ 18.84375 56 30.609375 56 \nz\n\" id=\"DejaVuSans-111\"/>\n      <path d=\"M 52 44.1875 \nQ 55.375 50.25 60.0625 53.125 \nQ 64.75 56 71.09375 56 \nQ 79.640625 56 84.28125 50.015625 \nQ 88.921875 44.046875 88.921875 33.015625 \nL 88.921875 0 \nL 79.890625 0 \nL 79.890625 32.71875 \nQ 79.890625 40.578125 77.09375 44.375 \nQ 74.3125 48.1875 68.609375 48.1875 \nQ 61.625 48.1875 57.5625 43.546875 \nQ 53.515625 38.921875 53.515625 30.90625 \nL 53.515625 0 \nL 44.484375 0 \nL 44.484375 32.71875 \nQ 44.484375 40.625 41.703125 44.40625 \nQ 38.921875 48.1875 33.109375 48.1875 \nQ 26.21875 48.1875 22.15625 43.53125 \nQ 18.109375 38.875 18.109375 30.90625 \nL 18.109375 0 \nL 9.078125 0 \nL 9.078125 54.6875 \nL 18.109375 54.6875 \nL 18.109375 46.1875 \nQ 21.1875 51.21875 25.484375 53.609375 \nQ 29.78125 56 35.6875 56 \nQ 41.65625 56 45.828125 52.96875 \nQ 50 49.953125 52 44.1875 \nz\n\" id=\"DejaVuSans-109\"/>\n      <path d=\"M 18.109375 8.203125 \nL 18.109375 -20.796875 \nL 9.078125 -20.796875 \nL 9.078125 54.6875 \nL 18.109375 54.6875 \nL 18.109375 46.390625 \nQ 20.953125 51.265625 25.265625 53.625 \nQ 29.59375 56 35.59375 56 \nQ 45.5625 56 51.78125 48.09375 \nQ 58.015625 40.1875 58.015625 27.296875 \nQ 58.015625 14.40625 51.78125 6.484375 \nQ 45.5625 -1.421875 35.59375 -1.421875 \nQ 29.59375 -1.421875 25.265625 0.953125 \nQ 20.953125 3.328125 18.109375 8.203125 \nz\nM 48.6875 27.296875 \nQ 48.6875 37.203125 44.609375 42.84375 \nQ 40.53125 48.484375 33.40625 48.484375 \nQ 26.265625 48.484375 22.1875 42.84375 \nQ 18.109375 37.203125 18.109375 27.296875 \nQ 18.109375 17.390625 22.1875 11.75 \nQ 26.265625 6.109375 33.40625 6.109375 \nQ 40.53125 6.109375 44.609375 11.75 \nQ 48.6875 17.390625 48.6875 27.296875 \nz\n\" id=\"DejaVuSans-112\"/>\n      <path d=\"M 56.203125 29.59375 \nL 56.203125 25.203125 \nL 14.890625 25.203125 \nQ 15.484375 15.921875 20.484375 11.0625 \nQ 25.484375 6.203125 34.421875 6.203125 \nQ 39.59375 6.203125 44.453125 7.46875 \nQ 49.3125 8.734375 54.109375 11.28125 \nL 54.109375 2.78125 \nQ 49.265625 0.734375 44.1875 -0.34375 \nQ 39.109375 -1.421875 33.890625 -1.421875 \nQ 20.796875 -1.421875 13.15625 6.1875 \nQ 5.515625 13.8125 5.515625 26.8125 \nQ 5.515625 40.234375 12.765625 48.109375 \nQ 20.015625 56 32.328125 56 \nQ 43.359375 56 49.78125 48.890625 \nQ 56.203125 41.796875 56.203125 29.59375 \nz\nM 47.21875 32.234375 \nQ 47.125 39.59375 43.09375 43.984375 \nQ 39.0625 48.390625 32.421875 48.390625 \nQ 24.90625 48.390625 20.390625 44.140625 \nQ 15.875 39.890625 15.1875 32.171875 \nz\n\" id=\"DejaVuSans-101\"/>\n      <path d=\"M 18.3125 70.21875 \nL 18.3125 54.6875 \nL 36.8125 54.6875 \nL 36.8125 47.703125 \nL 18.3125 47.703125 \nL 18.3125 18.015625 \nQ 18.3125 11.328125 20.140625 9.421875 \nQ 21.96875 7.515625 27.59375 7.515625 \nL 36.8125 7.515625 \nL 36.8125 0 \nL 27.59375 0 \nQ 17.1875 0 13.234375 3.875 \nQ 9.28125 7.765625 9.28125 18.015625 \nL 9.28125 47.703125 \nL 2.6875 47.703125 \nL 2.6875 54.6875 \nL 9.28125 54.6875 \nL 9.28125 70.21875 \nz\n\" id=\"DejaVuSans-116\"/>\n      <path d=\"M 44.28125 53.078125 \nL 44.28125 44.578125 \nQ 40.484375 46.53125 36.375 47.5 \nQ 32.28125 48.484375 27.875 48.484375 \nQ 21.1875 48.484375 17.84375 46.4375 \nQ 14.5 44.390625 14.5 40.28125 \nQ 14.5 37.15625 16.890625 35.375 \nQ 19.28125 33.59375 26.515625 31.984375 \nL 29.59375 31.296875 \nQ 39.15625 29.25 43.1875 25.515625 \nQ 47.21875 21.78125 47.21875 15.09375 \nQ 47.21875 7.46875 41.1875 3.015625 \nQ 35.15625 -1.421875 24.609375 -1.421875 \nQ 20.21875 -1.421875 15.453125 -0.5625 \nQ 10.6875 0.296875 5.421875 2 \nL 5.421875 11.28125 \nQ 10.40625 8.6875 15.234375 7.390625 \nQ 20.0625 6.109375 24.8125 6.109375 \nQ 31.15625 6.109375 34.5625 8.28125 \nQ 37.984375 10.453125 37.984375 14.40625 \nQ 37.984375 18.0625 35.515625 20.015625 \nQ 33.0625 21.96875 24.703125 23.78125 \nL 21.578125 24.515625 \nQ 13.234375 26.265625 9.515625 29.90625 \nQ 5.8125 33.546875 5.8125 39.890625 \nQ 5.8125 47.609375 11.28125 51.796875 \nQ 16.75 56 26.8125 56 \nQ 31.78125 56 36.171875 55.265625 \nQ 40.578125 54.546875 44.28125 53.078125 \nz\n\" id=\"DejaVuSans-115\"/>\n     </defs>\n     <g transform=\"translate(183.214844 256.138437)scale(0.1 -0.1)\">\n      <use xlink:href=\"#DejaVuSans-110\"/>\n      <use x=\"63.378906\" xlink:href=\"#DejaVuSans-95\"/>\n      <use x=\"113.378906\" xlink:href=\"#DejaVuSans-99\"/>\n      <use x=\"168.359375\" xlink:href=\"#DejaVuSans-111\"/>\n      <use x=\"229.541016\" xlink:href=\"#DejaVuSans-109\"/>\n      <use x=\"326.953125\" xlink:href=\"#DejaVuSans-112\"/>\n      <use x=\"390.429688\" xlink:href=\"#DejaVuSans-111\"/>\n      <use x=\"451.611328\" xlink:href=\"#DejaVuSans-110\"/>\n      <use x=\"514.990234\" xlink:href=\"#DejaVuSans-101\"/>\n      <use x=\"576.513672\" xlink:href=\"#DejaVuSans-110\"/>\n      <use x=\"639.892578\" xlink:href=\"#DejaVuSans-116\"/>\n      <use x=\"679.101562\" xlink:href=\"#DejaVuSans-115\"/>\n     </g>\n    </g>\n   </g>\n   <g id=\"matplotlib.axis_2\">\n    <g id=\"ytick_1\">\n     <g id=\"line2d_9\">\n      <defs>\n       <path d=\"M 0 0 \nL -3.5 0 \n\" id=\"me181f3ce67\" style=\"stroke:#000000;stroke-width:0.8;\"/>\n      </defs>\n      <g>\n       <use style=\"stroke:#000000;stroke-width:0.8;\" x=\"52.375\" xlink:href=\"#me181f3ce67\" y=\"214.833742\"/>\n      </g>\n     </g>\n     <g id=\"text_10\">\n      <!-- 370000 -->\n      <defs>\n       <path d=\"M 40.578125 39.3125 \nQ 47.65625 37.796875 51.625 33 \nQ 55.609375 28.21875 55.609375 21.1875 \nQ 55.609375 10.40625 48.1875 4.484375 \nQ 40.765625 -1.421875 27.09375 -1.421875 \nQ 22.515625 -1.421875 17.65625 -0.515625 \nQ 12.796875 0.390625 7.625 2.203125 \nL 7.625 11.71875 \nQ 11.71875 9.328125 16.59375 8.109375 \nQ 21.484375 6.890625 26.8125 6.890625 \nQ 36.078125 6.890625 40.9375 10.546875 \nQ 45.796875 14.203125 45.796875 21.1875 \nQ 45.796875 27.640625 41.28125 31.265625 \nQ 36.765625 34.90625 28.71875 34.90625 \nL 20.21875 34.90625 \nL 20.21875 43.015625 \nL 29.109375 43.015625 \nQ 36.375 43.015625 40.234375 45.921875 \nQ 44.09375 48.828125 44.09375 54.296875 \nQ 44.09375 59.90625 40.109375 62.90625 \nQ 36.140625 65.921875 28.71875 65.921875 \nQ 24.65625 65.921875 20.015625 65.03125 \nQ 15.375 64.15625 9.8125 62.3125 \nL 9.8125 71.09375 \nQ 15.4375 72.65625 20.34375 73.4375 \nQ 25.25 74.21875 29.59375 74.21875 \nQ 40.828125 74.21875 47.359375 69.109375 \nQ 53.90625 64.015625 53.90625 55.328125 \nQ 53.90625 49.265625 50.4375 45.09375 \nQ 46.96875 40.921875 40.578125 39.3125 \nz\n\" id=\"DejaVuSans-51\"/>\n      </defs>\n      <g transform=\"translate(7.2 218.632961)scale(0.1 -0.1)\">\n       <use xlink:href=\"#DejaVuSans-51\"/>\n       <use x=\"63.623047\" xlink:href=\"#DejaVuSans-55\"/>\n       <use x=\"127.246094\" xlink:href=\"#DejaVuSans-48\"/>\n       <use x=\"190.869141\" xlink:href=\"#DejaVuSans-48\"/>\n       <use x=\"254.492188\" xlink:href=\"#DejaVuSans-48\"/>\n       <use x=\"318.115234\" xlink:href=\"#DejaVuSans-48\"/>\n      </g>\n     </g>\n    </g>\n    <g id=\"ytick_2\">\n     <g id=\"line2d_10\">\n      <g>\n       <use style=\"stroke:#000000;stroke-width:0.8;\" x=\"52.375\" xlink:href=\"#me181f3ce67\" y=\"172.791503\"/>\n      </g>\n     </g>\n     <g id=\"text_11\">\n      <!-- 380000 -->\n      <defs>\n       <path d=\"M 31.78125 34.625 \nQ 24.75 34.625 20.71875 30.859375 \nQ 16.703125 27.09375 16.703125 20.515625 \nQ 16.703125 13.921875 20.71875 10.15625 \nQ 24.75 6.390625 31.78125 6.390625 \nQ 38.8125 6.390625 42.859375 10.171875 \nQ 46.921875 13.96875 46.921875 20.515625 \nQ 46.921875 27.09375 42.890625 30.859375 \nQ 38.875 34.625 31.78125 34.625 \nz\nM 21.921875 38.8125 \nQ 15.578125 40.375 12.03125 44.71875 \nQ 8.5 49.078125 8.5 55.328125 \nQ 8.5 64.0625 14.71875 69.140625 \nQ 20.953125 74.21875 31.78125 74.21875 \nQ 42.671875 74.21875 48.875 69.140625 \nQ 55.078125 64.0625 55.078125 55.328125 \nQ 55.078125 49.078125 51.53125 44.71875 \nQ 48 40.375 41.703125 38.8125 \nQ 48.828125 37.15625 52.796875 32.3125 \nQ 56.78125 27.484375 56.78125 20.515625 \nQ 56.78125 9.90625 50.3125 4.234375 \nQ 43.84375 -1.421875 31.78125 -1.421875 \nQ 19.734375 -1.421875 13.25 4.234375 \nQ 6.78125 9.90625 6.78125 20.515625 \nQ 6.78125 27.484375 10.78125 32.3125 \nQ 14.796875 37.15625 21.921875 38.8125 \nz\nM 18.3125 54.390625 \nQ 18.3125 48.734375 21.84375 45.5625 \nQ 25.390625 42.390625 31.78125 42.390625 \nQ 38.140625 42.390625 41.71875 45.5625 \nQ 45.3125 48.734375 45.3125 54.390625 \nQ 45.3125 60.0625 41.71875 63.234375 \nQ 38.140625 66.40625 31.78125 66.40625 \nQ 25.390625 66.40625 21.84375 63.234375 \nQ 18.3125 60.0625 18.3125 54.390625 \nz\n\" id=\"DejaVuSans-56\"/>\n      </defs>\n      <g transform=\"translate(7.2 176.590722)scale(0.1 -0.1)\">\n       <use xlink:href=\"#DejaVuSans-51\"/>\n       <use x=\"63.623047\" xlink:href=\"#DejaVuSans-56\"/>\n       <use x=\"127.246094\" xlink:href=\"#DejaVuSans-48\"/>\n       <use x=\"190.869141\" xlink:href=\"#DejaVuSans-48\"/>\n       <use x=\"254.492188\" xlink:href=\"#DejaVuSans-48\"/>\n       <use x=\"318.115234\" xlink:href=\"#DejaVuSans-48\"/>\n      </g>\n     </g>\n    </g>\n    <g id=\"ytick_3\">\n     <g id=\"line2d_11\">\n      <g>\n       <use style=\"stroke:#000000;stroke-width:0.8;\" x=\"52.375\" xlink:href=\"#me181f3ce67\" y=\"130.749264\"/>\n      </g>\n     </g>\n     <g id=\"text_12\">\n      <!-- 390000 -->\n      <defs>\n       <path d=\"M 10.984375 1.515625 \nL 10.984375 10.5 \nQ 14.703125 8.734375 18.5 7.8125 \nQ 22.3125 6.890625 25.984375 6.890625 \nQ 35.75 6.890625 40.890625 13.453125 \nQ 46.046875 20.015625 46.78125 33.40625 \nQ 43.953125 29.203125 39.59375 26.953125 \nQ 35.25 24.703125 29.984375 24.703125 \nQ 19.046875 24.703125 12.671875 31.3125 \nQ 6.296875 37.9375 6.296875 49.421875 \nQ 6.296875 60.640625 12.9375 67.421875 \nQ 19.578125 74.21875 30.609375 74.21875 \nQ 43.265625 74.21875 49.921875 64.515625 \nQ 56.59375 54.828125 56.59375 36.375 \nQ 56.59375 19.140625 48.40625 8.859375 \nQ 40.234375 -1.421875 26.421875 -1.421875 \nQ 22.703125 -1.421875 18.890625 -0.6875 \nQ 15.09375 0.046875 10.984375 1.515625 \nz\nM 30.609375 32.421875 \nQ 37.25 32.421875 41.125 36.953125 \nQ 45.015625 41.5 45.015625 49.421875 \nQ 45.015625 57.28125 41.125 61.84375 \nQ 37.25 66.40625 30.609375 66.40625 \nQ 23.96875 66.40625 20.09375 61.84375 \nQ 16.21875 57.28125 16.21875 49.421875 \nQ 16.21875 41.5 20.09375 36.953125 \nQ 23.96875 32.421875 30.609375 32.421875 \nz\n\" id=\"DejaVuSans-57\"/>\n      </defs>\n      <g transform=\"translate(7.2 134.548483)scale(0.1 -0.1)\">\n       <use xlink:href=\"#DejaVuSans-51\"/>\n       <use x=\"63.623047\" xlink:href=\"#DejaVuSans-57\"/>\n       <use x=\"127.246094\" xlink:href=\"#DejaVuSans-48\"/>\n       <use x=\"190.869141\" xlink:href=\"#DejaVuSans-48\"/>\n       <use x=\"254.492188\" xlink:href=\"#DejaVuSans-48\"/>\n       <use x=\"318.115234\" xlink:href=\"#DejaVuSans-48\"/>\n      </g>\n     </g>\n    </g>\n    <g id=\"ytick_4\">\n     <g id=\"line2d_12\">\n      <g>\n       <use style=\"stroke:#000000;stroke-width:0.8;\" x=\"52.375\" xlink:href=\"#me181f3ce67\" y=\"88.707025\"/>\n      </g>\n     </g>\n     <g id=\"text_13\">\n      <!-- 400000 -->\n      <defs>\n       <path d=\"M 37.796875 64.3125 \nL 12.890625 25.390625 \nL 37.796875 25.390625 \nz\nM 35.203125 72.90625 \nL 47.609375 72.90625 \nL 47.609375 25.390625 \nL 58.015625 25.390625 \nL 58.015625 17.1875 \nL 47.609375 17.1875 \nL 47.609375 0 \nL 37.796875 0 \nL 37.796875 17.1875 \nL 4.890625 17.1875 \nL 4.890625 26.703125 \nz\n\" id=\"DejaVuSans-52\"/>\n      </defs>\n      <g transform=\"translate(7.2 92.506243)scale(0.1 -0.1)\">\n       <use xlink:href=\"#DejaVuSans-52\"/>\n       <use x=\"63.623047\" xlink:href=\"#DejaVuSans-48\"/>\n       <use x=\"127.246094\" xlink:href=\"#DejaVuSans-48\"/>\n       <use x=\"190.869141\" xlink:href=\"#DejaVuSans-48\"/>\n       <use x=\"254.492188\" xlink:href=\"#DejaVuSans-48\"/>\n       <use x=\"318.115234\" xlink:href=\"#DejaVuSans-48\"/>\n      </g>\n     </g>\n    </g>\n    <g id=\"ytick_5\">\n     <g id=\"line2d_13\">\n      <g>\n       <use style=\"stroke:#000000;stroke-width:0.8;\" x=\"52.375\" xlink:href=\"#me181f3ce67\" y=\"46.664786\"/>\n      </g>\n     </g>\n     <g id=\"text_14\">\n      <!-- 410000 -->\n      <g transform=\"translate(7.2 50.464004)scale(0.1 -0.1)\">\n       <use xlink:href=\"#DejaVuSans-52\"/>\n       <use x=\"63.623047\" xlink:href=\"#DejaVuSans-49\"/>\n       <use x=\"127.246094\" xlink:href=\"#DejaVuSans-48\"/>\n       <use x=\"190.869141\" xlink:href=\"#DejaVuSans-48\"/>\n       <use x=\"254.492188\" xlink:href=\"#DejaVuSans-48\"/>\n       <use x=\"318.115234\" xlink:href=\"#DejaVuSans-48\"/>\n      </g>\n     </g>\n    </g>\n   </g>\n   <g id=\"line2d_14\">\n    <path clip-path=\"url(#pcb276a8f14)\" d=\"M 67.593182 20.583636 \nL 83.612321 144.023897 \nL 99.631459 159.471423 \nL 115.650598 161.788936 \nL 131.669737 161.218966 \nL 147.688876 158.406147 \nL 163.708014 152.856153 \nL 179.727153 144.377 \nL 195.746292 140.094986 \nL 211.765431 134.194156 \nL 227.784569 128.012523 \nL 243.803708 120.679183 \nL 259.822847 114.287168 \nL 275.841986 109.658312 \nL 291.861124 101.335291 \nL 307.880263 92.268515 \nL 323.899402 85.518285 \nL 339.918541 78.447302 \nL 355.937679 73.201969 \nL 371.956818 65.417745 \n\" style=\"fill:none;stroke:#1f77b4;stroke-linecap:square;stroke-width:1.5;\"/>\n   </g>\n   <g id=\"line2d_15\">\n    <path clip-path=\"url(#pcb276a8f14)\" d=\"M 67.593182 28.186761 \nL 83.612321 159.263204 \nL 99.631459 182.34691 \nL 115.650598 192.300605 \nL 131.669737 199.366818 \nL 147.688876 204.19018 \nL 163.708014 206.276368 \nL 179.727153 205.433396 \nL 195.746292 208.787564 \nL 211.765431 210.522915 \nL 227.784569 211.977464 \nL 243.803708 212.280305 \nL 259.822847 213.524473 \nL 275.841986 216.531798 \nL 291.861124 215.844959 \nL 307.880263 214.414364 \nL 323.899402 215.300316 \nL 339.918541 215.865515 \nL 355.937679 218.256364 \nL 371.956818 218.108321 \n\" style=\"fill:none;stroke:#ff7f0e;stroke-linecap:square;stroke-width:1.5;\"/>\n   </g>\n   <g id=\"patch_3\">\n    <path d=\"M 52.375 228.14 \nL 52.375 10.7 \n\" style=\"fill:none;stroke:#000000;stroke-linecap:square;stroke-linejoin:miter;stroke-width:0.8;\"/>\n   </g>\n   <g id=\"patch_4\">\n    <path d=\"M 387.175 228.14 \nL 387.175 10.7 \n\" style=\"fill:none;stroke:#000000;stroke-linecap:square;stroke-linejoin:miter;stroke-width:0.8;\"/>\n   </g>\n   <g id=\"patch_5\">\n    <path d=\"M 52.375 228.14 \nL 387.175 228.14 \n\" style=\"fill:none;stroke:#000000;stroke-linecap:square;stroke-linejoin:miter;stroke-width:0.8;\"/>\n   </g>\n   <g id=\"patch_6\">\n    <path d=\"M 52.375 10.7 \nL 387.175 10.7 \n\" style=\"fill:none;stroke:#000000;stroke-linecap:square;stroke-linejoin:miter;stroke-width:0.8;\"/>\n   </g>\n   <g id=\"legend_1\">\n    <g id=\"patch_7\">\n     <path d=\"M 331.38125 48.05625 \nL 380.175 48.05625 \nQ 382.175 48.05625 382.175 46.05625 \nL 382.175 17.7 \nQ 382.175 15.7 380.175 15.7 \nL 331.38125 15.7 \nQ 329.38125 15.7 329.38125 17.7 \nL 329.38125 46.05625 \nQ 329.38125 48.05625 331.38125 48.05625 \nz\n\" style=\"fill:#ffffff;opacity:0.8;stroke:#cccccc;stroke-linejoin:miter;\"/>\n    </g>\n    <g id=\"line2d_16\">\n     <path d=\"M 333.38125 23.798437 \nL 353.38125 23.798437 \n\" style=\"fill:none;stroke:#1f77b4;stroke-linecap:square;stroke-width:1.5;\"/>\n    </g>\n    <g id=\"line2d_17\"/>\n    <g id=\"text_15\">\n     <!-- BIC -->\n     <defs>\n      <path d=\"M 19.671875 34.8125 \nL 19.671875 8.109375 \nL 35.5 8.109375 \nQ 43.453125 8.109375 47.28125 11.40625 \nQ 51.125 14.703125 51.125 21.484375 \nQ 51.125 28.328125 47.28125 31.5625 \nQ 43.453125 34.8125 35.5 34.8125 \nz\nM 19.671875 64.796875 \nL 19.671875 42.828125 \nL 34.28125 42.828125 \nQ 41.5 42.828125 45.03125 45.53125 \nQ 48.578125 48.25 48.578125 53.8125 \nQ 48.578125 59.328125 45.03125 62.0625 \nQ 41.5 64.796875 34.28125 64.796875 \nz\nM 9.8125 72.90625 \nL 35.015625 72.90625 \nQ 46.296875 72.90625 52.390625 68.21875 \nQ 58.5 63.53125 58.5 54.890625 \nQ 58.5 48.1875 55.375 44.234375 \nQ 52.25 40.28125 46.1875 39.3125 \nQ 53.46875 37.75 57.5 32.78125 \nQ 61.53125 27.828125 61.53125 20.40625 \nQ 61.53125 10.640625 54.890625 5.3125 \nQ 48.25 0 35.984375 0 \nL 9.8125 0 \nz\n\" id=\"DejaVuSans-66\"/>\n      <path d=\"M 9.8125 72.90625 \nL 19.671875 72.90625 \nL 19.671875 0 \nL 9.8125 0 \nz\n\" id=\"DejaVuSans-73\"/>\n      <path d=\"M 64.40625 67.28125 \nL 64.40625 56.890625 \nQ 59.421875 61.53125 53.78125 63.8125 \nQ 48.140625 66.109375 41.796875 66.109375 \nQ 29.296875 66.109375 22.65625 58.46875 \nQ 16.015625 50.828125 16.015625 36.375 \nQ 16.015625 21.96875 22.65625 14.328125 \nQ 29.296875 6.6875 41.796875 6.6875 \nQ 48.140625 6.6875 53.78125 8.984375 \nQ 59.421875 11.28125 64.40625 15.921875 \nL 64.40625 5.609375 \nQ 59.234375 2.09375 53.4375 0.328125 \nQ 47.65625 -1.421875 41.21875 -1.421875 \nQ 24.65625 -1.421875 15.125 8.703125 \nQ 5.609375 18.84375 5.609375 36.375 \nQ 5.609375 53.953125 15.125 64.078125 \nQ 24.65625 74.21875 41.21875 74.21875 \nQ 47.75 74.21875 53.53125 72.484375 \nQ 59.328125 70.75 64.40625 67.28125 \nz\n\" id=\"DejaVuSans-67\"/>\n     </defs>\n     <g transform=\"translate(361.38125 27.298437)scale(0.1 -0.1)\">\n      <use xlink:href=\"#DejaVuSans-66\"/>\n      <use x=\"68.603516\" xlink:href=\"#DejaVuSans-73\"/>\n      <use x=\"98.095703\" xlink:href=\"#DejaVuSans-67\"/>\n     </g>\n    </g>\n    <g id=\"line2d_18\">\n     <path d=\"M 333.38125 38.476562 \nL 353.38125 38.476562 \n\" style=\"fill:none;stroke:#ff7f0e;stroke-linecap:square;stroke-width:1.5;\"/>\n    </g>\n    <g id=\"line2d_19\"/>\n    <g id=\"text_16\">\n     <!-- AIC -->\n     <defs>\n      <path d=\"M 34.1875 63.1875 \nL 20.796875 26.90625 \nL 47.609375 26.90625 \nz\nM 28.609375 72.90625 \nL 39.796875 72.90625 \nL 67.578125 0 \nL 57.328125 0 \nL 50.6875 18.703125 \nL 17.828125 18.703125 \nL 11.1875 0 \nL 0.78125 0 \nz\n\" id=\"DejaVuSans-65\"/>\n     </defs>\n     <g transform=\"translate(361.38125 41.976562)scale(0.1 -0.1)\">\n      <use xlink:href=\"#DejaVuSans-65\"/>\n      <use x=\"68.408203\" xlink:href=\"#DejaVuSans-73\"/>\n      <use x=\"97.900391\" xlink:href=\"#DejaVuSans-67\"/>\n     </g>\n    </g>\n   </g>\n  </g>\n </g>\n <defs>\n  <clipPath id=\"pcb276a8f14\">\n   <rect height=\"217.44\" width=\"334.8\" x=\"52.375\" y=\"10.7\"/>\n  </clipPath>\n </defs>\n</svg>\n",
      "text/plain": "<Figure size 432x288 with 1 Axes>"
     },
     "metadata": {
      "needs_background": "light"
     },
     "output_type": "display_data"
    }
   ],
   "source": [
    "plt.plot(n_components, [m.bic(p) for m in models], label='BIC')\n",
    "plt.plot(n_components, [m.aic(p) for m in models], label='AIC')\n",
    "plt.legend(loc='best')\n",
    "plt.xlabel('n_components')"
   ]
  },
  {
   "cell_type": "markdown",
   "metadata": {},
   "source": [
    "---\n",
    "Merging this data to the training dataset"
   ]
  },
  {
   "cell_type": "code",
   "execution_count": 48,
   "metadata": {},
   "outputs": [],
   "source": [
    "train_clusters = train_new.merge(user_cluster,how = 'left' , left_on= 'userId', right_on= 'userId')"
   ]
  },
  {
   "cell_type": "code",
   "execution_count": 49,
   "metadata": {},
   "outputs": [
    {
     "data": {
      "text/html": "<div>\n<style scoped>\n    .dataframe tbody tr th:only-of-type {\n        vertical-align: middle;\n    }\n\n    .dataframe tbody tr th {\n        vertical-align: top;\n    }\n\n    .dataframe thead th {\n        text-align: right;\n    }\n</style>\n<table border=\"1\" class=\"dataframe\">\n  <thead>\n    <tr style=\"text-align: right;\">\n      <th></th>\n      <th>index</th>\n      <th>userId</th>\n      <th>movieId</th>\n      <th>rating</th>\n      <th>timestamp</th>\n      <th>year</th>\n      <th>title</th>\n      <th>releaseDate</th>\n      <th>directedBy</th>\n      <th>starring</th>\n      <th>...</th>\n      <th>IMAX</th>\n      <th>Musical</th>\n      <th>Mystery</th>\n      <th>Romance</th>\n      <th>Sci-Fi</th>\n      <th>Thriller</th>\n      <th>War</th>\n      <th>Western</th>\n      <th>nan</th>\n      <th>cluster</th>\n    </tr>\n  </thead>\n  <tbody>\n    <tr>\n      <th>0</th>\n      <td>25353</td>\n      <td>142748</td>\n      <td>2762</td>\n      <td>5.0</td>\n      <td>2017-12-31 23:59:41</td>\n      <td>2017</td>\n      <td>Sixth Sense, The (1999)</td>\n      <td>1999-08-06</td>\n      <td>M. Night Shyamalan</td>\n      <td>Haley Joel Osment, Bruce Willis, Toni Collette...</td>\n      <td>...</td>\n      <td>0</td>\n      <td>0</td>\n      <td>1</td>\n      <td>0</td>\n      <td>0</td>\n      <td>0</td>\n      <td>0</td>\n      <td>0</td>\n      <td>0</td>\n      <td>3</td>\n    </tr>\n    <tr>\n      <th>1</th>\n      <td>26123</td>\n      <td>142752</td>\n      <td>2762</td>\n      <td>4.0</td>\n      <td>2017-12-31 20:41:29</td>\n      <td>2017</td>\n      <td>Sixth Sense, The (1999)</td>\n      <td>1999-08-06</td>\n      <td>M. Night Shyamalan</td>\n      <td>Haley Joel Osment, Bruce Willis, Toni Collette...</td>\n      <td>...</td>\n      <td>0</td>\n      <td>0</td>\n      <td>1</td>\n      <td>0</td>\n      <td>0</td>\n      <td>0</td>\n      <td>0</td>\n      <td>0</td>\n      <td>0</td>\n      <td>3</td>\n    </tr>\n    <tr>\n      <th>2</th>\n      <td>26180</td>\n      <td>142744</td>\n      <td>2762</td>\n      <td>4.0</td>\n      <td>2017-12-31 20:35:25</td>\n      <td>2017</td>\n      <td>Sixth Sense, The (1999)</td>\n      <td>1999-08-06</td>\n      <td>M. Night Shyamalan</td>\n      <td>Haley Joel Osment, Bruce Willis, Toni Collette...</td>\n      <td>...</td>\n      <td>0</td>\n      <td>0</td>\n      <td>1</td>\n      <td>0</td>\n      <td>0</td>\n      <td>0</td>\n      <td>0</td>\n      <td>0</td>\n      <td>0</td>\n      <td>2</td>\n    </tr>\n    <tr>\n      <th>3</th>\n      <td>26257</td>\n      <td>142753</td>\n      <td>2762</td>\n      <td>4.5</td>\n      <td>2017-12-31 20:19:35</td>\n      <td>2017</td>\n      <td>Sixth Sense, The (1999)</td>\n      <td>1999-08-06</td>\n      <td>M. Night Shyamalan</td>\n      <td>Haley Joel Osment, Bruce Willis, Toni Collette...</td>\n      <td>...</td>\n      <td>0</td>\n      <td>0</td>\n      <td>1</td>\n      <td>0</td>\n      <td>0</td>\n      <td>0</td>\n      <td>0</td>\n      <td>0</td>\n      <td>0</td>\n      <td>5</td>\n    </tr>\n    <tr>\n      <th>4</th>\n      <td>26651</td>\n      <td>142747</td>\n      <td>2762</td>\n      <td>3.0</td>\n      <td>2017-12-31 18:02:45</td>\n      <td>2017</td>\n      <td>Sixth Sense, The (1999)</td>\n      <td>1999-08-06</td>\n      <td>M. Night Shyamalan</td>\n      <td>Haley Joel Osment, Bruce Willis, Toni Collette...</td>\n      <td>...</td>\n      <td>0</td>\n      <td>0</td>\n      <td>1</td>\n      <td>0</td>\n      <td>0</td>\n      <td>0</td>\n      <td>0</td>\n      <td>0</td>\n      <td>0</td>\n      <td>5</td>\n    </tr>\n  </tbody>\n</table>\n<p>5 rows × 34 columns</p>\n</div>",
      "text/plain": "   index  userId  movieId  rating            timestamp  year  \\\n0  25353  142748     2762     5.0  2017-12-31 23:59:41  2017   \n1  26123  142752     2762     4.0  2017-12-31 20:41:29  2017   \n2  26180  142744     2762     4.0  2017-12-31 20:35:25  2017   \n3  26257  142753     2762     4.5  2017-12-31 20:19:35  2017   \n4  26651  142747     2762     3.0  2017-12-31 18:02:45  2017   \n\n                     title releaseDate          directedBy  \\\n0  Sixth Sense, The (1999)  1999-08-06  M. Night Shyamalan   \n1  Sixth Sense, The (1999)  1999-08-06  M. Night Shyamalan   \n2  Sixth Sense, The (1999)  1999-08-06  M. Night Shyamalan   \n3  Sixth Sense, The (1999)  1999-08-06  M. Night Shyamalan   \n4  Sixth Sense, The (1999)  1999-08-06  M. Night Shyamalan   \n\n                                            starring   ...     IMAX  Musical  \\\n0  Haley Joel Osment, Bruce Willis, Toni Collette...   ...        0        0   \n1  Haley Joel Osment, Bruce Willis, Toni Collette...   ...        0        0   \n2  Haley Joel Osment, Bruce Willis, Toni Collette...   ...        0        0   \n3  Haley Joel Osment, Bruce Willis, Toni Collette...   ...        0        0   \n4  Haley Joel Osment, Bruce Willis, Toni Collette...   ...        0        0   \n\n  Mystery  Romance  Sci-Fi  Thriller  War  Western  nan  cluster  \n0       1        0       0         0    0        0    0        3  \n1       1        0       0         0    0        0    0        3  \n2       1        0       0         0    0        0    0        2  \n3       1        0       0         0    0        0    0        5  \n4       1        0       0         0    0        0    0        5  \n\n[5 rows x 34 columns]"
     },
     "execution_count": 49,
     "metadata": {},
     "output_type": "execute_result"
    }
   ],
   "source": [
    "train_clusters.head()"
   ]
  },
  {
   "cell_type": "code",
   "execution_count": 50,
   "metadata": {},
   "outputs": [
    {
     "data": {
      "text/plain": "3    5920\n2    5377\n0    2177\n5    2002\n1    1918\n4    1809\nName: cluster, dtype: int64"
     },
     "execution_count": 50,
     "metadata": {},
     "output_type": "execute_result"
    }
   ],
   "source": [
    "user_cluster['cluster'].value_counts()"
   ]
  },
  {
   "cell_type": "code",
   "execution_count": 51,
   "metadata": {},
   "outputs": [],
   "source": [
    "genres_lst = ['Action', 'Adventure', 'Animation', 'Children',\n",
    "       'Comedy', 'Crime', 'Documentary', 'Drama', 'Fantasy', 'Film-Noir',\n",
    "       'Horror', 'IMAX', 'Musical', 'Mystery', 'Romance', 'Sci-Fi', 'Thriller',\n",
    "       'War', 'Western']"
   ]
  },
  {
   "cell_type": "code",
   "execution_count": 52,
   "metadata": {},
   "outputs": [
    {
     "data": {
      "text/html": "<div>\n<style scoped>\n    .dataframe tbody tr th:only-of-type {\n        vertical-align: middle;\n    }\n\n    .dataframe tbody tr th {\n        vertical-align: top;\n    }\n\n    .dataframe thead th {\n        text-align: right;\n    }\n</style>\n<table border=\"1\" class=\"dataframe\">\n  <thead>\n    <tr style=\"text-align: right;\">\n      <th></th>\n      <th>0</th>\n      <th>1</th>\n      <th>2</th>\n      <th>3</th>\n      <th>4</th>\n      <th>5</th>\n    </tr>\n  </thead>\n  <tbody>\n    <tr>\n      <th>Action</th>\n      <td>21.483693</td>\n      <td>34.489051</td>\n      <td>19.267249</td>\n      <td>31.976182</td>\n      <td>17.845218</td>\n      <td>13.798701</td>\n    </tr>\n    <tr>\n      <th>Adventure</th>\n      <td>17.424437</td>\n      <td>27.443691</td>\n      <td>16.711177</td>\n      <td>26.799662</td>\n      <td>15.660033</td>\n      <td>10.829171</td>\n    </tr>\n    <tr>\n      <th>Animation</th>\n      <td>5.679375</td>\n      <td>9.527112</td>\n      <td>5.901990</td>\n      <td>9.718243</td>\n      <td>5.720840</td>\n      <td>3.443556</td>\n    </tr>\n    <tr>\n      <th>Children</th>\n      <td>5.395498</td>\n      <td>9.173097</td>\n      <td>5.858285</td>\n      <td>9.593750</td>\n      <td>5.560531</td>\n      <td>3.303696</td>\n    </tr>\n    <tr>\n      <th>Comedy</th>\n      <td>15.815342</td>\n      <td>27.128780</td>\n      <td>16.166822</td>\n      <td>26.994595</td>\n      <td>15.953013</td>\n      <td>10.427073</td>\n    </tr>\n    <tr>\n      <th>Crime</th>\n      <td>10.651355</td>\n      <td>17.155892</td>\n      <td>9.807699</td>\n      <td>16.087838</td>\n      <td>9.339414</td>\n      <td>7.678821</td>\n    </tr>\n    <tr>\n      <th>Documentary</th>\n      <td>0.360588</td>\n      <td>0.675704</td>\n      <td>0.419379</td>\n      <td>0.642399</td>\n      <td>0.530680</td>\n      <td>0.300200</td>\n    </tr>\n    <tr>\n      <th>Drama</th>\n      <td>20.875976</td>\n      <td>35.510949</td>\n      <td>20.704482</td>\n      <td>33.713007</td>\n      <td>20.271421</td>\n      <td>14.928571</td>\n    </tr>\n    <tr>\n      <th>Fantasy</th>\n      <td>9.031236</td>\n      <td>14.491658</td>\n      <td>8.998698</td>\n      <td>14.561486</td>\n      <td>8.482587</td>\n      <td>5.705794</td>\n    </tr>\n    <tr>\n      <th>Film-Noir</th>\n      <td>0.442811</td>\n      <td>0.927007</td>\n      <td>0.419565</td>\n      <td>0.851182</td>\n      <td>0.405196</td>\n      <td>0.374126</td>\n    </tr>\n    <tr>\n      <th>Horror</th>\n      <td>4.542030</td>\n      <td>8.213243</td>\n      <td>4.663381</td>\n      <td>7.807939</td>\n      <td>4.667219</td>\n      <td>3.426573</td>\n    </tr>\n    <tr>\n      <th>IMAX</th>\n      <td>6.333027</td>\n      <td>9.361314</td>\n      <td>5.866468</td>\n      <td>9.314696</td>\n      <td>5.346048</td>\n      <td>3.838661</td>\n    </tr>\n    <tr>\n      <th>Musical</th>\n      <td>1.549380</td>\n      <td>2.905109</td>\n      <td>1.780919</td>\n      <td>2.984966</td>\n      <td>1.723051</td>\n      <td>1.067433</td>\n    </tr>\n    <tr>\n      <th>Mystery</th>\n      <td>5.119430</td>\n      <td>8.880605</td>\n      <td>4.835224</td>\n      <td>8.240709</td>\n      <td>4.608624</td>\n      <td>3.549950</td>\n    </tr>\n    <tr>\n      <th>Romance</th>\n      <td>7.604042</td>\n      <td>13.165276</td>\n      <td>8.300911</td>\n      <td>13.238682</td>\n      <td>8.301824</td>\n      <td>5.080919</td>\n    </tr>\n    <tr>\n      <th>Sci-Fi</th>\n      <td>13.123105</td>\n      <td>21.238269</td>\n      <td>12.072531</td>\n      <td>20.002196</td>\n      <td>10.967938</td>\n      <td>8.641858</td>\n    </tr>\n    <tr>\n      <th>Thriller</th>\n      <td>16.878732</td>\n      <td>29.312304</td>\n      <td>15.552911</td>\n      <td>26.596622</td>\n      <td>14.600884</td>\n      <td>11.683317</td>\n    </tr>\n    <tr>\n      <th>War</th>\n      <td>2.712448</td>\n      <td>4.333160</td>\n      <td>2.610006</td>\n      <td>4.003716</td>\n      <td>2.522941</td>\n      <td>1.889610</td>\n    </tr>\n    <tr>\n      <th>Western</th>\n      <td>0.469453</td>\n      <td>0.955162</td>\n      <td>0.476660</td>\n      <td>0.840372</td>\n      <td>0.454395</td>\n      <td>0.328172</td>\n    </tr>\n  </tbody>\n</table>\n</div>",
      "text/plain": "                     0          1          2          3          4          5\nAction       21.483693  34.489051  19.267249  31.976182  17.845218  13.798701\nAdventure    17.424437  27.443691  16.711177  26.799662  15.660033  10.829171\nAnimation     5.679375   9.527112   5.901990   9.718243   5.720840   3.443556\nChildren      5.395498   9.173097   5.858285   9.593750   5.560531   3.303696\nComedy       15.815342  27.128780  16.166822  26.994595  15.953013  10.427073\nCrime        10.651355  17.155892   9.807699  16.087838   9.339414   7.678821\nDocumentary   0.360588   0.675704   0.419379   0.642399   0.530680   0.300200\nDrama        20.875976  35.510949  20.704482  33.713007  20.271421  14.928571\nFantasy       9.031236  14.491658   8.998698  14.561486   8.482587   5.705794\nFilm-Noir     0.442811   0.927007   0.419565   0.851182   0.405196   0.374126\nHorror        4.542030   8.213243   4.663381   7.807939   4.667219   3.426573\nIMAX          6.333027   9.361314   5.866468   9.314696   5.346048   3.838661\nMusical       1.549380   2.905109   1.780919   2.984966   1.723051   1.067433\nMystery       5.119430   8.880605   4.835224   8.240709   4.608624   3.549950\nRomance       7.604042  13.165276   8.300911  13.238682   8.301824   5.080919\nSci-Fi       13.123105  21.238269  12.072531  20.002196  10.967938   8.641858\nThriller     16.878732  29.312304  15.552911  26.596622  14.600884  11.683317\nWar           2.712448   4.333160   2.610006   4.003716   2.522941   1.889610\nWestern       0.469453   0.955162   0.476660   0.840372   0.454395   0.328172"
     },
     "execution_count": 52,
     "metadata": {},
     "output_type": "execute_result"
    }
   ],
   "source": [
    "train_clusters.groupby('cluster')[genres_lst].sum().T/user_cluster['cluster'].value_counts()"
   ]
  },
  {
   "cell_type": "code",
   "execution_count": 53,
   "metadata": {},
   "outputs": [
    {
     "data": {
      "text/plain": "Index(['index', 'userId', 'movieId', 'rating', 'timestamp', 'year', 'title',\n       'releaseDate', 'directedBy', 'starring', 'imdbId', 'tmdbId', 'genres',\n       'Action', 'Adventure', 'Animation', 'Children', 'Comedy', 'Crime',\n       'Documentary', 'Drama', 'Fantasy', 'Film-Noir', 'Horror', 'IMAX',\n       'Musical', 'Mystery', 'Romance', 'Sci-Fi', 'Thriller', 'War', 'Western',\n       'nan', 'cluster'],\n      dtype='object')"
     },
     "execution_count": 53,
     "metadata": {},
     "output_type": "execute_result"
    }
   ],
   "source": [
    "train_clusters.columns"
   ]
  },
  {
   "cell_type": "code",
   "execution_count": 54,
   "metadata": {},
   "outputs": [],
   "source": [
    "user_cluster.to_csv('../Intermediate_data/user_clusters.csv')"
   ]
  },
  {
   "cell_type": "code",
   "execution_count": 55,
   "metadata": {},
   "outputs": [],
   "source": [
    "train_clusters.to_csv('../../data/train_clusters.csv')"
   ]
  },
  {
   "cell_type": "code",
   "execution_count": null,
   "metadata": {},
   "outputs": [],
   "source": []
  }
 ]
}