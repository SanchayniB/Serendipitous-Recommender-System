{
 "nbformat": 4,
 "nbformat_minor": 2,
 "metadata": {
  "language_info": {
   "name": "python",
   "codemirror_mode": {
    "name": "ipython",
    "version": 3
   },
   "version": "3.7.4-final"
  },
  "orig_nbformat": 2,
  "file_extension": ".py",
  "mimetype": "text/x-python",
  "name": "python",
  "npconvert_exporter": "python",
  "pygments_lexer": "ipython3",
  "version": 3,
  "kernelspec": {
   "name": "python3",
   "display_name": "Python 3"
  }
 },
 "cells": [
  {
   "cell_type": "code",
   "execution_count": 35,
   "metadata": {},
   "outputs": [],
   "source": [
    "import pandas as pd\n",
    "import numpy as np  \n",
    "import json"
   ]
  },
  {
   "cell_type": "code",
   "execution_count": 36,
   "metadata": {},
   "outputs": [],
   "source": [
    "url = '../Intermediate_data/top_20_predictn_svd.json'\n",
    "with open(url, 'r') as myfile:\n",
    "    data=myfile.read()"
   ]
  },
  {
   "cell_type": "code",
   "execution_count": 37,
   "metadata": {},
   "outputs": [],
   "source": [
    "svd_prediction = json.loads(data)"
   ]
  },
  {
   "cell_type": "code",
   "execution_count": 38,
   "metadata": {},
   "outputs": [],
   "source": [
    "SRS_prediction = pd.read_csv('../Intermediate_data/distancePredictions.csv', index_col= 0)"
   ]
  },
  {
   "cell_type": "code",
   "execution_count": 39,
   "metadata": {},
   "outputs": [
    {
     "output_type": "execute_result",
     "data": {
      "text/plain": "   movieId                                              title  rating  userId\n0     1586                                   G.I. Jane (1997)     NaN  127137\n1     1840                                 He Got Game (1998)     NaN  127137\n2     6421                             Rare Breed, The (1966)     NaN  127137\n3     7251                     Where the Day Takes You (1992)     NaN  127137\n4     8772          Spy Who Came in from the Cold, The (1965)     NaN  127137\n5    26399                          Five Deadly Venoms (1978)     NaN  127137\n6    26776  Porco Rosso (Crimson Pig) (Kurenai no buta) (1...     NaN  127137\n7    34464    Christmas in August (Palwolui Christmas) (1998)     NaN  127137\n8    52199                        Damnation (Karhozat) (1987)     NaN  127137\n9    86312                      Mouse on the Moon, The (1963)     NaN  127137",
      "text/html": "<div>\n<style scoped>\n    .dataframe tbody tr th:only-of-type {\n        vertical-align: middle;\n    }\n\n    .dataframe tbody tr th {\n        vertical-align: top;\n    }\n\n    .dataframe thead th {\n        text-align: right;\n    }\n</style>\n<table border=\"1\" class=\"dataframe\">\n  <thead>\n    <tr style=\"text-align: right;\">\n      <th></th>\n      <th>movieId</th>\n      <th>title</th>\n      <th>rating</th>\n      <th>userId</th>\n    </tr>\n  </thead>\n  <tbody>\n    <tr>\n      <td>0</td>\n      <td>1586</td>\n      <td>G.I. Jane (1997)</td>\n      <td>NaN</td>\n      <td>127137</td>\n    </tr>\n    <tr>\n      <td>1</td>\n      <td>1840</td>\n      <td>He Got Game (1998)</td>\n      <td>NaN</td>\n      <td>127137</td>\n    </tr>\n    <tr>\n      <td>2</td>\n      <td>6421</td>\n      <td>Rare Breed, The (1966)</td>\n      <td>NaN</td>\n      <td>127137</td>\n    </tr>\n    <tr>\n      <td>3</td>\n      <td>7251</td>\n      <td>Where the Day Takes You (1992)</td>\n      <td>NaN</td>\n      <td>127137</td>\n    </tr>\n    <tr>\n      <td>4</td>\n      <td>8772</td>\n      <td>Spy Who Came in from the Cold, The (1965)</td>\n      <td>NaN</td>\n      <td>127137</td>\n    </tr>\n    <tr>\n      <td>5</td>\n      <td>26399</td>\n      <td>Five Deadly Venoms (1978)</td>\n      <td>NaN</td>\n      <td>127137</td>\n    </tr>\n    <tr>\n      <td>6</td>\n      <td>26776</td>\n      <td>Porco Rosso (Crimson Pig) (Kurenai no buta) (1...</td>\n      <td>NaN</td>\n      <td>127137</td>\n    </tr>\n    <tr>\n      <td>7</td>\n      <td>34464</td>\n      <td>Christmas in August (Palwolui Christmas) (1998)</td>\n      <td>NaN</td>\n      <td>127137</td>\n    </tr>\n    <tr>\n      <td>8</td>\n      <td>52199</td>\n      <td>Damnation (Karhozat) (1987)</td>\n      <td>NaN</td>\n      <td>127137</td>\n    </tr>\n    <tr>\n      <td>9</td>\n      <td>86312</td>\n      <td>Mouse on the Moon, The (1963)</td>\n      <td>NaN</td>\n      <td>127137</td>\n    </tr>\n  </tbody>\n</table>\n</div>"
     },
     "metadata": {},
     "execution_count": 39
    }
   ],
   "source": [
    "SRS_prediction.head(10)"
   ]
  },
  {
   "cell_type": "code",
   "execution_count": 40,
   "metadata": {},
   "outputs": [],
   "source": [
    "movies_url = 'https://raw.githubusercontent.com/SanchayniB/Serendipitous-Recommender-System/master/Intermediate_data/filtered_movies_genre.csv'\n",
    "movies_filtered = pd.read_csv(movies_url,index_col= 0)"
   ]
  },
  {
   "cell_type": "code",
   "execution_count": 41,
   "metadata": {},
   "outputs": [],
   "source": [
    "train_subset = pd.read_csv('../Intermediate_data/train_subset.csv',index_col= 0)"
   ]
  },
  {
   "cell_type": "code",
   "execution_count": 42,
   "metadata": {},
   "outputs": [],
   "source": [
    "train_new = train_subset.merge(movies_filtered, how = 'inner', left_on = 'movieId', right_on = 'movieId' )"
   ]
  },
  {
   "cell_type": "code",
   "execution_count": 43,
   "metadata": {},
   "outputs": [
    {
     "output_type": "execute_result",
     "data": {
      "text/plain": "   movieId                   title releaseDate             directedBy  \\\n0     1626  Fire Down Below (1997)  1997-09-05  Félix Enríquez Alcalá   \n1   106491         47 Ronin (2013)  2013-12-25            Carl Rinsch   \n2    85414      Source Code (2011)  2011-04-01           Duncan Jones   \n3   124805    Venus & Vegas (2010)  2010-11-01    Demian Lichtenstein   \n4   144514            Quick (2011)  2011-07-21            Beom-gu Cho   \n\n                                            starring   imdbId   tmdbId  \\\n0  Steven Seagal, Marg Helgenberger, Stephen Lang...   119123  14289.0   \n1  Keanu Reeves, Hiroyuki Sanada, Kô Shibasaki, R...  1335975  64686.0   \n2  Jake Gyllenhaal, Michelle Monaghan, Vera Farmi...   945513  45612.0   \n3  Eddie Kaye Thomas,Donald Faison,Eddie Guerra,J...   423474  68716.0   \n4  Yoo Seung-Mok,Yoon Je-moon,Kim Tae-woo,Lee Min...  2007413  77175.0   \n\n                                              genres  Action  Adventure  ...  \\\n0                    ['Action', 'Drama', 'Thriller']       1          0  ...   \n1                 ['Action', 'Adventure', 'Fantasy']       1          1  ...   \n2  ['Action', 'Drama', 'Mystery', 'Sci-Fi', 'Thri...       1          0  ...   \n3                               ['Action', 'Comedy']       1          0  ...   \n4                   ['Action', 'Comedy', 'Thriller']       1          0  ...   \n\n   Horror  IMAX  Musical  Mystery  Romance  Sci-Fi  Thriller  War  Western  \\\n0       0     0        0        0        0       0         1    0        0   \n1       0     0        0        0        0       0         0    0        0   \n2       0     0        0        1        0       1         1    0        0   \n3       0     0        0        0        0       0         0    0        0   \n4       0     0        0        0        0       0         1    0        0   \n\n   nan  \n0    0  \n1    0  \n2    0  \n3    0  \n4    0  \n\n[5 rows x 28 columns]",
      "text/html": "<div>\n<style scoped>\n    .dataframe tbody tr th:only-of-type {\n        vertical-align: middle;\n    }\n\n    .dataframe tbody tr th {\n        vertical-align: top;\n    }\n\n    .dataframe thead th {\n        text-align: right;\n    }\n</style>\n<table border=\"1\" class=\"dataframe\">\n  <thead>\n    <tr style=\"text-align: right;\">\n      <th></th>\n      <th>movieId</th>\n      <th>title</th>\n      <th>releaseDate</th>\n      <th>directedBy</th>\n      <th>starring</th>\n      <th>imdbId</th>\n      <th>tmdbId</th>\n      <th>genres</th>\n      <th>Action</th>\n      <th>Adventure</th>\n      <th>...</th>\n      <th>Horror</th>\n      <th>IMAX</th>\n      <th>Musical</th>\n      <th>Mystery</th>\n      <th>Romance</th>\n      <th>Sci-Fi</th>\n      <th>Thriller</th>\n      <th>War</th>\n      <th>Western</th>\n      <th>nan</th>\n    </tr>\n  </thead>\n  <tbody>\n    <tr>\n      <td>0</td>\n      <td>1626</td>\n      <td>Fire Down Below (1997)</td>\n      <td>1997-09-05</td>\n      <td>Félix Enríquez Alcalá</td>\n      <td>Steven Seagal, Marg Helgenberger, Stephen Lang...</td>\n      <td>119123</td>\n      <td>14289.0</td>\n      <td>['Action', 'Drama', 'Thriller']</td>\n      <td>1</td>\n      <td>0</td>\n      <td>...</td>\n      <td>0</td>\n      <td>0</td>\n      <td>0</td>\n      <td>0</td>\n      <td>0</td>\n      <td>0</td>\n      <td>1</td>\n      <td>0</td>\n      <td>0</td>\n      <td>0</td>\n    </tr>\n    <tr>\n      <td>1</td>\n      <td>106491</td>\n      <td>47 Ronin (2013)</td>\n      <td>2013-12-25</td>\n      <td>Carl Rinsch</td>\n      <td>Keanu Reeves, Hiroyuki Sanada, Kô Shibasaki, R...</td>\n      <td>1335975</td>\n      <td>64686.0</td>\n      <td>['Action', 'Adventure', 'Fantasy']</td>\n      <td>1</td>\n      <td>1</td>\n      <td>...</td>\n      <td>0</td>\n      <td>0</td>\n      <td>0</td>\n      <td>0</td>\n      <td>0</td>\n      <td>0</td>\n      <td>0</td>\n      <td>0</td>\n      <td>0</td>\n      <td>0</td>\n    </tr>\n    <tr>\n      <td>2</td>\n      <td>85414</td>\n      <td>Source Code (2011)</td>\n      <td>2011-04-01</td>\n      <td>Duncan Jones</td>\n      <td>Jake Gyllenhaal, Michelle Monaghan, Vera Farmi...</td>\n      <td>945513</td>\n      <td>45612.0</td>\n      <td>['Action', 'Drama', 'Mystery', 'Sci-Fi', 'Thri...</td>\n      <td>1</td>\n      <td>0</td>\n      <td>...</td>\n      <td>0</td>\n      <td>0</td>\n      <td>0</td>\n      <td>1</td>\n      <td>0</td>\n      <td>1</td>\n      <td>1</td>\n      <td>0</td>\n      <td>0</td>\n      <td>0</td>\n    </tr>\n    <tr>\n      <td>3</td>\n      <td>124805</td>\n      <td>Venus &amp; Vegas (2010)</td>\n      <td>2010-11-01</td>\n      <td>Demian Lichtenstein</td>\n      <td>Eddie Kaye Thomas,Donald Faison,Eddie Guerra,J...</td>\n      <td>423474</td>\n      <td>68716.0</td>\n      <td>['Action', 'Comedy']</td>\n      <td>1</td>\n      <td>0</td>\n      <td>...</td>\n      <td>0</td>\n      <td>0</td>\n      <td>0</td>\n      <td>0</td>\n      <td>0</td>\n      <td>0</td>\n      <td>0</td>\n      <td>0</td>\n      <td>0</td>\n      <td>0</td>\n    </tr>\n    <tr>\n      <td>4</td>\n      <td>144514</td>\n      <td>Quick (2011)</td>\n      <td>2011-07-21</td>\n      <td>Beom-gu Cho</td>\n      <td>Yoo Seung-Mok,Yoon Je-moon,Kim Tae-woo,Lee Min...</td>\n      <td>2007413</td>\n      <td>77175.0</td>\n      <td>['Action', 'Comedy', 'Thriller']</td>\n      <td>1</td>\n      <td>0</td>\n      <td>...</td>\n      <td>0</td>\n      <td>0</td>\n      <td>0</td>\n      <td>0</td>\n      <td>0</td>\n      <td>0</td>\n      <td>1</td>\n      <td>0</td>\n      <td>0</td>\n      <td>0</td>\n    </tr>\n  </tbody>\n</table>\n<p>5 rows × 28 columns</p>\n</div>"
     },
     "metadata": {},
     "execution_count": 43
    }
   ],
   "source": [
    "movies_filtered.head()"
   ]
  },
  {
   "cell_type": "code",
   "execution_count": 59,
   "metadata": {},
   "outputs": [
    {
     "output_type": "stream",
     "name": "stdout",
     "text": "142742\n"
    }
   ],
   "source": [
    "compare = {}\n",
    "for userId in SRS_prediction['userId'].unique():\n",
    "    #print(str(userId))\n",
    "    if str(userId) in svd_prediction:\n",
    "        compare[str(userId)] = {}\n",
    "       \n",
    "        compare[str(userId)]['svd']= {\n",
    "            'id': (svd_prediction[str(userId)]['unseen_movies']), \n",
    "            'title': list(movies_filtered[movies_filtered['movieId'].isin(svd_prediction[str(userId)]['unseen_movies'])]['title'].reset_index(drop = True))  }\n",
    "\n",
    "        compare[str(userId)]['SRs']= { \n",
    "            'id': list(SRS_prediction[SRS_prediction['userId'] == userId]['movieId']) ,\n",
    "            'title':  list(movies_filtered[movies_filtered['movieId'].isin(list(SRS_prediction[SRS_prediction['userId'] == userId]['movieId'])) ]['title'].reset_index(drop = True))  } \n",
    "\n",
    "        compare[str(userId)]['liked_movies'] = {\n",
    "            'id' : list(train_new[train_new['userId'] == userId].sort_values(by = 'rating', ascending = False)['movieId']),\n",
    "            'title' : list(train_new[train_new['userId'] == userId].sort_values(by = 'rating', ascending = False)['title'])\n",
    "        }\n",
    "\n",
    "        compare[str(userId)]['intersection'] =  set(compare[str(userId)]['svd']['id']).intersection(set(compare[str(userId)]['SRs']['id']))\n",
    "       \n",
    "\n",
    "        if len(compare[str(userId)]['intersection']) > 0:\n",
    "            print(userId)"
   ]
  },
  {
   "cell_type": "code",
   "execution_count": 60,
   "metadata": {},
   "outputs": [
    {
     "output_type": "execute_result",
     "data": {
      "text/plain": "{'svd': {'id': [1711,\n   62049,\n   182551,\n   79132,\n   1136,\n   116951,\n   131023,\n   170355,\n   750,\n   85316,\n   105246,\n   1213,\n   55442,\n   33138,\n   6104,\n   7505,\n   46578,\n   142488,\n   5767,\n   72],\n  'title': ['Monty Python and the Holy Grail (1975)',\n   'Persepolis (2007)',\n   'Winnie the Pooh and Tigger Too (1974)',\n   'Mr. Roosevelt (2017)',\n   'Bo Burnham: what. (2013)',\n   'Dr. Strangelove or: How I Learned to Stop Worrying and Love the Bomb (1964)',\n   'Monty Python Live at the Hollywood Bowl (1982)',\n   'Teddy Bear (Mis) (1981)',\n   'That Sugar Film (2014)',\n   'Midnight in the Garden of Good and Evil (1997)',\n   'Kicking and Screaming (1995)',\n   'Goodfellas (1990)',\n   \"Mood Indigo (L'écume des jours) (2013)\",\n   'Inception (2010)',\n   'Palindromes (2004)',\n   'Little Miss Sunshine (2006)',\n   'Kingdom, The (Riget) (1994)',\n   'Mulholland Dr. (1999)',\n   '1984 (1956)',\n   'Spotlight (2015)']},\n 'SRs': {'id': [111, 589, 733, 1196, 1208, 1213, 2028, 2762, 2858, 2959],\n  'title': ['Rock, The (1996)',\n   'Saving Private Ryan (1998)',\n   'Apocalypse Now (1979)',\n   'Goodfellas (1990)',\n   'Sixth Sense, The (1999)',\n   'Taxi Driver (1976)',\n   'American Beauty (1999)',\n   'Fight Club (1999)']},\n 'liked_movies': {'id': [296, 318],\n  'title': ['Pulp Fiction (1994)', 'Shawshank Redemption, The (1994)']},\n 'intersection': {1213}}"
     },
     "metadata": {},
     "execution_count": 60
    }
   ],
   "source": [
    "compare['142742']"
   ]
  },
  {
   "cell_type": "code",
   "execution_count": null,
   "metadata": {},
   "outputs": [],
   "source": []
  }
 ]
}