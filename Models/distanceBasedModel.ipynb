{
 "cells": [
  {
   "cell_type": "code",
   "execution_count": 2,
   "metadata": {},
   "outputs": [],
   "source": [
    "import pandas as pd\n",
    "import numpy as np\n",
    "from rake_nltk import Rake\n",
    "from sklearn.metrics.pairwise import cosine_similarity\n",
    "from sklearn.feature_extraction.text import CountVectorizer\n",
    "from sklearn.preprocessing import MinMaxScaler\n",
    "import ast\n",
    "from scipy.sparse import hstack"
   ]
  },
  {
   "cell_type": "code",
   "execution_count": 3,
   "metadata": {},
   "outputs": [
    {
     "output_type": "stream",
     "name": "stderr",
     "text": "b'Skipping line 19833: expected 8 fields, saw 10\\nSkipping line 34143: expected 8 fields, saw 9\\nSkipping line 36015: expected 8 fields, saw 10\\nSkipping line 37260: expected 8 fields, saw 12\\nSkipping line 44379: expected 8 fields, saw 10\\nSkipping line 47551: expected 8 fields, saw 10\\n'\n"
    },
    {
     "output_type": "execute_result",
     "data": {
      "text/plain": "   movieId                               title releaseDate       directedBy  \\\n0        1                    Toy Story (1995)  1995-11-19    John Lasseter   \n1        2                      Jumanji (1995)  1995-12-15     Joe Johnston   \n2        3             Grumpier Old Men (1995)  1995-01-01    Howard Deutch   \n3        4            Waiting to Exhale (1995)  1996-01-15  Forest Whitaker   \n4        5  Father of the Bride Part II (1995)  1995-12-08    Charles Shyer   \n\n                                            starring  imdbId   tmdbId  \\\n0  Tim Allen, Tom Hanks, Don Rickles, Jim Varney,...  114709    862.0   \n1  Jonathan Hyde, Bradley Pierce, Robin Williams,...  113497   8844.0   \n2  Jack Lemmon, Walter Matthau, Ann-Margret , Sop...  113228  15602.0   \n3  Angela Bassett, Loretta Devine, Whitney Housto...  114885  31357.0   \n4  Steve Martin, Martin Short, Diane Keaton, Kimb...  113041  11862.0   \n\n                                        genres  \n0  Adventure,Animation,Children,Comedy,Fantasy  \n1                   Adventure,Children,Fantasy  \n2                               Comedy,Romance  \n3                         Comedy,Drama,Romance  \n4                                       Comedy  ",
      "text/html": "<div>\n<style scoped>\n    .dataframe tbody tr th:only-of-type {\n        vertical-align: middle;\n    }\n\n    .dataframe tbody tr th {\n        vertical-align: top;\n    }\n\n    .dataframe thead th {\n        text-align: right;\n    }\n</style>\n<table border=\"1\" class=\"dataframe\">\n  <thead>\n    <tr style=\"text-align: right;\">\n      <th></th>\n      <th>movieId</th>\n      <th>title</th>\n      <th>releaseDate</th>\n      <th>directedBy</th>\n      <th>starring</th>\n      <th>imdbId</th>\n      <th>tmdbId</th>\n      <th>genres</th>\n    </tr>\n  </thead>\n  <tbody>\n    <tr>\n      <td>0</td>\n      <td>1</td>\n      <td>Toy Story (1995)</td>\n      <td>1995-11-19</td>\n      <td>John Lasseter</td>\n      <td>Tim Allen, Tom Hanks, Don Rickles, Jim Varney,...</td>\n      <td>114709</td>\n      <td>862.0</td>\n      <td>Adventure,Animation,Children,Comedy,Fantasy</td>\n    </tr>\n    <tr>\n      <td>1</td>\n      <td>2</td>\n      <td>Jumanji (1995)</td>\n      <td>1995-12-15</td>\n      <td>Joe Johnston</td>\n      <td>Jonathan Hyde, Bradley Pierce, Robin Williams,...</td>\n      <td>113497</td>\n      <td>8844.0</td>\n      <td>Adventure,Children,Fantasy</td>\n    </tr>\n    <tr>\n      <td>2</td>\n      <td>3</td>\n      <td>Grumpier Old Men (1995)</td>\n      <td>1995-01-01</td>\n      <td>Howard Deutch</td>\n      <td>Jack Lemmon, Walter Matthau, Ann-Margret , Sop...</td>\n      <td>113228</td>\n      <td>15602.0</td>\n      <td>Comedy,Romance</td>\n    </tr>\n    <tr>\n      <td>3</td>\n      <td>4</td>\n      <td>Waiting to Exhale (1995)</td>\n      <td>1996-01-15</td>\n      <td>Forest Whitaker</td>\n      <td>Angela Bassett, Loretta Devine, Whitney Housto...</td>\n      <td>114885</td>\n      <td>31357.0</td>\n      <td>Comedy,Drama,Romance</td>\n    </tr>\n    <tr>\n      <td>4</td>\n      <td>5</td>\n      <td>Father of the Bride Part II (1995)</td>\n      <td>1995-12-08</td>\n      <td>Charles Shyer</td>\n      <td>Steve Martin, Martin Short, Diane Keaton, Kimb...</td>\n      <td>113041</td>\n      <td>11862.0</td>\n      <td>Comedy</td>\n    </tr>\n  </tbody>\n</table>\n</div>"
     },
     "metadata": {},
     "execution_count": 3
    }
   ],
   "source": [
    "movies = pd.read_csv(\"../../Data/serendipity-sac2018/movies.csv\", error_bad_lines=False)\n",
    "imdbData = pd.read_csv(\"../Intermediate_data/IMDb_cldata.csv\")\n",
    "imdbData.drop(\"Unnamed: 0\", axis=1, inplace=True)\n",
    "movies.head()"
   ]
  },
  {
   "cell_type": "code",
   "execution_count": 4,
   "metadata": {},
   "outputs": [
    {
     "output_type": "execute_result",
     "data": {
      "text/plain": "   movieId  imdbId                               title  \\\n0        1  114709                    Toy Story (1995)   \n1        2  113497                      Jumanji (1995)   \n2        3  113228             Grumpier Old Men (1995)   \n3        4  114885            Waiting to Exhale (1995)   \n4        5  113041  Father of the Bride Part II (1995)   \n\n                                                plot  rating  runtimes  \\\n0  [u\"A cowboy doll is profoundly threatened and ...     8.3      81.0   \n1  [u'When two kids find and play a magical board...     7.0     104.0   \n2  [u\"John and Max resolve to save their beloved ...     6.7     101.0   \n3  [u\"Based on Terry McMillan's novel, this film ...     5.9     124.0   \n4  [u'George Banks must deal not only with the pr...     6.0     106.0   \n\n      votes  country codes_us  country codes_gb  country codes_fr  ...  \\\n0  837115.0               1.0               0.0               0.0  ...   \n1  287007.0               1.0               0.0               0.0  ...   \n2   23107.0               1.0               0.0               0.0  ...   \n3    9034.0               1.0               0.0               0.0  ...   \n4   32568.0               1.0               0.0               0.0  ...   \n\n   certificates_G  certificates_NR  certificates_PG  certificates_R  \\\n0             0.0              1.0              0.0             0.0   \n1             0.0              1.0              0.0             0.0   \n2             0.0              1.0              0.0             0.0   \n3             0.0              1.0              0.0             0.0   \n4             0.0              1.0              0.0             0.0   \n\n   kind_movie  kind_series  year_1800s  year_1900s  year_1950s  year_2000s  \n0         1.0          0.0         0.0         0.0         1.0         0.0  \n1         1.0          0.0         0.0         0.0         1.0         0.0  \n2         1.0          0.0         0.0         0.0         1.0         0.0  \n3         1.0          0.0         0.0         0.0         1.0         0.0  \n4         1.0          0.0         0.0         0.0         1.0         0.0  \n\n[5 rows x 47 columns]",
      "text/html": "<div>\n<style scoped>\n    .dataframe tbody tr th:only-of-type {\n        vertical-align: middle;\n    }\n\n    .dataframe tbody tr th {\n        vertical-align: top;\n    }\n\n    .dataframe thead th {\n        text-align: right;\n    }\n</style>\n<table border=\"1\" class=\"dataframe\">\n  <thead>\n    <tr style=\"text-align: right;\">\n      <th></th>\n      <th>movieId</th>\n      <th>imdbId</th>\n      <th>title</th>\n      <th>plot</th>\n      <th>rating</th>\n      <th>runtimes</th>\n      <th>votes</th>\n      <th>country codes_us</th>\n      <th>country codes_gb</th>\n      <th>country codes_fr</th>\n      <th>...</th>\n      <th>certificates_G</th>\n      <th>certificates_NR</th>\n      <th>certificates_PG</th>\n      <th>certificates_R</th>\n      <th>kind_movie</th>\n      <th>kind_series</th>\n      <th>year_1800s</th>\n      <th>year_1900s</th>\n      <th>year_1950s</th>\n      <th>year_2000s</th>\n    </tr>\n  </thead>\n  <tbody>\n    <tr>\n      <td>0</td>\n      <td>1</td>\n      <td>114709</td>\n      <td>Toy Story (1995)</td>\n      <td>[u\"A cowboy doll is profoundly threatened and ...</td>\n      <td>8.3</td>\n      <td>81.0</td>\n      <td>837115.0</td>\n      <td>1.0</td>\n      <td>0.0</td>\n      <td>0.0</td>\n      <td>...</td>\n      <td>0.0</td>\n      <td>1.0</td>\n      <td>0.0</td>\n      <td>0.0</td>\n      <td>1.0</td>\n      <td>0.0</td>\n      <td>0.0</td>\n      <td>0.0</td>\n      <td>1.0</td>\n      <td>0.0</td>\n    </tr>\n    <tr>\n      <td>1</td>\n      <td>2</td>\n      <td>113497</td>\n      <td>Jumanji (1995)</td>\n      <td>[u'When two kids find and play a magical board...</td>\n      <td>7.0</td>\n      <td>104.0</td>\n      <td>287007.0</td>\n      <td>1.0</td>\n      <td>0.0</td>\n      <td>0.0</td>\n      <td>...</td>\n      <td>0.0</td>\n      <td>1.0</td>\n      <td>0.0</td>\n      <td>0.0</td>\n      <td>1.0</td>\n      <td>0.0</td>\n      <td>0.0</td>\n      <td>0.0</td>\n      <td>1.0</td>\n      <td>0.0</td>\n    </tr>\n    <tr>\n      <td>2</td>\n      <td>3</td>\n      <td>113228</td>\n      <td>Grumpier Old Men (1995)</td>\n      <td>[u\"John and Max resolve to save their beloved ...</td>\n      <td>6.7</td>\n      <td>101.0</td>\n      <td>23107.0</td>\n      <td>1.0</td>\n      <td>0.0</td>\n      <td>0.0</td>\n      <td>...</td>\n      <td>0.0</td>\n      <td>1.0</td>\n      <td>0.0</td>\n      <td>0.0</td>\n      <td>1.0</td>\n      <td>0.0</td>\n      <td>0.0</td>\n      <td>0.0</td>\n      <td>1.0</td>\n      <td>0.0</td>\n    </tr>\n    <tr>\n      <td>3</td>\n      <td>4</td>\n      <td>114885</td>\n      <td>Waiting to Exhale (1995)</td>\n      <td>[u\"Based on Terry McMillan's novel, this film ...</td>\n      <td>5.9</td>\n      <td>124.0</td>\n      <td>9034.0</td>\n      <td>1.0</td>\n      <td>0.0</td>\n      <td>0.0</td>\n      <td>...</td>\n      <td>0.0</td>\n      <td>1.0</td>\n      <td>0.0</td>\n      <td>0.0</td>\n      <td>1.0</td>\n      <td>0.0</td>\n      <td>0.0</td>\n      <td>0.0</td>\n      <td>1.0</td>\n      <td>0.0</td>\n    </tr>\n    <tr>\n      <td>4</td>\n      <td>5</td>\n      <td>113041</td>\n      <td>Father of the Bride Part II (1995)</td>\n      <td>[u'George Banks must deal not only with the pr...</td>\n      <td>6.0</td>\n      <td>106.0</td>\n      <td>32568.0</td>\n      <td>1.0</td>\n      <td>0.0</td>\n      <td>0.0</td>\n      <td>...</td>\n      <td>0.0</td>\n      <td>1.0</td>\n      <td>0.0</td>\n      <td>0.0</td>\n      <td>1.0</td>\n      <td>0.0</td>\n      <td>0.0</td>\n      <td>0.0</td>\n      <td>1.0</td>\n      <td>0.0</td>\n    </tr>\n  </tbody>\n</table>\n<p>5 rows × 47 columns</p>\n</div>"
     },
     "metadata": {},
     "execution_count": 4
    }
   ],
   "source": [
    "allMovies = movies[[\"movieId\", \"imdbId\", \"title\"]].merge(imdbData, on = \"imdbId\", how = \"left\")\n",
    "allMovies.head()"
   ]
  },
  {
   "cell_type": "code",
   "execution_count": 5,
   "metadata": {},
   "outputs": [],
   "source": [
    "# allMovies.columns = [col.replace(\" \",\"_\") for col in allMovies.columns]\n",
    "# allMovies.columns"
   ]
  },
  {
   "cell_type": "code",
   "execution_count": 6,
   "metadata": {},
   "outputs": [
    {
     "output_type": "execute_result",
     "data": {
      "text/plain": "   userId  movieId  rating            timestamp  year\n0  127137   115824     4.5  2017-12-31 23:59:50  2017\n1  142748     2762     5.0  2017-12-31 23:59:41  2017\n2  196198     1198     3.5  2017-12-31 23:59:17  2017\n3  142748    71057     4.5  2017-12-31 23:58:09  2017\n4  142748   152077     5.0  2017-12-31 23:57:32  2017",
      "text/html": "<div>\n<style scoped>\n    .dataframe tbody tr th:only-of-type {\n        vertical-align: middle;\n    }\n\n    .dataframe tbody tr th {\n        vertical-align: top;\n    }\n\n    .dataframe thead th {\n        text-align: right;\n    }\n</style>\n<table border=\"1\" class=\"dataframe\">\n  <thead>\n    <tr style=\"text-align: right;\">\n      <th></th>\n      <th>userId</th>\n      <th>movieId</th>\n      <th>rating</th>\n      <th>timestamp</th>\n      <th>year</th>\n    </tr>\n  </thead>\n  <tbody>\n    <tr>\n      <td>0</td>\n      <td>127137</td>\n      <td>115824</td>\n      <td>4.5</td>\n      <td>2017-12-31 23:59:50</td>\n      <td>2017</td>\n    </tr>\n    <tr>\n      <td>1</td>\n      <td>142748</td>\n      <td>2762</td>\n      <td>5.0</td>\n      <td>2017-12-31 23:59:41</td>\n      <td>2017</td>\n    </tr>\n    <tr>\n      <td>2</td>\n      <td>196198</td>\n      <td>1198</td>\n      <td>3.5</td>\n      <td>2017-12-31 23:59:17</td>\n      <td>2017</td>\n    </tr>\n    <tr>\n      <td>3</td>\n      <td>142748</td>\n      <td>71057</td>\n      <td>4.5</td>\n      <td>2017-12-31 23:58:09</td>\n      <td>2017</td>\n    </tr>\n    <tr>\n      <td>4</td>\n      <td>142748</td>\n      <td>152077</td>\n      <td>5.0</td>\n      <td>2017-12-31 23:57:32</td>\n      <td>2017</td>\n    </tr>\n  </tbody>\n</table>\n</div>"
     },
     "metadata": {},
     "execution_count": 6
    }
   ],
   "source": [
    "train = pd.read_csv(\"../Intermediate_data/train_subset.csv\")\n",
    "train.drop(\"Unnamed: 0\", axis=1, inplace=True)\n",
    "train.head()"
   ]
  },
  {
   "cell_type": "code",
   "execution_count": 7,
   "metadata": {},
   "outputs": [
    {
     "output_type": "execute_result",
     "data": {
      "text/plain": "   Unnamed: 0  cluster  userId\n0           0        3  100032\n1           1        3  100036\n2           2        3  100053\n3           3        2  100057\n4           4        3  100058",
      "text/html": "<div>\n<style scoped>\n    .dataframe tbody tr th:only-of-type {\n        vertical-align: middle;\n    }\n\n    .dataframe tbody tr th {\n        vertical-align: top;\n    }\n\n    .dataframe thead th {\n        text-align: right;\n    }\n</style>\n<table border=\"1\" class=\"dataframe\">\n  <thead>\n    <tr style=\"text-align: right;\">\n      <th></th>\n      <th>Unnamed: 0</th>\n      <th>cluster</th>\n      <th>userId</th>\n    </tr>\n  </thead>\n  <tbody>\n    <tr>\n      <td>0</td>\n      <td>0</td>\n      <td>3</td>\n      <td>100032</td>\n    </tr>\n    <tr>\n      <td>1</td>\n      <td>1</td>\n      <td>3</td>\n      <td>100036</td>\n    </tr>\n    <tr>\n      <td>2</td>\n      <td>2</td>\n      <td>3</td>\n      <td>100053</td>\n    </tr>\n    <tr>\n      <td>3</td>\n      <td>3</td>\n      <td>2</td>\n      <td>100057</td>\n    </tr>\n    <tr>\n      <td>4</td>\n      <td>4</td>\n      <td>3</td>\n      <td>100058</td>\n    </tr>\n  </tbody>\n</table>\n</div>"
     },
     "metadata": {},
     "execution_count": 7
    }
   ],
   "source": [
    "userCluster = pd.read_csv(\"../Intermediate_data/user_clusters.csv\")\n",
    "userCluster.head()"
   ]
  },
  {
   "cell_type": "code",
   "execution_count": 8,
   "metadata": {},
   "outputs": [
    {
     "output_type": "execute_result",
     "data": {
      "text/plain": "   userId  movieId  rating            timestamp  year  cluster\n0  127137   115824     4.5  2017-12-31 23:59:50  2017      1.0\n1  142748     2762     5.0  2017-12-31 23:59:41  2017      1.0\n2  196198     1198     3.5  2017-12-31 23:59:17  2017      2.0\n3  142748    71057     4.5  2017-12-31 23:58:09  2017      1.0\n4  142748   152077     5.0  2017-12-31 23:57:32  2017      1.0",
      "text/html": "<div>\n<style scoped>\n    .dataframe tbody tr th:only-of-type {\n        vertical-align: middle;\n    }\n\n    .dataframe tbody tr th {\n        vertical-align: top;\n    }\n\n    .dataframe thead th {\n        text-align: right;\n    }\n</style>\n<table border=\"1\" class=\"dataframe\">\n  <thead>\n    <tr style=\"text-align: right;\">\n      <th></th>\n      <th>userId</th>\n      <th>movieId</th>\n      <th>rating</th>\n      <th>timestamp</th>\n      <th>year</th>\n      <th>cluster</th>\n    </tr>\n  </thead>\n  <tbody>\n    <tr>\n      <td>0</td>\n      <td>127137</td>\n      <td>115824</td>\n      <td>4.5</td>\n      <td>2017-12-31 23:59:50</td>\n      <td>2017</td>\n      <td>1.0</td>\n    </tr>\n    <tr>\n      <td>1</td>\n      <td>142748</td>\n      <td>2762</td>\n      <td>5.0</td>\n      <td>2017-12-31 23:59:41</td>\n      <td>2017</td>\n      <td>1.0</td>\n    </tr>\n    <tr>\n      <td>2</td>\n      <td>196198</td>\n      <td>1198</td>\n      <td>3.5</td>\n      <td>2017-12-31 23:59:17</td>\n      <td>2017</td>\n      <td>2.0</td>\n    </tr>\n    <tr>\n      <td>3</td>\n      <td>142748</td>\n      <td>71057</td>\n      <td>4.5</td>\n      <td>2017-12-31 23:58:09</td>\n      <td>2017</td>\n      <td>1.0</td>\n    </tr>\n    <tr>\n      <td>4</td>\n      <td>142748</td>\n      <td>152077</td>\n      <td>5.0</td>\n      <td>2017-12-31 23:57:32</td>\n      <td>2017</td>\n      <td>1.0</td>\n    </tr>\n  </tbody>\n</table>\n</div>"
     },
     "metadata": {},
     "execution_count": 8
    }
   ],
   "source": [
    "train = train.merge(userCluster[[\"userId\", \"cluster\"]], on = \"userId\", how = \"left\")\n",
    "train.head()"
   ]
  },
  {
   "cell_type": "code",
   "execution_count": 9,
   "metadata": {},
   "outputs": [],
   "source": [
    "featureImportances = pd.read_csv(\"../Intermediate_data/featureImportance.csv\")"
   ]
  },
  {
   "cell_type": "code",
   "execution_count": 10,
   "metadata": {},
   "outputs": [],
   "source": [
    "colsToScale = [\"runtimes\", \"votes\"]\n",
    "\n",
    "scaler = MinMaxScaler()\n",
    "allMovies[colsToScale] = scaler.fit_transform(allMovies[colsToScale])\n",
    ""
   ]
  },
  {
   "cell_type": "code",
   "execution_count": 11,
   "metadata": {},
   "outputs": [],
   "source": [
    "def getSimilarityScore(movie1, movie2, similarFeatures, dissimilarFeatures):\n",
    "\n",
    "    d1 = np.linalg.norm(movie1[:len(similarFeatures)] - movie2[:len(similarFeatures)], ord=1)\n",
    "    d2 = np.linalg.norm(movie1[len(similarFeatures):] - movie2[len(similarFeatures):], ord=1)\n",
    "    \n",
    "    ## To avoid division by 0\n",
    "    d2 += 1e-3\n",
    "    similarityScore = (d1 + (1/d2))\n",
    "    return similarityScore\n",
    "\n",
    "def setupSimilarityMatirx(likedMovies, allMovies, similarFeatures, dissimilarFeatures):\n",
    "    similarityMatrix = np.zeros(shape=(len(likedMovies), len(allMovies)))\n",
    "    data1 = np.array(likedMovies[np.append(similarFeatures, dissimilarFeatures)])\n",
    "    data2 = np.array(allMovies[np.append(similarFeatures, dissimilarFeatures)])\n",
    "    for i in range(len(likedMovies)):\n",
    "        if i%20 == 0:\n",
    "            print(str(i) + \"/\" + str(len(likedMovies)))\n",
    "        similarityScores = []\n",
    "        for j in range(len(allMovies)):\n",
    "            similarityScores.append(getSimilarityScore(data1[i,:], data2[j,:], \n",
    "                                                       similarFeatures, dissimilarFeatures))                \n",
    "        similarityMatrix[i,:] = similarityScores\n",
    "    return similarityMatrix\n",
    "\n",
    "def getRelevantMovies(likedMovies, similarityMatrix, top_n = 10):\n",
    "    indices = similarityMatrix.ravel().argsort()\n",
    "    indices = indices[-top_n:]%similarityMatrix.shape[1]\n",
    "    return np.unique(indices)\n",
    "\n",
    "def getLikedMovies(userMovieRatings, allMovies, ratingThreshold = 3.5, numMoviesToReturn = 10):\n",
    "    ## Returning top 10 liked movies. These 10 movies will be used to compute the similarity scores.\n",
    "    \n",
    "    likedMovieIds = userMovieRatings.loc[userMovieRatings[\"rating\"] >= ratingThreshold, \"movieId\"]\n",
    "    likedMovies = allMovies[allMovies[\"movieId\"].apply(lambda x: x in np.unique(likedMovieIds))]\n",
    "    return likedMovies.head(numMoviesToReturn)\n",
    "\n",
    "def getPredictions(userMovieRatings, allMovies, similarFeatures, dissimilarFeatures):\n",
    "#     similarFeatures = [\"runtimes\", \"votes\"]\n",
    "#     dissimilarFeatures = [\"country_codes_us\", \"country_codes_gb\", \"country_codes_fr\", \"country_codes_ca\"]\n",
    "    likedMovies = getLikedMovies(userMovieRatings, allMovies)\n",
    "    similarityMatrix = setupSimilarityMatirx(likedMovies, allMovies, \n",
    "                                             similarFeatures, dissimilarFeatures)\n",
    "    predictionIndices = getRelevantMovies(likedMovies, similarityMatrix)\n",
    "    \n",
    "    return allMovies.loc[predictionIndices,:], likedMovies\n",
    "\n",
    "def getImportantFeatures(userCluster, featureImportances, numSimilarFeatures = 10):\n",
    "    featureImportances = featureImportances[featureImportances[\"cluster\"] == userCluster]\n",
    "    similarFeatures = np.array(featureImportances[\"feature\"])[:numSimilarFeatures]\n",
    "    dissimilarFeatures = np.array(featureImportances[\"feature\"])[numSimilarFeatures:]\n",
    "    return (similarFeatures, dissimilarFeatures)\n",
    "    \n",
    "    "
   ]
  },
  {
   "cell_type": "code",
   "execution_count": 12,
   "metadata": {},
   "outputs": [
    {
     "output_type": "execute_result",
     "data": {
      "text/plain": "         userId  movieId  rating            timestamp  year  cluster\n0        127137   115824     4.5  2017-12-31 23:59:50  2017      1.0\n3699     127137     1267     4.5  2017-12-31 06:38:16  2017      1.0\n10012    127137    81257     4.5  2017-12-30 07:28:47  2017      1.0\n14921    127137   175981     3.0  2017-12-29 10:06:27  2017      1.0\n15582    127137    96728     3.0  2017-12-29 07:32:48  2017      1.0\n...         ...      ...     ...                  ...   ...      ...\n1680102  127137     3168     1.0  2017-02-17 06:21:26  2017      1.0\n1690612  127137     6957     4.5  2017-02-15 08:08:12  2017      1.0\n1690622  127137   134214     2.5  2017-02-15 08:07:10  2017      1.0\n1911990  127137     5004     3.5  2017-01-15 06:37:05  2017      1.0\n1912006  127137     6936     1.5  2017-01-15 06:34:41  2017      1.0\n\n[185 rows x 6 columns]",
      "text/html": "<div>\n<style scoped>\n    .dataframe tbody tr th:only-of-type {\n        vertical-align: middle;\n    }\n\n    .dataframe tbody tr th {\n        vertical-align: top;\n    }\n\n    .dataframe thead th {\n        text-align: right;\n    }\n</style>\n<table border=\"1\" class=\"dataframe\">\n  <thead>\n    <tr style=\"text-align: right;\">\n      <th></th>\n      <th>userId</th>\n      <th>movieId</th>\n      <th>rating</th>\n      <th>timestamp</th>\n      <th>year</th>\n      <th>cluster</th>\n    </tr>\n  </thead>\n  <tbody>\n    <tr>\n      <td>0</td>\n      <td>127137</td>\n      <td>115824</td>\n      <td>4.5</td>\n      <td>2017-12-31 23:59:50</td>\n      <td>2017</td>\n      <td>1.0</td>\n    </tr>\n    <tr>\n      <td>3699</td>\n      <td>127137</td>\n      <td>1267</td>\n      <td>4.5</td>\n      <td>2017-12-31 06:38:16</td>\n      <td>2017</td>\n      <td>1.0</td>\n    </tr>\n    <tr>\n      <td>10012</td>\n      <td>127137</td>\n      <td>81257</td>\n      <td>4.5</td>\n      <td>2017-12-30 07:28:47</td>\n      <td>2017</td>\n      <td>1.0</td>\n    </tr>\n    <tr>\n      <td>14921</td>\n      <td>127137</td>\n      <td>175981</td>\n      <td>3.0</td>\n      <td>2017-12-29 10:06:27</td>\n      <td>2017</td>\n      <td>1.0</td>\n    </tr>\n    <tr>\n      <td>15582</td>\n      <td>127137</td>\n      <td>96728</td>\n      <td>3.0</td>\n      <td>2017-12-29 07:32:48</td>\n      <td>2017</td>\n      <td>1.0</td>\n    </tr>\n    <tr>\n      <td>...</td>\n      <td>...</td>\n      <td>...</td>\n      <td>...</td>\n      <td>...</td>\n      <td>...</td>\n      <td>...</td>\n    </tr>\n    <tr>\n      <td>1680102</td>\n      <td>127137</td>\n      <td>3168</td>\n      <td>1.0</td>\n      <td>2017-02-17 06:21:26</td>\n      <td>2017</td>\n      <td>1.0</td>\n    </tr>\n    <tr>\n      <td>1690612</td>\n      <td>127137</td>\n      <td>6957</td>\n      <td>4.5</td>\n      <td>2017-02-15 08:08:12</td>\n      <td>2017</td>\n      <td>1.0</td>\n    </tr>\n    <tr>\n      <td>1690622</td>\n      <td>127137</td>\n      <td>134214</td>\n      <td>2.5</td>\n      <td>2017-02-15 08:07:10</td>\n      <td>2017</td>\n      <td>1.0</td>\n    </tr>\n    <tr>\n      <td>1911990</td>\n      <td>127137</td>\n      <td>5004</td>\n      <td>3.5</td>\n      <td>2017-01-15 06:37:05</td>\n      <td>2017</td>\n      <td>1.0</td>\n    </tr>\n    <tr>\n      <td>1912006</td>\n      <td>127137</td>\n      <td>6936</td>\n      <td>1.5</td>\n      <td>2017-01-15 06:34:41</td>\n      <td>2017</td>\n      <td>1.0</td>\n    </tr>\n  </tbody>\n</table>\n<p>185 rows × 6 columns</p>\n</div>"
     },
     "metadata": {},
     "execution_count": 12
    }
   ],
   "source": [
    "user1 = train[train[\"userId\"] == 127137]\n",
    "user1"
   ]
  },
  {
   "cell_type": "code",
   "execution_count": 13,
   "metadata": {},
   "outputs": [],
   "source": [
    "(similarFeatures, dissimilarFeatures) = getImportantFeatures(user1[\"cluster\"].unique()[0], featureImportances)"
   ]
  },
  {
   "cell_type": "code",
   "execution_count": 14,
   "metadata": {},
   "outputs": [
    {
     "output_type": "stream",
     "name": "stdout",
     "text": "0/10\n"
    }
   ],
   "source": [
    "predictions, likedMovies = getPredictions(user1,allMovies,similarFeatures, dissimilarFeatures)"
   ]
  },
  {
   "cell_type": "code",
   "execution_count": 15,
   "metadata": {},
   "outputs": [
    {
     "output_type": "execute_result",
     "data": {
      "text/plain": "       movieId                                            title\n43056   167956              How to Win the US Presidency (2016)\n43366   168698                        Peng! Du bist tot! (1987)\n43373   168716                       A Gathering of Cats (2007)\n43379   168728                        Would-Be Gentleman (1968)\n43387   168746                  Escape from the Newsroom (2002)\n43388   168748                                     Pearl (2016)\n43391   168754                           Beautiful Beast (2013)\n43406   168790                             The Body Farm (2011)\n43414   168810                                     Today (1997)\n49167   183335  The Mysterious Castle in the Carpathians (1981)",
      "text/html": "<div>\n<style scoped>\n    .dataframe tbody tr th:only-of-type {\n        vertical-align: middle;\n    }\n\n    .dataframe tbody tr th {\n        vertical-align: top;\n    }\n\n    .dataframe thead th {\n        text-align: right;\n    }\n</style>\n<table border=\"1\" class=\"dataframe\">\n  <thead>\n    <tr style=\"text-align: right;\">\n      <th></th>\n      <th>movieId</th>\n      <th>title</th>\n    </tr>\n  </thead>\n  <tbody>\n    <tr>\n      <td>43056</td>\n      <td>167956</td>\n      <td>How to Win the US Presidency (2016)</td>\n    </tr>\n    <tr>\n      <td>43366</td>\n      <td>168698</td>\n      <td>Peng! Du bist tot! (1987)</td>\n    </tr>\n    <tr>\n      <td>43373</td>\n      <td>168716</td>\n      <td>A Gathering of Cats (2007)</td>\n    </tr>\n    <tr>\n      <td>43379</td>\n      <td>168728</td>\n      <td>Would-Be Gentleman (1968)</td>\n    </tr>\n    <tr>\n      <td>43387</td>\n      <td>168746</td>\n      <td>Escape from the Newsroom (2002)</td>\n    </tr>\n    <tr>\n      <td>43388</td>\n      <td>168748</td>\n      <td>Pearl (2016)</td>\n    </tr>\n    <tr>\n      <td>43391</td>\n      <td>168754</td>\n      <td>Beautiful Beast (2013)</td>\n    </tr>\n    <tr>\n      <td>43406</td>\n      <td>168790</td>\n      <td>The Body Farm (2011)</td>\n    </tr>\n    <tr>\n      <td>43414</td>\n      <td>168810</td>\n      <td>Today (1997)</td>\n    </tr>\n    <tr>\n      <td>49167</td>\n      <td>183335</td>\n      <td>The Mysterious Castle in the Carpathians (1981)</td>\n    </tr>\n  </tbody>\n</table>\n</div>"
     },
     "metadata": {},
     "execution_count": 15
    }
   ],
   "source": [
    "predictions[[\"movieId\", \"title\"]]"
   ]
  },
  {
   "cell_type": "code",
   "execution_count": 16,
   "metadata": {},
   "outputs": [
    {
     "output_type": "execute_result",
     "data": {
      "text/plain": "      movieId                                 title\n24         25              Leaving Las Vegas (1995)\n309       319                  Shallow Grave (1994)\n737       778                  Trainspotting (1996)\n842       897        For Whom the Bell Tolls (1943)\n858       913            Maltese Falcon, The (1941)\n881       936                      Ninotchka (1939)\n939       999           2 Days in the Valley (1996)\n974      1035            Sound of Music, The (1965)\n1101     1175                   Delicatessen (1991)\n1171     1250  Bridge on the River Kwai, The (1957)",
      "text/html": "<div>\n<style scoped>\n    .dataframe tbody tr th:only-of-type {\n        vertical-align: middle;\n    }\n\n    .dataframe tbody tr th {\n        vertical-align: top;\n    }\n\n    .dataframe thead th {\n        text-align: right;\n    }\n</style>\n<table border=\"1\" class=\"dataframe\">\n  <thead>\n    <tr style=\"text-align: right;\">\n      <th></th>\n      <th>movieId</th>\n      <th>title</th>\n    </tr>\n  </thead>\n  <tbody>\n    <tr>\n      <td>24</td>\n      <td>25</td>\n      <td>Leaving Las Vegas (1995)</td>\n    </tr>\n    <tr>\n      <td>309</td>\n      <td>319</td>\n      <td>Shallow Grave (1994)</td>\n    </tr>\n    <tr>\n      <td>737</td>\n      <td>778</td>\n      <td>Trainspotting (1996)</td>\n    </tr>\n    <tr>\n      <td>842</td>\n      <td>897</td>\n      <td>For Whom the Bell Tolls (1943)</td>\n    </tr>\n    <tr>\n      <td>858</td>\n      <td>913</td>\n      <td>Maltese Falcon, The (1941)</td>\n    </tr>\n    <tr>\n      <td>881</td>\n      <td>936</td>\n      <td>Ninotchka (1939)</td>\n    </tr>\n    <tr>\n      <td>939</td>\n      <td>999</td>\n      <td>2 Days in the Valley (1996)</td>\n    </tr>\n    <tr>\n      <td>974</td>\n      <td>1035</td>\n      <td>Sound of Music, The (1965)</td>\n    </tr>\n    <tr>\n      <td>1101</td>\n      <td>1175</td>\n      <td>Delicatessen (1991)</td>\n    </tr>\n    <tr>\n      <td>1171</td>\n      <td>1250</td>\n      <td>Bridge on the River Kwai, The (1957)</td>\n    </tr>\n  </tbody>\n</table>\n</div>"
     },
     "metadata": {},
     "execution_count": 16
    }
   ],
   "source": [
    "likedMovies[[\"movieId\", \"title\"]]"
   ]
  },
  {
   "cell_type": "code",
   "execution_count": null,
   "metadata": {},
   "outputs": [],
   "source": []
  }
 ],
 "metadata": {
  "kernelspec": {
   "display_name": "Python 3",
   "language": "python",
   "name": "python3"
  },
  "language_info": {
   "codemirror_mode": {
    "name": "ipython",
    "version": 2
   },
   "file_extension": ".py",
   "mimetype": "text/x-python",
   "name": "python",
   "nbconvert_exporter": "python",
   "pygments_lexer": "ipython2",
   "version": "3.7.4-final"
  }
 },
 "nbformat": 4,
 "nbformat_minor": 2
}