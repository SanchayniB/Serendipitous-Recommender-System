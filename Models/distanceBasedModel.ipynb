{
 "cells": [
  {
   "cell_type": "code",
<<<<<<< HEAD
   "execution_count": 3,
=======
   "execution_count": 2,
>>>>>>> e592c34862f8ba38196f8e27b15a82699c0a40c3
   "metadata": {},
   "outputs": [],
   "source": [
    "import pandas as pd\n",
    "import numpy as np\n",
    "from sklearn.metrics.pairwise import cosine_similarity\n",
    "from sklearn.feature_extraction.text import CountVectorizer\n",
    "from sklearn.preprocessing import MinMaxScaler\n",
    "import ast\n",
    "from scipy.sparse import hstack"
   ]
  },
  {
   "cell_type": "code",
<<<<<<< HEAD
   "execution_count": 4,
=======
   "execution_count": 3,
>>>>>>> e592c34862f8ba38196f8e27b15a82699c0a40c3
   "metadata": {},
   "outputs": [
    {
     "output_type": "stream",
<<<<<<< HEAD
     "text": [
      "b'Skipping line 19833: expected 8 fields, saw 10\\nSkipping line 34143: expected 8 fields, saw 9\\nSkipping line 36015: expected 8 fields, saw 10\\nSkipping line 37260: expected 8 fields, saw 12\\nSkipping line 44379: expected 8 fields, saw 10\\nSkipping line 47551: expected 8 fields, saw 10\\n'\n"
     ]
=======
     "name": "stderr",
     "text": "b'Skipping line 19833: expected 8 fields, saw 10\\nSkipping line 34143: expected 8 fields, saw 9\\nSkipping line 36015: expected 8 fields, saw 10\\nSkipping line 37260: expected 8 fields, saw 12\\nSkipping line 44379: expected 8 fields, saw 10\\nSkipping line 47551: expected 8 fields, saw 10\\n'\n"
>>>>>>> e592c34862f8ba38196f8e27b15a82699c0a40c3
    },
    {
     "output_type": "execute_result",
     "data": {
      "text/plain": "   movieId                               title releaseDate       directedBy  \\\n0        1                    Toy Story (1995)  1995-11-19    John Lasseter   \n1        2                      Jumanji (1995)  1995-12-15     Joe Johnston   \n2        3             Grumpier Old Men (1995)  1995-01-01    Howard Deutch   \n3        4            Waiting to Exhale (1995)  1996-01-15  Forest Whitaker   \n4        5  Father of the Bride Part II (1995)  1995-12-08    Charles Shyer   \n\n                                            starring  imdbId   tmdbId  \\\n0  Tim Allen, Tom Hanks, Don Rickles, Jim Varney,...  114709    862.0   \n1  Jonathan Hyde, Bradley Pierce, Robin Williams,...  113497   8844.0   \n2  Jack Lemmon, Walter Matthau, Ann-Margret , Sop...  113228  15602.0   \n3  Angela Bassett, Loretta Devine, Whitney Housto...  114885  31357.0   \n4  Steve Martin, Martin Short, Diane Keaton, Kimb...  113041  11862.0   \n\n                                        genres  \n0  Adventure,Animation,Children,Comedy,Fantasy  \n1                   Adventure,Children,Fantasy  \n2                               Comedy,Romance  \n3                         Comedy,Drama,Romance  \n4                                       Comedy  ",
      "text/html": "<div>\n<style scoped>\n    .dataframe tbody tr th:only-of-type {\n        vertical-align: middle;\n    }\n\n    .dataframe tbody tr th {\n        vertical-align: top;\n    }\n\n    .dataframe thead th {\n        text-align: right;\n    }\n</style>\n<table border=\"1\" class=\"dataframe\">\n  <thead>\n    <tr style=\"text-align: right;\">\n      <th></th>\n      <th>movieId</th>\n      <th>title</th>\n      <th>releaseDate</th>\n      <th>directedBy</th>\n      <th>starring</th>\n      <th>imdbId</th>\n      <th>tmdbId</th>\n      <th>genres</th>\n    </tr>\n  </thead>\n  <tbody>\n    <tr>\n      <td>0</td>\n      <td>1</td>\n      <td>Toy Story (1995)</td>\n      <td>1995-11-19</td>\n      <td>John Lasseter</td>\n      <td>Tim Allen, Tom Hanks, Don Rickles, Jim Varney,...</td>\n      <td>114709</td>\n      <td>862.0</td>\n      <td>Adventure,Animation,Children,Comedy,Fantasy</td>\n    </tr>\n    <tr>\n      <td>1</td>\n      <td>2</td>\n      <td>Jumanji (1995)</td>\n      <td>1995-12-15</td>\n      <td>Joe Johnston</td>\n      <td>Jonathan Hyde, Bradley Pierce, Robin Williams,...</td>\n      <td>113497</td>\n      <td>8844.0</td>\n      <td>Adventure,Children,Fantasy</td>\n    </tr>\n    <tr>\n      <td>2</td>\n      <td>3</td>\n      <td>Grumpier Old Men (1995)</td>\n      <td>1995-01-01</td>\n      <td>Howard Deutch</td>\n      <td>Jack Lemmon, Walter Matthau, Ann-Margret , Sop...</td>\n      <td>113228</td>\n      <td>15602.0</td>\n      <td>Comedy,Romance</td>\n    </tr>\n    <tr>\n      <td>3</td>\n      <td>4</td>\n      <td>Waiting to Exhale (1995)</td>\n      <td>1996-01-15</td>\n      <td>Forest Whitaker</td>\n      <td>Angela Bassett, Loretta Devine, Whitney Housto...</td>\n      <td>114885</td>\n      <td>31357.0</td>\n      <td>Comedy,Drama,Romance</td>\n    </tr>\n    <tr>\n      <td>4</td>\n      <td>5</td>\n      <td>Father of the Bride Part II (1995)</td>\n      <td>1995-12-08</td>\n      <td>Charles Shyer</td>\n      <td>Steve Martin, Martin Short, Diane Keaton, Kimb...</td>\n      <td>113041</td>\n      <td>11862.0</td>\n      <td>Comedy</td>\n    </tr>\n  </tbody>\n</table>\n</div>"
     },
<<<<<<< HEAD
     "execution_count": 4,
=======
>>>>>>> e592c34862f8ba38196f8e27b15a82699c0a40c3
     "metadata": {},
     "execution_count": 3
    }
   ],
   "source": [
    "movies = pd.read_csv(\"../../Data/serendipity-sac2018/movies.csv\", error_bad_lines=False)\n",
    "imdbData = pd.read_csv(\"../Intermediate_data/IMDb_cldata.csv\")\n",
    "imdbData.drop(\"Unnamed: 0\", axis=1, inplace=True)\n",
    "movies.head()"
   ]
  },
  {
   "cell_type": "code",
<<<<<<< HEAD
   "execution_count": 5,
=======
   "execution_count": 4,
>>>>>>> e592c34862f8ba38196f8e27b15a82699c0a40c3
   "metadata": {},
   "outputs": [
    {
     "output_type": "execute_result",
     "data": {
      "text/plain": "   movieId  imdbId                               title  \\\n0        1  114709                    Toy Story (1995)   \n1        2  113497                      Jumanji (1995)   \n2        3  113228             Grumpier Old Men (1995)   \n3        4  114885            Waiting to Exhale (1995)   \n4        5  113041  Father of the Bride Part II (1995)   \n\n                                                plot  rating  runtimes  \\\n0  [u\"A cowboy doll is profoundly threatened and ...     8.3      81.0   \n1  [u'When two kids find and play a magical board...     7.0     104.0   \n2  [u\"John and Max resolve to save their beloved ...     6.7     101.0   \n3  [u\"Based on Terry McMillan's novel, this film ...     5.9     124.0   \n4  [u'George Banks must deal not only with the pr...     6.0     106.0   \n\n      votes  country codes_us  country codes_gb  country codes_fr  ...  \\\n0  837115.0               1.0               0.0               0.0  ...   \n1  287007.0               1.0               0.0               0.0  ...   \n2   23107.0               1.0               0.0               0.0  ...   \n3    9034.0               1.0               0.0               0.0  ...   \n4   32568.0               1.0               0.0               0.0  ...   \n\n   certificates_G  certificates_NR  certificates_PG  certificates_R  \\\n0             0.0              1.0              0.0             0.0   \n1             0.0              1.0              0.0             0.0   \n2             0.0              1.0              0.0             0.0   \n3             0.0              1.0              0.0             0.0   \n4             0.0              1.0              0.0             0.0   \n\n   kind_movie  kind_series  year_1800s  year_1900s  year_1950s  year_2000s  \n0         1.0          0.0         0.0         0.0         1.0         0.0  \n1         1.0          0.0         0.0         0.0         1.0         0.0  \n2         1.0          0.0         0.0         0.0         1.0         0.0  \n3         1.0          0.0         0.0         0.0         1.0         0.0  \n4         1.0          0.0         0.0         0.0         1.0         0.0  \n\n[5 rows x 47 columns]",
      "text/html": "<div>\n<style scoped>\n    .dataframe tbody tr th:only-of-type {\n        vertical-align: middle;\n    }\n\n    .dataframe tbody tr th {\n        vertical-align: top;\n    }\n\n    .dataframe thead th {\n        text-align: right;\n    }\n</style>\n<table border=\"1\" class=\"dataframe\">\n  <thead>\n    <tr style=\"text-align: right;\">\n      <th></th>\n      <th>movieId</th>\n      <th>imdbId</th>\n      <th>title</th>\n      <th>plot</th>\n      <th>rating</th>\n      <th>runtimes</th>\n      <th>votes</th>\n      <th>country codes_us</th>\n      <th>country codes_gb</th>\n      <th>country codes_fr</th>\n      <th>...</th>\n      <th>certificates_G</th>\n      <th>certificates_NR</th>\n      <th>certificates_PG</th>\n      <th>certificates_R</th>\n      <th>kind_movie</th>\n      <th>kind_series</th>\n      <th>year_1800s</th>\n      <th>year_1900s</th>\n      <th>year_1950s</th>\n      <th>year_2000s</th>\n    </tr>\n  </thead>\n  <tbody>\n    <tr>\n      <td>0</td>\n      <td>1</td>\n      <td>114709</td>\n      <td>Toy Story (1995)</td>\n      <td>[u\"A cowboy doll is profoundly threatened and ...</td>\n      <td>8.3</td>\n      <td>81.0</td>\n      <td>837115.0</td>\n      <td>1.0</td>\n      <td>0.0</td>\n      <td>0.0</td>\n      <td>...</td>\n      <td>0.0</td>\n      <td>1.0</td>\n      <td>0.0</td>\n      <td>0.0</td>\n      <td>1.0</td>\n      <td>0.0</td>\n      <td>0.0</td>\n      <td>0.0</td>\n      <td>1.0</td>\n      <td>0.0</td>\n    </tr>\n    <tr>\n      <td>1</td>\n      <td>2</td>\n      <td>113497</td>\n      <td>Jumanji (1995)</td>\n      <td>[u'When two kids find and play a magical board...</td>\n      <td>7.0</td>\n      <td>104.0</td>\n      <td>287007.0</td>\n      <td>1.0</td>\n      <td>0.0</td>\n      <td>0.0</td>\n      <td>...</td>\n      <td>0.0</td>\n      <td>1.0</td>\n      <td>0.0</td>\n      <td>0.0</td>\n      <td>1.0</td>\n      <td>0.0</td>\n      <td>0.0</td>\n      <td>0.0</td>\n      <td>1.0</td>\n      <td>0.0</td>\n    </tr>\n    <tr>\n      <td>2</td>\n      <td>3</td>\n      <td>113228</td>\n      <td>Grumpier Old Men (1995)</td>\n      <td>[u\"John and Max resolve to save their beloved ...</td>\n      <td>6.7</td>\n      <td>101.0</td>\n      <td>23107.0</td>\n      <td>1.0</td>\n      <td>0.0</td>\n      <td>0.0</td>\n      <td>...</td>\n      <td>0.0</td>\n      <td>1.0</td>\n      <td>0.0</td>\n      <td>0.0</td>\n      <td>1.0</td>\n      <td>0.0</td>\n      <td>0.0</td>\n      <td>0.0</td>\n      <td>1.0</td>\n      <td>0.0</td>\n    </tr>\n    <tr>\n      <td>3</td>\n      <td>4</td>\n      <td>114885</td>\n      <td>Waiting to Exhale (1995)</td>\n      <td>[u\"Based on Terry McMillan's novel, this film ...</td>\n      <td>5.9</td>\n      <td>124.0</td>\n      <td>9034.0</td>\n      <td>1.0</td>\n      <td>0.0</td>\n      <td>0.0</td>\n      <td>...</td>\n      <td>0.0</td>\n      <td>1.0</td>\n      <td>0.0</td>\n      <td>0.0</td>\n      <td>1.0</td>\n      <td>0.0</td>\n      <td>0.0</td>\n      <td>0.0</td>\n      <td>1.0</td>\n      <td>0.0</td>\n    </tr>\n    <tr>\n      <td>4</td>\n      <td>5</td>\n      <td>113041</td>\n      <td>Father of the Bride Part II (1995)</td>\n      <td>[u'George Banks must deal not only with the pr...</td>\n      <td>6.0</td>\n      <td>106.0</td>\n      <td>32568.0</td>\n      <td>1.0</td>\n      <td>0.0</td>\n      <td>0.0</td>\n      <td>...</td>\n      <td>0.0</td>\n      <td>1.0</td>\n      <td>0.0</td>\n      <td>0.0</td>\n      <td>1.0</td>\n      <td>0.0</td>\n      <td>0.0</td>\n      <td>0.0</td>\n      <td>1.0</td>\n      <td>0.0</td>\n    </tr>\n  </tbody>\n</table>\n<p>5 rows × 47 columns</p>\n</div>"
     },
<<<<<<< HEAD
     "execution_count": 5,
=======
>>>>>>> e592c34862f8ba38196f8e27b15a82699c0a40c3
     "metadata": {},
     "execution_count": 4
    }
   ],
   "source": [
    "allMovies = movies[[\"movieId\", \"imdbId\", \"title\"]].merge(imdbData, on = \"imdbId\", how = \"left\")\n",
    "allMovies.head()"
   ]
  },
  {
   "cell_type": "code",
<<<<<<< HEAD
   "execution_count": 6,
=======
   "execution_count": 5,
>>>>>>> e592c34862f8ba38196f8e27b15a82699c0a40c3
   "metadata": {},
   "outputs": [],
   "source": [
    "# allMovies.columns = [col.replace(\" \",\"_\") for col in allMovies.columns]\n",
    "# allMovies.columns"
   ]
  },
  {
   "cell_type": "code",
<<<<<<< HEAD
   "execution_count": 7,
=======
   "execution_count": 6,
>>>>>>> e592c34862f8ba38196f8e27b15a82699c0a40c3
   "metadata": {},
   "outputs": [
    {
     "output_type": "execute_result",
     "data": {
      "text/plain": "   userId  movieId  rating            timestamp  year\n0  127137   115824     4.5  2017-12-31 23:59:50  2017\n1  142748     2762     5.0  2017-12-31 23:59:41  2017\n2  196198     1198     3.5  2017-12-31 23:59:17  2017\n3  142748    71057     4.5  2017-12-31 23:58:09  2017\n4  142748   152077     5.0  2017-12-31 23:57:32  2017",
      "text/html": "<div>\n<style scoped>\n    .dataframe tbody tr th:only-of-type {\n        vertical-align: middle;\n    }\n\n    .dataframe tbody tr th {\n        vertical-align: top;\n    }\n\n    .dataframe thead th {\n        text-align: right;\n    }\n</style>\n<table border=\"1\" class=\"dataframe\">\n  <thead>\n    <tr style=\"text-align: right;\">\n      <th></th>\n      <th>userId</th>\n      <th>movieId</th>\n      <th>rating</th>\n      <th>timestamp</th>\n      <th>year</th>\n    </tr>\n  </thead>\n  <tbody>\n    <tr>\n      <td>0</td>\n      <td>127137</td>\n      <td>115824</td>\n      <td>4.5</td>\n      <td>2017-12-31 23:59:50</td>\n      <td>2017</td>\n    </tr>\n    <tr>\n      <td>1</td>\n      <td>142748</td>\n      <td>2762</td>\n      <td>5.0</td>\n      <td>2017-12-31 23:59:41</td>\n      <td>2017</td>\n    </tr>\n    <tr>\n      <td>2</td>\n      <td>196198</td>\n      <td>1198</td>\n      <td>3.5</td>\n      <td>2017-12-31 23:59:17</td>\n      <td>2017</td>\n    </tr>\n    <tr>\n      <td>3</td>\n      <td>142748</td>\n      <td>71057</td>\n      <td>4.5</td>\n      <td>2017-12-31 23:58:09</td>\n      <td>2017</td>\n    </tr>\n    <tr>\n      <td>4</td>\n      <td>142748</td>\n      <td>152077</td>\n      <td>5.0</td>\n      <td>2017-12-31 23:57:32</td>\n      <td>2017</td>\n    </tr>\n  </tbody>\n</table>\n</div>"
     },
<<<<<<< HEAD
     "execution_count": 7,
=======
>>>>>>> e592c34862f8ba38196f8e27b15a82699c0a40c3
     "metadata": {},
     "execution_count": 6
    }
   ],
   "source": [
    "train = pd.read_csv(\"../Intermediate_data/train_subset.csv\")\n",
    "train.drop(\"Unnamed: 0\", axis=1, inplace=True)\n",
    "train.head()"
   ]
  },
  {
   "cell_type": "code",
<<<<<<< HEAD
   "execution_count": 8,
=======
   "execution_count": 7,
>>>>>>> e592c34862f8ba38196f8e27b15a82699c0a40c3
   "metadata": {},
   "outputs": [
    {
     "output_type": "execute_result",
     "data": {
      "text/plain": "   Unnamed: 0  cluster  userId\n0           0        3  100032\n1           1        3  100036\n2           2        3  100053\n3           3        2  100057\n4           4        3  100058",
      "text/html": "<div>\n<style scoped>\n    .dataframe tbody tr th:only-of-type {\n        vertical-align: middle;\n    }\n\n    .dataframe tbody tr th {\n        vertical-align: top;\n    }\n\n    .dataframe thead th {\n        text-align: right;\n    }\n</style>\n<table border=\"1\" class=\"dataframe\">\n  <thead>\n    <tr style=\"text-align: right;\">\n      <th></th>\n      <th>Unnamed: 0</th>\n      <th>cluster</th>\n      <th>userId</th>\n    </tr>\n  </thead>\n  <tbody>\n    <tr>\n      <td>0</td>\n      <td>0</td>\n      <td>3</td>\n      <td>100032</td>\n    </tr>\n    <tr>\n      <td>1</td>\n      <td>1</td>\n      <td>3</td>\n      <td>100036</td>\n    </tr>\n    <tr>\n      <td>2</td>\n      <td>2</td>\n      <td>3</td>\n      <td>100053</td>\n    </tr>\n    <tr>\n      <td>3</td>\n      <td>3</td>\n      <td>2</td>\n      <td>100057</td>\n    </tr>\n    <tr>\n      <td>4</td>\n      <td>4</td>\n      <td>3</td>\n      <td>100058</td>\n    </tr>\n  </tbody>\n</table>\n</div>"
     },
<<<<<<< HEAD
     "execution_count": 8,
=======
>>>>>>> e592c34862f8ba38196f8e27b15a82699c0a40c3
     "metadata": {},
     "execution_count": 7
    }
   ],
   "source": [
    "userCluster = pd.read_csv(\"../Intermediate_data/user_clusters.csv\")\n",
    "userCluster.head()"
   ]
  },
  {
   "cell_type": "code",
<<<<<<< HEAD
   "execution_count": 9,
=======
   "execution_count": 8,
>>>>>>> e592c34862f8ba38196f8e27b15a82699c0a40c3
   "metadata": {},
   "outputs": [
    {
     "output_type": "execute_result",
     "data": {
      "text/plain": "   userId  movieId  rating            timestamp  year  cluster\n0  127137   115824     4.5  2017-12-31 23:59:50  2017      1.0\n1  142748     2762     5.0  2017-12-31 23:59:41  2017      1.0\n2  196198     1198     3.5  2017-12-31 23:59:17  2017      2.0\n3  142748    71057     4.5  2017-12-31 23:58:09  2017      1.0\n4  142748   152077     5.0  2017-12-31 23:57:32  2017      1.0",
      "text/html": "<div>\n<style scoped>\n    .dataframe tbody tr th:only-of-type {\n        vertical-align: middle;\n    }\n\n    .dataframe tbody tr th {\n        vertical-align: top;\n    }\n\n    .dataframe thead th {\n        text-align: right;\n    }\n</style>\n<table border=\"1\" class=\"dataframe\">\n  <thead>\n    <tr style=\"text-align: right;\">\n      <th></th>\n      <th>userId</th>\n      <th>movieId</th>\n      <th>rating</th>\n      <th>timestamp</th>\n      <th>year</th>\n      <th>cluster</th>\n    </tr>\n  </thead>\n  <tbody>\n    <tr>\n      <td>0</td>\n      <td>127137</td>\n      <td>115824</td>\n      <td>4.5</td>\n      <td>2017-12-31 23:59:50</td>\n      <td>2017</td>\n      <td>1.0</td>\n    </tr>\n    <tr>\n      <td>1</td>\n      <td>142748</td>\n      <td>2762</td>\n      <td>5.0</td>\n      <td>2017-12-31 23:59:41</td>\n      <td>2017</td>\n      <td>1.0</td>\n    </tr>\n    <tr>\n      <td>2</td>\n      <td>196198</td>\n      <td>1198</td>\n      <td>3.5</td>\n      <td>2017-12-31 23:59:17</td>\n      <td>2017</td>\n      <td>2.0</td>\n    </tr>\n    <tr>\n      <td>3</td>\n      <td>142748</td>\n      <td>71057</td>\n      <td>4.5</td>\n      <td>2017-12-31 23:58:09</td>\n      <td>2017</td>\n      <td>1.0</td>\n    </tr>\n    <tr>\n      <td>4</td>\n      <td>142748</td>\n      <td>152077</td>\n      <td>5.0</td>\n      <td>2017-12-31 23:57:32</td>\n      <td>2017</td>\n      <td>1.0</td>\n    </tr>\n  </tbody>\n</table>\n</div>"
     },
<<<<<<< HEAD
     "execution_count": 9,
=======
>>>>>>> e592c34862f8ba38196f8e27b15a82699c0a40c3
     "metadata": {},
     "execution_count": 8
    }
   ],
   "source": [
    "train = train.merge(userCluster[[\"userId\", \"cluster\"]], on = \"userId\", how = \"left\")\n",
    "train.head()"
   ]
  },
  {
   "cell_type": "code",
<<<<<<< HEAD
   "execution_count": 10,
=======
   "execution_count": 9,
>>>>>>> e592c34862f8ba38196f8e27b15a82699c0a40c3
   "metadata": {},
   "outputs": [],
   "source": [
    "featureImportances = pd.read_csv(\"../Intermediate_data/featureImportance.csv\")"
   ]
  },
  {
   "cell_type": "code",
<<<<<<< HEAD
   "execution_count": 11,
=======
   "execution_count": 10,
>>>>>>> e592c34862f8ba38196f8e27b15a82699c0a40c3
   "metadata": {},
   "outputs": [],
   "source": [
    "colsToScale = [\"runtimes\", \"votes\"]\n",
    "\n",
    "scaler = MinMaxScaler()\n",
    "allMovies[colsToScale] = scaler.fit_transform(allMovies[colsToScale])\n",
    ""
   ]
  },
  {
   "cell_type": "code",
<<<<<<< HEAD
   "execution_count": 12,
=======
   "execution_count": 11,
>>>>>>> e592c34862f8ba38196f8e27b15a82699c0a40c3
   "metadata": {},
   "outputs": [],
   "source": [
    "def getSimilarityScore(movie1, movie2, similarFeatures, dissimilarFeatures):\n",
    "\n",
    "    d1 = np.linalg.norm(movie1[:len(similarFeatures)] - movie2[:len(similarFeatures)], ord=1)\n",
    "    d2 = np.linalg.norm(movie1[len(similarFeatures):] - movie2[len(similarFeatures):], ord=1)\n",
    "    \n",
    "    ## To avoid division by 0\n",
    "    d2 += 1e-3\n",
    "    similarityScore = (d1 + (1/d2))\n",
    "    return similarityScore\n",
    "\n",
    "def setupSimilarityMatirx(likedMovies, allMovies, similarFeatures, dissimilarFeatures):\n",
    "    similarityMatrix = np.zeros(shape=(len(likedMovies), len(allMovies)))\n",
    "    data1 = np.array(likedMovies[np.append(similarFeatures, dissimilarFeatures)])\n",
    "    data2 = np.array(allMovies[np.append(similarFeatures, dissimilarFeatures)])\n",
    "    for i in range(len(likedMovies)):\n",
    "#         if i%20 == 0:\n",
    "#             print(str(i) + \"/\" + str(len(likedMovies)))\n",
    "        similarityScores = []\n",
    "        for j in range(len(allMovies)):\n",
    "            similarityScores.append(getSimilarityScore(data1[i,:], data2[j,:], \n",
    "                                                       similarFeatures, dissimilarFeatures))                \n",
    "        similarityMatrix[i,:] = similarityScores\n",
    "    return similarityMatrix\n",
    "\n",
    "def getRelevantMovies(likedMovies, similarityMatrix, top_n = 10):\n",
    "    indices = similarityMatrix.ravel().argsort()\n",
<<<<<<< HEAD
    "    \n",
    "    ## Return top_n indices with the lowest similarity scores\n",
    "    indices = indices[:top_n]%similarityMatrix.shape[1]\n",
    "\n",
=======
    "    indices = indices[-top_n:]%similarityMatrix.shape[1]\n",
>>>>>>> e592c34862f8ba38196f8e27b15a82699c0a40c3
    "    return np.unique(indices)\n",
    "\n",
    "def getLikedMovies(userMovieRatings, allMovies, ratingThreshold = 3.5, numMoviesToReturn = 20):\n",
    "    ## Returning top 10 liked movies. These 10 movies will be used to compute the similarity scores.\n",
    "    \n",
    "    likedMovieIds = userMovieRatings.loc[userMovieRatings[\"rating\"] >= ratingThreshold, \"movieId\"]\n",
    "    likedMovies = allMovies[allMovies[\"movieId\"].apply(lambda x: x in np.unique(likedMovieIds))]\n",
    "    return likedMovies.head(numMoviesToReturn)\n",
    "\n",
    "def getPredictions(userMovieRatings, allMovies, similarFeatures, dissimilarFeatures):\n",
    "#     similarFeatures = [\"runtimes\", \"votes\"]\n",
    "#     dissimilarFeatures = [\"country_codes_us\", \"country_codes_gb\", \"country_codes_fr\", \"country_codes_ca\"]\n",
    "    likedMovies = getLikedMovies(userMovieRatings, allMovies)\n",
    "    similarityMatrix = setupSimilarityMatirx(likedMovies, allMovies, \n",
    "                                             similarFeatures, dissimilarFeatures)\n",
    "    predictionIndices = getRelevantMovies(likedMovies, similarityMatrix)\n",
    "    \n",
    "    return allMovies.loc[predictionIndices,:], likedMovies\n",
    "\n",
    "def getImportantFeatures(userCluster, featureImportances, numSimilarFeatures = 10):\n",
    "    featureImportances = featureImportances[featureImportances[\"cluster\"] == userCluster]\n",
    "    similarFeatures = np.array(featureImportances[\"feature\"])[:numSimilarFeatures]\n",
    "    dissimilarFeatures = np.array(featureImportances[\"feature\"])[numSimilarFeatures:]\n",
    "    return (similarFeatures, dissimilarFeatures)\n",
    "    \n",
    "    "
   ]
  },
  {
   "cell_type": "code",
<<<<<<< HEAD
   "execution_count": 14,
=======
   "execution_count": 12,
>>>>>>> e592c34862f8ba38196f8e27b15a82699c0a40c3
   "metadata": {},
   "outputs": [
    {
     "output_type": "execute_result",
     "data": {
      "text/plain": "         userId  movieId  rating            timestamp  year  cluster\n0        127137   115824     4.5  2017-12-31 23:59:50  2017      1.0\n3699     127137     1267     4.5  2017-12-31 06:38:16  2017      1.0\n10012    127137    81257     4.5  2017-12-30 07:28:47  2017      1.0\n14921    127137   175981     3.0  2017-12-29 10:06:27  2017      1.0\n15582    127137    96728     3.0  2017-12-29 07:32:48  2017      1.0\n...         ...      ...     ...                  ...   ...      ...\n1680102  127137     3168     1.0  2017-02-17 06:21:26  2017      1.0\n1690612  127137     6957     4.5  2017-02-15 08:08:12  2017      1.0\n1690622  127137   134214     2.5  2017-02-15 08:07:10  2017      1.0\n1911990  127137     5004     3.5  2017-01-15 06:37:05  2017      1.0\n1912006  127137     6936     1.5  2017-01-15 06:34:41  2017      1.0\n\n[185 rows x 6 columns]",
      "text/html": "<div>\n<style scoped>\n    .dataframe tbody tr th:only-of-type {\n        vertical-align: middle;\n    }\n\n    .dataframe tbody tr th {\n        vertical-align: top;\n    }\n\n    .dataframe thead th {\n        text-align: right;\n    }\n</style>\n<table border=\"1\" class=\"dataframe\">\n  <thead>\n    <tr style=\"text-align: right;\">\n      <th></th>\n      <th>userId</th>\n      <th>movieId</th>\n      <th>rating</th>\n      <th>timestamp</th>\n      <th>year</th>\n      <th>cluster</th>\n    </tr>\n  </thead>\n  <tbody>\n    <tr>\n      <td>0</td>\n      <td>127137</td>\n      <td>115824</td>\n      <td>4.5</td>\n      <td>2017-12-31 23:59:50</td>\n      <td>2017</td>\n      <td>1.0</td>\n    </tr>\n    <tr>\n      <td>3699</td>\n      <td>127137</td>\n      <td>1267</td>\n      <td>4.5</td>\n      <td>2017-12-31 06:38:16</td>\n      <td>2017</td>\n      <td>1.0</td>\n    </tr>\n    <tr>\n      <td>10012</td>\n      <td>127137</td>\n      <td>81257</td>\n      <td>4.5</td>\n      <td>2017-12-30 07:28:47</td>\n      <td>2017</td>\n      <td>1.0</td>\n    </tr>\n    <tr>\n      <td>14921</td>\n      <td>127137</td>\n      <td>175981</td>\n      <td>3.0</td>\n      <td>2017-12-29 10:06:27</td>\n      <td>2017</td>\n      <td>1.0</td>\n    </tr>\n    <tr>\n      <td>15582</td>\n      <td>127137</td>\n      <td>96728</td>\n      <td>3.0</td>\n      <td>2017-12-29 07:32:48</td>\n      <td>2017</td>\n      <td>1.0</td>\n    </tr>\n    <tr>\n      <td>...</td>\n      <td>...</td>\n      <td>...</td>\n      <td>...</td>\n      <td>...</td>\n      <td>...</td>\n      <td>...</td>\n    </tr>\n    <tr>\n      <td>1680102</td>\n      <td>127137</td>\n      <td>3168</td>\n      <td>1.0</td>\n      <td>2017-02-17 06:21:26</td>\n      <td>2017</td>\n      <td>1.0</td>\n    </tr>\n    <tr>\n      <td>1690612</td>\n      <td>127137</td>\n      <td>6957</td>\n      <td>4.5</td>\n      <td>2017-02-15 08:08:12</td>\n      <td>2017</td>\n      <td>1.0</td>\n    </tr>\n    <tr>\n      <td>1690622</td>\n      <td>127137</td>\n      <td>134214</td>\n      <td>2.5</td>\n      <td>2017-02-15 08:07:10</td>\n      <td>2017</td>\n      <td>1.0</td>\n    </tr>\n    <tr>\n      <td>1911990</td>\n      <td>127137</td>\n      <td>5004</td>\n      <td>3.5</td>\n      <td>2017-01-15 06:37:05</td>\n      <td>2017</td>\n      <td>1.0</td>\n    </tr>\n    <tr>\n      <td>1912006</td>\n      <td>127137</td>\n      <td>6936</td>\n      <td>1.5</td>\n      <td>2017-01-15 06:34:41</td>\n      <td>2017</td>\n      <td>1.0</td>\n    </tr>\n  </tbody>\n</table>\n<p>185 rows × 6 columns</p>\n</div>"
     },
     "metadata": {},
     "execution_count": 12
    }
   ],
   "source": [
    "user1 = train[train[\"userId\"] == 127137]\n",
    "user1"
   ]
  },
  {
   "cell_type": "code",
<<<<<<< HEAD
   "execution_count": 15,
=======
   "execution_count": 13,
>>>>>>> e592c34862f8ba38196f8e27b15a82699c0a40c3
   "metadata": {},
   "outputs": [],
   "source": [
    "(similarFeatures, dissimilarFeatures) = getImportantFeatures(user1[\"cluster\"].unique()[0], featureImportances)"
   ]
  },
  {
   "cell_type": "code",
<<<<<<< HEAD
   "execution_count": 16,
   "metadata": {},
   "outputs": [],
   "source": [
    "predictions, likedMovies = getPredictions(user1,allMovies,similarFeatures, dissimilarFeatures)"
   ]
  },
  {
   "cell_type": "code",
   "execution_count": 18,
   "metadata": {},
   "outputs": [
    {
     "name": "stderr",
     "output_type": "stream",
     "text": [
      "/opt/anaconda3/lib/python3.7/site-packages/ipykernel_launcher.py:2: SettingWithCopyWarning: \n",
      "A value is trying to be set on a copy of a slice from a DataFrame.\n",
      "Try using .loc[row_indexer,col_indexer] = value instead\n",
      "\n",
      "See the caveats in the documentation: https://pandas.pydata.org/pandas-docs/stable/user_guide/indexing.html#returning-a-view-versus-a-copy\n",
      "  \n"
     ]
=======
   "execution_count": 14,
   "metadata": {},
   "outputs": [
    {
     "output_type": "stream",
     "name": "stdout",
     "text": "0/10\n"
>>>>>>> e592c34862f8ba38196f8e27b15a82699c0a40c3
    }
   ],
   "source": [
    "user1Pred = predictions[[\"movieId\", \"title\"]]\n",
    "user1Pred[\"userId\"] = 127137"
   ]
  },
  {
   "cell_type": "code",
<<<<<<< HEAD
   "execution_count": 24,
=======
   "execution_count": 15,
>>>>>>> e592c34862f8ba38196f8e27b15a82699c0a40c3
   "metadata": {},
   "outputs": [
    {
     "output_type": "execute_result",
     "data": {
<<<<<<< HEAD
      "text/html": [
       "<div>\n",
       "<style scoped>\n",
       "    .dataframe tbody tr th:only-of-type {\n",
       "        vertical-align: middle;\n",
       "    }\n",
       "\n",
       "    .dataframe tbody tr th {\n",
       "        vertical-align: top;\n",
       "    }\n",
       "\n",
       "    .dataframe thead th {\n",
       "        text-align: right;\n",
       "    }\n",
       "</style>\n",
       "<table border=\"1\" class=\"dataframe\">\n",
       "  <thead>\n",
       "    <tr style=\"text-align: right;\">\n",
       "      <th></th>\n",
       "      <th>movieId</th>\n",
       "      <th>title</th>\n",
       "      <th>rating</th>\n",
       "    </tr>\n",
       "  </thead>\n",
       "  <tbody>\n",
       "    <tr>\n",
       "      <th>0</th>\n",
       "      <td>1586</td>\n",
       "      <td>G.I. Jane (1997)</td>\n",
       "      <td>NaN</td>\n",
       "    </tr>\n",
       "    <tr>\n",
       "      <th>1</th>\n",
       "      <td>1840</td>\n",
       "      <td>He Got Game (1998)</td>\n",
       "      <td>NaN</td>\n",
       "    </tr>\n",
       "    <tr>\n",
       "      <th>2</th>\n",
       "      <td>6421</td>\n",
       "      <td>Rare Breed, The (1966)</td>\n",
       "      <td>NaN</td>\n",
       "    </tr>\n",
       "    <tr>\n",
       "      <th>3</th>\n",
       "      <td>7251</td>\n",
       "      <td>Where the Day Takes You (1992)</td>\n",
       "      <td>NaN</td>\n",
       "    </tr>\n",
       "    <tr>\n",
       "      <th>4</th>\n",
       "      <td>8772</td>\n",
       "      <td>Spy Who Came in from the Cold, The (1965)</td>\n",
       "      <td>NaN</td>\n",
       "    </tr>\n",
       "    <tr>\n",
       "      <th>5</th>\n",
       "      <td>26399</td>\n",
       "      <td>Five Deadly Venoms (1978)</td>\n",
       "      <td>NaN</td>\n",
       "    </tr>\n",
       "    <tr>\n",
       "      <th>6</th>\n",
       "      <td>26776</td>\n",
       "      <td>Porco Rosso (Crimson Pig) (Kurenai no buta) (1...</td>\n",
       "      <td>NaN</td>\n",
       "    </tr>\n",
       "    <tr>\n",
       "      <th>7</th>\n",
       "      <td>34464</td>\n",
       "      <td>Christmas in August (Palwolui Christmas) (1998)</td>\n",
       "      <td>NaN</td>\n",
       "    </tr>\n",
       "    <tr>\n",
       "      <th>8</th>\n",
       "      <td>52199</td>\n",
       "      <td>Damnation (Karhozat) (1987)</td>\n",
       "      <td>NaN</td>\n",
       "    </tr>\n",
       "    <tr>\n",
       "      <th>9</th>\n",
       "      <td>86312</td>\n",
       "      <td>Mouse on the Moon, The (1963)</td>\n",
       "      <td>NaN</td>\n",
       "    </tr>\n",
       "  </tbody>\n",
       "</table>\n",
       "</div>"
      ],
      "text/plain": [
       "   movieId                                              title  rating\n",
       "0     1586                                   G.I. Jane (1997)     NaN\n",
       "1     1840                                 He Got Game (1998)     NaN\n",
       "2     6421                             Rare Breed, The (1966)     NaN\n",
       "3     7251                     Where the Day Takes You (1992)     NaN\n",
       "4     8772          Spy Who Came in from the Cold, The (1965)     NaN\n",
       "5    26399                          Five Deadly Venoms (1978)     NaN\n",
       "6    26776  Porco Rosso (Crimson Pig) (Kurenai no buta) (1...     NaN\n",
       "7    34464    Christmas in August (Palwolui Christmas) (1998)     NaN\n",
       "8    52199                        Damnation (Karhozat) (1987)     NaN\n",
       "9    86312                      Mouse on the Moon, The (1963)     NaN"
      ]
     },
     "execution_count": 24,
=======
      "text/plain": "       movieId                                            title\n43056   167956              How to Win the US Presidency (2016)\n43366   168698                        Peng! Du bist tot! (1987)\n43373   168716                       A Gathering of Cats (2007)\n43379   168728                        Would-Be Gentleman (1968)\n43387   168746                  Escape from the Newsroom (2002)\n43388   168748                                     Pearl (2016)\n43391   168754                           Beautiful Beast (2013)\n43406   168790                             The Body Farm (2011)\n43414   168810                                     Today (1997)\n49167   183335  The Mysterious Castle in the Carpathians (1981)",
      "text/html": "<div>\n<style scoped>\n    .dataframe tbody tr th:only-of-type {\n        vertical-align: middle;\n    }\n\n    .dataframe tbody tr th {\n        vertical-align: top;\n    }\n\n    .dataframe thead th {\n        text-align: right;\n    }\n</style>\n<table border=\"1\" class=\"dataframe\">\n  <thead>\n    <tr style=\"text-align: right;\">\n      <th></th>\n      <th>movieId</th>\n      <th>title</th>\n    </tr>\n  </thead>\n  <tbody>\n    <tr>\n      <td>43056</td>\n      <td>167956</td>\n      <td>How to Win the US Presidency (2016)</td>\n    </tr>\n    <tr>\n      <td>43366</td>\n      <td>168698</td>\n      <td>Peng! Du bist tot! (1987)</td>\n    </tr>\n    <tr>\n      <td>43373</td>\n      <td>168716</td>\n      <td>A Gathering of Cats (2007)</td>\n    </tr>\n    <tr>\n      <td>43379</td>\n      <td>168728</td>\n      <td>Would-Be Gentleman (1968)</td>\n    </tr>\n    <tr>\n      <td>43387</td>\n      <td>168746</td>\n      <td>Escape from the Newsroom (2002)</td>\n    </tr>\n    <tr>\n      <td>43388</td>\n      <td>168748</td>\n      <td>Pearl (2016)</td>\n    </tr>\n    <tr>\n      <td>43391</td>\n      <td>168754</td>\n      <td>Beautiful Beast (2013)</td>\n    </tr>\n    <tr>\n      <td>43406</td>\n      <td>168790</td>\n      <td>The Body Farm (2011)</td>\n    </tr>\n    <tr>\n      <td>43414</td>\n      <td>168810</td>\n      <td>Today (1997)</td>\n    </tr>\n    <tr>\n      <td>49167</td>\n      <td>183335</td>\n      <td>The Mysterious Castle in the Carpathians (1981)</td>\n    </tr>\n  </tbody>\n</table>\n</div>"
     },
>>>>>>> e592c34862f8ba38196f8e27b15a82699c0a40c3
     "metadata": {},
     "execution_count": 15
    }
   ],
   "source": [
    "predictions = predictions[[\"movieId\", \"title\"]].merge(user1[[\"movieId\", \"rating\"]], on = \"movieId\", how = \"left\")\n",
    "predictions"
   ]
  },
  {
   "cell_type": "code",
<<<<<<< HEAD
   "execution_count": 19,
   "metadata": {},
   "outputs": [
    {
     "name": "stderr",
     "output_type": "stream",
     "text": [
      "/opt/anaconda3/lib/python3.7/site-packages/ipykernel_launcher.py:2: SettingWithCopyWarning: \n",
      "A value is trying to be set on a copy of a slice from a DataFrame.\n",
      "Try using .loc[row_indexer,col_indexer] = value instead\n",
      "\n",
      "See the caveats in the documentation: https://pandas.pydata.org/pandas-docs/stable/user_guide/indexing.html#returning-a-view-versus-a-copy\n",
      "  \n"
     ]
    }
   ],
   "source": [
    "user2Pred = predictions[[\"movieId\", \"title\"]]\n",
    "user2Pred[\"userId\"] = 127\n"
   ]
  },
  {
   "cell_type": "code",
   "execution_count": 20,
=======
   "execution_count": 16,
>>>>>>> e592c34862f8ba38196f8e27b15a82699c0a40c3
   "metadata": {},
   "outputs": [
    {
     "output_type": "execute_result",
     "data": {
<<<<<<< HEAD
      "text/html": [
       "<div>\n",
       "<style scoped>\n",
       "    .dataframe tbody tr th:only-of-type {\n",
       "        vertical-align: middle;\n",
       "    }\n",
       "\n",
       "    .dataframe tbody tr th {\n",
       "        vertical-align: top;\n",
       "    }\n",
       "\n",
       "    .dataframe thead th {\n",
       "        text-align: right;\n",
       "    }\n",
       "</style>\n",
       "<table border=\"1\" class=\"dataframe\">\n",
       "  <thead>\n",
       "    <tr style=\"text-align: right;\">\n",
       "      <th></th>\n",
       "    </tr>\n",
       "  </thead>\n",
       "  <tbody>\n",
       "  </tbody>\n",
       "</table>\n",
       "</div>"
      ],
      "text/plain": [
       "Empty DataFrame\n",
       "Columns: []\n",
       "Index: []"
      ]
     },
     "execution_count": 20,
     "metadata": {},
     "output_type": "execute_result"
    }
   ],
   "source": [
    "allPreds = pd.DataFrame()\n",
    "allPreds"
   ]
  },
  {
   "cell_type": "code",
   "execution_count": 25,
   "metadata": {},
   "outputs": [
    {
     "data": {
      "text/html": [
       "<div>\n",
       "<style scoped>\n",
       "    .dataframe tbody tr th:only-of-type {\n",
       "        vertical-align: middle;\n",
       "    }\n",
       "\n",
       "    .dataframe tbody tr th {\n",
       "        vertical-align: top;\n",
       "    }\n",
       "\n",
       "    .dataframe thead th {\n",
       "        text-align: right;\n",
       "    }\n",
       "</style>\n",
       "<table border=\"1\" class=\"dataframe\">\n",
       "  <thead>\n",
       "    <tr style=\"text-align: right;\">\n",
       "      <th></th>\n",
       "      <th>index</th>\n",
       "      <th>movieId</th>\n",
       "      <th>title</th>\n",
       "      <th>userId</th>\n",
       "    </tr>\n",
       "  </thead>\n",
       "  <tbody>\n",
       "    <tr>\n",
       "      <th>0</th>\n",
       "      <td>1476</td>\n",
       "      <td>1586</td>\n",
       "      <td>G.I. Jane (1997)</td>\n",
       "      <td>127137</td>\n",
       "    </tr>\n",
       "    <tr>\n",
       "      <th>1</th>\n",
       "      <td>1696</td>\n",
       "      <td>1840</td>\n",
       "      <td>He Got Game (1998)</td>\n",
       "      <td>127137</td>\n",
       "    </tr>\n",
       "    <tr>\n",
       "      <th>2</th>\n",
       "      <td>6206</td>\n",
       "      <td>6421</td>\n",
       "      <td>Rare Breed, The (1966)</td>\n",
       "      <td>127137</td>\n",
       "    </tr>\n",
       "    <tr>\n",
       "      <th>3</th>\n",
       "      <td>7025</td>\n",
       "      <td>7251</td>\n",
       "      <td>Where the Day Takes You (1992)</td>\n",
       "      <td>127137</td>\n",
       "    </tr>\n",
       "    <tr>\n",
       "      <th>4</th>\n",
       "      <td>7968</td>\n",
       "      <td>8772</td>\n",
       "      <td>Spy Who Came in from the Cold, The (1965)</td>\n",
       "      <td>127137</td>\n",
       "    </tr>\n",
       "    <tr>\n",
       "      <th>5</th>\n",
       "      <td>8754</td>\n",
       "      <td>26399</td>\n",
       "      <td>Five Deadly Venoms (1978)</td>\n",
       "      <td>127137</td>\n",
       "    </tr>\n",
       "    <tr>\n",
       "      <th>6</th>\n",
       "      <td>9029</td>\n",
       "      <td>26776</td>\n",
       "      <td>Porco Rosso (Crimson Pig) (Kurenai no buta) (1...</td>\n",
       "      <td>127137</td>\n",
       "    </tr>\n",
       "    <tr>\n",
       "      <th>7</th>\n",
       "      <td>10529</td>\n",
       "      <td>34464</td>\n",
       "      <td>Christmas in August (Palwolui Christmas) (1998)</td>\n",
       "      <td>127137</td>\n",
       "    </tr>\n",
       "    <tr>\n",
       "      <th>8</th>\n",
       "      <td>12208</td>\n",
       "      <td>52199</td>\n",
       "      <td>Damnation (Karhozat) (1987)</td>\n",
       "      <td>127137</td>\n",
       "    </tr>\n",
       "    <tr>\n",
       "      <th>9</th>\n",
       "      <td>17663</td>\n",
       "      <td>86312</td>\n",
       "      <td>Mouse on the Moon, The (1963)</td>\n",
       "      <td>127137</td>\n",
       "    </tr>\n",
       "    <tr>\n",
       "      <th>10</th>\n",
       "      <td>1476</td>\n",
       "      <td>1586</td>\n",
       "      <td>G.I. Jane (1997)</td>\n",
       "      <td>127</td>\n",
       "    </tr>\n",
       "    <tr>\n",
       "      <th>11</th>\n",
       "      <td>1696</td>\n",
       "      <td>1840</td>\n",
       "      <td>He Got Game (1998)</td>\n",
       "      <td>127</td>\n",
       "    </tr>\n",
       "    <tr>\n",
       "      <th>12</th>\n",
       "      <td>6206</td>\n",
       "      <td>6421</td>\n",
       "      <td>Rare Breed, The (1966)</td>\n",
       "      <td>127</td>\n",
       "    </tr>\n",
       "    <tr>\n",
       "      <th>13</th>\n",
       "      <td>7025</td>\n",
       "      <td>7251</td>\n",
       "      <td>Where the Day Takes You (1992)</td>\n",
       "      <td>127</td>\n",
       "    </tr>\n",
       "    <tr>\n",
       "      <th>14</th>\n",
       "      <td>7968</td>\n",
       "      <td>8772</td>\n",
       "      <td>Spy Who Came in from the Cold, The (1965)</td>\n",
       "      <td>127</td>\n",
       "    </tr>\n",
       "    <tr>\n",
       "      <th>15</th>\n",
       "      <td>8754</td>\n",
       "      <td>26399</td>\n",
       "      <td>Five Deadly Venoms (1978)</td>\n",
       "      <td>127</td>\n",
       "    </tr>\n",
       "    <tr>\n",
       "      <th>16</th>\n",
       "      <td>9029</td>\n",
       "      <td>26776</td>\n",
       "      <td>Porco Rosso (Crimson Pig) (Kurenai no buta) (1...</td>\n",
       "      <td>127</td>\n",
       "    </tr>\n",
       "    <tr>\n",
       "      <th>17</th>\n",
       "      <td>10529</td>\n",
       "      <td>34464</td>\n",
       "      <td>Christmas in August (Palwolui Christmas) (1998)</td>\n",
       "      <td>127</td>\n",
       "    </tr>\n",
       "    <tr>\n",
       "      <th>18</th>\n",
       "      <td>12208</td>\n",
       "      <td>52199</td>\n",
       "      <td>Damnation (Karhozat) (1987)</td>\n",
       "      <td>127</td>\n",
       "    </tr>\n",
       "    <tr>\n",
       "      <th>19</th>\n",
       "      <td>17663</td>\n",
       "      <td>86312</td>\n",
       "      <td>Mouse on the Moon, The (1963)</td>\n",
       "      <td>127</td>\n",
       "    </tr>\n",
       "    <tr>\n",
       "      <th>20</th>\n",
       "      <td>1476</td>\n",
       "      <td>1586</td>\n",
       "      <td>G.I. Jane (1997)</td>\n",
       "      <td>127137</td>\n",
       "    </tr>\n",
       "    <tr>\n",
       "      <th>21</th>\n",
       "      <td>1696</td>\n",
       "      <td>1840</td>\n",
       "      <td>He Got Game (1998)</td>\n",
       "      <td>127137</td>\n",
       "    </tr>\n",
       "    <tr>\n",
       "      <th>22</th>\n",
       "      <td>6206</td>\n",
       "      <td>6421</td>\n",
       "      <td>Rare Breed, The (1966)</td>\n",
       "      <td>127137</td>\n",
       "    </tr>\n",
       "    <tr>\n",
       "      <th>23</th>\n",
       "      <td>7025</td>\n",
       "      <td>7251</td>\n",
       "      <td>Where the Day Takes You (1992)</td>\n",
       "      <td>127137</td>\n",
       "    </tr>\n",
       "    <tr>\n",
       "      <th>24</th>\n",
       "      <td>7968</td>\n",
       "      <td>8772</td>\n",
       "      <td>Spy Who Came in from the Cold, The (1965)</td>\n",
       "      <td>127137</td>\n",
       "    </tr>\n",
       "    <tr>\n",
       "      <th>25</th>\n",
       "      <td>8754</td>\n",
       "      <td>26399</td>\n",
       "      <td>Five Deadly Venoms (1978)</td>\n",
       "      <td>127137</td>\n",
       "    </tr>\n",
       "    <tr>\n",
       "      <th>26</th>\n",
       "      <td>9029</td>\n",
       "      <td>26776</td>\n",
       "      <td>Porco Rosso (Crimson Pig) (Kurenai no buta) (1...</td>\n",
       "      <td>127137</td>\n",
       "    </tr>\n",
       "    <tr>\n",
       "      <th>27</th>\n",
       "      <td>10529</td>\n",
       "      <td>34464</td>\n",
       "      <td>Christmas in August (Palwolui Christmas) (1998)</td>\n",
       "      <td>127137</td>\n",
       "    </tr>\n",
       "    <tr>\n",
       "      <th>28</th>\n",
       "      <td>12208</td>\n",
       "      <td>52199</td>\n",
       "      <td>Damnation (Karhozat) (1987)</td>\n",
       "      <td>127137</td>\n",
       "    </tr>\n",
       "    <tr>\n",
       "      <th>29</th>\n",
       "      <td>17663</td>\n",
       "      <td>86312</td>\n",
       "      <td>Mouse on the Moon, The (1963)</td>\n",
       "      <td>127137</td>\n",
       "    </tr>\n",
       "    <tr>\n",
       "      <th>30</th>\n",
       "      <td>1476</td>\n",
       "      <td>1586</td>\n",
       "      <td>G.I. Jane (1997)</td>\n",
       "      <td>127</td>\n",
       "    </tr>\n",
       "    <tr>\n",
       "      <th>31</th>\n",
       "      <td>1696</td>\n",
       "      <td>1840</td>\n",
       "      <td>He Got Game (1998)</td>\n",
       "      <td>127</td>\n",
       "    </tr>\n",
       "    <tr>\n",
       "      <th>32</th>\n",
       "      <td>6206</td>\n",
       "      <td>6421</td>\n",
       "      <td>Rare Breed, The (1966)</td>\n",
       "      <td>127</td>\n",
       "    </tr>\n",
       "    <tr>\n",
       "      <th>33</th>\n",
       "      <td>7025</td>\n",
       "      <td>7251</td>\n",
       "      <td>Where the Day Takes You (1992)</td>\n",
       "      <td>127</td>\n",
       "    </tr>\n",
       "    <tr>\n",
       "      <th>34</th>\n",
       "      <td>7968</td>\n",
       "      <td>8772</td>\n",
       "      <td>Spy Who Came in from the Cold, The (1965)</td>\n",
       "      <td>127</td>\n",
       "    </tr>\n",
       "    <tr>\n",
       "      <th>35</th>\n",
       "      <td>8754</td>\n",
       "      <td>26399</td>\n",
       "      <td>Five Deadly Venoms (1978)</td>\n",
       "      <td>127</td>\n",
       "    </tr>\n",
       "    <tr>\n",
       "      <th>36</th>\n",
       "      <td>9029</td>\n",
       "      <td>26776</td>\n",
       "      <td>Porco Rosso (Crimson Pig) (Kurenai no buta) (1...</td>\n",
       "      <td>127</td>\n",
       "    </tr>\n",
       "    <tr>\n",
       "      <th>37</th>\n",
       "      <td>10529</td>\n",
       "      <td>34464</td>\n",
       "      <td>Christmas in August (Palwolui Christmas) (1998)</td>\n",
       "      <td>127</td>\n",
       "    </tr>\n",
       "    <tr>\n",
       "      <th>38</th>\n",
       "      <td>12208</td>\n",
       "      <td>52199</td>\n",
       "      <td>Damnation (Karhozat) (1987)</td>\n",
       "      <td>127</td>\n",
       "    </tr>\n",
       "    <tr>\n",
       "      <th>39</th>\n",
       "      <td>17663</td>\n",
       "      <td>86312</td>\n",
       "      <td>Mouse on the Moon, The (1963)</td>\n",
       "      <td>127</td>\n",
       "    </tr>\n",
       "  </tbody>\n",
       "</table>\n",
       "</div>"
      ],
      "text/plain": [
       "    index  movieId                                              title  userId\n",
       "0    1476     1586                                   G.I. Jane (1997)  127137\n",
       "1    1696     1840                                 He Got Game (1998)  127137\n",
       "2    6206     6421                             Rare Breed, The (1966)  127137\n",
       "3    7025     7251                     Where the Day Takes You (1992)  127137\n",
       "4    7968     8772          Spy Who Came in from the Cold, The (1965)  127137\n",
       "5    8754    26399                          Five Deadly Venoms (1978)  127137\n",
       "6    9029    26776  Porco Rosso (Crimson Pig) (Kurenai no buta) (1...  127137\n",
       "7   10529    34464    Christmas in August (Palwolui Christmas) (1998)  127137\n",
       "8   12208    52199                        Damnation (Karhozat) (1987)  127137\n",
       "9   17663    86312                      Mouse on the Moon, The (1963)  127137\n",
       "10   1476     1586                                   G.I. Jane (1997)     127\n",
       "11   1696     1840                                 He Got Game (1998)     127\n",
       "12   6206     6421                             Rare Breed, The (1966)     127\n",
       "13   7025     7251                     Where the Day Takes You (1992)     127\n",
       "14   7968     8772          Spy Who Came in from the Cold, The (1965)     127\n",
       "15   8754    26399                          Five Deadly Venoms (1978)     127\n",
       "16   9029    26776  Porco Rosso (Crimson Pig) (Kurenai no buta) (1...     127\n",
       "17  10529    34464    Christmas in August (Palwolui Christmas) (1998)     127\n",
       "18  12208    52199                        Damnation (Karhozat) (1987)     127\n",
       "19  17663    86312                      Mouse on the Moon, The (1963)     127\n",
       "20   1476     1586                                   G.I. Jane (1997)  127137\n",
       "21   1696     1840                                 He Got Game (1998)  127137\n",
       "22   6206     6421                             Rare Breed, The (1966)  127137\n",
       "23   7025     7251                     Where the Day Takes You (1992)  127137\n",
       "24   7968     8772          Spy Who Came in from the Cold, The (1965)  127137\n",
       "25   8754    26399                          Five Deadly Venoms (1978)  127137\n",
       "26   9029    26776  Porco Rosso (Crimson Pig) (Kurenai no buta) (1...  127137\n",
       "27  10529    34464    Christmas in August (Palwolui Christmas) (1998)  127137\n",
       "28  12208    52199                        Damnation (Karhozat) (1987)  127137\n",
       "29  17663    86312                      Mouse on the Moon, The (1963)  127137\n",
       "30   1476     1586                                   G.I. Jane (1997)     127\n",
       "31   1696     1840                                 He Got Game (1998)     127\n",
       "32   6206     6421                             Rare Breed, The (1966)     127\n",
       "33   7025     7251                     Where the Day Takes You (1992)     127\n",
       "34   7968     8772          Spy Who Came in from the Cold, The (1965)     127\n",
       "35   8754    26399                          Five Deadly Venoms (1978)     127\n",
       "36   9029    26776  Porco Rosso (Crimson Pig) (Kurenai no buta) (1...     127\n",
       "37  10529    34464    Christmas in August (Palwolui Christmas) (1998)     127\n",
       "38  12208    52199                        Damnation (Karhozat) (1987)     127\n",
       "39  17663    86312                      Mouse on the Moon, The (1963)     127"
      ]
     },
     "execution_count": 25,
=======
      "text/plain": "      movieId                                 title\n24         25              Leaving Las Vegas (1995)\n309       319                  Shallow Grave (1994)\n737       778                  Trainspotting (1996)\n842       897        For Whom the Bell Tolls (1943)\n858       913            Maltese Falcon, The (1941)\n881       936                      Ninotchka (1939)\n939       999           2 Days in the Valley (1996)\n974      1035            Sound of Music, The (1965)\n1101     1175                   Delicatessen (1991)\n1171     1250  Bridge on the River Kwai, The (1957)",
      "text/html": "<div>\n<style scoped>\n    .dataframe tbody tr th:only-of-type {\n        vertical-align: middle;\n    }\n\n    .dataframe tbody tr th {\n        vertical-align: top;\n    }\n\n    .dataframe thead th {\n        text-align: right;\n    }\n</style>\n<table border=\"1\" class=\"dataframe\">\n  <thead>\n    <tr style=\"text-align: right;\">\n      <th></th>\n      <th>movieId</th>\n      <th>title</th>\n    </tr>\n  </thead>\n  <tbody>\n    <tr>\n      <td>24</td>\n      <td>25</td>\n      <td>Leaving Las Vegas (1995)</td>\n    </tr>\n    <tr>\n      <td>309</td>\n      <td>319</td>\n      <td>Shallow Grave (1994)</td>\n    </tr>\n    <tr>\n      <td>737</td>\n      <td>778</td>\n      <td>Trainspotting (1996)</td>\n    </tr>\n    <tr>\n      <td>842</td>\n      <td>897</td>\n      <td>For Whom the Bell Tolls (1943)</td>\n    </tr>\n    <tr>\n      <td>858</td>\n      <td>913</td>\n      <td>Maltese Falcon, The (1941)</td>\n    </tr>\n    <tr>\n      <td>881</td>\n      <td>936</td>\n      <td>Ninotchka (1939)</td>\n    </tr>\n    <tr>\n      <td>939</td>\n      <td>999</td>\n      <td>2 Days in the Valley (1996)</td>\n    </tr>\n    <tr>\n      <td>974</td>\n      <td>1035</td>\n      <td>Sound of Music, The (1965)</td>\n    </tr>\n    <tr>\n      <td>1101</td>\n      <td>1175</td>\n      <td>Delicatessen (1991)</td>\n    </tr>\n    <tr>\n      <td>1171</td>\n      <td>1250</td>\n      <td>Bridge on the River Kwai, The (1957)</td>\n    </tr>\n  </tbody>\n</table>\n</div>"
     },
>>>>>>> e592c34862f8ba38196f8e27b15a82699c0a40c3
     "metadata": {},
     "execution_count": 16
    }
   ],
   "source": [
    "allPreds = allPreds.append(user1Pred)\n",
    "allPreds = allPreds.append(user2Pred)\n",
    "allPreds.reset_index()"
   ]
  },
  {
   "cell_type": "code",
   "execution_count": 26,
   "metadata": {},
   "outputs": [
    {
     "name": "stdout",
     "output_type": "stream",
     "text": [
      "0 / 50\n",
      "15 / 50\n",
      "30 / 50\n",
      "45 / 50\n",
      "60 / 50\n",
      "75 / 50\n",
      "90 / 50\n",
      "105 / 50\n",
      "120 / 50\n",
      "135 / 50\n",
      "150 / 50\n",
      "165 / 50\n",
      "180 / 50\n",
      "195 / 50\n"
     ]
    }
   ],
   "source": [
    "ratingsPredicted = []\n",
    "allPredictions = pd.DataFrame()\n",
    "for i, userId in enumerate(train[\"userId\"].unique()[:200]):\n",
    "    if i%15 == 0:\n",
    "        print(str(i) + \" / 50\")\n",
    "    user1 = train[train[\"userId\"] == userId]\n",
    "    (similarFeatures, dissimilarFeatures) = getImportantFeatures(user1[\"cluster\"].unique()[0], featureImportances)\n",
    "    predictions, likedMovies = getPredictions(user1,allMovies,similarFeatures, dissimilarFeatures)\n",
    "    predictions = predictions[[\"movieId\", \"title\"]].merge(user1[[\"movieId\", \"rating\"]], on = \"movieId\", how = \"left\")\n",
    "    predictions[\"userId\"] = userId\n",
    "    allPredictions = allPredictions.append(predictions)\n",
    "    ratingsPredicted.append(np.array(predictions[\"rating\"]))\n",
    "\n",
    "    "
   ]
  },
  {
   "cell_type": "code",
   "execution_count": null,
   "metadata": {},
   "outputs": [],
<<<<<<< HEAD
   "source": [
    "allPredictions.to_csv(\"../Intermediate_data/distancePr\")"
   ]
  },
  {
   "cell_type": "code",
   "execution_count": null,
   "metadata": {},
   "outputs": [],
=======
>>>>>>> e592c34862f8ba38196f8e27b15a82699c0a40c3
   "source": []
  },
  {
   "cell_type": "code",
   "execution_count": 36,
   "metadata": {},
   "outputs": [],
   "source": [
    "import itertools\n",
    "ratingsPredicted = list(itertools.chain.from_iterable(ratingsPredicted))"
   ]
  },
  {
   "cell_type": "code",
   "execution_count": 44,
   "metadata": {},
   "outputs": [
    {
     "data": {
      "image/png": "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\n",
      "text/plain": [
       "<Figure size 432x288 with 1 Axes>"
      ]
     },
     "metadata": {
      "needs_background": "light"
     },
     "output_type": "display_data"
    },
    {
     "data": {
      "text/plain": [
       "<Figure size 720x720 with 0 Axes>"
      ]
     },
     "metadata": {},
     "output_type": "display_data"
    }
   ],
   "source": [
    "from matplotlib import pyplot as plt\n",
    "pd.DataFrame(ratingsPredicted).hist()\n",
    "plt.title(\"Ratings distribution of recommended movies\")\n",
    "plt.figure(figsize=(10,10))\n",
    "plt.show()"
   ]
  },
  {
   "cell_type": "code",
   "execution_count": null,
   "metadata": {},
   "outputs": [],
   "source": []
  },
  {
   "cell_type": "code",
   "execution_count": null,
   "metadata": {},
   "outputs": [],
   "source": []
  },
  {
   "cell_type": "code",
   "execution_count": null,
   "metadata": {},
   "outputs": [],
   "source": []
  }
 ],
 "metadata": {
  "kernelspec": {
   "display_name": "Python 3",
   "language": "python",
   "name": "python3"
  },
  "language_info": {
   "codemirror_mode": {
    "name": "ipython",
    "version": 3
   },
   "file_extension": ".py",
   "mimetype": "text/x-python",
   "name": "python",
   "nbconvert_exporter": "python",
<<<<<<< HEAD
   "pygments_lexer": "ipython3",
   "version": "3.7.6"
=======
   "pygments_lexer": "ipython2",
   "version": "3.7.4-final"
>>>>>>> e592c34862f8ba38196f8e27b15a82699c0a40c3
  }
 },
 "nbformat": 4,
 "nbformat_minor": 2
}