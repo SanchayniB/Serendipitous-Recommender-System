{
 "nbformat": 4,
 "nbformat_minor": 2,
 "metadata": {
  "language_info": {
   "name": "python",
   "codemirror_mode": {
    "name": "ipython",
    "version": 3
   },
   "version": "3.5.5-final"
  },
  "orig_nbformat": 2,
  "file_extension": ".py",
  "mimetype": "text/x-python",
  "name": "python",
  "npconvert_exporter": "python",
  "pygments_lexer": "ipython3",
  "version": 3,
  "kernelspec": {
   "name": "python35564bit0b9f639e75a74110b6084f891aac6e48",
   "display_name": "Python 3.5.5 64-bit"
  }
 },
 "cells": [
  {
   "cell_type": "code",
   "execution_count": 1,
   "metadata": {},
   "outputs": [],
   "source": [
    "import pandas as pd\n",
    "import numpy as np"
   ]
  },
  {
   "cell_type": "code",
   "execution_count": 2,
   "metadata": {},
   "outputs": [],
   "source": [
    "import networkx as nx"
   ]
  },
  {
   "cell_type": "code",
   "execution_count": 5,
   "metadata": {},
   "outputs": [],
   "source": [
    "train_clusters = pd.read_csv('../../data/train_clusters.csv', index_col= 0)"
   ]
  },
  {
   "cell_type": "code",
   "execution_count": 6,
   "metadata": {},
   "outputs": [
    {
     "data": {
      "text/html": "<div>\n<style scoped>\n    .dataframe tbody tr th:only-of-type {\n        vertical-align: middle;\n    }\n\n    .dataframe tbody tr th {\n        vertical-align: top;\n    }\n\n    .dataframe thead th {\n        text-align: right;\n    }\n</style>\n<table border=\"1\" class=\"dataframe\">\n  <thead>\n    <tr style=\"text-align: right;\">\n      <th></th>\n      <th>index</th>\n      <th>userId</th>\n      <th>movieId</th>\n      <th>rating</th>\n      <th>timestamp</th>\n      <th>year</th>\n      <th>title</th>\n      <th>releaseDate</th>\n      <th>directedBy</th>\n      <th>starring</th>\n      <th>...</th>\n      <th>IMAX</th>\n      <th>Musical</th>\n      <th>Mystery</th>\n      <th>Romance</th>\n      <th>Sci-Fi</th>\n      <th>Thriller</th>\n      <th>War</th>\n      <th>Western</th>\n      <th>nan</th>\n      <th>cluster</th>\n    </tr>\n  </thead>\n  <tbody>\n    <tr>\n      <th>0</th>\n      <td>25353</td>\n      <td>142748</td>\n      <td>2762</td>\n      <td>5.0</td>\n      <td>2017-12-31 23:59:41</td>\n      <td>2017</td>\n      <td>Sixth Sense, The (1999)</td>\n      <td>1999-08-06</td>\n      <td>M. Night Shyamalan</td>\n      <td>Haley Joel Osment, Bruce Willis, Toni Collette...</td>\n      <td>...</td>\n      <td>0</td>\n      <td>0</td>\n      <td>1</td>\n      <td>0</td>\n      <td>0</td>\n      <td>0</td>\n      <td>0</td>\n      <td>0</td>\n      <td>0</td>\n      <td>1</td>\n    </tr>\n    <tr>\n      <th>1</th>\n      <td>26123</td>\n      <td>142752</td>\n      <td>2762</td>\n      <td>4.0</td>\n      <td>2017-12-31 20:41:29</td>\n      <td>2017</td>\n      <td>Sixth Sense, The (1999)</td>\n      <td>1999-08-06</td>\n      <td>M. Night Shyamalan</td>\n      <td>Haley Joel Osment, Bruce Willis, Toni Collette...</td>\n      <td>...</td>\n      <td>0</td>\n      <td>0</td>\n      <td>1</td>\n      <td>0</td>\n      <td>0</td>\n      <td>0</td>\n      <td>0</td>\n      <td>0</td>\n      <td>0</td>\n      <td>3</td>\n    </tr>\n    <tr>\n      <th>2</th>\n      <td>26180</td>\n      <td>142744</td>\n      <td>2762</td>\n      <td>4.0</td>\n      <td>2017-12-31 20:35:25</td>\n      <td>2017</td>\n      <td>Sixth Sense, The (1999)</td>\n      <td>1999-08-06</td>\n      <td>M. Night Shyamalan</td>\n      <td>Haley Joel Osment, Bruce Willis, Toni Collette...</td>\n      <td>...</td>\n      <td>0</td>\n      <td>0</td>\n      <td>1</td>\n      <td>0</td>\n      <td>0</td>\n      <td>0</td>\n      <td>0</td>\n      <td>0</td>\n      <td>0</td>\n      <td>0</td>\n    </tr>\n    <tr>\n      <th>3</th>\n      <td>26257</td>\n      <td>142753</td>\n      <td>2762</td>\n      <td>4.5</td>\n      <td>2017-12-31 20:19:35</td>\n      <td>2017</td>\n      <td>Sixth Sense, The (1999)</td>\n      <td>1999-08-06</td>\n      <td>M. Night Shyamalan</td>\n      <td>Haley Joel Osment, Bruce Willis, Toni Collette...</td>\n      <td>...</td>\n      <td>0</td>\n      <td>0</td>\n      <td>1</td>\n      <td>0</td>\n      <td>0</td>\n      <td>0</td>\n      <td>0</td>\n      <td>0</td>\n      <td>0</td>\n      <td>0</td>\n    </tr>\n    <tr>\n      <th>4</th>\n      <td>26651</td>\n      <td>142747</td>\n      <td>2762</td>\n      <td>3.0</td>\n      <td>2017-12-31 18:02:45</td>\n      <td>2017</td>\n      <td>Sixth Sense, The (1999)</td>\n      <td>1999-08-06</td>\n      <td>M. Night Shyamalan</td>\n      <td>Haley Joel Osment, Bruce Willis, Toni Collette...</td>\n      <td>...</td>\n      <td>0</td>\n      <td>0</td>\n      <td>1</td>\n      <td>0</td>\n      <td>0</td>\n      <td>0</td>\n      <td>0</td>\n      <td>0</td>\n      <td>0</td>\n      <td>3</td>\n    </tr>\n  </tbody>\n</table>\n<p>5 rows × 34 columns</p>\n</div>",
      "text/plain": "   index  userId  movieId  rating            timestamp  year  \\\n0  25353  142748     2762     5.0  2017-12-31 23:59:41  2017   \n1  26123  142752     2762     4.0  2017-12-31 20:41:29  2017   \n2  26180  142744     2762     4.0  2017-12-31 20:35:25  2017   \n3  26257  142753     2762     4.5  2017-12-31 20:19:35  2017   \n4  26651  142747     2762     3.0  2017-12-31 18:02:45  2017   \n\n                     title releaseDate          directedBy  \\\n0  Sixth Sense, The (1999)  1999-08-06  M. Night Shyamalan   \n1  Sixth Sense, The (1999)  1999-08-06  M. Night Shyamalan   \n2  Sixth Sense, The (1999)  1999-08-06  M. Night Shyamalan   \n3  Sixth Sense, The (1999)  1999-08-06  M. Night Shyamalan   \n4  Sixth Sense, The (1999)  1999-08-06  M. Night Shyamalan   \n\n                                            starring   ...     IMAX  Musical  \\\n0  Haley Joel Osment, Bruce Willis, Toni Collette...   ...        0        0   \n1  Haley Joel Osment, Bruce Willis, Toni Collette...   ...        0        0   \n2  Haley Joel Osment, Bruce Willis, Toni Collette...   ...        0        0   \n3  Haley Joel Osment, Bruce Willis, Toni Collette...   ...        0        0   \n4  Haley Joel Osment, Bruce Willis, Toni Collette...   ...        0        0   \n\n  Mystery  Romance  Sci-Fi  Thriller  War  Western  nan  cluster  \n0       1        0       0         0    0        0    0        1  \n1       1        0       0         0    0        0    0        3  \n2       1        0       0         0    0        0    0        0  \n3       1        0       0         0    0        0    0        0  \n4       1        0       0         0    0        0    0        3  \n\n[5 rows x 34 columns]"
     },
     "execution_count": 6,
     "metadata": {},
     "output_type": "execute_result"
    }
   ],
   "source": [
    "train_clusters.head()"
   ]
  },
  {
   "cell_type": "code",
   "execution_count": 9,
   "metadata": {},
   "outputs": [],
   "source": [
    "UM = train_clusters.pivot(index='userId', columns='movieId', values='rating')\n",
    "UM_matrix = np.matrix(UM.values)"
   ]
  },
  {
   "cell_type": "code",
   "execution_count": 12,
   "metadata": {},
   "outputs": [],
   "source": [
    "UM_matrix_new = np.nan_to_num(UM_matrix)"
   ]
  },
  {
   "cell_type": "code",
   "execution_count": 13,
   "metadata": {},
   "outputs": [
    {
     "ename": "NetworkXError",
     "evalue": "('Adjacency matrix is not square.', 'nx,ny=(19203, 17035)')",
     "output_type": "error",
     "traceback": [
      "\u001b[0;31m---------------------------------------------------------------------------\u001b[0m",
      "\u001b[0;31mNetworkXError\u001b[0m                             Traceback (most recent call last)",
      "\u001b[0;32m<ipython-input-13-b34e09ed1022>\u001b[0m in \u001b[0;36m<module>\u001b[0;34m\u001b[0m\n\u001b[0;32m----> 1\u001b[0;31m \u001b[0mG\u001b[0m \u001b[0;34m=\u001b[0m \u001b[0mnx\u001b[0m\u001b[0;34m.\u001b[0m\u001b[0mfrom_numpy_matrix\u001b[0m\u001b[0;34m(\u001b[0m\u001b[0mUM_matrix_new\u001b[0m\u001b[0;34m)\u001b[0m\u001b[0;34m\u001b[0m\u001b[0m\n\u001b[0m",
      "\u001b[0;32m/anaconda/lib/python3.5/site-packages/networkx/convert_matrix.py\u001b[0m in \u001b[0;36mfrom_numpy_matrix\u001b[0;34m(A, parallel_edges, create_using)\u001b[0m\n\u001b[1;32m    559\u001b[0m     \u001b[0;32mif\u001b[0m \u001b[0mn\u001b[0m \u001b[0;34m!=\u001b[0m \u001b[0mm\u001b[0m\u001b[0;34m:\u001b[0m\u001b[0;34m\u001b[0m\u001b[0m\n\u001b[1;32m    560\u001b[0m         raise nx.NetworkXError(\"Adjacency matrix is not square.\",\n\u001b[0;32m--> 561\u001b[0;31m                                \"nx,ny=%s\" % (A.shape,))\n\u001b[0m\u001b[1;32m    562\u001b[0m     \u001b[0mdt\u001b[0m \u001b[0;34m=\u001b[0m \u001b[0mA\u001b[0m\u001b[0;34m.\u001b[0m\u001b[0mdtype\u001b[0m\u001b[0;34m\u001b[0m\u001b[0m\n\u001b[1;32m    563\u001b[0m     \u001b[0;32mtry\u001b[0m\u001b[0;34m:\u001b[0m\u001b[0;34m\u001b[0m\u001b[0m\n",
      "\u001b[0;31mNetworkXError\u001b[0m: ('Adjacency matrix is not square.', 'nx,ny=(19203, 17035)')"
     ]
    }
   ],
   "source": [
    "G = nx.from_numpy_matrix(UM_matrix_new)"
   ]
  },
  {
   "cell_type": "code",
   "execution_count": null,
   "metadata": {},
   "outputs": [],
   "source": []
  }
 ]
}